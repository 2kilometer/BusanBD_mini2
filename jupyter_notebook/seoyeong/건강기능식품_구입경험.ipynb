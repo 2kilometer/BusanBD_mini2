{
 "cells": [
  {
   "cell_type": "code",
   "execution_count": 1,
   "id": "3e1470bb",
   "metadata": {},
   "outputs": [],
   "source": [
    "import pandas as pd\n",
    "import matplotlib as plt\n",
    "import plotly.graph_objects as go\n",
    "from plotly.subplots import make_subplots"
   ]
  },
  {
   "cell_type": "markdown",
   "id": "3bd0cfaf",
   "metadata": {},
   "source": [
    "### 전처리"
   ]
  },
  {
   "cell_type": "code",
   "execution_count": 18,
   "id": "b991a934",
   "metadata": {},
   "outputs": [],
   "source": [
    "dt = pd.read_csv(\"../data/최근_1년간_건강기능식품_구입경험변화.csv\",\n",
    "                 encoding='euc-kr')"
   ]
  },
  {
   "cell_type": "code",
   "execution_count": 19,
   "id": "7a389371",
   "metadata": {},
   "outputs": [
    {
     "name": "stdout",
     "output_type": "stream",
     "text": [
      "<class 'pandas.core.frame.DataFrame'>\n",
      "RangeIndex: 3432 entries, 0 to 3431\n",
      "Data columns (total 10 columns):\n",
      " #   Column      Non-Null Count  Dtype  \n",
      "---  ------      --------------  -----  \n",
      " 0   특성별         3432 non-null   object \n",
      " 1   경험및변화별      3432 non-null   object \n",
      " 2   품목군별        3432 non-null   object \n",
      " 3   항목          3432 non-null   object \n",
      " 4   단위          2574 non-null   object \n",
      " 5   2019 년      2520 non-null   float64\n",
      " 6   2020 년      2507 non-null   float64\n",
      " 7   2021 년      2480 non-null   float64\n",
      " 8   2022 년      2480 non-null   float64\n",
      " 9   Unnamed: 9  0 non-null      float64\n",
      "dtypes: float64(5), object(5)\n",
      "memory usage: 268.2+ KB\n"
     ]
    }
   ],
   "source": [
    "dt.info()"
   ]
  },
  {
   "cell_type": "code",
   "execution_count": 22,
   "id": "d8467397",
   "metadata": {},
   "outputs": [],
   "source": [
    "#dt.to_excel('C:/Users/USER/Desktop/csvfile.xlsx')"
   ]
  },
  {
   "cell_type": "code",
   "execution_count": null,
   "id": "d1ce7b98",
   "metadata": {},
   "outputs": [],
   "source": []
  }
 ],
 "metadata": {
  "kernelspec": {
   "display_name": "busan_django_kernel",
   "language": "python",
   "name": "busan_django"
  },
  "language_info": {
   "codemirror_mode": {
    "name": "ipython",
    "version": 3
   },
   "file_extension": ".py",
   "mimetype": "text/x-python",
   "name": "python",
   "nbconvert_exporter": "python",
   "pygments_lexer": "ipython3",
   "version": "3.9.16"
  }
 },
 "nbformat": 4,
 "nbformat_minor": 5
}
