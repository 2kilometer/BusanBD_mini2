{
 "cells": [
  {
   "cell_type": "code",
   "execution_count": 65,
   "id": "3e1470bb",
   "metadata": {},
   "outputs": [],
   "source": [
    "import pandas as pd\n",
    "import matplotlib as plt\n",
    "import plotly.graph_objects as go\n",
    "from plotly.subplots import make_subplots"
   ]
  },
  {
   "cell_type": "markdown",
   "id": "3bd0cfaf",
   "metadata": {},
   "source": [
    "### 전처리"
   ]
  },
  {
   "cell_type": "code",
   "execution_count": 66,
   "id": "b991a934",
   "metadata": {},
   "outputs": [
    {
     "name": "stderr",
     "output_type": "stream",
     "text": [
      "c:\\Users\\USER\\anaconda3\\envs\\busan_django\\lib\\site-packages\\openpyxl\\styles\\stylesheet.py:226: UserWarning:\n",
      "\n",
      "Workbook contains no default style, apply openpyxl's default\n",
      "\n"
     ]
    }
   ],
   "source": [
    "dt = pd.read_excel(\"../data/건강기능식품_품목별_구입_시_우선_확인하는_사항.xlsx\")"
   ]
  },
  {
   "cell_type": "code",
   "execution_count": 67,
   "id": "7a389371",
   "metadata": {},
   "outputs": [
    {
     "name": "stdout",
     "output_type": "stream",
     "text": [
      "<class 'pandas.core.frame.DataFrame'>\n",
      "RangeIndex: 118 entries, 0 to 117\n",
      "Data columns (total 18 columns):\n",
      " #   Column             Non-Null Count  Dtype  \n",
      "---  ------             --------------  -----  \n",
      " 0   특성별(1)             118 non-null    object \n",
      " 1   특성별(2)             118 non-null    object \n",
      " 2   시점                 118 non-null    int64  \n",
      " 3   가격                 118 non-null    float64\n",
      " 4   용량                 118 non-null    float64\n",
      " 5   브랜드/상표/제조사         118 non-null    float64\n",
      " 6   제조일자/유통기한          118 non-null    float64\n",
      " 7   품질인증표시             118 non-null    float64\n",
      " 8   원산지                118 non-null    float64\n",
      " 9   영양성분               118 non-null    float64\n",
      " 10  식품첨가물              118 non-null    float64\n",
      " 11  원재료/성분 함량          118 non-null    object \n",
      " 12  제품포장/디자인           118 non-null    float64\n",
      " 13  기능성 표시/식품의 효능      118 non-null    float64\n",
      " 14  섭취주의사항(알레르기 유발 등)  118 non-null    object \n",
      " 15  보관방법               118 non-null    object \n",
      " 16  구매후기(리뷰), 평점 등     118 non-null    object \n",
      " 17  기타                 118 non-null    object \n",
      "dtypes: float64(10), int64(1), object(7)\n",
      "memory usage: 16.7+ KB\n"
     ]
    }
   ],
   "source": [
    "dt.info()"
   ]
  },
  {
   "cell_type": "markdown",
   "id": "9edcfe5f",
   "metadata": {},
   "source": [
    "##### 2019,2020년은 20대,30대,40대,50대,60대로 구성"
   ]
  },
  {
   "cell_type": "code",
   "execution_count": 68,
   "id": "8ec10091",
   "metadata": {},
   "outputs": [],
   "source": [
    "dt_2019=dt[dt['시점']==2019]\n",
    "dt_2020=dt[dt['시점']==2020]\n",
    "dt_2021=dt[dt['시점']==2021]\n",
    "dt_2022=dt[dt['시점']==2022]"
   ]
  },
  {
   "cell_type": "code",
   "execution_count": 69,
   "id": "cb596435",
   "metadata": {},
   "outputs": [],
   "source": [
    "dt_2019_20=dt_2019[dt_2019['특성별(2)']=='20대']\n",
    "dt_2019_30=dt_2019[dt_2019['특성별(2)']=='30대']\n",
    "dt_2019_40=dt_2019[dt_2019['특성별(2)']=='40대']\n",
    "dt_2019_50=dt_2019[dt_2019['특성별(2)']=='50대']\n",
    "dt_2019_60=dt_2019[dt_2019['특성별(2)']=='60대 이상']"
   ]
  },
  {
   "cell_type": "code",
   "execution_count": 70,
   "id": "22af17c9",
   "metadata": {},
   "outputs": [],
   "source": [
    "dt_2020_20=dt_2020[dt_2020['특성별(2)']=='20대']\n",
    "dt_2020_30=dt_2020[dt_2020['특성별(2)']=='30대']\n",
    "dt_2020_40=dt_2020[dt_2020['특성별(2)']=='40대']\n",
    "dt_2020_50=dt_2020[dt_2020['특성별(2)']=='50대']\n",
    "dt_2020_60=dt_2020[dt_2020['특성별(2)']=='60대 이상']"
   ]
  },
  {
   "cell_type": "markdown",
   "id": "e8e165e3",
   "metadata": {},
   "source": [
    "##### 2021,2022년은 20~30대, 40~50대, 60대 이상"
   ]
  },
  {
   "cell_type": "code",
   "execution_count": 71,
   "id": "e279d0d2",
   "metadata": {},
   "outputs": [],
   "source": [
    "dt_2021_2030=dt_2021[dt_2021['특성별(2)']=='20~30대']\n",
    "dt_2021_4050=dt_2021[dt_2021['특성별(2)']=='40~50대']\n",
    "dt_2021_60=dt_2021[dt_2021['특성별(2)']=='60대 이상']"
   ]
  },
  {
   "cell_type": "code",
   "execution_count": 72,
   "id": "e42eadc0",
   "metadata": {},
   "outputs": [],
   "source": [
    "dt_2022_2030=dt_2022[dt_2022['특성별(2)']=='20~30대']\n",
    "dt_2022_4050=dt_2022[dt_2022['특성별(2)']=='40~50대']\n",
    "dt_2022_60=dt_2022[dt_2022['특성별(2)']=='60대 이상']"
   ]
  },
  {
   "cell_type": "code",
   "execution_count": 73,
   "id": "8389f1f1",
   "metadata": {},
   "outputs": [
    {
     "data": {
      "text/html": [
       "<div>\n",
       "<style scoped>\n",
       "    .dataframe tbody tr th:only-of-type {\n",
       "        vertical-align: middle;\n",
       "    }\n",
       "\n",
       "    .dataframe tbody tr th {\n",
       "        vertical-align: top;\n",
       "    }\n",
       "\n",
       "    .dataframe thead th {\n",
       "        text-align: right;\n",
       "    }\n",
       "</style>\n",
       "<table border=\"1\" class=\"dataframe\">\n",
       "  <thead>\n",
       "    <tr style=\"text-align: right;\">\n",
       "      <th></th>\n",
       "      <th>특성별(1)</th>\n",
       "      <th>특성별(2)</th>\n",
       "      <th>시점</th>\n",
       "      <th>가격</th>\n",
       "      <th>용량</th>\n",
       "      <th>브랜드/상표/제조사</th>\n",
       "      <th>제조일자/유통기한</th>\n",
       "      <th>품질인증표시</th>\n",
       "      <th>원산지</th>\n",
       "      <th>영양성분</th>\n",
       "      <th>식품첨가물</th>\n",
       "      <th>원재료/성분 함량</th>\n",
       "      <th>제품포장/디자인</th>\n",
       "      <th>기능성 표시/식품의 효능</th>\n",
       "      <th>섭취주의사항(알레르기 유발 등)</th>\n",
       "      <th>보관방법</th>\n",
       "      <th>구매후기(리뷰), 평점 등</th>\n",
       "      <th>기타</th>\n",
       "    </tr>\n",
       "  </thead>\n",
       "  <tbody>\n",
       "    <tr>\n",
       "      <th>60</th>\n",
       "      <td>가구주연령별</td>\n",
       "      <td>40~50대</td>\n",
       "      <td>2021</td>\n",
       "      <td>16.2</td>\n",
       "      <td>6.6</td>\n",
       "      <td>19.0</td>\n",
       "      <td>7.2</td>\n",
       "      <td>8.5</td>\n",
       "      <td>6.1</td>\n",
       "      <td>14.1</td>\n",
       "      <td>2.8</td>\n",
       "      <td>9.4</td>\n",
       "      <td>0.3</td>\n",
       "      <td>9.3</td>\n",
       "      <td>0.4</td>\n",
       "      <td>0.1</td>\n",
       "      <td>-</td>\n",
       "      <td>0</td>\n",
       "    </tr>\n",
       "  </tbody>\n",
       "</table>\n",
       "</div>"
      ],
      "text/plain": [
       "    특성별(1)  특성별(2)    시점    가격   용량  브랜드/상표/제조사  제조일자/유통기한  품질인증표시  원산지  영양성분  \\\n",
       "60  가구주연령별  40~50대  2021  16.2  6.6        19.0        7.2     8.5  6.1  14.1   \n",
       "\n",
       "    식품첨가물 원재료/성분 함량  제품포장/디자인  기능성 표시/식품의 효능 섭취주의사항(알레르기 유발 등) 보관방법  \\\n",
       "60    2.8       9.4       0.3            9.3               0.4  0.1   \n",
       "\n",
       "   구매후기(리뷰), 평점 등 기타  \n",
       "60              -  0  "
      ]
     },
     "execution_count": 73,
     "metadata": {},
     "output_type": "execute_result"
    }
   ],
   "source": [
    "dt_2021_4050"
   ]
  },
  {
   "cell_type": "markdown",
   "id": "2ec6ba16",
   "metadata": {},
   "source": [
    "2019년"
   ]
  },
  {
   "cell_type": "code",
   "execution_count": 79,
   "id": "cbe6138a",
   "metadata": {},
   "outputs": [
    {
     "data": {
      "application/vnd.plotly.v1+json": {
       "config": {
        "plotlyServerURL": "https://plot.ly"
       },
       "data": [
        {
         "domain": {
          "x": [
           0,
           0.16799999999999998
          ],
          "y": [
           0,
           1
          ]
         },
         "hole": 0.35,
         "labels": [
          "가격",
          "용량",
          "브랜드/상표/제조사",
          "제조일자/유통기한",
          "품질인증표시",
          "원산지",
          "영양성분",
          "식품첨가물",
          "원재료/성분 함량",
          "제품포장/디자인",
          "기능성 표시/식품의 효능",
          "섭취주의사항(알레르기 유발 등)",
          "보관방법",
          "구매후기(리뷰), 평점 등",
          "기타"
         ],
         "textfont": {
          "size": 10
         },
         "textinfo": "label+percent",
         "textposition": "inside",
         "title": {
          "text": "20대"
         },
         "type": "pie",
         "values": [
          9,
          22.5,
          8.2,
          14.1,
          5,
          13.7,
          11,
          2,
          3.8,
          10.8,
          0,
          "-",
          "-",
          "-",
          "-"
         ]
        },
        {
         "domain": {
          "x": [
           0.208,
           0.376
          ],
          "y": [
           0,
           1
          ]
         },
         "hole": 0.35,
         "labels": [
          "가격",
          "용량",
          "브랜드/상표/제조사",
          "제조일자/유통기한",
          "품질인증표시",
          "원산지",
          "영양성분",
          "식품첨가물",
          "원재료/성분 함량",
          "제품포장/디자인",
          "기능성 표시/식품의 효능",
          "섭취주의사항(알레르기 유발 등)",
          "보관방법",
          "구매후기(리뷰), 평점 등",
          "기타"
         ],
         "textfont": {
          "size": 10
         },
         "textinfo": "label+percent",
         "textposition": "inside",
         "title": {
          "text": "30대"
         },
         "type": "pie",
         "values": [
          5.3,
          15.2,
          7.6,
          16.6,
          6.5,
          19.7,
          9.3,
          2,
          3,
          14.6,
          0,
          "-",
          "-",
          "-",
          "-"
         ]
        },
        {
         "domain": {
          "x": [
           0.416,
           0.584
          ],
          "y": [
           0,
           1
          ]
         },
         "hole": 0.35,
         "labels": [
          "가격",
          "용량",
          "브랜드/상표/제조사",
          "제조일자/유통기한",
          "품질인증표시",
          "원산지",
          "영양성분",
          "식품첨가물",
          "원재료/성분 함량",
          "제품포장/디자인",
          "기능성 표시/식품의 효능",
          "섭취주의사항(알레르기 유발 등)",
          "보관방법",
          "구매후기(리뷰), 평점 등",
          "기타"
         ],
         "textfont": {
          "size": 10
         },
         "textinfo": "label+percent",
         "textposition": "inside",
         "title": {
          "text": "40대"
         },
         "type": "pie",
         "values": [
          7.3,
          18.3,
          9.8,
          14.6,
          5.5,
          17.5,
          9,
          3.5,
          2.1,
          12.3,
          0,
          "-",
          "-",
          "-",
          "-"
         ]
        },
        {
         "domain": {
          "x": [
           0.624,
           0.792
          ],
          "y": [
           0,
           1
          ]
         },
         "hole": 0.35,
         "labels": [
          "가격",
          "용량",
          "브랜드/상표/제조사",
          "제조일자/유통기한",
          "품질인증표시",
          "원산지",
          "영양성분",
          "식품첨가물",
          "원재료/성분 함량",
          "제품포장/디자인",
          "기능성 표시/식품의 효능",
          "섭취주의사항(알레르기 유발 등)",
          "보관방법",
          "구매후기(리뷰), 평점 등",
          "기타"
         ],
         "textfont": {
          "size": 10
         },
         "textinfo": "label+percent",
         "textposition": "inside",
         "title": {
          "text": "50대"
         },
         "type": "pie",
         "values": [
          6.8,
          17.9,
          8.6,
          14.8,
          5.6,
          17.5,
          9.5,
          3.8,
          2.6,
          12.9,
          0,
          "-",
          "-",
          "-",
          "-"
         ]
        },
        {
         "domain": {
          "x": [
           0.832,
           1
          ],
          "y": [
           0,
           1
          ]
         },
         "hole": 0.35,
         "labels": [
          "가격",
          "용량",
          "브랜드/상표/제조사",
          "제조일자/유통기한",
          "품질인증표시",
          "원산지",
          "영양성분",
          "식품첨가물",
          "원재료/성분 함량",
          "제품포장/디자인",
          "기능성 표시/식품의 효능",
          "섭취주의사항(알레르기 유발 등)",
          "보관방법",
          "구매후기(리뷰), 평점 등",
          "기타"
         ],
         "textfont": {
          "size": 10
         },
         "textinfo": "label+percent",
         "textposition": "inside",
         "title": {
          "text": "60대 이상"
         },
         "type": "pie",
         "values": [
          6.9,
          18.3,
          7,
          14,
          5.7,
          17.2,
          10,
          3.1,
          3.5,
          14.3,
          0,
          "-",
          "-",
          "-",
          "-"
         ]
        }
       ],
       "layout": {
        "height": 750,
        "legend": {
         "orientation": "h"
        },
        "template": {
         "data": {
          "bar": [
           {
            "error_x": {
             "color": "#2a3f5f"
            },
            "error_y": {
             "color": "#2a3f5f"
            },
            "marker": {
             "line": {
              "color": "#E5ECF6",
              "width": 0.5
             },
             "pattern": {
              "fillmode": "overlay",
              "size": 10,
              "solidity": 0.2
             }
            },
            "type": "bar"
           }
          ],
          "barpolar": [
           {
            "marker": {
             "line": {
              "color": "#E5ECF6",
              "width": 0.5
             },
             "pattern": {
              "fillmode": "overlay",
              "size": 10,
              "solidity": 0.2
             }
            },
            "type": "barpolar"
           }
          ],
          "carpet": [
           {
            "aaxis": {
             "endlinecolor": "#2a3f5f",
             "gridcolor": "white",
             "linecolor": "white",
             "minorgridcolor": "white",
             "startlinecolor": "#2a3f5f"
            },
            "baxis": {
             "endlinecolor": "#2a3f5f",
             "gridcolor": "white",
             "linecolor": "white",
             "minorgridcolor": "white",
             "startlinecolor": "#2a3f5f"
            },
            "type": "carpet"
           }
          ],
          "choropleth": [
           {
            "colorbar": {
             "outlinewidth": 0,
             "ticks": ""
            },
            "type": "choropleth"
           }
          ],
          "contour": [
           {
            "colorbar": {
             "outlinewidth": 0,
             "ticks": ""
            },
            "colorscale": [
             [
              0,
              "#0d0887"
             ],
             [
              0.1111111111111111,
              "#46039f"
             ],
             [
              0.2222222222222222,
              "#7201a8"
             ],
             [
              0.3333333333333333,
              "#9c179e"
             ],
             [
              0.4444444444444444,
              "#bd3786"
             ],
             [
              0.5555555555555556,
              "#d8576b"
             ],
             [
              0.6666666666666666,
              "#ed7953"
             ],
             [
              0.7777777777777778,
              "#fb9f3a"
             ],
             [
              0.8888888888888888,
              "#fdca26"
             ],
             [
              1,
              "#f0f921"
             ]
            ],
            "type": "contour"
           }
          ],
          "contourcarpet": [
           {
            "colorbar": {
             "outlinewidth": 0,
             "ticks": ""
            },
            "type": "contourcarpet"
           }
          ],
          "heatmap": [
           {
            "colorbar": {
             "outlinewidth": 0,
             "ticks": ""
            },
            "colorscale": [
             [
              0,
              "#0d0887"
             ],
             [
              0.1111111111111111,
              "#46039f"
             ],
             [
              0.2222222222222222,
              "#7201a8"
             ],
             [
              0.3333333333333333,
              "#9c179e"
             ],
             [
              0.4444444444444444,
              "#bd3786"
             ],
             [
              0.5555555555555556,
              "#d8576b"
             ],
             [
              0.6666666666666666,
              "#ed7953"
             ],
             [
              0.7777777777777778,
              "#fb9f3a"
             ],
             [
              0.8888888888888888,
              "#fdca26"
             ],
             [
              1,
              "#f0f921"
             ]
            ],
            "type": "heatmap"
           }
          ],
          "heatmapgl": [
           {
            "colorbar": {
             "outlinewidth": 0,
             "ticks": ""
            },
            "colorscale": [
             [
              0,
              "#0d0887"
             ],
             [
              0.1111111111111111,
              "#46039f"
             ],
             [
              0.2222222222222222,
              "#7201a8"
             ],
             [
              0.3333333333333333,
              "#9c179e"
             ],
             [
              0.4444444444444444,
              "#bd3786"
             ],
             [
              0.5555555555555556,
              "#d8576b"
             ],
             [
              0.6666666666666666,
              "#ed7953"
             ],
             [
              0.7777777777777778,
              "#fb9f3a"
             ],
             [
              0.8888888888888888,
              "#fdca26"
             ],
             [
              1,
              "#f0f921"
             ]
            ],
            "type": "heatmapgl"
           }
          ],
          "histogram": [
           {
            "marker": {
             "pattern": {
              "fillmode": "overlay",
              "size": 10,
              "solidity": 0.2
             }
            },
            "type": "histogram"
           }
          ],
          "histogram2d": [
           {
            "colorbar": {
             "outlinewidth": 0,
             "ticks": ""
            },
            "colorscale": [
             [
              0,
              "#0d0887"
             ],
             [
              0.1111111111111111,
              "#46039f"
             ],
             [
              0.2222222222222222,
              "#7201a8"
             ],
             [
              0.3333333333333333,
              "#9c179e"
             ],
             [
              0.4444444444444444,
              "#bd3786"
             ],
             [
              0.5555555555555556,
              "#d8576b"
             ],
             [
              0.6666666666666666,
              "#ed7953"
             ],
             [
              0.7777777777777778,
              "#fb9f3a"
             ],
             [
              0.8888888888888888,
              "#fdca26"
             ],
             [
              1,
              "#f0f921"
             ]
            ],
            "type": "histogram2d"
           }
          ],
          "histogram2dcontour": [
           {
            "colorbar": {
             "outlinewidth": 0,
             "ticks": ""
            },
            "colorscale": [
             [
              0,
              "#0d0887"
             ],
             [
              0.1111111111111111,
              "#46039f"
             ],
             [
              0.2222222222222222,
              "#7201a8"
             ],
             [
              0.3333333333333333,
              "#9c179e"
             ],
             [
              0.4444444444444444,
              "#bd3786"
             ],
             [
              0.5555555555555556,
              "#d8576b"
             ],
             [
              0.6666666666666666,
              "#ed7953"
             ],
             [
              0.7777777777777778,
              "#fb9f3a"
             ],
             [
              0.8888888888888888,
              "#fdca26"
             ],
             [
              1,
              "#f0f921"
             ]
            ],
            "type": "histogram2dcontour"
           }
          ],
          "mesh3d": [
           {
            "colorbar": {
             "outlinewidth": 0,
             "ticks": ""
            },
            "type": "mesh3d"
           }
          ],
          "parcoords": [
           {
            "line": {
             "colorbar": {
              "outlinewidth": 0,
              "ticks": ""
             }
            },
            "type": "parcoords"
           }
          ],
          "pie": [
           {
            "automargin": true,
            "type": "pie"
           }
          ],
          "scatter": [
           {
            "fillpattern": {
             "fillmode": "overlay",
             "size": 10,
             "solidity": 0.2
            },
            "type": "scatter"
           }
          ],
          "scatter3d": [
           {
            "line": {
             "colorbar": {
              "outlinewidth": 0,
              "ticks": ""
             }
            },
            "marker": {
             "colorbar": {
              "outlinewidth": 0,
              "ticks": ""
             }
            },
            "type": "scatter3d"
           }
          ],
          "scattercarpet": [
           {
            "marker": {
             "colorbar": {
              "outlinewidth": 0,
              "ticks": ""
             }
            },
            "type": "scattercarpet"
           }
          ],
          "scattergeo": [
           {
            "marker": {
             "colorbar": {
              "outlinewidth": 0,
              "ticks": ""
             }
            },
            "type": "scattergeo"
           }
          ],
          "scattergl": [
           {
            "marker": {
             "colorbar": {
              "outlinewidth": 0,
              "ticks": ""
             }
            },
            "type": "scattergl"
           }
          ],
          "scattermapbox": [
           {
            "marker": {
             "colorbar": {
              "outlinewidth": 0,
              "ticks": ""
             }
            },
            "type": "scattermapbox"
           }
          ],
          "scatterpolar": [
           {
            "marker": {
             "colorbar": {
              "outlinewidth": 0,
              "ticks": ""
             }
            },
            "type": "scatterpolar"
           }
          ],
          "scatterpolargl": [
           {
            "marker": {
             "colorbar": {
              "outlinewidth": 0,
              "ticks": ""
             }
            },
            "type": "scatterpolargl"
           }
          ],
          "scatterternary": [
           {
            "marker": {
             "colorbar": {
              "outlinewidth": 0,
              "ticks": ""
             }
            },
            "type": "scatterternary"
           }
          ],
          "surface": [
           {
            "colorbar": {
             "outlinewidth": 0,
             "ticks": ""
            },
            "colorscale": [
             [
              0,
              "#0d0887"
             ],
             [
              0.1111111111111111,
              "#46039f"
             ],
             [
              0.2222222222222222,
              "#7201a8"
             ],
             [
              0.3333333333333333,
              "#9c179e"
             ],
             [
              0.4444444444444444,
              "#bd3786"
             ],
             [
              0.5555555555555556,
              "#d8576b"
             ],
             [
              0.6666666666666666,
              "#ed7953"
             ],
             [
              0.7777777777777778,
              "#fb9f3a"
             ],
             [
              0.8888888888888888,
              "#fdca26"
             ],
             [
              1,
              "#f0f921"
             ]
            ],
            "type": "surface"
           }
          ],
          "table": [
           {
            "cells": {
             "fill": {
              "color": "#EBF0F8"
             },
             "line": {
              "color": "white"
             }
            },
            "header": {
             "fill": {
              "color": "#C8D4E3"
             },
             "line": {
              "color": "white"
             }
            },
            "type": "table"
           }
          ]
         },
         "layout": {
          "annotationdefaults": {
           "arrowcolor": "#2a3f5f",
           "arrowhead": 0,
           "arrowwidth": 1
          },
          "autotypenumbers": "strict",
          "coloraxis": {
           "colorbar": {
            "outlinewidth": 0,
            "ticks": ""
           }
          },
          "colorscale": {
           "diverging": [
            [
             0,
             "#8e0152"
            ],
            [
             0.1,
             "#c51b7d"
            ],
            [
             0.2,
             "#de77ae"
            ],
            [
             0.3,
             "#f1b6da"
            ],
            [
             0.4,
             "#fde0ef"
            ],
            [
             0.5,
             "#f7f7f7"
            ],
            [
             0.6,
             "#e6f5d0"
            ],
            [
             0.7,
             "#b8e186"
            ],
            [
             0.8,
             "#7fbc41"
            ],
            [
             0.9,
             "#4d9221"
            ],
            [
             1,
             "#276419"
            ]
           ],
           "sequential": [
            [
             0,
             "#0d0887"
            ],
            [
             0.1111111111111111,
             "#46039f"
            ],
            [
             0.2222222222222222,
             "#7201a8"
            ],
            [
             0.3333333333333333,
             "#9c179e"
            ],
            [
             0.4444444444444444,
             "#bd3786"
            ],
            [
             0.5555555555555556,
             "#d8576b"
            ],
            [
             0.6666666666666666,
             "#ed7953"
            ],
            [
             0.7777777777777778,
             "#fb9f3a"
            ],
            [
             0.8888888888888888,
             "#fdca26"
            ],
            [
             1,
             "#f0f921"
            ]
           ],
           "sequentialminus": [
            [
             0,
             "#0d0887"
            ],
            [
             0.1111111111111111,
             "#46039f"
            ],
            [
             0.2222222222222222,
             "#7201a8"
            ],
            [
             0.3333333333333333,
             "#9c179e"
            ],
            [
             0.4444444444444444,
             "#bd3786"
            ],
            [
             0.5555555555555556,
             "#d8576b"
            ],
            [
             0.6666666666666666,
             "#ed7953"
            ],
            [
             0.7777777777777778,
             "#fb9f3a"
            ],
            [
             0.8888888888888888,
             "#fdca26"
            ],
            [
             1,
             "#f0f921"
            ]
           ]
          },
          "colorway": [
           "#636efa",
           "#EF553B",
           "#00cc96",
           "#ab63fa",
           "#FFA15A",
           "#19d3f3",
           "#FF6692",
           "#B6E880",
           "#FF97FF",
           "#FECB52"
          ],
          "font": {
           "color": "#2a3f5f"
          },
          "geo": {
           "bgcolor": "white",
           "lakecolor": "white",
           "landcolor": "#E5ECF6",
           "showlakes": true,
           "showland": true,
           "subunitcolor": "white"
          },
          "hoverlabel": {
           "align": "left"
          },
          "hovermode": "closest",
          "mapbox": {
           "style": "light"
          },
          "paper_bgcolor": "white",
          "plot_bgcolor": "#E5ECF6",
          "polar": {
           "angularaxis": {
            "gridcolor": "white",
            "linecolor": "white",
            "ticks": ""
           },
           "bgcolor": "#E5ECF6",
           "radialaxis": {
            "gridcolor": "white",
            "linecolor": "white",
            "ticks": ""
           }
          },
          "scene": {
           "xaxis": {
            "backgroundcolor": "#E5ECF6",
            "gridcolor": "white",
            "gridwidth": 2,
            "linecolor": "white",
            "showbackground": true,
            "ticks": "",
            "zerolinecolor": "white"
           },
           "yaxis": {
            "backgroundcolor": "#E5ECF6",
            "gridcolor": "white",
            "gridwidth": 2,
            "linecolor": "white",
            "showbackground": true,
            "ticks": "",
            "zerolinecolor": "white"
           },
           "zaxis": {
            "backgroundcolor": "#E5ECF6",
            "gridcolor": "white",
            "gridwidth": 2,
            "linecolor": "white",
            "showbackground": true,
            "ticks": "",
            "zerolinecolor": "white"
           }
          },
          "shapedefaults": {
           "line": {
            "color": "#2a3f5f"
           }
          },
          "ternary": {
           "aaxis": {
            "gridcolor": "white",
            "linecolor": "white",
            "ticks": ""
           },
           "baxis": {
            "gridcolor": "white",
            "linecolor": "white",
            "ticks": ""
           },
           "bgcolor": "#E5ECF6",
           "caxis": {
            "gridcolor": "white",
            "linecolor": "white",
            "ticks": ""
           }
          },
          "title": {
           "x": 0.05
          },
          "xaxis": {
           "automargin": true,
           "gridcolor": "white",
           "linecolor": "white",
           "ticks": "",
           "title": {
            "standoff": 15
           },
           "zerolinecolor": "white",
           "zerolinewidth": 2
          },
          "yaxis": {
           "automargin": true,
           "gridcolor": "white",
           "linecolor": "white",
           "ticks": "",
           "title": {
            "standoff": 15
           },
           "zerolinecolor": "white",
           "zerolinewidth": 2
          }
         }
        },
        "title": {
         "text": "연령대별 건강기능식품 우선 확인사항[2019년]",
         "x": 0.5,
         "y": 0.9
        },
        "width": 1200
       }
      }
     },
     "metadata": {},
     "output_type": "display_data"
    }
   ],
   "source": [
    "fig2 = make_subplots(rows=1, cols=5,\n",
    "                   specs=[[{'type': 'domain'}]*5])\n",
    "#20대 파이그래프\n",
    "fig2.add_trace(go.Pie(\n",
    "    values=dt_2019_20.iloc[0,3:].values,\n",
    "    labels=dt_2019_20.columns[3:],\n",
    "    hole=0.35,\n",
    "    title='20대'\n",
    "), row=1, col=1)\n",
    "# 30대 Pie 그래프 추가\n",
    "fig2.add_trace(go.Pie(\n",
    "    values=dt_2019_30.iloc[0,3:].values,\n",
    "    labels=dt_2019_30.columns[3:],\n",
    "    hole=0.35,\n",
    "    title='30대'\n",
    "), row=1, col=2)\n",
    "# 40대 Pie 그래프 추가\n",
    "fig2.add_trace(go.Pie(\n",
    "    values=dt_2019_40.iloc[0,3:].values,\n",
    "    labels=dt_2019_40.columns[3:],\n",
    "    hole=0.35,\n",
    "    title='40대'\n",
    "), row=1, col=3)\n",
    "\n",
    "# 50대 Pie 그래프 추가\n",
    "fig2.add_trace(go.Pie(\n",
    "    values=dt_2019_50.iloc[0,3:].values,\n",
    "    labels=dt_2019_50.columns[3:],\n",
    "    hole=0.35,\n",
    "    title='50대'\n",
    "), row=1, col=4)\n",
    "\n",
    "# 60대 Pie 그래프 추가\n",
    "fig2.add_trace(go.Pie(\n",
    "    values=dt_2019_60.iloc[0,3:].values,\n",
    "    labels=dt_2019_60.columns[3:],\n",
    "    hole=0.35,\n",
    "    title='60대 이상'\n",
    "), row=1, col=5)\n",
    "fig2.update_traces(textposition='inside',\n",
    "                  textinfo='label+percent',\n",
    "                  textfont_size=10)\n",
    "# 전체 레이아웃 설정\n",
    "fig2.update_layout(\n",
    "    title='연령대별 건강기능식품 우선 확인사항[2019년]',\n",
    "    legend_orientation='h',\n",
    "    title_x=0.5,\n",
    "    title_y=0.9,\n",
    "    width=1200,\n",
    "    height=750\n",
    ")\n",
    "\n",
    "# 그래프 보여주기\n",
    "fig2.show()"
   ]
  },
  {
   "cell_type": "markdown",
   "id": "92685739",
   "metadata": {},
   "source": [
    "2020년"
   ]
  },
  {
   "cell_type": "code",
   "execution_count": 80,
   "id": "63465dac",
   "metadata": {},
   "outputs": [
    {
     "data": {
      "application/vnd.plotly.v1+json": {
       "config": {
        "plotlyServerURL": "https://plot.ly"
       },
       "data": [
        {
         "domain": {
          "x": [
           0,
           0.16799999999999998
          ],
          "y": [
           0,
           1
          ]
         },
         "hole": 0.35,
         "labels": [
          "가격",
          "용량",
          "브랜드/상표/제조사",
          "제조일자/유통기한",
          "품질인증표시",
          "원산지",
          "영양성분",
          "식품첨가물",
          "원재료/성분 함량",
          "제품포장/디자인",
          "기능성 표시/식품의 효능",
          "섭취주의사항(알레르기 유발 등)",
          "보관방법",
          "구매후기(리뷰), 평점 등",
          "기타"
         ],
         "textfont": {
          "size": 10
         },
         "textinfo": "label+percent",
         "textposition": "inside",
         "title": {
          "text": "20대"
         },
         "type": "pie",
         "values": [
          10.4,
          9.5,
          27.2,
          11.2,
          2.1,
          9.1,
          10.2,
          4.8,
          "-",
          4.5,
          12,
          "-",
          "-",
          "-",
          0
         ]
        },
        {
         "domain": {
          "x": [
           0.208,
           0.376
          ],
          "y": [
           0,
           1
          ]
         },
         "hole": 0.35,
         "labels": [
          "가격",
          "용량",
          "브랜드/상표/제조사",
          "제조일자/유통기한",
          "품질인증표시",
          "원산지",
          "영양성분",
          "식품첨가물",
          "원재료/성분 함량",
          "제품포장/디자인",
          "기능성 표시/식품의 효능",
          "섭취주의사항(알레르기 유발 등)",
          "보관방법",
          "구매후기(리뷰), 평점 등",
          "기타"
         ],
         "textfont": {
          "size": 10
         },
         "textinfo": "label+percent",
         "textposition": "inside",
         "title": {
          "text": "30대"
         },
         "type": "pie",
         "values": [
          11.6,
          7.4,
          24.6,
          14.8,
          1.6,
          6.2,
          13.7,
          3.3,
          "-",
          2.5,
          14.1,
          "-",
          "-",
          "-",
          0
         ]
        },
        {
         "domain": {
          "x": [
           0.416,
           0.584
          ],
          "y": [
           0,
           1
          ]
         },
         "hole": 0.35,
         "labels": [
          "가격",
          "용량",
          "브랜드/상표/제조사",
          "제조일자/유통기한",
          "품질인증표시",
          "원산지",
          "영양성분",
          "식품첨가물",
          "원재료/성분 함량",
          "제품포장/디자인",
          "기능성 표시/식품의 효능",
          "섭취주의사항(알레르기 유발 등)",
          "보관방법",
          "구매후기(리뷰), 평점 등",
          "기타"
         ],
         "textfont": {
          "size": 10
         },
         "textinfo": "label+percent",
         "textposition": "inside",
         "title": {
          "text": "40대"
         },
         "type": "pie",
         "values": [
          10.8,
          7.6,
          24.3,
          17.4,
          2.2,
          5.2,
          12.2,
          4.2,
          "-",
          2.7,
          13.4,
          "-",
          "-",
          "-",
          0
         ]
        },
        {
         "domain": {
          "x": [
           0.624,
           0.792
          ],
          "y": [
           0,
           1
          ]
         },
         "hole": 0.35,
         "labels": [
          "가격",
          "용량",
          "브랜드/상표/제조사",
          "제조일자/유통기한",
          "품질인증표시",
          "원산지",
          "영양성분",
          "식품첨가물",
          "원재료/성분 함량",
          "제품포장/디자인",
          "기능성 표시/식품의 효능",
          "섭취주의사항(알레르기 유발 등)",
          "보관방법",
          "구매후기(리뷰), 평점 등",
          "기타"
         ],
         "textfont": {
          "size": 10
         },
         "textinfo": "label+percent",
         "textposition": "inside",
         "title": {
          "text": "50대"
         },
         "type": "pie",
         "values": [
          9.9,
          7.5,
          23.7,
          16.1,
          1.9,
          8.3,
          12.5,
          3.8,
          "-",
          2.8,
          13.6,
          "-",
          "-",
          "-",
          0
         ]
        },
        {
         "domain": {
          "x": [
           0.832,
           1
          ],
          "y": [
           0,
           1
          ]
         },
         "hole": 0.35,
         "labels": [
          "가격",
          "용량",
          "브랜드/상표/제조사",
          "제조일자/유통기한",
          "품질인증표시",
          "원산지",
          "영양성분",
          "식품첨가물",
          "원재료/성분 함량",
          "제품포장/디자인",
          "기능성 표시/식품의 효능",
          "섭취주의사항(알레르기 유발 등)",
          "보관방법",
          "구매후기(리뷰), 평점 등",
          "기타"
         ],
         "textfont": {
          "size": 10
         },
         "textinfo": "label+percent",
         "textposition": "inside",
         "title": {
          "text": "60대 이상"
         },
         "type": "pie",
         "values": [
          13.2,
          7.8,
          21.4,
          16.4,
          1.3,
          8,
          12.7,
          3.4,
          "-",
          2.6,
          13.1,
          "-",
          "-",
          "-",
          0
         ]
        }
       ],
       "layout": {
        "height": 750,
        "legend": {
         "orientation": "h"
        },
        "template": {
         "data": {
          "bar": [
           {
            "error_x": {
             "color": "#2a3f5f"
            },
            "error_y": {
             "color": "#2a3f5f"
            },
            "marker": {
             "line": {
              "color": "#E5ECF6",
              "width": 0.5
             },
             "pattern": {
              "fillmode": "overlay",
              "size": 10,
              "solidity": 0.2
             }
            },
            "type": "bar"
           }
          ],
          "barpolar": [
           {
            "marker": {
             "line": {
              "color": "#E5ECF6",
              "width": 0.5
             },
             "pattern": {
              "fillmode": "overlay",
              "size": 10,
              "solidity": 0.2
             }
            },
            "type": "barpolar"
           }
          ],
          "carpet": [
           {
            "aaxis": {
             "endlinecolor": "#2a3f5f",
             "gridcolor": "white",
             "linecolor": "white",
             "minorgridcolor": "white",
             "startlinecolor": "#2a3f5f"
            },
            "baxis": {
             "endlinecolor": "#2a3f5f",
             "gridcolor": "white",
             "linecolor": "white",
             "minorgridcolor": "white",
             "startlinecolor": "#2a3f5f"
            },
            "type": "carpet"
           }
          ],
          "choropleth": [
           {
            "colorbar": {
             "outlinewidth": 0,
             "ticks": ""
            },
            "type": "choropleth"
           }
          ],
          "contour": [
           {
            "colorbar": {
             "outlinewidth": 0,
             "ticks": ""
            },
            "colorscale": [
             [
              0,
              "#0d0887"
             ],
             [
              0.1111111111111111,
              "#46039f"
             ],
             [
              0.2222222222222222,
              "#7201a8"
             ],
             [
              0.3333333333333333,
              "#9c179e"
             ],
             [
              0.4444444444444444,
              "#bd3786"
             ],
             [
              0.5555555555555556,
              "#d8576b"
             ],
             [
              0.6666666666666666,
              "#ed7953"
             ],
             [
              0.7777777777777778,
              "#fb9f3a"
             ],
             [
              0.8888888888888888,
              "#fdca26"
             ],
             [
              1,
              "#f0f921"
             ]
            ],
            "type": "contour"
           }
          ],
          "contourcarpet": [
           {
            "colorbar": {
             "outlinewidth": 0,
             "ticks": ""
            },
            "type": "contourcarpet"
           }
          ],
          "heatmap": [
           {
            "colorbar": {
             "outlinewidth": 0,
             "ticks": ""
            },
            "colorscale": [
             [
              0,
              "#0d0887"
             ],
             [
              0.1111111111111111,
              "#46039f"
             ],
             [
              0.2222222222222222,
              "#7201a8"
             ],
             [
              0.3333333333333333,
              "#9c179e"
             ],
             [
              0.4444444444444444,
              "#bd3786"
             ],
             [
              0.5555555555555556,
              "#d8576b"
             ],
             [
              0.6666666666666666,
              "#ed7953"
             ],
             [
              0.7777777777777778,
              "#fb9f3a"
             ],
             [
              0.8888888888888888,
              "#fdca26"
             ],
             [
              1,
              "#f0f921"
             ]
            ],
            "type": "heatmap"
           }
          ],
          "heatmapgl": [
           {
            "colorbar": {
             "outlinewidth": 0,
             "ticks": ""
            },
            "colorscale": [
             [
              0,
              "#0d0887"
             ],
             [
              0.1111111111111111,
              "#46039f"
             ],
             [
              0.2222222222222222,
              "#7201a8"
             ],
             [
              0.3333333333333333,
              "#9c179e"
             ],
             [
              0.4444444444444444,
              "#bd3786"
             ],
             [
              0.5555555555555556,
              "#d8576b"
             ],
             [
              0.6666666666666666,
              "#ed7953"
             ],
             [
              0.7777777777777778,
              "#fb9f3a"
             ],
             [
              0.8888888888888888,
              "#fdca26"
             ],
             [
              1,
              "#f0f921"
             ]
            ],
            "type": "heatmapgl"
           }
          ],
          "histogram": [
           {
            "marker": {
             "pattern": {
              "fillmode": "overlay",
              "size": 10,
              "solidity": 0.2
             }
            },
            "type": "histogram"
           }
          ],
          "histogram2d": [
           {
            "colorbar": {
             "outlinewidth": 0,
             "ticks": ""
            },
            "colorscale": [
             [
              0,
              "#0d0887"
             ],
             [
              0.1111111111111111,
              "#46039f"
             ],
             [
              0.2222222222222222,
              "#7201a8"
             ],
             [
              0.3333333333333333,
              "#9c179e"
             ],
             [
              0.4444444444444444,
              "#bd3786"
             ],
             [
              0.5555555555555556,
              "#d8576b"
             ],
             [
              0.6666666666666666,
              "#ed7953"
             ],
             [
              0.7777777777777778,
              "#fb9f3a"
             ],
             [
              0.8888888888888888,
              "#fdca26"
             ],
             [
              1,
              "#f0f921"
             ]
            ],
            "type": "histogram2d"
           }
          ],
          "histogram2dcontour": [
           {
            "colorbar": {
             "outlinewidth": 0,
             "ticks": ""
            },
            "colorscale": [
             [
              0,
              "#0d0887"
             ],
             [
              0.1111111111111111,
              "#46039f"
             ],
             [
              0.2222222222222222,
              "#7201a8"
             ],
             [
              0.3333333333333333,
              "#9c179e"
             ],
             [
              0.4444444444444444,
              "#bd3786"
             ],
             [
              0.5555555555555556,
              "#d8576b"
             ],
             [
              0.6666666666666666,
              "#ed7953"
             ],
             [
              0.7777777777777778,
              "#fb9f3a"
             ],
             [
              0.8888888888888888,
              "#fdca26"
             ],
             [
              1,
              "#f0f921"
             ]
            ],
            "type": "histogram2dcontour"
           }
          ],
          "mesh3d": [
           {
            "colorbar": {
             "outlinewidth": 0,
             "ticks": ""
            },
            "type": "mesh3d"
           }
          ],
          "parcoords": [
           {
            "line": {
             "colorbar": {
              "outlinewidth": 0,
              "ticks": ""
             }
            },
            "type": "parcoords"
           }
          ],
          "pie": [
           {
            "automargin": true,
            "type": "pie"
           }
          ],
          "scatter": [
           {
            "fillpattern": {
             "fillmode": "overlay",
             "size": 10,
             "solidity": 0.2
            },
            "type": "scatter"
           }
          ],
          "scatter3d": [
           {
            "line": {
             "colorbar": {
              "outlinewidth": 0,
              "ticks": ""
             }
            },
            "marker": {
             "colorbar": {
              "outlinewidth": 0,
              "ticks": ""
             }
            },
            "type": "scatter3d"
           }
          ],
          "scattercarpet": [
           {
            "marker": {
             "colorbar": {
              "outlinewidth": 0,
              "ticks": ""
             }
            },
            "type": "scattercarpet"
           }
          ],
          "scattergeo": [
           {
            "marker": {
             "colorbar": {
              "outlinewidth": 0,
              "ticks": ""
             }
            },
            "type": "scattergeo"
           }
          ],
          "scattergl": [
           {
            "marker": {
             "colorbar": {
              "outlinewidth": 0,
              "ticks": ""
             }
            },
            "type": "scattergl"
           }
          ],
          "scattermapbox": [
           {
            "marker": {
             "colorbar": {
              "outlinewidth": 0,
              "ticks": ""
             }
            },
            "type": "scattermapbox"
           }
          ],
          "scatterpolar": [
           {
            "marker": {
             "colorbar": {
              "outlinewidth": 0,
              "ticks": ""
             }
            },
            "type": "scatterpolar"
           }
          ],
          "scatterpolargl": [
           {
            "marker": {
             "colorbar": {
              "outlinewidth": 0,
              "ticks": ""
             }
            },
            "type": "scatterpolargl"
           }
          ],
          "scatterternary": [
           {
            "marker": {
             "colorbar": {
              "outlinewidth": 0,
              "ticks": ""
             }
            },
            "type": "scatterternary"
           }
          ],
          "surface": [
           {
            "colorbar": {
             "outlinewidth": 0,
             "ticks": ""
            },
            "colorscale": [
             [
              0,
              "#0d0887"
             ],
             [
              0.1111111111111111,
              "#46039f"
             ],
             [
              0.2222222222222222,
              "#7201a8"
             ],
             [
              0.3333333333333333,
              "#9c179e"
             ],
             [
              0.4444444444444444,
              "#bd3786"
             ],
             [
              0.5555555555555556,
              "#d8576b"
             ],
             [
              0.6666666666666666,
              "#ed7953"
             ],
             [
              0.7777777777777778,
              "#fb9f3a"
             ],
             [
              0.8888888888888888,
              "#fdca26"
             ],
             [
              1,
              "#f0f921"
             ]
            ],
            "type": "surface"
           }
          ],
          "table": [
           {
            "cells": {
             "fill": {
              "color": "#EBF0F8"
             },
             "line": {
              "color": "white"
             }
            },
            "header": {
             "fill": {
              "color": "#C8D4E3"
             },
             "line": {
              "color": "white"
             }
            },
            "type": "table"
           }
          ]
         },
         "layout": {
          "annotationdefaults": {
           "arrowcolor": "#2a3f5f",
           "arrowhead": 0,
           "arrowwidth": 1
          },
          "autotypenumbers": "strict",
          "coloraxis": {
           "colorbar": {
            "outlinewidth": 0,
            "ticks": ""
           }
          },
          "colorscale": {
           "diverging": [
            [
             0,
             "#8e0152"
            ],
            [
             0.1,
             "#c51b7d"
            ],
            [
             0.2,
             "#de77ae"
            ],
            [
             0.3,
             "#f1b6da"
            ],
            [
             0.4,
             "#fde0ef"
            ],
            [
             0.5,
             "#f7f7f7"
            ],
            [
             0.6,
             "#e6f5d0"
            ],
            [
             0.7,
             "#b8e186"
            ],
            [
             0.8,
             "#7fbc41"
            ],
            [
             0.9,
             "#4d9221"
            ],
            [
             1,
             "#276419"
            ]
           ],
           "sequential": [
            [
             0,
             "#0d0887"
            ],
            [
             0.1111111111111111,
             "#46039f"
            ],
            [
             0.2222222222222222,
             "#7201a8"
            ],
            [
             0.3333333333333333,
             "#9c179e"
            ],
            [
             0.4444444444444444,
             "#bd3786"
            ],
            [
             0.5555555555555556,
             "#d8576b"
            ],
            [
             0.6666666666666666,
             "#ed7953"
            ],
            [
             0.7777777777777778,
             "#fb9f3a"
            ],
            [
             0.8888888888888888,
             "#fdca26"
            ],
            [
             1,
             "#f0f921"
            ]
           ],
           "sequentialminus": [
            [
             0,
             "#0d0887"
            ],
            [
             0.1111111111111111,
             "#46039f"
            ],
            [
             0.2222222222222222,
             "#7201a8"
            ],
            [
             0.3333333333333333,
             "#9c179e"
            ],
            [
             0.4444444444444444,
             "#bd3786"
            ],
            [
             0.5555555555555556,
             "#d8576b"
            ],
            [
             0.6666666666666666,
             "#ed7953"
            ],
            [
             0.7777777777777778,
             "#fb9f3a"
            ],
            [
             0.8888888888888888,
             "#fdca26"
            ],
            [
             1,
             "#f0f921"
            ]
           ]
          },
          "colorway": [
           "#636efa",
           "#EF553B",
           "#00cc96",
           "#ab63fa",
           "#FFA15A",
           "#19d3f3",
           "#FF6692",
           "#B6E880",
           "#FF97FF",
           "#FECB52"
          ],
          "font": {
           "color": "#2a3f5f"
          },
          "geo": {
           "bgcolor": "white",
           "lakecolor": "white",
           "landcolor": "#E5ECF6",
           "showlakes": true,
           "showland": true,
           "subunitcolor": "white"
          },
          "hoverlabel": {
           "align": "left"
          },
          "hovermode": "closest",
          "mapbox": {
           "style": "light"
          },
          "paper_bgcolor": "white",
          "plot_bgcolor": "#E5ECF6",
          "polar": {
           "angularaxis": {
            "gridcolor": "white",
            "linecolor": "white",
            "ticks": ""
           },
           "bgcolor": "#E5ECF6",
           "radialaxis": {
            "gridcolor": "white",
            "linecolor": "white",
            "ticks": ""
           }
          },
          "scene": {
           "xaxis": {
            "backgroundcolor": "#E5ECF6",
            "gridcolor": "white",
            "gridwidth": 2,
            "linecolor": "white",
            "showbackground": true,
            "ticks": "",
            "zerolinecolor": "white"
           },
           "yaxis": {
            "backgroundcolor": "#E5ECF6",
            "gridcolor": "white",
            "gridwidth": 2,
            "linecolor": "white",
            "showbackground": true,
            "ticks": "",
            "zerolinecolor": "white"
           },
           "zaxis": {
            "backgroundcolor": "#E5ECF6",
            "gridcolor": "white",
            "gridwidth": 2,
            "linecolor": "white",
            "showbackground": true,
            "ticks": "",
            "zerolinecolor": "white"
           }
          },
          "shapedefaults": {
           "line": {
            "color": "#2a3f5f"
           }
          },
          "ternary": {
           "aaxis": {
            "gridcolor": "white",
            "linecolor": "white",
            "ticks": ""
           },
           "baxis": {
            "gridcolor": "white",
            "linecolor": "white",
            "ticks": ""
           },
           "bgcolor": "#E5ECF6",
           "caxis": {
            "gridcolor": "white",
            "linecolor": "white",
            "ticks": ""
           }
          },
          "title": {
           "x": 0.05
          },
          "xaxis": {
           "automargin": true,
           "gridcolor": "white",
           "linecolor": "white",
           "ticks": "",
           "title": {
            "standoff": 15
           },
           "zerolinecolor": "white",
           "zerolinewidth": 2
          },
          "yaxis": {
           "automargin": true,
           "gridcolor": "white",
           "linecolor": "white",
           "ticks": "",
           "title": {
            "standoff": 15
           },
           "zerolinecolor": "white",
           "zerolinewidth": 2
          }
         }
        },
        "title": {
         "text": "연령대별 건강기능식품 정보 획득처[2020년]",
         "x": 0.5,
         "y": 0.9
        },
        "width": 1200
       }
      }
     },
     "metadata": {},
     "output_type": "display_data"
    }
   ],
   "source": [
    "fig2 = make_subplots(rows=1, cols=5,\n",
    "                   specs=[[{'type': 'domain'}]*5])\n",
    "#20대 파이그래프\n",
    "fig2.add_trace(go.Pie(\n",
    "    values=dt_2020_20.iloc[0,3:].values,\n",
    "    labels=dt_2020_20.columns[3:],\n",
    "    hole=0.35,\n",
    "    title='20대'\n",
    "), row=1, col=1)\n",
    "# 30대 Pie 그래프 추가\n",
    "fig2.add_trace(go.Pie(\n",
    "    values=dt_2020_30.iloc[0,3:].values,\n",
    "    labels=dt_2020_30.columns[3:],\n",
    "    hole=0.35,\n",
    "    title='30대'\n",
    "), row=1, col=2)\n",
    "# 40대 Pie 그래프 추가\n",
    "fig2.add_trace(go.Pie(\n",
    "    values=dt_2020_40.iloc[0,3:].values,\n",
    "    labels=dt_2020_40.columns[3:],\n",
    "    hole=0.35,\n",
    "    title='40대'\n",
    "), row=1, col=3)\n",
    "\n",
    "# 50대 Pie 그래프 추가\n",
    "fig2.add_trace(go.Pie(\n",
    "    values=dt_2020_50.iloc[0,3:].values,\n",
    "    labels=dt_2020_50.columns[3:],\n",
    "    hole=0.35,\n",
    "    title='50대'\n",
    "), row=1, col=4)\n",
    "\n",
    "# 60대 Pie 그래프 추가\n",
    "fig2.add_trace(go.Pie(\n",
    "    values=dt_2020_60.iloc[0,3:].values,\n",
    "    labels=dt_2020_60.columns[3:],\n",
    "    hole=0.35,\n",
    "    title='60대 이상'\n",
    "), row=1, col=5)\n",
    "\n",
    "fig2.update_traces(textposition='inside',\n",
    "                  textinfo='label+percent',\n",
    "                  textfont_size=10)\n",
    "\n",
    "# 전체 레이아웃 설정\n",
    "fig2.update_layout(\n",
    "    title='연령대별 건강기능식품 정보 획득처[2020년]',\n",
    "    legend_orientation='h',\n",
    "    title_x=0.5,\n",
    "    title_y=0.9,\n",
    "    width=1200,\n",
    "    height=750\n",
    ")\n",
    "\n",
    "# 그래프 보여주기\n",
    "fig2.show()"
   ]
  },
  {
   "cell_type": "markdown",
   "id": "f5ef10cd",
   "metadata": {},
   "source": [
    "###### 2021년"
   ]
  },
  {
   "cell_type": "code",
   "execution_count": 76,
   "id": "e5f935fb",
   "metadata": {},
   "outputs": [
    {
     "data": {
      "application/vnd.plotly.v1+json": {
       "config": {
        "plotlyServerURL": "https://plot.ly"
       },
       "data": [
        {
         "domain": {
          "x": [
           0,
           0.2888888888888889
          ],
          "y": [
           0,
           1
          ]
         },
         "hole": 0.35,
         "labels": [
          "가격",
          "용량",
          "브랜드/상표/제조사",
          "제조일자/유통기한",
          "품질인증표시",
          "원산지",
          "영양성분",
          "식품첨가물",
          "원재료/성분 함량",
          "제품포장/디자인",
          "기능성 표시/식품의 효능",
          "섭취주의사항(알레르기 유발 등)",
          "보관방법",
          "구매후기(리뷰), 평점 등",
          "기타"
         ],
         "textfont": {
          "size": 10
         },
         "textinfo": "label+percent",
         "textposition": "inside",
         "title": {
          "text": "20대~30대"
         },
         "type": "pie",
         "values": [
          17.6,
          8.1,
          18.2,
          6.7,
          7.8,
          6.1,
          12.8,
          3.5,
          9.1,
          1.1,
          7.7,
          0.9,
          0.3,
          "-",
          0
         ]
        },
        {
         "domain": {
          "x": [
           0.35555555555555557,
           0.6444444444444445
          ],
          "y": [
           0,
           1
          ]
         },
         "hole": 0.35,
         "labels": [
          "가격",
          "용량",
          "브랜드/상표/제조사",
          "제조일자/유통기한",
          "품질인증표시",
          "원산지",
          "영양성분",
          "식품첨가물",
          "원재료/성분 함량",
          "제품포장/디자인",
          "기능성 표시/식품의 효능",
          "섭취주의사항(알레르기 유발 등)",
          "보관방법",
          "구매후기(리뷰), 평점 등",
          "기타"
         ],
         "textfont": {
          "size": 10
         },
         "textinfo": "label+percent",
         "textposition": "inside",
         "title": {
          "text": "40대~50대"
         },
         "type": "pie",
         "values": [
          16.2,
          6.6,
          19,
          7.2,
          8.5,
          6.1,
          14.1,
          2.8,
          9.4,
          0.3,
          9.3,
          0.4,
          0.1,
          "-",
          0
         ]
        },
        {
         "domain": {
          "x": [
           0.7111111111111111,
           1
          ],
          "y": [
           0,
           1
          ]
         },
         "hole": 0.35,
         "labels": [
          "가격",
          "용량",
          "브랜드/상표/제조사",
          "제조일자/유통기한",
          "품질인증표시",
          "원산지",
          "영양성분",
          "식품첨가물",
          "원재료/성분 함량",
          "제품포장/디자인",
          "기능성 표시/식품의 효능",
          "섭취주의사항(알레르기 유발 등)",
          "보관방법",
          "구매후기(리뷰), 평점 등",
          "기타"
         ],
         "textfont": {
          "size": 10
         },
         "textinfo": "label+percent",
         "textposition": "inside",
         "title": {
          "text": "60대 이상"
         },
         "type": "pie",
         "values": [
          15.5,
          5.6,
          20.5,
          7.5,
          9.2,
          5.8,
          11.6,
          2.4,
          11,
          1.1,
          9.1,
          0.5,
          0.2,
          "-",
          0
         ]
        }
       ],
       "layout": {
        "height": 800,
        "legend": {
         "orientation": "h"
        },
        "template": {
         "data": {
          "bar": [
           {
            "error_x": {
             "color": "#2a3f5f"
            },
            "error_y": {
             "color": "#2a3f5f"
            },
            "marker": {
             "line": {
              "color": "#E5ECF6",
              "width": 0.5
             },
             "pattern": {
              "fillmode": "overlay",
              "size": 10,
              "solidity": 0.2
             }
            },
            "type": "bar"
           }
          ],
          "barpolar": [
           {
            "marker": {
             "line": {
              "color": "#E5ECF6",
              "width": 0.5
             },
             "pattern": {
              "fillmode": "overlay",
              "size": 10,
              "solidity": 0.2
             }
            },
            "type": "barpolar"
           }
          ],
          "carpet": [
           {
            "aaxis": {
             "endlinecolor": "#2a3f5f",
             "gridcolor": "white",
             "linecolor": "white",
             "minorgridcolor": "white",
             "startlinecolor": "#2a3f5f"
            },
            "baxis": {
             "endlinecolor": "#2a3f5f",
             "gridcolor": "white",
             "linecolor": "white",
             "minorgridcolor": "white",
             "startlinecolor": "#2a3f5f"
            },
            "type": "carpet"
           }
          ],
          "choropleth": [
           {
            "colorbar": {
             "outlinewidth": 0,
             "ticks": ""
            },
            "type": "choropleth"
           }
          ],
          "contour": [
           {
            "colorbar": {
             "outlinewidth": 0,
             "ticks": ""
            },
            "colorscale": [
             [
              0,
              "#0d0887"
             ],
             [
              0.1111111111111111,
              "#46039f"
             ],
             [
              0.2222222222222222,
              "#7201a8"
             ],
             [
              0.3333333333333333,
              "#9c179e"
             ],
             [
              0.4444444444444444,
              "#bd3786"
             ],
             [
              0.5555555555555556,
              "#d8576b"
             ],
             [
              0.6666666666666666,
              "#ed7953"
             ],
             [
              0.7777777777777778,
              "#fb9f3a"
             ],
             [
              0.8888888888888888,
              "#fdca26"
             ],
             [
              1,
              "#f0f921"
             ]
            ],
            "type": "contour"
           }
          ],
          "contourcarpet": [
           {
            "colorbar": {
             "outlinewidth": 0,
             "ticks": ""
            },
            "type": "contourcarpet"
           }
          ],
          "heatmap": [
           {
            "colorbar": {
             "outlinewidth": 0,
             "ticks": ""
            },
            "colorscale": [
             [
              0,
              "#0d0887"
             ],
             [
              0.1111111111111111,
              "#46039f"
             ],
             [
              0.2222222222222222,
              "#7201a8"
             ],
             [
              0.3333333333333333,
              "#9c179e"
             ],
             [
              0.4444444444444444,
              "#bd3786"
             ],
             [
              0.5555555555555556,
              "#d8576b"
             ],
             [
              0.6666666666666666,
              "#ed7953"
             ],
             [
              0.7777777777777778,
              "#fb9f3a"
             ],
             [
              0.8888888888888888,
              "#fdca26"
             ],
             [
              1,
              "#f0f921"
             ]
            ],
            "type": "heatmap"
           }
          ],
          "heatmapgl": [
           {
            "colorbar": {
             "outlinewidth": 0,
             "ticks": ""
            },
            "colorscale": [
             [
              0,
              "#0d0887"
             ],
             [
              0.1111111111111111,
              "#46039f"
             ],
             [
              0.2222222222222222,
              "#7201a8"
             ],
             [
              0.3333333333333333,
              "#9c179e"
             ],
             [
              0.4444444444444444,
              "#bd3786"
             ],
             [
              0.5555555555555556,
              "#d8576b"
             ],
             [
              0.6666666666666666,
              "#ed7953"
             ],
             [
              0.7777777777777778,
              "#fb9f3a"
             ],
             [
              0.8888888888888888,
              "#fdca26"
             ],
             [
              1,
              "#f0f921"
             ]
            ],
            "type": "heatmapgl"
           }
          ],
          "histogram": [
           {
            "marker": {
             "pattern": {
              "fillmode": "overlay",
              "size": 10,
              "solidity": 0.2
             }
            },
            "type": "histogram"
           }
          ],
          "histogram2d": [
           {
            "colorbar": {
             "outlinewidth": 0,
             "ticks": ""
            },
            "colorscale": [
             [
              0,
              "#0d0887"
             ],
             [
              0.1111111111111111,
              "#46039f"
             ],
             [
              0.2222222222222222,
              "#7201a8"
             ],
             [
              0.3333333333333333,
              "#9c179e"
             ],
             [
              0.4444444444444444,
              "#bd3786"
             ],
             [
              0.5555555555555556,
              "#d8576b"
             ],
             [
              0.6666666666666666,
              "#ed7953"
             ],
             [
              0.7777777777777778,
              "#fb9f3a"
             ],
             [
              0.8888888888888888,
              "#fdca26"
             ],
             [
              1,
              "#f0f921"
             ]
            ],
            "type": "histogram2d"
           }
          ],
          "histogram2dcontour": [
           {
            "colorbar": {
             "outlinewidth": 0,
             "ticks": ""
            },
            "colorscale": [
             [
              0,
              "#0d0887"
             ],
             [
              0.1111111111111111,
              "#46039f"
             ],
             [
              0.2222222222222222,
              "#7201a8"
             ],
             [
              0.3333333333333333,
              "#9c179e"
             ],
             [
              0.4444444444444444,
              "#bd3786"
             ],
             [
              0.5555555555555556,
              "#d8576b"
             ],
             [
              0.6666666666666666,
              "#ed7953"
             ],
             [
              0.7777777777777778,
              "#fb9f3a"
             ],
             [
              0.8888888888888888,
              "#fdca26"
             ],
             [
              1,
              "#f0f921"
             ]
            ],
            "type": "histogram2dcontour"
           }
          ],
          "mesh3d": [
           {
            "colorbar": {
             "outlinewidth": 0,
             "ticks": ""
            },
            "type": "mesh3d"
           }
          ],
          "parcoords": [
           {
            "line": {
             "colorbar": {
              "outlinewidth": 0,
              "ticks": ""
             }
            },
            "type": "parcoords"
           }
          ],
          "pie": [
           {
            "automargin": true,
            "type": "pie"
           }
          ],
          "scatter": [
           {
            "fillpattern": {
             "fillmode": "overlay",
             "size": 10,
             "solidity": 0.2
            },
            "type": "scatter"
           }
          ],
          "scatter3d": [
           {
            "line": {
             "colorbar": {
              "outlinewidth": 0,
              "ticks": ""
             }
            },
            "marker": {
             "colorbar": {
              "outlinewidth": 0,
              "ticks": ""
             }
            },
            "type": "scatter3d"
           }
          ],
          "scattercarpet": [
           {
            "marker": {
             "colorbar": {
              "outlinewidth": 0,
              "ticks": ""
             }
            },
            "type": "scattercarpet"
           }
          ],
          "scattergeo": [
           {
            "marker": {
             "colorbar": {
              "outlinewidth": 0,
              "ticks": ""
             }
            },
            "type": "scattergeo"
           }
          ],
          "scattergl": [
           {
            "marker": {
             "colorbar": {
              "outlinewidth": 0,
              "ticks": ""
             }
            },
            "type": "scattergl"
           }
          ],
          "scattermapbox": [
           {
            "marker": {
             "colorbar": {
              "outlinewidth": 0,
              "ticks": ""
             }
            },
            "type": "scattermapbox"
           }
          ],
          "scatterpolar": [
           {
            "marker": {
             "colorbar": {
              "outlinewidth": 0,
              "ticks": ""
             }
            },
            "type": "scatterpolar"
           }
          ],
          "scatterpolargl": [
           {
            "marker": {
             "colorbar": {
              "outlinewidth": 0,
              "ticks": ""
             }
            },
            "type": "scatterpolargl"
           }
          ],
          "scatterternary": [
           {
            "marker": {
             "colorbar": {
              "outlinewidth": 0,
              "ticks": ""
             }
            },
            "type": "scatterternary"
           }
          ],
          "surface": [
           {
            "colorbar": {
             "outlinewidth": 0,
             "ticks": ""
            },
            "colorscale": [
             [
              0,
              "#0d0887"
             ],
             [
              0.1111111111111111,
              "#46039f"
             ],
             [
              0.2222222222222222,
              "#7201a8"
             ],
             [
              0.3333333333333333,
              "#9c179e"
             ],
             [
              0.4444444444444444,
              "#bd3786"
             ],
             [
              0.5555555555555556,
              "#d8576b"
             ],
             [
              0.6666666666666666,
              "#ed7953"
             ],
             [
              0.7777777777777778,
              "#fb9f3a"
             ],
             [
              0.8888888888888888,
              "#fdca26"
             ],
             [
              1,
              "#f0f921"
             ]
            ],
            "type": "surface"
           }
          ],
          "table": [
           {
            "cells": {
             "fill": {
              "color": "#EBF0F8"
             },
             "line": {
              "color": "white"
             }
            },
            "header": {
             "fill": {
              "color": "#C8D4E3"
             },
             "line": {
              "color": "white"
             }
            },
            "type": "table"
           }
          ]
         },
         "layout": {
          "annotationdefaults": {
           "arrowcolor": "#2a3f5f",
           "arrowhead": 0,
           "arrowwidth": 1
          },
          "autotypenumbers": "strict",
          "coloraxis": {
           "colorbar": {
            "outlinewidth": 0,
            "ticks": ""
           }
          },
          "colorscale": {
           "diverging": [
            [
             0,
             "#8e0152"
            ],
            [
             0.1,
             "#c51b7d"
            ],
            [
             0.2,
             "#de77ae"
            ],
            [
             0.3,
             "#f1b6da"
            ],
            [
             0.4,
             "#fde0ef"
            ],
            [
             0.5,
             "#f7f7f7"
            ],
            [
             0.6,
             "#e6f5d0"
            ],
            [
             0.7,
             "#b8e186"
            ],
            [
             0.8,
             "#7fbc41"
            ],
            [
             0.9,
             "#4d9221"
            ],
            [
             1,
             "#276419"
            ]
           ],
           "sequential": [
            [
             0,
             "#0d0887"
            ],
            [
             0.1111111111111111,
             "#46039f"
            ],
            [
             0.2222222222222222,
             "#7201a8"
            ],
            [
             0.3333333333333333,
             "#9c179e"
            ],
            [
             0.4444444444444444,
             "#bd3786"
            ],
            [
             0.5555555555555556,
             "#d8576b"
            ],
            [
             0.6666666666666666,
             "#ed7953"
            ],
            [
             0.7777777777777778,
             "#fb9f3a"
            ],
            [
             0.8888888888888888,
             "#fdca26"
            ],
            [
             1,
             "#f0f921"
            ]
           ],
           "sequentialminus": [
            [
             0,
             "#0d0887"
            ],
            [
             0.1111111111111111,
             "#46039f"
            ],
            [
             0.2222222222222222,
             "#7201a8"
            ],
            [
             0.3333333333333333,
             "#9c179e"
            ],
            [
             0.4444444444444444,
             "#bd3786"
            ],
            [
             0.5555555555555556,
             "#d8576b"
            ],
            [
             0.6666666666666666,
             "#ed7953"
            ],
            [
             0.7777777777777778,
             "#fb9f3a"
            ],
            [
             0.8888888888888888,
             "#fdca26"
            ],
            [
             1,
             "#f0f921"
            ]
           ]
          },
          "colorway": [
           "#636efa",
           "#EF553B",
           "#00cc96",
           "#ab63fa",
           "#FFA15A",
           "#19d3f3",
           "#FF6692",
           "#B6E880",
           "#FF97FF",
           "#FECB52"
          ],
          "font": {
           "color": "#2a3f5f"
          },
          "geo": {
           "bgcolor": "white",
           "lakecolor": "white",
           "landcolor": "#E5ECF6",
           "showlakes": true,
           "showland": true,
           "subunitcolor": "white"
          },
          "hoverlabel": {
           "align": "left"
          },
          "hovermode": "closest",
          "mapbox": {
           "style": "light"
          },
          "paper_bgcolor": "white",
          "plot_bgcolor": "#E5ECF6",
          "polar": {
           "angularaxis": {
            "gridcolor": "white",
            "linecolor": "white",
            "ticks": ""
           },
           "bgcolor": "#E5ECF6",
           "radialaxis": {
            "gridcolor": "white",
            "linecolor": "white",
            "ticks": ""
           }
          },
          "scene": {
           "xaxis": {
            "backgroundcolor": "#E5ECF6",
            "gridcolor": "white",
            "gridwidth": 2,
            "linecolor": "white",
            "showbackground": true,
            "ticks": "",
            "zerolinecolor": "white"
           },
           "yaxis": {
            "backgroundcolor": "#E5ECF6",
            "gridcolor": "white",
            "gridwidth": 2,
            "linecolor": "white",
            "showbackground": true,
            "ticks": "",
            "zerolinecolor": "white"
           },
           "zaxis": {
            "backgroundcolor": "#E5ECF6",
            "gridcolor": "white",
            "gridwidth": 2,
            "linecolor": "white",
            "showbackground": true,
            "ticks": "",
            "zerolinecolor": "white"
           }
          },
          "shapedefaults": {
           "line": {
            "color": "#2a3f5f"
           }
          },
          "ternary": {
           "aaxis": {
            "gridcolor": "white",
            "linecolor": "white",
            "ticks": ""
           },
           "baxis": {
            "gridcolor": "white",
            "linecolor": "white",
            "ticks": ""
           },
           "bgcolor": "#E5ECF6",
           "caxis": {
            "gridcolor": "white",
            "linecolor": "white",
            "ticks": ""
           }
          },
          "title": {
           "x": 0.05
          },
          "xaxis": {
           "automargin": true,
           "gridcolor": "white",
           "linecolor": "white",
           "ticks": "",
           "title": {
            "standoff": 15
           },
           "zerolinecolor": "white",
           "zerolinewidth": 2
          },
          "yaxis": {
           "automargin": true,
           "gridcolor": "white",
           "linecolor": "white",
           "ticks": "",
           "title": {
            "standoff": 15
           },
           "zerolinecolor": "white",
           "zerolinewidth": 2
          }
         }
        },
        "title": {
         "text": "연령대별 건강기능식품 정보 획득처[2021년]",
         "x": 0.5,
         "y": 0.9
        },
        "width": 1500
       }
      }
     },
     "metadata": {},
     "output_type": "display_data"
    }
   ],
   "source": [
    "fig3 = make_subplots(rows=1, cols=3,\n",
    "                   specs=[[{'type': 'domain'}]*3])\n",
    "#20~30대 파이그래프\n",
    "fig3.add_trace(go.Pie(\n",
    "    values=dt_2021_2030.iloc[0,3:].values,\n",
    "    labels=dt_2021_2030.columns[3:],\n",
    "    hole=0.35,\n",
    "    title='20대~30대'\n",
    "), row=1, col=1)\n",
    "# 40~50대 Pie 그래프 추가\n",
    "fig3.add_trace(go.Pie(\n",
    "    values=dt_2021_4050.iloc[0,3:].values,\n",
    "    labels=dt_2021_4050.columns[3:],\n",
    "    hole=0.35,\n",
    "    title='40대~50대'\n",
    "), row=1, col=2)\n",
    "# 40대 Pie 그래프 추가\n",
    "fig3.add_trace(go.Pie(\n",
    "    values=dt_2021_60.iloc[0,3:].values,\n",
    "    labels=dt_2021_60.columns[3:],\n",
    "    hole=0.35,\n",
    "    title='60대 이상'\n",
    "), row=1, col=3)\n",
    "\n",
    "fig3.update_traces(textposition='inside',\n",
    "                  textinfo='label+percent',\n",
    "                  textfont_size=10)\n",
    "\n",
    "# 전체 레이아웃 설정\n",
    "fig3.update_layout(\n",
    "    title='연령대별 건강기능식품 정보 획득처[2021년]',\n",
    "    legend_orientation='h',\n",
    "    title_x=0.5,\n",
    "    title_y=0.9,\n",
    "    width=1500,\n",
    "    height=800\n",
    ")\n",
    "\n",
    "# 그래프 보여주기\n",
    "fig3.show()"
   ]
  },
  {
   "cell_type": "markdown",
   "id": "73ac7d71",
   "metadata": {},
   "source": [
    "#2022년"
   ]
  },
  {
   "cell_type": "code",
   "execution_count": 78,
   "id": "40106363",
   "metadata": {},
   "outputs": [
    {
     "data": {
      "application/vnd.plotly.v1+json": {
       "config": {
        "plotlyServerURL": "https://plot.ly"
       },
       "data": [
        {
         "domain": {
          "x": [
           0,
           0.2888888888888889
          ],
          "y": [
           0,
           1
          ]
         },
         "hole": 0.35,
         "labels": [
          "가격",
          "용량",
          "브랜드/상표/제조사",
          "제조일자/유통기한",
          "품질인증표시",
          "원산지",
          "영양성분",
          "식품첨가물",
          "원재료/성분 함량",
          "제품포장/디자인",
          "기능성 표시/식품의 효능",
          "섭취주의사항(알레르기 유발 등)",
          "보관방법",
          "구매후기(리뷰), 평점 등",
          "기타"
         ],
         "textfont": {
          "size": 10
         },
         "textinfo": "label+percent",
         "textposition": "inside",
         "title": {
          "text": "20대~30대"
         },
         "type": "pie",
         "values": [
          15.9,
          8.2,
          16.3,
          6.9,
          9.2,
          6.7,
          12.9,
          2.2,
          10.2,
          1.2,
          8.2,
          1.3,
          0.4,
          0.4,
          "-"
         ]
        },
        {
         "domain": {
          "x": [
           0.35555555555555557,
           0.6444444444444445
          ],
          "y": [
           0,
           1
          ]
         },
         "hole": 0.35,
         "labels": [
          "가격",
          "용량",
          "브랜드/상표/제조사",
          "제조일자/유통기한",
          "품질인증표시",
          "원산지",
          "영양성분",
          "식품첨가물",
          "원재료/성분 함량",
          "제품포장/디자인",
          "기능성 표시/식품의 효능",
          "섭취주의사항(알레르기 유발 등)",
          "보관방법",
          "구매후기(리뷰), 평점 등",
          "기타"
         ],
         "textfont": {
          "size": 10
         },
         "textinfo": "label+percent",
         "textposition": "inside",
         "title": {
          "text": "40대~50대"
         },
         "type": "pie",
         "values": [
          16,
          7.9,
          16.2,
          6.5,
          11.3,
          5.4,
          13.7,
          3.5,
          9.7,
          0.3,
          7.6,
          1.3,
          0.1,
          0.4,
          "-"
         ]
        },
        {
         "domain": {
          "x": [
           0.7111111111111111,
           1
          ],
          "y": [
           0,
           1
          ]
         },
         "hole": 0.35,
         "labels": [
          "가격",
          "용량",
          "브랜드/상표/제조사",
          "제조일자/유통기한",
          "품질인증표시",
          "원산지",
          "영양성분",
          "식품첨가물",
          "원재료/성분 함량",
          "제품포장/디자인",
          "기능성 표시/식품의 효능",
          "섭취주의사항(알레르기 유발 등)",
          "보관방법",
          "구매후기(리뷰), 평점 등",
          "기타"
         ],
         "textfont": {
          "size": 10
         },
         "textinfo": "label+percent",
         "textposition": "inside",
         "title": {
          "text": "60대 이상"
         },
         "type": "pie",
         "values": [
          17.9,
          8.8,
          16.3,
          6,
          8.7,
          4.5,
          15.7,
          2.5,
          9.2,
          0.7,
          7.9,
          1.2,
          0.3,
          0.3,
          "-"
         ]
        }
       ],
       "layout": {
        "height": 800,
        "legend": {
         "orientation": "h"
        },
        "template": {
         "data": {
          "bar": [
           {
            "error_x": {
             "color": "#2a3f5f"
            },
            "error_y": {
             "color": "#2a3f5f"
            },
            "marker": {
             "line": {
              "color": "#E5ECF6",
              "width": 0.5
             },
             "pattern": {
              "fillmode": "overlay",
              "size": 10,
              "solidity": 0.2
             }
            },
            "type": "bar"
           }
          ],
          "barpolar": [
           {
            "marker": {
             "line": {
              "color": "#E5ECF6",
              "width": 0.5
             },
             "pattern": {
              "fillmode": "overlay",
              "size": 10,
              "solidity": 0.2
             }
            },
            "type": "barpolar"
           }
          ],
          "carpet": [
           {
            "aaxis": {
             "endlinecolor": "#2a3f5f",
             "gridcolor": "white",
             "linecolor": "white",
             "minorgridcolor": "white",
             "startlinecolor": "#2a3f5f"
            },
            "baxis": {
             "endlinecolor": "#2a3f5f",
             "gridcolor": "white",
             "linecolor": "white",
             "minorgridcolor": "white",
             "startlinecolor": "#2a3f5f"
            },
            "type": "carpet"
           }
          ],
          "choropleth": [
           {
            "colorbar": {
             "outlinewidth": 0,
             "ticks": ""
            },
            "type": "choropleth"
           }
          ],
          "contour": [
           {
            "colorbar": {
             "outlinewidth": 0,
             "ticks": ""
            },
            "colorscale": [
             [
              0,
              "#0d0887"
             ],
             [
              0.1111111111111111,
              "#46039f"
             ],
             [
              0.2222222222222222,
              "#7201a8"
             ],
             [
              0.3333333333333333,
              "#9c179e"
             ],
             [
              0.4444444444444444,
              "#bd3786"
             ],
             [
              0.5555555555555556,
              "#d8576b"
             ],
             [
              0.6666666666666666,
              "#ed7953"
             ],
             [
              0.7777777777777778,
              "#fb9f3a"
             ],
             [
              0.8888888888888888,
              "#fdca26"
             ],
             [
              1,
              "#f0f921"
             ]
            ],
            "type": "contour"
           }
          ],
          "contourcarpet": [
           {
            "colorbar": {
             "outlinewidth": 0,
             "ticks": ""
            },
            "type": "contourcarpet"
           }
          ],
          "heatmap": [
           {
            "colorbar": {
             "outlinewidth": 0,
             "ticks": ""
            },
            "colorscale": [
             [
              0,
              "#0d0887"
             ],
             [
              0.1111111111111111,
              "#46039f"
             ],
             [
              0.2222222222222222,
              "#7201a8"
             ],
             [
              0.3333333333333333,
              "#9c179e"
             ],
             [
              0.4444444444444444,
              "#bd3786"
             ],
             [
              0.5555555555555556,
              "#d8576b"
             ],
             [
              0.6666666666666666,
              "#ed7953"
             ],
             [
              0.7777777777777778,
              "#fb9f3a"
             ],
             [
              0.8888888888888888,
              "#fdca26"
             ],
             [
              1,
              "#f0f921"
             ]
            ],
            "type": "heatmap"
           }
          ],
          "heatmapgl": [
           {
            "colorbar": {
             "outlinewidth": 0,
             "ticks": ""
            },
            "colorscale": [
             [
              0,
              "#0d0887"
             ],
             [
              0.1111111111111111,
              "#46039f"
             ],
             [
              0.2222222222222222,
              "#7201a8"
             ],
             [
              0.3333333333333333,
              "#9c179e"
             ],
             [
              0.4444444444444444,
              "#bd3786"
             ],
             [
              0.5555555555555556,
              "#d8576b"
             ],
             [
              0.6666666666666666,
              "#ed7953"
             ],
             [
              0.7777777777777778,
              "#fb9f3a"
             ],
             [
              0.8888888888888888,
              "#fdca26"
             ],
             [
              1,
              "#f0f921"
             ]
            ],
            "type": "heatmapgl"
           }
          ],
          "histogram": [
           {
            "marker": {
             "pattern": {
              "fillmode": "overlay",
              "size": 10,
              "solidity": 0.2
             }
            },
            "type": "histogram"
           }
          ],
          "histogram2d": [
           {
            "colorbar": {
             "outlinewidth": 0,
             "ticks": ""
            },
            "colorscale": [
             [
              0,
              "#0d0887"
             ],
             [
              0.1111111111111111,
              "#46039f"
             ],
             [
              0.2222222222222222,
              "#7201a8"
             ],
             [
              0.3333333333333333,
              "#9c179e"
             ],
             [
              0.4444444444444444,
              "#bd3786"
             ],
             [
              0.5555555555555556,
              "#d8576b"
             ],
             [
              0.6666666666666666,
              "#ed7953"
             ],
             [
              0.7777777777777778,
              "#fb9f3a"
             ],
             [
              0.8888888888888888,
              "#fdca26"
             ],
             [
              1,
              "#f0f921"
             ]
            ],
            "type": "histogram2d"
           }
          ],
          "histogram2dcontour": [
           {
            "colorbar": {
             "outlinewidth": 0,
             "ticks": ""
            },
            "colorscale": [
             [
              0,
              "#0d0887"
             ],
             [
              0.1111111111111111,
              "#46039f"
             ],
             [
              0.2222222222222222,
              "#7201a8"
             ],
             [
              0.3333333333333333,
              "#9c179e"
             ],
             [
              0.4444444444444444,
              "#bd3786"
             ],
             [
              0.5555555555555556,
              "#d8576b"
             ],
             [
              0.6666666666666666,
              "#ed7953"
             ],
             [
              0.7777777777777778,
              "#fb9f3a"
             ],
             [
              0.8888888888888888,
              "#fdca26"
             ],
             [
              1,
              "#f0f921"
             ]
            ],
            "type": "histogram2dcontour"
           }
          ],
          "mesh3d": [
           {
            "colorbar": {
             "outlinewidth": 0,
             "ticks": ""
            },
            "type": "mesh3d"
           }
          ],
          "parcoords": [
           {
            "line": {
             "colorbar": {
              "outlinewidth": 0,
              "ticks": ""
             }
            },
            "type": "parcoords"
           }
          ],
          "pie": [
           {
            "automargin": true,
            "type": "pie"
           }
          ],
          "scatter": [
           {
            "fillpattern": {
             "fillmode": "overlay",
             "size": 10,
             "solidity": 0.2
            },
            "type": "scatter"
           }
          ],
          "scatter3d": [
           {
            "line": {
             "colorbar": {
              "outlinewidth": 0,
              "ticks": ""
             }
            },
            "marker": {
             "colorbar": {
              "outlinewidth": 0,
              "ticks": ""
             }
            },
            "type": "scatter3d"
           }
          ],
          "scattercarpet": [
           {
            "marker": {
             "colorbar": {
              "outlinewidth": 0,
              "ticks": ""
             }
            },
            "type": "scattercarpet"
           }
          ],
          "scattergeo": [
           {
            "marker": {
             "colorbar": {
              "outlinewidth": 0,
              "ticks": ""
             }
            },
            "type": "scattergeo"
           }
          ],
          "scattergl": [
           {
            "marker": {
             "colorbar": {
              "outlinewidth": 0,
              "ticks": ""
             }
            },
            "type": "scattergl"
           }
          ],
          "scattermapbox": [
           {
            "marker": {
             "colorbar": {
              "outlinewidth": 0,
              "ticks": ""
             }
            },
            "type": "scattermapbox"
           }
          ],
          "scatterpolar": [
           {
            "marker": {
             "colorbar": {
              "outlinewidth": 0,
              "ticks": ""
             }
            },
            "type": "scatterpolar"
           }
          ],
          "scatterpolargl": [
           {
            "marker": {
             "colorbar": {
              "outlinewidth": 0,
              "ticks": ""
             }
            },
            "type": "scatterpolargl"
           }
          ],
          "scatterternary": [
           {
            "marker": {
             "colorbar": {
              "outlinewidth": 0,
              "ticks": ""
             }
            },
            "type": "scatterternary"
           }
          ],
          "surface": [
           {
            "colorbar": {
             "outlinewidth": 0,
             "ticks": ""
            },
            "colorscale": [
             [
              0,
              "#0d0887"
             ],
             [
              0.1111111111111111,
              "#46039f"
             ],
             [
              0.2222222222222222,
              "#7201a8"
             ],
             [
              0.3333333333333333,
              "#9c179e"
             ],
             [
              0.4444444444444444,
              "#bd3786"
             ],
             [
              0.5555555555555556,
              "#d8576b"
             ],
             [
              0.6666666666666666,
              "#ed7953"
             ],
             [
              0.7777777777777778,
              "#fb9f3a"
             ],
             [
              0.8888888888888888,
              "#fdca26"
             ],
             [
              1,
              "#f0f921"
             ]
            ],
            "type": "surface"
           }
          ],
          "table": [
           {
            "cells": {
             "fill": {
              "color": "#EBF0F8"
             },
             "line": {
              "color": "white"
             }
            },
            "header": {
             "fill": {
              "color": "#C8D4E3"
             },
             "line": {
              "color": "white"
             }
            },
            "type": "table"
           }
          ]
         },
         "layout": {
          "annotationdefaults": {
           "arrowcolor": "#2a3f5f",
           "arrowhead": 0,
           "arrowwidth": 1
          },
          "autotypenumbers": "strict",
          "coloraxis": {
           "colorbar": {
            "outlinewidth": 0,
            "ticks": ""
           }
          },
          "colorscale": {
           "diverging": [
            [
             0,
             "#8e0152"
            ],
            [
             0.1,
             "#c51b7d"
            ],
            [
             0.2,
             "#de77ae"
            ],
            [
             0.3,
             "#f1b6da"
            ],
            [
             0.4,
             "#fde0ef"
            ],
            [
             0.5,
             "#f7f7f7"
            ],
            [
             0.6,
             "#e6f5d0"
            ],
            [
             0.7,
             "#b8e186"
            ],
            [
             0.8,
             "#7fbc41"
            ],
            [
             0.9,
             "#4d9221"
            ],
            [
             1,
             "#276419"
            ]
           ],
           "sequential": [
            [
             0,
             "#0d0887"
            ],
            [
             0.1111111111111111,
             "#46039f"
            ],
            [
             0.2222222222222222,
             "#7201a8"
            ],
            [
             0.3333333333333333,
             "#9c179e"
            ],
            [
             0.4444444444444444,
             "#bd3786"
            ],
            [
             0.5555555555555556,
             "#d8576b"
            ],
            [
             0.6666666666666666,
             "#ed7953"
            ],
            [
             0.7777777777777778,
             "#fb9f3a"
            ],
            [
             0.8888888888888888,
             "#fdca26"
            ],
            [
             1,
             "#f0f921"
            ]
           ],
           "sequentialminus": [
            [
             0,
             "#0d0887"
            ],
            [
             0.1111111111111111,
             "#46039f"
            ],
            [
             0.2222222222222222,
             "#7201a8"
            ],
            [
             0.3333333333333333,
             "#9c179e"
            ],
            [
             0.4444444444444444,
             "#bd3786"
            ],
            [
             0.5555555555555556,
             "#d8576b"
            ],
            [
             0.6666666666666666,
             "#ed7953"
            ],
            [
             0.7777777777777778,
             "#fb9f3a"
            ],
            [
             0.8888888888888888,
             "#fdca26"
            ],
            [
             1,
             "#f0f921"
            ]
           ]
          },
          "colorway": [
           "#636efa",
           "#EF553B",
           "#00cc96",
           "#ab63fa",
           "#FFA15A",
           "#19d3f3",
           "#FF6692",
           "#B6E880",
           "#FF97FF",
           "#FECB52"
          ],
          "font": {
           "color": "#2a3f5f"
          },
          "geo": {
           "bgcolor": "white",
           "lakecolor": "white",
           "landcolor": "#E5ECF6",
           "showlakes": true,
           "showland": true,
           "subunitcolor": "white"
          },
          "hoverlabel": {
           "align": "left"
          },
          "hovermode": "closest",
          "mapbox": {
           "style": "light"
          },
          "paper_bgcolor": "white",
          "plot_bgcolor": "#E5ECF6",
          "polar": {
           "angularaxis": {
            "gridcolor": "white",
            "linecolor": "white",
            "ticks": ""
           },
           "bgcolor": "#E5ECF6",
           "radialaxis": {
            "gridcolor": "white",
            "linecolor": "white",
            "ticks": ""
           }
          },
          "scene": {
           "xaxis": {
            "backgroundcolor": "#E5ECF6",
            "gridcolor": "white",
            "gridwidth": 2,
            "linecolor": "white",
            "showbackground": true,
            "ticks": "",
            "zerolinecolor": "white"
           },
           "yaxis": {
            "backgroundcolor": "#E5ECF6",
            "gridcolor": "white",
            "gridwidth": 2,
            "linecolor": "white",
            "showbackground": true,
            "ticks": "",
            "zerolinecolor": "white"
           },
           "zaxis": {
            "backgroundcolor": "#E5ECF6",
            "gridcolor": "white",
            "gridwidth": 2,
            "linecolor": "white",
            "showbackground": true,
            "ticks": "",
            "zerolinecolor": "white"
           }
          },
          "shapedefaults": {
           "line": {
            "color": "#2a3f5f"
           }
          },
          "ternary": {
           "aaxis": {
            "gridcolor": "white",
            "linecolor": "white",
            "ticks": ""
           },
           "baxis": {
            "gridcolor": "white",
            "linecolor": "white",
            "ticks": ""
           },
           "bgcolor": "#E5ECF6",
           "caxis": {
            "gridcolor": "white",
            "linecolor": "white",
            "ticks": ""
           }
          },
          "title": {
           "x": 0.05
          },
          "xaxis": {
           "automargin": true,
           "gridcolor": "white",
           "linecolor": "white",
           "ticks": "",
           "title": {
            "standoff": 15
           },
           "zerolinecolor": "white",
           "zerolinewidth": 2
          },
          "yaxis": {
           "automargin": true,
           "gridcolor": "white",
           "linecolor": "white",
           "ticks": "",
           "title": {
            "standoff": 15
           },
           "zerolinecolor": "white",
           "zerolinewidth": 2
          }
         }
        },
        "title": {
         "text": "연령대별 건강기능식품 정보 획득처[2022년]",
         "x": 0.5,
         "y": 0.9
        },
        "width": 1500
       }
      }
     },
     "metadata": {},
     "output_type": "display_data"
    }
   ],
   "source": [
    "fig4 = make_subplots(rows=1, cols=3,\n",
    "                   specs=[[{'type': 'domain'}]*3])\n",
    "#20~30대 파이그래프\n",
    "fig4.add_trace(go.Pie(\n",
    "    values=dt_2022_2030.iloc[0,3:].values,\n",
    "    labels=dt_2022_2030.columns[3:],\n",
    "    hole=0.35,\n",
    "    title='20대~30대'\n",
    "), row=1, col=1)\n",
    "# 40~50대 Pie 그래프 추가\n",
    "fig4.add_trace(go.Pie(\n",
    "    values=dt_2022_4050.iloc[0,3:].values,\n",
    "    labels=dt_2022_4050.columns[3:],\n",
    "    hole=0.35,\n",
    "    title='40대~50대'\n",
    "), row=1, col=2)\n",
    "# 40대 Pie 그래프 추가\n",
    "fig4.add_trace(go.Pie(\n",
    "    values=dt_2022_60.iloc[0,3:].values,\n",
    "    labels=dt_2022_60.columns[3:],\n",
    "    hole=0.35,\n",
    "    title='60대 이상'\n",
    "), row=1, col=3)\n",
    "\n",
    "fig4.update_traces(textposition='inside',\n",
    "                  textinfo='label+percent',\n",
    "                  textfont_size=10)\n",
    "\n",
    "# 전체 레이아웃 설정\n",
    "fig4.update_layout(\n",
    "    title='연령대별 건강기능식품 정보 획득처[2022년]',\n",
    "    legend_orientation='h',\n",
    "    title_x=0.5,\n",
    "    title_y=0.9,\n",
    "    width=1500,\n",
    "    height=800\n",
    ")\n",
    "\n",
    "# 그래프 보여주기\n",
    "fig4.show()"
   ]
  }
 ],
 "metadata": {
  "kernelspec": {
   "display_name": "busan_django_kernel",
   "language": "python",
   "name": "busan_django"
  },
  "language_info": {
   "codemirror_mode": {
    "name": "ipython",
    "version": 3
   },
   "file_extension": ".py",
   "mimetype": "text/x-python",
   "name": "python",
   "nbconvert_exporter": "python",
   "pygments_lexer": "ipython3",
   "version": "3.9.16"
  }
 },
 "nbformat": 4,
 "nbformat_minor": 5
}
