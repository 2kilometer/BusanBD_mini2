{
 "cells": [
  {
   "cell_type": "code",
   "execution_count": 2,
   "id": "497301c0",
   "metadata": {},
   "outputs": [],
   "source": [
    "import pandas as pd\n",
    "import matplotlib as plt\n",
    "import plotly.graph_objects as go\n",
    "from plotly.subplots import make_subplots"
   ]
  },
  {
   "cell_type": "markdown",
   "id": "58f3c0c7",
   "metadata": {},
   "source": [
    "### 전처리"
   ]
  },
  {
   "cell_type": "code",
   "execution_count": 3,
   "id": "cf0b1232",
   "metadata": {},
   "outputs": [
    {
     "name": "stderr",
     "output_type": "stream",
     "text": [
      "C:\\Users\\USER\\anaconda3\\envs\\busan_django\\lib\\site-packages\\openpyxl\\styles\\stylesheet.py:226: UserWarning: Workbook contains no default style, apply openpyxl's default\n",
      "  warn(\"Workbook contains no default style, apply openpyxl's default\")\n"
     ]
    }
   ],
   "source": [
    "dt = pd.read_excel(\"../data/건강기능식품_관련_정보_획득처.xlsx\")"
   ]
  },
  {
   "cell_type": "code",
   "execution_count": 5,
   "id": "62ea030b",
   "metadata": {},
   "outputs": [
    {
     "name": "stdout",
     "output_type": "stream",
     "text": [
      "<class 'pandas.core.frame.DataFrame'>\n",
      "RangeIndex: 132 entries, 0 to 131\n",
      "Data columns (total 13 columns):\n",
      " #   Column                 Non-Null Count  Dtype  \n",
      "---  ------                 --------------  -----  \n",
      " 0   특성별(1)                 132 non-null    object \n",
      " 1   특성별(2)                 132 non-null    object \n",
      " 2   시점                     132 non-null    int64  \n",
      " 3   온라인 블로그/까페/커뮤니티의 내용    132 non-null    object \n",
      " 4   SNS정보                  132 non-null    object \n",
      " 5   제품 포장재 설명, 브랜드 등       132 non-null    float64\n",
      " 6   가족/지인/친구 등의 추천         132 non-null    float64\n",
      " 7   TV 및 라디오 프로그램/뉴스/광고    132 non-null    object \n",
      " 8   TV 및 라디오 프로그램/신문잡지 광고  132 non-null    object \n",
      " 9   마트, 백화점 등의 점원 설명       132 non-null    float64\n",
      " 10  약국의 약사 설명              132 non-null    float64\n",
      " 11  홈쇼핑 등에서의 판매 정보         132 non-null    float64\n",
      " 12  기타                     132 non-null    float64\n",
      "dtypes: float64(6), int64(1), object(6)\n",
      "memory usage: 13.5+ KB\n"
     ]
    }
   ],
   "source": [
    "dt.info()"
   ]
  },
  {
   "cell_type": "code",
   "execution_count": 7,
   "id": "f71c0b03",
   "metadata": {},
   "outputs": [],
   "source": [
    "dt_2019=dt[dt['시점'] == 2019]\n",
    "dt_2020=dt[dt['시점'] == 2020]\n",
    "dt_2021=dt[dt['시점'] == 2021]\n",
    "dt_2022=dt[dt['시점'] == 2022]"
   ]
  },
  {
   "cell_type": "code",
   "execution_count": 9,
   "id": "36eb99a1",
   "metadata": {},
   "outputs": [
    {
     "data": {
      "text/html": [
       "<div>\n",
       "<style scoped>\n",
       "    .dataframe tbody tr th:only-of-type {\n",
       "        vertical-align: middle;\n",
       "    }\n",
       "\n",
       "    .dataframe tbody tr th {\n",
       "        vertical-align: top;\n",
       "    }\n",
       "\n",
       "    .dataframe thead th {\n",
       "        text-align: right;\n",
       "    }\n",
       "</style>\n",
       "<table border=\"1\" class=\"dataframe\">\n",
       "  <thead>\n",
       "    <tr style=\"text-align: right;\">\n",
       "      <th></th>\n",
       "      <th>특성별(1)</th>\n",
       "      <th>특성별(2)</th>\n",
       "      <th>시점</th>\n",
       "      <th>온라인 블로그/까페/커뮤니티의 내용</th>\n",
       "      <th>SNS정보</th>\n",
       "      <th>제품 포장재 설명, 브랜드 등</th>\n",
       "      <th>가족/지인/친구 등의 추천</th>\n",
       "      <th>TV 및 라디오 프로그램/뉴스/광고</th>\n",
       "      <th>TV 및 라디오 프로그램/신문잡지 광고</th>\n",
       "      <th>마트, 백화점 등의 점원 설명</th>\n",
       "      <th>약국의 약사 설명</th>\n",
       "      <th>홈쇼핑 등에서의 판매 정보</th>\n",
       "      <th>기타</th>\n",
       "    </tr>\n",
       "  </thead>\n",
       "  <tbody>\n",
       "    <tr>\n",
       "      <th>62</th>\n",
       "      <td>가구주연령별</td>\n",
       "      <td>20대</td>\n",
       "      <td>2019</td>\n",
       "      <td>21.1</td>\n",
       "      <td>-</td>\n",
       "      <td>17.2</td>\n",
       "      <td>32.5</td>\n",
       "      <td>16.1</td>\n",
       "      <td>-</td>\n",
       "      <td>5.5</td>\n",
       "      <td>4.9</td>\n",
       "      <td>2.8</td>\n",
       "      <td>0.0</td>\n",
       "    </tr>\n",
       "  </tbody>\n",
       "</table>\n",
       "</div>"
      ],
      "text/plain": [
       "    특성별(1) 특성별(2)    시점 온라인 블로그/까페/커뮤니티의 내용 SNS정보  제품 포장재 설명, 브랜드 등  \\\n",
       "62  가구주연령별    20대  2019                21.1     -              17.2   \n",
       "\n",
       "    가족/지인/친구 등의 추천 TV 및 라디오 프로그램/뉴스/광고 TV 및 라디오 프로그램/신문잡지 광고  \\\n",
       "62            32.5                16.1                     -   \n",
       "\n",
       "    마트, 백화점 등의 점원 설명  약국의 약사 설명  홈쇼핑 등에서의 판매 정보   기타  \n",
       "62               5.5        4.9             2.8  0.0  "
      ]
     },
     "execution_count": 9,
     "metadata": {},
     "output_type": "execute_result"
    }
   ],
   "source": [
    "dt_2019[dt_2019['특성별(2)']=='20대']"
   ]
  },
  {
   "cell_type": "code",
   "execution_count": null,
   "id": "b90c8641",
   "metadata": {},
   "outputs": [],
   "source": []
  }
 ],
 "metadata": {
  "kernelspec": {
   "display_name": "busan_django_kernel",
   "language": "python",
   "name": "busan_django"
  },
  "language_info": {
   "codemirror_mode": {
    "name": "ipython",
    "version": 3
   },
   "file_extension": ".py",
   "mimetype": "text/x-python",
   "name": "python",
   "nbconvert_exporter": "python",
   "pygments_lexer": "ipython3",
   "version": "3.9.16"
  }
 },
 "nbformat": 4,
 "nbformat_minor": 5
}
