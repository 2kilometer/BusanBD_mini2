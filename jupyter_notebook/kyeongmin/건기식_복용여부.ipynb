{
 "cells": [
  {
   "cell_type": "code",
   "execution_count": 32,
   "metadata": {},
   "outputs": [],
   "source": [
    "import plotly\n",
    "import plotly.graph_objects as go\n",
    "import plotly.express as px\n",
    "from plotly.subplots import make_subplots\n",
    "import pandas as pd"
   ]
  },
  {
   "cell_type": "code",
   "execution_count": 7,
   "metadata": {},
   "outputs": [
    {
     "name": "stderr",
     "output_type": "stream",
     "text": [
      "c:\\Users\\USER\\anaconda3\\envs\\busan_env\\lib\\site-packages\\openpyxl\\styles\\stylesheet.py:226: UserWarning: Workbook contains no default style, apply openpyxl's default\n",
      "  warn(\"Workbook contains no default style, apply openpyxl's default\")\n",
      "C:\\Users\\USER\\AppData\\Local\\Temp\\ipykernel_5880\\458631761.py:2: SettingWithCopyWarning: \n",
      "A value is trying to be set on a copy of a slice from a DataFrame\n",
      "\n",
      "See the caveats in the documentation: https://pandas.pydata.org/pandas-docs/stable/user_guide/indexing.html#returning-a-view-versus-a-copy\n",
      "  df_intake[1:4].fillna(\"먹고 있다\", inplace=True)\n",
      "C:\\Users\\USER\\AppData\\Local\\Temp\\ipykernel_5880\\458631761.py:3: SettingWithCopyWarning: \n",
      "A value is trying to be set on a copy of a slice from a DataFrame\n",
      "\n",
      "See the caveats in the documentation: https://pandas.pydata.org/pandas-docs/stable/user_guide/indexing.html#returning-a-view-versus-a-copy\n",
      "  df_intake[5:8].fillna(\"먹고 있지 않다\", inplace=True)\n"
     ]
    },
    {
     "data": {
      "text/html": [
       "<div>\n",
       "<style scoped>\n",
       "    .dataframe tbody tr th:only-of-type {\n",
       "        vertical-align: middle;\n",
       "    }\n",
       "\n",
       "    .dataframe tbody tr th {\n",
       "        vertical-align: top;\n",
       "    }\n",
       "\n",
       "    .dataframe thead th {\n",
       "        text-align: right;\n",
       "    }\n",
       "</style>\n",
       "<table border=\"1\" class=\"dataframe\">\n",
       "  <thead>\n",
       "    <tr style=\"text-align: right;\">\n",
       "      <th></th>\n",
       "      <th>복용여부별(1)</th>\n",
       "      <th>시점</th>\n",
       "      <th>남성</th>\n",
       "      <th>여성</th>\n",
       "      <th>20대</th>\n",
       "      <th>30대</th>\n",
       "      <th>40대</th>\n",
       "      <th>50대</th>\n",
       "      <th>60대 이상</th>\n",
       "    </tr>\n",
       "  </thead>\n",
       "  <tbody>\n",
       "    <tr>\n",
       "      <th>0</th>\n",
       "      <td>먹고 있다</td>\n",
       "      <td>2019</td>\n",
       "      <td>69.7</td>\n",
       "      <td>70.2</td>\n",
       "      <td>53.1</td>\n",
       "      <td>68.0</td>\n",
       "      <td>74.0</td>\n",
       "      <td>78.5</td>\n",
       "      <td>72.7</td>\n",
       "    </tr>\n",
       "    <tr>\n",
       "      <th>1</th>\n",
       "      <td>먹고 있다</td>\n",
       "      <td>2020</td>\n",
       "      <td>79.5</td>\n",
       "      <td>80.8</td>\n",
       "      <td>65.6</td>\n",
       "      <td>80.2</td>\n",
       "      <td>82.2</td>\n",
       "      <td>85.1</td>\n",
       "      <td>82.9</td>\n",
       "    </tr>\n",
       "    <tr>\n",
       "      <th>2</th>\n",
       "      <td>먹고 있다</td>\n",
       "      <td>2021</td>\n",
       "      <td>80.3</td>\n",
       "      <td>77.8</td>\n",
       "      <td>66.1</td>\n",
       "      <td>72.2</td>\n",
       "      <td>85.1</td>\n",
       "      <td>83.2</td>\n",
       "      <td>80.1</td>\n",
       "    </tr>\n",
       "    <tr>\n",
       "      <th>3</th>\n",
       "      <td>먹고 있다</td>\n",
       "      <td>2022</td>\n",
       "      <td>69.3</td>\n",
       "      <td>74.0</td>\n",
       "      <td>51.6</td>\n",
       "      <td>58.0</td>\n",
       "      <td>71.7</td>\n",
       "      <td>78.1</td>\n",
       "      <td>76.3</td>\n",
       "    </tr>\n",
       "    <tr>\n",
       "      <th>4</th>\n",
       "      <td>먹고 있지 않다</td>\n",
       "      <td>2019</td>\n",
       "      <td>30.3</td>\n",
       "      <td>29.8</td>\n",
       "      <td>46.9</td>\n",
       "      <td>32.0</td>\n",
       "      <td>26.0</td>\n",
       "      <td>21.5</td>\n",
       "      <td>27.3</td>\n",
       "    </tr>\n",
       "    <tr>\n",
       "      <th>5</th>\n",
       "      <td>먹고 있지 않다</td>\n",
       "      <td>2020</td>\n",
       "      <td>20.5</td>\n",
       "      <td>19.2</td>\n",
       "      <td>34.4</td>\n",
       "      <td>19.8</td>\n",
       "      <td>17.8</td>\n",
       "      <td>14.9</td>\n",
       "      <td>17.1</td>\n",
       "    </tr>\n",
       "    <tr>\n",
       "      <th>6</th>\n",
       "      <td>먹고 있지 않다</td>\n",
       "      <td>2021</td>\n",
       "      <td>19.7</td>\n",
       "      <td>22.2</td>\n",
       "      <td>33.9</td>\n",
       "      <td>27.8</td>\n",
       "      <td>14.9</td>\n",
       "      <td>16.8</td>\n",
       "      <td>19.9</td>\n",
       "    </tr>\n",
       "    <tr>\n",
       "      <th>7</th>\n",
       "      <td>먹고 있지 않다</td>\n",
       "      <td>2022</td>\n",
       "      <td>30.7</td>\n",
       "      <td>26.0</td>\n",
       "      <td>48.4</td>\n",
       "      <td>42.0</td>\n",
       "      <td>28.3</td>\n",
       "      <td>21.9</td>\n",
       "      <td>23.7</td>\n",
       "    </tr>\n",
       "  </tbody>\n",
       "</table>\n",
       "</div>"
      ],
      "text/plain": [
       "   복용여부별(1)    시점    남성    여성   20대   30대   40대   50대  60대 이상\n",
       "0     먹고 있다  2019  69.7  70.2  53.1  68.0  74.0  78.5    72.7\n",
       "1     먹고 있다  2020  79.5  80.8  65.6  80.2  82.2  85.1    82.9\n",
       "2     먹고 있다  2021  80.3  77.8  66.1  72.2  85.1  83.2    80.1\n",
       "3     먹고 있다  2022  69.3  74.0  51.6  58.0  71.7  78.1    76.3\n",
       "4  먹고 있지 않다  2019  30.3  29.8  46.9  32.0  26.0  21.5    27.3\n",
       "5  먹고 있지 않다  2020  20.5  19.2  34.4  19.8  17.8  14.9    17.1\n",
       "6  먹고 있지 않다  2021  19.7  22.2  33.9  27.8  14.9  16.8    19.9\n",
       "7  먹고 있지 않다  2022  30.7  26.0  48.4  42.0  28.3  21.9    23.7"
      ]
     },
     "execution_count": 7,
     "metadata": {},
     "output_type": "execute_result"
    }
   ],
   "source": [
    "df_intake = pd.read_excel(\"../data/현재_건강기능식품_복용_여부_2018_2022.xlsx\", header=1, usecols=\"A:B, R:X\")\n",
    "df_intake[1:4].fillna(\"먹고 있다\", inplace=True)\n",
    "df_intake[5:8].fillna(\"먹고 있지 않다\", inplace=True)\n",
    "df_intake"
   ]
  },
  {
   "cell_type": "markdown",
   "metadata": {},
   "source": [
    "# 연도별 성별 건강기능식품 복용여부 추이"
   ]
  },
  {
   "cell_type": "code",
   "execution_count": 47,
   "metadata": {},
   "outputs": [
    {
     "data": {
      "application/vnd.plotly.v1+json": {
       "config": {
        "plotlyServerURL": "https://plot.ly"
       },
       "data": [
        {
         "orientation": "h",
         "type": "bar",
         "x": [
          69.7,
          79.5,
          80.3,
          69.3
         ],
         "xaxis": "x",
         "y": [
          2019,
          2020,
          2021,
          2022
         ],
         "yaxis": "y"
        },
        {
         "orientation": "h",
         "type": "bar",
         "x": [
          30.3,
          20.5,
          19.7,
          30.7
         ],
         "xaxis": "x",
         "y": [
          2019,
          2020,
          2021,
          2022
         ],
         "yaxis": "y"
        },
        {
         "orientation": "h",
         "type": "bar",
         "x": [
          70.2,
          80.8,
          77.8,
          74
         ],
         "xaxis": "x2",
         "y": [
          2019,
          2020,
          2021,
          2022
         ],
         "yaxis": "y2"
        },
        {
         "orientation": "h",
         "type": "bar",
         "x": [
          29.8,
          19.2,
          22.2,
          26
         ],
         "xaxis": "x2",
         "y": [
          2019,
          2020,
          2021,
          2022
         ],
         "yaxis": "y2"
        }
       ],
       "layout": {
        "annotations": [
         {
          "font": {
           "size": 16
          },
          "showarrow": false,
          "text": "남성 건강기능식품 복용여부 추이",
          "x": 0.5,
          "xanchor": "center",
          "xref": "paper",
          "y": 1,
          "yanchor": "bottom",
          "yref": "paper"
         },
         {
          "font": {
           "size": 16
          },
          "showarrow": false,
          "text": "여성 건강기능식품 복용여부 추이",
          "x": 0.5,
          "xanchor": "center",
          "xref": "paper",
          "y": 0.375,
          "yanchor": "bottom",
          "yref": "paper"
         }
        ],
        "barmode": "relative",
        "showlegend": false,
        "template": {
         "data": {
          "bar": [
           {
            "error_x": {
             "color": "#2a3f5f"
            },
            "error_y": {
             "color": "#2a3f5f"
            },
            "marker": {
             "line": {
              "color": "#E5ECF6",
              "width": 0.5
             },
             "pattern": {
              "fillmode": "overlay",
              "size": 10,
              "solidity": 0.2
             }
            },
            "type": "bar"
           }
          ],
          "barpolar": [
           {
            "marker": {
             "line": {
              "color": "#E5ECF6",
              "width": 0.5
             },
             "pattern": {
              "fillmode": "overlay",
              "size": 10,
              "solidity": 0.2
             }
            },
            "type": "barpolar"
           }
          ],
          "carpet": [
           {
            "aaxis": {
             "endlinecolor": "#2a3f5f",
             "gridcolor": "white",
             "linecolor": "white",
             "minorgridcolor": "white",
             "startlinecolor": "#2a3f5f"
            },
            "baxis": {
             "endlinecolor": "#2a3f5f",
             "gridcolor": "white",
             "linecolor": "white",
             "minorgridcolor": "white",
             "startlinecolor": "#2a3f5f"
            },
            "type": "carpet"
           }
          ],
          "choropleth": [
           {
            "colorbar": {
             "outlinewidth": 0,
             "ticks": ""
            },
            "type": "choropleth"
           }
          ],
          "contour": [
           {
            "colorbar": {
             "outlinewidth": 0,
             "ticks": ""
            },
            "colorscale": [
             [
              0,
              "#0d0887"
             ],
             [
              0.1111111111111111,
              "#46039f"
             ],
             [
              0.2222222222222222,
              "#7201a8"
             ],
             [
              0.3333333333333333,
              "#9c179e"
             ],
             [
              0.4444444444444444,
              "#bd3786"
             ],
             [
              0.5555555555555556,
              "#d8576b"
             ],
             [
              0.6666666666666666,
              "#ed7953"
             ],
             [
              0.7777777777777778,
              "#fb9f3a"
             ],
             [
              0.8888888888888888,
              "#fdca26"
             ],
             [
              1,
              "#f0f921"
             ]
            ],
            "type": "contour"
           }
          ],
          "contourcarpet": [
           {
            "colorbar": {
             "outlinewidth": 0,
             "ticks": ""
            },
            "type": "contourcarpet"
           }
          ],
          "heatmap": [
           {
            "colorbar": {
             "outlinewidth": 0,
             "ticks": ""
            },
            "colorscale": [
             [
              0,
              "#0d0887"
             ],
             [
              0.1111111111111111,
              "#46039f"
             ],
             [
              0.2222222222222222,
              "#7201a8"
             ],
             [
              0.3333333333333333,
              "#9c179e"
             ],
             [
              0.4444444444444444,
              "#bd3786"
             ],
             [
              0.5555555555555556,
              "#d8576b"
             ],
             [
              0.6666666666666666,
              "#ed7953"
             ],
             [
              0.7777777777777778,
              "#fb9f3a"
             ],
             [
              0.8888888888888888,
              "#fdca26"
             ],
             [
              1,
              "#f0f921"
             ]
            ],
            "type": "heatmap"
           }
          ],
          "heatmapgl": [
           {
            "colorbar": {
             "outlinewidth": 0,
             "ticks": ""
            },
            "colorscale": [
             [
              0,
              "#0d0887"
             ],
             [
              0.1111111111111111,
              "#46039f"
             ],
             [
              0.2222222222222222,
              "#7201a8"
             ],
             [
              0.3333333333333333,
              "#9c179e"
             ],
             [
              0.4444444444444444,
              "#bd3786"
             ],
             [
              0.5555555555555556,
              "#d8576b"
             ],
             [
              0.6666666666666666,
              "#ed7953"
             ],
             [
              0.7777777777777778,
              "#fb9f3a"
             ],
             [
              0.8888888888888888,
              "#fdca26"
             ],
             [
              1,
              "#f0f921"
             ]
            ],
            "type": "heatmapgl"
           }
          ],
          "histogram": [
           {
            "marker": {
             "pattern": {
              "fillmode": "overlay",
              "size": 10,
              "solidity": 0.2
             }
            },
            "type": "histogram"
           }
          ],
          "histogram2d": [
           {
            "colorbar": {
             "outlinewidth": 0,
             "ticks": ""
            },
            "colorscale": [
             [
              0,
              "#0d0887"
             ],
             [
              0.1111111111111111,
              "#46039f"
             ],
             [
              0.2222222222222222,
              "#7201a8"
             ],
             [
              0.3333333333333333,
              "#9c179e"
             ],
             [
              0.4444444444444444,
              "#bd3786"
             ],
             [
              0.5555555555555556,
              "#d8576b"
             ],
             [
              0.6666666666666666,
              "#ed7953"
             ],
             [
              0.7777777777777778,
              "#fb9f3a"
             ],
             [
              0.8888888888888888,
              "#fdca26"
             ],
             [
              1,
              "#f0f921"
             ]
            ],
            "type": "histogram2d"
           }
          ],
          "histogram2dcontour": [
           {
            "colorbar": {
             "outlinewidth": 0,
             "ticks": ""
            },
            "colorscale": [
             [
              0,
              "#0d0887"
             ],
             [
              0.1111111111111111,
              "#46039f"
             ],
             [
              0.2222222222222222,
              "#7201a8"
             ],
             [
              0.3333333333333333,
              "#9c179e"
             ],
             [
              0.4444444444444444,
              "#bd3786"
             ],
             [
              0.5555555555555556,
              "#d8576b"
             ],
             [
              0.6666666666666666,
              "#ed7953"
             ],
             [
              0.7777777777777778,
              "#fb9f3a"
             ],
             [
              0.8888888888888888,
              "#fdca26"
             ],
             [
              1,
              "#f0f921"
             ]
            ],
            "type": "histogram2dcontour"
           }
          ],
          "mesh3d": [
           {
            "colorbar": {
             "outlinewidth": 0,
             "ticks": ""
            },
            "type": "mesh3d"
           }
          ],
          "parcoords": [
           {
            "line": {
             "colorbar": {
              "outlinewidth": 0,
              "ticks": ""
             }
            },
            "type": "parcoords"
           }
          ],
          "pie": [
           {
            "automargin": true,
            "type": "pie"
           }
          ],
          "scatter": [
           {
            "fillpattern": {
             "fillmode": "overlay",
             "size": 10,
             "solidity": 0.2
            },
            "type": "scatter"
           }
          ],
          "scatter3d": [
           {
            "line": {
             "colorbar": {
              "outlinewidth": 0,
              "ticks": ""
             }
            },
            "marker": {
             "colorbar": {
              "outlinewidth": 0,
              "ticks": ""
             }
            },
            "type": "scatter3d"
           }
          ],
          "scattercarpet": [
           {
            "marker": {
             "colorbar": {
              "outlinewidth": 0,
              "ticks": ""
             }
            },
            "type": "scattercarpet"
           }
          ],
          "scattergeo": [
           {
            "marker": {
             "colorbar": {
              "outlinewidth": 0,
              "ticks": ""
             }
            },
            "type": "scattergeo"
           }
          ],
          "scattergl": [
           {
            "marker": {
             "colorbar": {
              "outlinewidth": 0,
              "ticks": ""
             }
            },
            "type": "scattergl"
           }
          ],
          "scattermapbox": [
           {
            "marker": {
             "colorbar": {
              "outlinewidth": 0,
              "ticks": ""
             }
            },
            "type": "scattermapbox"
           }
          ],
          "scatterpolar": [
           {
            "marker": {
             "colorbar": {
              "outlinewidth": 0,
              "ticks": ""
             }
            },
            "type": "scatterpolar"
           }
          ],
          "scatterpolargl": [
           {
            "marker": {
             "colorbar": {
              "outlinewidth": 0,
              "ticks": ""
             }
            },
            "type": "scatterpolargl"
           }
          ],
          "scatterternary": [
           {
            "marker": {
             "colorbar": {
              "outlinewidth": 0,
              "ticks": ""
             }
            },
            "type": "scatterternary"
           }
          ],
          "surface": [
           {
            "colorbar": {
             "outlinewidth": 0,
             "ticks": ""
            },
            "colorscale": [
             [
              0,
              "#0d0887"
             ],
             [
              0.1111111111111111,
              "#46039f"
             ],
             [
              0.2222222222222222,
              "#7201a8"
             ],
             [
              0.3333333333333333,
              "#9c179e"
             ],
             [
              0.4444444444444444,
              "#bd3786"
             ],
             [
              0.5555555555555556,
              "#d8576b"
             ],
             [
              0.6666666666666666,
              "#ed7953"
             ],
             [
              0.7777777777777778,
              "#fb9f3a"
             ],
             [
              0.8888888888888888,
              "#fdca26"
             ],
             [
              1,
              "#f0f921"
             ]
            ],
            "type": "surface"
           }
          ],
          "table": [
           {
            "cells": {
             "fill": {
              "color": "#EBF0F8"
             },
             "line": {
              "color": "white"
             }
            },
            "header": {
             "fill": {
              "color": "#C8D4E3"
             },
             "line": {
              "color": "white"
             }
            },
            "type": "table"
           }
          ]
         },
         "layout": {
          "annotationdefaults": {
           "arrowcolor": "#2a3f5f",
           "arrowhead": 0,
           "arrowwidth": 1
          },
          "autotypenumbers": "strict",
          "coloraxis": {
           "colorbar": {
            "outlinewidth": 0,
            "ticks": ""
           }
          },
          "colorscale": {
           "diverging": [
            [
             0,
             "#8e0152"
            ],
            [
             0.1,
             "#c51b7d"
            ],
            [
             0.2,
             "#de77ae"
            ],
            [
             0.3,
             "#f1b6da"
            ],
            [
             0.4,
             "#fde0ef"
            ],
            [
             0.5,
             "#f7f7f7"
            ],
            [
             0.6,
             "#e6f5d0"
            ],
            [
             0.7,
             "#b8e186"
            ],
            [
             0.8,
             "#7fbc41"
            ],
            [
             0.9,
             "#4d9221"
            ],
            [
             1,
             "#276419"
            ]
           ],
           "sequential": [
            [
             0,
             "#0d0887"
            ],
            [
             0.1111111111111111,
             "#46039f"
            ],
            [
             0.2222222222222222,
             "#7201a8"
            ],
            [
             0.3333333333333333,
             "#9c179e"
            ],
            [
             0.4444444444444444,
             "#bd3786"
            ],
            [
             0.5555555555555556,
             "#d8576b"
            ],
            [
             0.6666666666666666,
             "#ed7953"
            ],
            [
             0.7777777777777778,
             "#fb9f3a"
            ],
            [
             0.8888888888888888,
             "#fdca26"
            ],
            [
             1,
             "#f0f921"
            ]
           ],
           "sequentialminus": [
            [
             0,
             "#0d0887"
            ],
            [
             0.1111111111111111,
             "#46039f"
            ],
            [
             0.2222222222222222,
             "#7201a8"
            ],
            [
             0.3333333333333333,
             "#9c179e"
            ],
            [
             0.4444444444444444,
             "#bd3786"
            ],
            [
             0.5555555555555556,
             "#d8576b"
            ],
            [
             0.6666666666666666,
             "#ed7953"
            ],
            [
             0.7777777777777778,
             "#fb9f3a"
            ],
            [
             0.8888888888888888,
             "#fdca26"
            ],
            [
             1,
             "#f0f921"
            ]
           ]
          },
          "colorway": [
           "#636efa",
           "#EF553B",
           "#00cc96",
           "#ab63fa",
           "#FFA15A",
           "#19d3f3",
           "#FF6692",
           "#B6E880",
           "#FF97FF",
           "#FECB52"
          ],
          "font": {
           "color": "#2a3f5f"
          },
          "geo": {
           "bgcolor": "white",
           "lakecolor": "white",
           "landcolor": "#E5ECF6",
           "showlakes": true,
           "showland": true,
           "subunitcolor": "white"
          },
          "hoverlabel": {
           "align": "left"
          },
          "hovermode": "closest",
          "mapbox": {
           "style": "light"
          },
          "paper_bgcolor": "white",
          "plot_bgcolor": "#E5ECF6",
          "polar": {
           "angularaxis": {
            "gridcolor": "white",
            "linecolor": "white",
            "ticks": ""
           },
           "bgcolor": "#E5ECF6",
           "radialaxis": {
            "gridcolor": "white",
            "linecolor": "white",
            "ticks": ""
           }
          },
          "scene": {
           "xaxis": {
            "backgroundcolor": "#E5ECF6",
            "gridcolor": "white",
            "gridwidth": 2,
            "linecolor": "white",
            "showbackground": true,
            "ticks": "",
            "zerolinecolor": "white"
           },
           "yaxis": {
            "backgroundcolor": "#E5ECF6",
            "gridcolor": "white",
            "gridwidth": 2,
            "linecolor": "white",
            "showbackground": true,
            "ticks": "",
            "zerolinecolor": "white"
           },
           "zaxis": {
            "backgroundcolor": "#E5ECF6",
            "gridcolor": "white",
            "gridwidth": 2,
            "linecolor": "white",
            "showbackground": true,
            "ticks": "",
            "zerolinecolor": "white"
           }
          },
          "shapedefaults": {
           "line": {
            "color": "#2a3f5f"
           }
          },
          "ternary": {
           "aaxis": {
            "gridcolor": "white",
            "linecolor": "white",
            "ticks": ""
           },
           "baxis": {
            "gridcolor": "white",
            "linecolor": "white",
            "ticks": ""
           },
           "bgcolor": "#E5ECF6",
           "caxis": {
            "gridcolor": "white",
            "linecolor": "white",
            "ticks": ""
           }
          },
          "title": {
           "x": 0.05
          },
          "xaxis": {
           "automargin": true,
           "gridcolor": "white",
           "linecolor": "white",
           "ticks": "",
           "title": {
            "standoff": 15
           },
           "zerolinecolor": "white",
           "zerolinewidth": 2
          },
          "yaxis": {
           "automargin": true,
           "gridcolor": "white",
           "linecolor": "white",
           "ticks": "",
           "title": {
            "standoff": 15
           },
           "zerolinecolor": "white",
           "zerolinewidth": 2
          }
         }
        },
        "title": {
         "text": "연도별 성별 건강기능식품 복용여부 추이"
        },
        "xaxis": {
         "anchor": "y",
         "domain": [
          0,
          1
         ]
        },
        "xaxis2": {
         "anchor": "y2",
         "domain": [
          0,
          1
         ]
        },
        "yaxis": {
         "anchor": "x",
         "domain": [
          0.625,
          1
         ]
        },
        "yaxis2": {
         "anchor": "x2",
         "domain": [
          0,
          0.375
         ]
        }
       }
      }
     },
     "metadata": {},
     "output_type": "display_data"
    }
   ],
   "source": [
    "### 연도별 성별 건강기능식품 복용여부 추이\n",
    "fig = make_subplots(rows= 2, cols= 1,\n",
    "                    subplot_titles=(\"남성 건강기능식품 복용여부 추이\", \"여성 건강기능식품 복용여부 추이\"))\n",
    "\n",
    "# - 남성 건강기능식품 복용여부 추이\n",
    "fig.add_trace(go.Bar(x=df_intake.groupby(\"복용여부별(1)\").get_group(\"먹고 있다\")[\"남성\"].values,\n",
    "                     y=df_intake[\"시점\"][:4].values, orientation='h'),\n",
    "                     row=1, col=1)\n",
    "fig.add_trace(go.Bar(x=df_intake.groupby(\"복용여부별(1)\").get_group(\"먹고 있지 않다\")[\"남성\"].values,\n",
    "                     y=df_intake[\"시점\"][:4].values, orientation='h'),\n",
    "                     row=1, col=1)\n",
    "\n",
    "# - 여성 건강기능식품 복용여부 추이\n",
    "fig.add_trace(go.Bar(x=df_intake.groupby(\"복용여부별(1)\").get_group(\"먹고 있다\")[\"여성\"].values,\n",
    "                     y=df_intake[\"시점\"][:4].values, orientation='h'),\n",
    "                     row=2, col=1)\n",
    "fig.add_trace(go.Bar(x=df_intake.groupby(\"복용여부별(1)\").get_group(\"먹고 있지 않다\")[\"여성\"].values,\n",
    "                     y=df_intake[\"시점\"][:4].values, orientation='h'),\n",
    "                     row=2, col=1)\n",
    "\n",
    "fig.update_layout(title_text=\"연도별 성별 건강기능식품 복용여부 추이\",\n",
    "                  barmode=\"relative\", showlegend=False)\n",
    "\n",
    "fig.show()\n"
   ]
  },
  {
   "cell_type": "markdown",
   "metadata": {},
   "source": [
    "# 연도별 연령대별 건강기능식품 복용여부 추이"
   ]
  },
  {
   "cell_type": "code",
   "execution_count": 69,
   "metadata": {},
   "outputs": [
    {
     "data": {
      "application/vnd.plotly.v1+json": {
       "config": {
        "plotlyServerURL": "https://plot.ly"
       },
       "data": [
        {
         "orientation": "h",
         "type": "bar",
         "x": [
          53.1,
          65.6,
          66.1,
          51.6
         ],
         "xaxis": "x",
         "y": [
          2019,
          2020,
          2021,
          2022
         ],
         "yaxis": "y"
        },
        {
         "orientation": "h",
         "type": "bar",
         "x": [
          46.9,
          34.4,
          33.9,
          48.4
         ],
         "xaxis": "x",
         "y": [
          2019,
          2020,
          2021,
          2022
         ],
         "yaxis": "y"
        },
        {
         "orientation": "h",
         "type": "bar",
         "x": [
          68,
          80.2,
          72.2,
          58
         ],
         "xaxis": "x2",
         "y": [
          2019,
          2020,
          2021,
          2022
         ],
         "yaxis": "y2"
        },
        {
         "orientation": "h",
         "type": "bar",
         "x": [
          32,
          19.8,
          27.8,
          42
         ],
         "xaxis": "x2",
         "y": [
          2019,
          2020,
          2021,
          2022
         ],
         "yaxis": "y2"
        },
        {
         "orientation": "h",
         "type": "bar",
         "x": [
          74,
          82.2,
          85.1,
          71.7
         ],
         "xaxis": "x3",
         "y": [
          2019,
          2020,
          2021,
          2022
         ],
         "yaxis": "y3"
        },
        {
         "orientation": "h",
         "type": "bar",
         "x": [
          26,
          17.8,
          14.9,
          28.3
         ],
         "xaxis": "x3",
         "y": [
          2019,
          2020,
          2021,
          2022
         ],
         "yaxis": "y3"
        },
        {
         "orientation": "h",
         "type": "bar",
         "x": [
          78.5,
          85.1,
          83.2,
          78.1
         ],
         "xaxis": "x4",
         "y": [
          2019,
          2020,
          2021,
          2022
         ],
         "yaxis": "y4"
        },
        {
         "orientation": "h",
         "type": "bar",
         "x": [
          21.5,
          14.9,
          16.8,
          21.9
         ],
         "xaxis": "x4",
         "y": [
          2019,
          2020,
          2021,
          2022
         ],
         "yaxis": "y4"
        },
        {
         "orientation": "h",
         "type": "bar",
         "x": [
          72.7,
          82.9,
          80.1,
          76.3
         ],
         "xaxis": "x5",
         "y": [
          2019,
          2020,
          2021,
          2022
         ],
         "yaxis": "y5"
        },
        {
         "orientation": "h",
         "type": "bar",
         "x": [
          27.3,
          17.1,
          19.9,
          23.7
         ],
         "xaxis": "x5",
         "y": [
          2019,
          2020,
          2021,
          2022
         ],
         "yaxis": "y5"
        }
       ],
       "layout": {
        "annotations": [
         {
          "font": {
           "size": 16
          },
          "showarrow": false,
          "text": "20대 건강기능식품 복용여부 추이",
          "x": 0.14444444444444446,
          "xanchor": "center",
          "xref": "paper",
          "y": 1,
          "yanchor": "bottom",
          "yref": "paper"
         },
         {
          "font": {
           "size": 16
          },
          "showarrow": false,
          "text": "30대 건강기능식품 복용여부 추이",
          "x": 0.5,
          "xanchor": "center",
          "xref": "paper",
          "y": 1,
          "yanchor": "bottom",
          "yref": "paper"
         },
         {
          "font": {
           "size": 16
          },
          "showarrow": false,
          "text": "40대 건강기능식품 복용여부 추이",
          "x": 0.8555555555555556,
          "xanchor": "center",
          "xref": "paper",
          "y": 1,
          "yanchor": "bottom",
          "yref": "paper"
         },
         {
          "font": {
           "size": 16
          },
          "showarrow": false,
          "text": "50대 건강기능식품 복용여부 추이",
          "x": 0.14444444444444446,
          "xanchor": "center",
          "xref": "paper",
          "y": 0.375,
          "yanchor": "bottom",
          "yref": "paper"
         },
         {
          "font": {
           "size": 16
          },
          "showarrow": false,
          "text": "60대 이상 건강기능식품 복용여부 추이",
          "x": 0.5,
          "xanchor": "center",
          "xref": "paper",
          "y": 0.375,
          "yanchor": "bottom",
          "yref": "paper"
         }
        ],
        "barmode": "relative",
        "showlegend": false,
        "template": {
         "data": {
          "bar": [
           {
            "error_x": {
             "color": "#2a3f5f"
            },
            "error_y": {
             "color": "#2a3f5f"
            },
            "marker": {
             "line": {
              "color": "#E5ECF6",
              "width": 0.5
             },
             "pattern": {
              "fillmode": "overlay",
              "size": 10,
              "solidity": 0.2
             }
            },
            "type": "bar"
           }
          ],
          "barpolar": [
           {
            "marker": {
             "line": {
              "color": "#E5ECF6",
              "width": 0.5
             },
             "pattern": {
              "fillmode": "overlay",
              "size": 10,
              "solidity": 0.2
             }
            },
            "type": "barpolar"
           }
          ],
          "carpet": [
           {
            "aaxis": {
             "endlinecolor": "#2a3f5f",
             "gridcolor": "white",
             "linecolor": "white",
             "minorgridcolor": "white",
             "startlinecolor": "#2a3f5f"
            },
            "baxis": {
             "endlinecolor": "#2a3f5f",
             "gridcolor": "white",
             "linecolor": "white",
             "minorgridcolor": "white",
             "startlinecolor": "#2a3f5f"
            },
            "type": "carpet"
           }
          ],
          "choropleth": [
           {
            "colorbar": {
             "outlinewidth": 0,
             "ticks": ""
            },
            "type": "choropleth"
           }
          ],
          "contour": [
           {
            "colorbar": {
             "outlinewidth": 0,
             "ticks": ""
            },
            "colorscale": [
             [
              0,
              "#0d0887"
             ],
             [
              0.1111111111111111,
              "#46039f"
             ],
             [
              0.2222222222222222,
              "#7201a8"
             ],
             [
              0.3333333333333333,
              "#9c179e"
             ],
             [
              0.4444444444444444,
              "#bd3786"
             ],
             [
              0.5555555555555556,
              "#d8576b"
             ],
             [
              0.6666666666666666,
              "#ed7953"
             ],
             [
              0.7777777777777778,
              "#fb9f3a"
             ],
             [
              0.8888888888888888,
              "#fdca26"
             ],
             [
              1,
              "#f0f921"
             ]
            ],
            "type": "contour"
           }
          ],
          "contourcarpet": [
           {
            "colorbar": {
             "outlinewidth": 0,
             "ticks": ""
            },
            "type": "contourcarpet"
           }
          ],
          "heatmap": [
           {
            "colorbar": {
             "outlinewidth": 0,
             "ticks": ""
            },
            "colorscale": [
             [
              0,
              "#0d0887"
             ],
             [
              0.1111111111111111,
              "#46039f"
             ],
             [
              0.2222222222222222,
              "#7201a8"
             ],
             [
              0.3333333333333333,
              "#9c179e"
             ],
             [
              0.4444444444444444,
              "#bd3786"
             ],
             [
              0.5555555555555556,
              "#d8576b"
             ],
             [
              0.6666666666666666,
              "#ed7953"
             ],
             [
              0.7777777777777778,
              "#fb9f3a"
             ],
             [
              0.8888888888888888,
              "#fdca26"
             ],
             [
              1,
              "#f0f921"
             ]
            ],
            "type": "heatmap"
           }
          ],
          "heatmapgl": [
           {
            "colorbar": {
             "outlinewidth": 0,
             "ticks": ""
            },
            "colorscale": [
             [
              0,
              "#0d0887"
             ],
             [
              0.1111111111111111,
              "#46039f"
             ],
             [
              0.2222222222222222,
              "#7201a8"
             ],
             [
              0.3333333333333333,
              "#9c179e"
             ],
             [
              0.4444444444444444,
              "#bd3786"
             ],
             [
              0.5555555555555556,
              "#d8576b"
             ],
             [
              0.6666666666666666,
              "#ed7953"
             ],
             [
              0.7777777777777778,
              "#fb9f3a"
             ],
             [
              0.8888888888888888,
              "#fdca26"
             ],
             [
              1,
              "#f0f921"
             ]
            ],
            "type": "heatmapgl"
           }
          ],
          "histogram": [
           {
            "marker": {
             "pattern": {
              "fillmode": "overlay",
              "size": 10,
              "solidity": 0.2
             }
            },
            "type": "histogram"
           }
          ],
          "histogram2d": [
           {
            "colorbar": {
             "outlinewidth": 0,
             "ticks": ""
            },
            "colorscale": [
             [
              0,
              "#0d0887"
             ],
             [
              0.1111111111111111,
              "#46039f"
             ],
             [
              0.2222222222222222,
              "#7201a8"
             ],
             [
              0.3333333333333333,
              "#9c179e"
             ],
             [
              0.4444444444444444,
              "#bd3786"
             ],
             [
              0.5555555555555556,
              "#d8576b"
             ],
             [
              0.6666666666666666,
              "#ed7953"
             ],
             [
              0.7777777777777778,
              "#fb9f3a"
             ],
             [
              0.8888888888888888,
              "#fdca26"
             ],
             [
              1,
              "#f0f921"
             ]
            ],
            "type": "histogram2d"
           }
          ],
          "histogram2dcontour": [
           {
            "colorbar": {
             "outlinewidth": 0,
             "ticks": ""
            },
            "colorscale": [
             [
              0,
              "#0d0887"
             ],
             [
              0.1111111111111111,
              "#46039f"
             ],
             [
              0.2222222222222222,
              "#7201a8"
             ],
             [
              0.3333333333333333,
              "#9c179e"
             ],
             [
              0.4444444444444444,
              "#bd3786"
             ],
             [
              0.5555555555555556,
              "#d8576b"
             ],
             [
              0.6666666666666666,
              "#ed7953"
             ],
             [
              0.7777777777777778,
              "#fb9f3a"
             ],
             [
              0.8888888888888888,
              "#fdca26"
             ],
             [
              1,
              "#f0f921"
             ]
            ],
            "type": "histogram2dcontour"
           }
          ],
          "mesh3d": [
           {
            "colorbar": {
             "outlinewidth": 0,
             "ticks": ""
            },
            "type": "mesh3d"
           }
          ],
          "parcoords": [
           {
            "line": {
             "colorbar": {
              "outlinewidth": 0,
              "ticks": ""
             }
            },
            "type": "parcoords"
           }
          ],
          "pie": [
           {
            "automargin": true,
            "type": "pie"
           }
          ],
          "scatter": [
           {
            "fillpattern": {
             "fillmode": "overlay",
             "size": 10,
             "solidity": 0.2
            },
            "type": "scatter"
           }
          ],
          "scatter3d": [
           {
            "line": {
             "colorbar": {
              "outlinewidth": 0,
              "ticks": ""
             }
            },
            "marker": {
             "colorbar": {
              "outlinewidth": 0,
              "ticks": ""
             }
            },
            "type": "scatter3d"
           }
          ],
          "scattercarpet": [
           {
            "marker": {
             "colorbar": {
              "outlinewidth": 0,
              "ticks": ""
             }
            },
            "type": "scattercarpet"
           }
          ],
          "scattergeo": [
           {
            "marker": {
             "colorbar": {
              "outlinewidth": 0,
              "ticks": ""
             }
            },
            "type": "scattergeo"
           }
          ],
          "scattergl": [
           {
            "marker": {
             "colorbar": {
              "outlinewidth": 0,
              "ticks": ""
             }
            },
            "type": "scattergl"
           }
          ],
          "scattermapbox": [
           {
            "marker": {
             "colorbar": {
              "outlinewidth": 0,
              "ticks": ""
             }
            },
            "type": "scattermapbox"
           }
          ],
          "scatterpolar": [
           {
            "marker": {
             "colorbar": {
              "outlinewidth": 0,
              "ticks": ""
             }
            },
            "type": "scatterpolar"
           }
          ],
          "scatterpolargl": [
           {
            "marker": {
             "colorbar": {
              "outlinewidth": 0,
              "ticks": ""
             }
            },
            "type": "scatterpolargl"
           }
          ],
          "scatterternary": [
           {
            "marker": {
             "colorbar": {
              "outlinewidth": 0,
              "ticks": ""
             }
            },
            "type": "scatterternary"
           }
          ],
          "surface": [
           {
            "colorbar": {
             "outlinewidth": 0,
             "ticks": ""
            },
            "colorscale": [
             [
              0,
              "#0d0887"
             ],
             [
              0.1111111111111111,
              "#46039f"
             ],
             [
              0.2222222222222222,
              "#7201a8"
             ],
             [
              0.3333333333333333,
              "#9c179e"
             ],
             [
              0.4444444444444444,
              "#bd3786"
             ],
             [
              0.5555555555555556,
              "#d8576b"
             ],
             [
              0.6666666666666666,
              "#ed7953"
             ],
             [
              0.7777777777777778,
              "#fb9f3a"
             ],
             [
              0.8888888888888888,
              "#fdca26"
             ],
             [
              1,
              "#f0f921"
             ]
            ],
            "type": "surface"
           }
          ],
          "table": [
           {
            "cells": {
             "fill": {
              "color": "#EBF0F8"
             },
             "line": {
              "color": "white"
             }
            },
            "header": {
             "fill": {
              "color": "#C8D4E3"
             },
             "line": {
              "color": "white"
             }
            },
            "type": "table"
           }
          ]
         },
         "layout": {
          "annotationdefaults": {
           "arrowcolor": "#2a3f5f",
           "arrowhead": 0,
           "arrowwidth": 1
          },
          "autotypenumbers": "strict",
          "coloraxis": {
           "colorbar": {
            "outlinewidth": 0,
            "ticks": ""
           }
          },
          "colorscale": {
           "diverging": [
            [
             0,
             "#8e0152"
            ],
            [
             0.1,
             "#c51b7d"
            ],
            [
             0.2,
             "#de77ae"
            ],
            [
             0.3,
             "#f1b6da"
            ],
            [
             0.4,
             "#fde0ef"
            ],
            [
             0.5,
             "#f7f7f7"
            ],
            [
             0.6,
             "#e6f5d0"
            ],
            [
             0.7,
             "#b8e186"
            ],
            [
             0.8,
             "#7fbc41"
            ],
            [
             0.9,
             "#4d9221"
            ],
            [
             1,
             "#276419"
            ]
           ],
           "sequential": [
            [
             0,
             "#0d0887"
            ],
            [
             0.1111111111111111,
             "#46039f"
            ],
            [
             0.2222222222222222,
             "#7201a8"
            ],
            [
             0.3333333333333333,
             "#9c179e"
            ],
            [
             0.4444444444444444,
             "#bd3786"
            ],
            [
             0.5555555555555556,
             "#d8576b"
            ],
            [
             0.6666666666666666,
             "#ed7953"
            ],
            [
             0.7777777777777778,
             "#fb9f3a"
            ],
            [
             0.8888888888888888,
             "#fdca26"
            ],
            [
             1,
             "#f0f921"
            ]
           ],
           "sequentialminus": [
            [
             0,
             "#0d0887"
            ],
            [
             0.1111111111111111,
             "#46039f"
            ],
            [
             0.2222222222222222,
             "#7201a8"
            ],
            [
             0.3333333333333333,
             "#9c179e"
            ],
            [
             0.4444444444444444,
             "#bd3786"
            ],
            [
             0.5555555555555556,
             "#d8576b"
            ],
            [
             0.6666666666666666,
             "#ed7953"
            ],
            [
             0.7777777777777778,
             "#fb9f3a"
            ],
            [
             0.8888888888888888,
             "#fdca26"
            ],
            [
             1,
             "#f0f921"
            ]
           ]
          },
          "colorway": [
           "#636efa",
           "#EF553B",
           "#00cc96",
           "#ab63fa",
           "#FFA15A",
           "#19d3f3",
           "#FF6692",
           "#B6E880",
           "#FF97FF",
           "#FECB52"
          ],
          "font": {
           "color": "#2a3f5f"
          },
          "geo": {
           "bgcolor": "white",
           "lakecolor": "white",
           "landcolor": "#E5ECF6",
           "showlakes": true,
           "showland": true,
           "subunitcolor": "white"
          },
          "hoverlabel": {
           "align": "left"
          },
          "hovermode": "closest",
          "mapbox": {
           "style": "light"
          },
          "paper_bgcolor": "white",
          "plot_bgcolor": "#E5ECF6",
          "polar": {
           "angularaxis": {
            "gridcolor": "white",
            "linecolor": "white",
            "ticks": ""
           },
           "bgcolor": "#E5ECF6",
           "radialaxis": {
            "gridcolor": "white",
            "linecolor": "white",
            "ticks": ""
           }
          },
          "scene": {
           "xaxis": {
            "backgroundcolor": "#E5ECF6",
            "gridcolor": "white",
            "gridwidth": 2,
            "linecolor": "white",
            "showbackground": true,
            "ticks": "",
            "zerolinecolor": "white"
           },
           "yaxis": {
            "backgroundcolor": "#E5ECF6",
            "gridcolor": "white",
            "gridwidth": 2,
            "linecolor": "white",
            "showbackground": true,
            "ticks": "",
            "zerolinecolor": "white"
           },
           "zaxis": {
            "backgroundcolor": "#E5ECF6",
            "gridcolor": "white",
            "gridwidth": 2,
            "linecolor": "white",
            "showbackground": true,
            "ticks": "",
            "zerolinecolor": "white"
           }
          },
          "shapedefaults": {
           "line": {
            "color": "#2a3f5f"
           }
          },
          "ternary": {
           "aaxis": {
            "gridcolor": "white",
            "linecolor": "white",
            "ticks": ""
           },
           "baxis": {
            "gridcolor": "white",
            "linecolor": "white",
            "ticks": ""
           },
           "bgcolor": "#E5ECF6",
           "caxis": {
            "gridcolor": "white",
            "linecolor": "white",
            "ticks": ""
           }
          },
          "title": {
           "x": 0.05
          },
          "xaxis": {
           "automargin": true,
           "gridcolor": "white",
           "linecolor": "white",
           "ticks": "",
           "title": {
            "standoff": 15
           },
           "zerolinecolor": "white",
           "zerolinewidth": 2
          },
          "yaxis": {
           "automargin": true,
           "gridcolor": "white",
           "linecolor": "white",
           "ticks": "",
           "title": {
            "standoff": 15
           },
           "zerolinecolor": "white",
           "zerolinewidth": 2
          }
         }
        },
        "title": {
         "text": "연도별 성별 건강기능식품 복용여부 추이"
        },
        "xaxis": {
         "anchor": "y",
         "domain": [
          0,
          0.2888888888888889
         ]
        },
        "xaxis2": {
         "anchor": "y2",
         "domain": [
          0.35555555555555557,
          0.6444444444444445
         ]
        },
        "xaxis3": {
         "anchor": "y3",
         "domain": [
          0.7111111111111111,
          1
         ]
        },
        "xaxis4": {
         "anchor": "y4",
         "domain": [
          0,
          0.2888888888888889
         ]
        },
        "xaxis5": {
         "anchor": "y5",
         "domain": [
          0.35555555555555557,
          0.6444444444444445
         ]
        },
        "xaxis6": {
         "anchor": "y6",
         "domain": [
          0.7111111111111111,
          1
         ]
        },
        "yaxis": {
         "anchor": "x",
         "domain": [
          0.625,
          1
         ]
        },
        "yaxis2": {
         "anchor": "x2",
         "domain": [
          0.625,
          1
         ]
        },
        "yaxis3": {
         "anchor": "x3",
         "domain": [
          0.625,
          1
         ]
        },
        "yaxis4": {
         "anchor": "x4",
         "domain": [
          0,
          0.375
         ]
        },
        "yaxis5": {
         "anchor": "x5",
         "domain": [
          0,
          0.375
         ]
        },
        "yaxis6": {
         "anchor": "x6",
         "domain": [
          0,
          0.375
         ]
        }
       }
      }
     },
     "metadata": {},
     "output_type": "display_data"
    }
   ],
   "source": [
    "### 연도별 성별 건강기능식품 복용여부 추이\n",
    "fig = make_subplots(rows= 2, cols= 3,\n",
    "                    subplot_titles=(\"20대 건강기능식품 복용여부 추이\", \"30대 건강기능식품 복용여부 추이\",\n",
    "                                    \"40대 건강기능식품 복용여부 추이\", \"50대 건강기능식품 복용여부 추이\",\n",
    "                                    \"60대 이상 건강기능식품 복용여부 추이\"))\n",
    "\n",
    "# - 20대 건강기능식품 복용여부 추이\n",
    "fig.add_trace(go.Bar(x=df_intake.groupby(\"복용여부별(1)\").get_group(\"먹고 있다\")[\"20대\"].values,\n",
    "                     y=df_intake[\"시점\"][:4].values, orientation='h'),\n",
    "                     row=1, col=1)\n",
    "fig.add_trace(go.Bar(x=df_intake.groupby(\"복용여부별(1)\").get_group(\"먹고 있지 않다\")[\"20대\"].values,\n",
    "                     y=df_intake[\"시점\"][:4].values, orientation='h'),\n",
    "                     row=1, col=1)\n",
    "# - 30대 건강기능식품 복용여부 추이\n",
    "fig.add_trace(go.Bar(x=df_intake.groupby(\"복용여부별(1)\").get_group(\"먹고 있다\")[\"30대\"].values,\n",
    "                     y=df_intake[\"시점\"][:4].values, orientation='h'),\n",
    "                     row=1, col=2)\n",
    "fig.add_trace(go.Bar(x=df_intake.groupby(\"복용여부별(1)\").get_group(\"먹고 있지 않다\")[\"30대\"].values,\n",
    "                     y=df_intake[\"시점\"][:4].values, orientation='h'),\n",
    "                     row=1, col=2)\n",
    "# - 40대 건강기능식품 복용여부 추이\n",
    "fig.add_trace(go.Bar(x=df_intake.groupby(\"복용여부별(1)\").get_group(\"먹고 있다\")[\"40대\"].values,\n",
    "                     y=df_intake[\"시점\"][:4].values, orientation='h'),\n",
    "                     row=1, col=3)\n",
    "fig.add_trace(go.Bar(x=df_intake.groupby(\"복용여부별(1)\").get_group(\"먹고 있지 않다\")[\"40대\"].values,\n",
    "                     y=df_intake[\"시점\"][:4].values, orientation='h'),\n",
    "                     row=1, col=3)\n",
    "# - 50대 건강기능식품 복용여부 추이\n",
    "fig.add_trace(go.Bar(x=df_intake.groupby(\"복용여부별(1)\").get_group(\"먹고 있다\")[\"50대\"].values,\n",
    "                     y=df_intake[\"시점\"][:4].values, orientation='h'),\n",
    "                     row=2, col=1)\n",
    "fig.add_trace(go.Bar(x=df_intake.groupby(\"복용여부별(1)\").get_group(\"먹고 있지 않다\")[\"50대\"].values,\n",
    "                     y=df_intake[\"시점\"][:4].values, orientation='h'),\n",
    "                     row=2, col=1)\n",
    "# - 60대 이상 건강기능식품 복용여부 추이\n",
    "fig.add_trace(go.Bar(x=df_intake.groupby(\"복용여부별(1)\").get_group(\"먹고 있다\")[\"60대 이상\"].values,\n",
    "                     y=df_intake[\"시점\"][:4].values, orientation='h'),\n",
    "                     row=2, col=2)\n",
    "fig.add_trace(go.Bar(x=df_intake.groupby(\"복용여부별(1)\").get_group(\"먹고 있지 않다\")[\"60대 이상\"].values,\n",
    "                     y=df_intake[\"시점\"][:4].values, orientation='h'),\n",
    "                     row=2, col=2)\n",
    "\n",
    "\n",
    "\n",
    "fig.update_layout(title_text=\"연도별 성별 건강기능식품 복용여부 추이\",\n",
    "                  barmode=\"relative\", showlegend=False)\n",
    "\n",
    "fig.show()"
   ]
  },
  {
   "cell_type": "code",
   "execution_count": null,
   "metadata": {},
   "outputs": [],
   "source": []
  },
  {
   "cell_type": "code",
   "execution_count": null,
   "metadata": {},
   "outputs": [],
   "source": []
  },
  {
   "cell_type": "code",
   "execution_count": null,
   "metadata": {},
   "outputs": [],
   "source": []
  },
  {
   "cell_type": "code",
   "execution_count": 64,
   "metadata": {},
   "outputs": [
    {
     "name": "stderr",
     "output_type": "stream",
     "text": [
      "c:\\Users\\USER\\anaconda3\\envs\\busan_env\\lib\\site-packages\\openpyxl\\styles\\stylesheet.py:226: UserWarning:\n",
      "\n",
      "Workbook contains no default style, apply openpyxl's default\n",
      "\n",
      "C:\\Users\\USER\\AppData\\Local\\Temp\\ipykernel_5880\\1845926606.py:2: SettingWithCopyWarning:\n",
      "\n",
      "\n",
      "A value is trying to be set on a copy of a slice from a DataFrame\n",
      "\n",
      "See the caveats in the documentation: https://pandas.pydata.org/pandas-docs/stable/user_guide/indexing.html#returning-a-view-versus-a-copy\n",
      "\n",
      "C:\\Users\\USER\\AppData\\Local\\Temp\\ipykernel_5880\\1845926606.py:3: SettingWithCopyWarning:\n",
      "\n",
      "\n",
      "A value is trying to be set on a copy of a slice from a DataFrame\n",
      "\n",
      "See the caveats in the documentation: https://pandas.pydata.org/pandas-docs/stable/user_guide/indexing.html#returning-a-view-versus-a-copy\n",
      "\n",
      "C:\\Users\\USER\\AppData\\Local\\Temp\\ipykernel_5880\\1845926606.py:4: SettingWithCopyWarning:\n",
      "\n",
      "\n",
      "A value is trying to be set on a copy of a slice from a DataFrame\n",
      "\n",
      "See the caveats in the documentation: https://pandas.pydata.org/pandas-docs/stable/user_guide/indexing.html#returning-a-view-versus-a-copy\n",
      "\n",
      "C:\\Users\\USER\\AppData\\Local\\Temp\\ipykernel_5880\\1845926606.py:5: SettingWithCopyWarning:\n",
      "\n",
      "\n",
      "A value is trying to be set on a copy of a slice from a DataFrame\n",
      "\n",
      "See the caveats in the documentation: https://pandas.pydata.org/pandas-docs/stable/user_guide/indexing.html#returning-a-view-versus-a-copy\n",
      "\n",
      "C:\\Users\\USER\\AppData\\Local\\Temp\\ipykernel_5880\\1845926606.py:6: SettingWithCopyWarning:\n",
      "\n",
      "\n",
      "A value is trying to be set on a copy of a slice from a DataFrame\n",
      "\n",
      "See the caveats in the documentation: https://pandas.pydata.org/pandas-docs/stable/user_guide/indexing.html#returning-a-view-versus-a-copy\n",
      "\n",
      "C:\\Users\\USER\\AppData\\Local\\Temp\\ipykernel_5880\\1845926606.py:7: SettingWithCopyWarning:\n",
      "\n",
      "\n",
      "A value is trying to be set on a copy of a slice from a DataFrame\n",
      "\n",
      "See the caveats in the documentation: https://pandas.pydata.org/pandas-docs/stable/user_guide/indexing.html#returning-a-view-versus-a-copy\n",
      "\n",
      "C:\\Users\\USER\\AppData\\Local\\Temp\\ipykernel_5880\\1845926606.py:8: SettingWithCopyWarning:\n",
      "\n",
      "\n",
      "A value is trying to be set on a copy of a slice from a DataFrame\n",
      "\n",
      "See the caveats in the documentation: https://pandas.pydata.org/pandas-docs/stable/user_guide/indexing.html#returning-a-view-versus-a-copy\n",
      "\n",
      "C:\\Users\\USER\\AppData\\Local\\Temp\\ipykernel_5880\\1845926606.py:9: SettingWithCopyWarning:\n",
      "\n",
      "\n",
      "A value is trying to be set on a copy of a slice from a DataFrame\n",
      "\n",
      "See the caveats in the documentation: https://pandas.pydata.org/pandas-docs/stable/user_guide/indexing.html#returning-a-view-versus-a-copy\n",
      "\n"
     ]
    },
    {
     "data": {
      "text/html": [
       "<div>\n",
       "<style scoped>\n",
       "    .dataframe tbody tr th:only-of-type {\n",
       "        vertical-align: middle;\n",
       "    }\n",
       "\n",
       "    .dataframe tbody tr th {\n",
       "        vertical-align: top;\n",
       "    }\n",
       "\n",
       "    .dataframe thead th {\n",
       "        text-align: right;\n",
       "    }\n",
       "</style>\n",
       "<table border=\"1\" class=\"dataframe\">\n",
       "  <thead>\n",
       "    <tr style=\"text-align: right;\">\n",
       "      <th></th>\n",
       "      <th>이유별(1)</th>\n",
       "      <th>시점</th>\n",
       "      <th>남성</th>\n",
       "      <th>여성</th>\n",
       "      <th>20대</th>\n",
       "      <th>30대</th>\n",
       "      <th>40대</th>\n",
       "      <th>50대</th>\n",
       "      <th>60대 이상</th>\n",
       "    </tr>\n",
       "  </thead>\n",
       "  <tbody>\n",
       "    <tr>\n",
       "      <th>0</th>\n",
       "      <td>성장, 발달을 위해</td>\n",
       "      <td>2019</td>\n",
       "      <td>9.3</td>\n",
       "      <td>0.5</td>\n",
       "      <td>2.1</td>\n",
       "      <td>8.9</td>\n",
       "      <td>10.6</td>\n",
       "      <td>1.9</td>\n",
       "      <td>0.0</td>\n",
       "    </tr>\n",
       "    <tr>\n",
       "      <th>1</th>\n",
       "      <td>성장, 발달을 위해</td>\n",
       "      <td>2020</td>\n",
       "      <td>9.1</td>\n",
       "      <td>1.5</td>\n",
       "      <td>0.0</td>\n",
       "      <td>7.2</td>\n",
       "      <td>13.1</td>\n",
       "      <td>3.6</td>\n",
       "      <td>0.3</td>\n",
       "    </tr>\n",
       "    <tr>\n",
       "      <th>2</th>\n",
       "      <td>성장, 발달을 위해</td>\n",
       "      <td>2021</td>\n",
       "      <td>7.2</td>\n",
       "      <td>6.0</td>\n",
       "      <td>1.4</td>\n",
       "      <td>9.8</td>\n",
       "      <td>14.6</td>\n",
       "      <td>5.0</td>\n",
       "      <td>1.5</td>\n",
       "    </tr>\n",
       "    <tr>\n",
       "      <th>3</th>\n",
       "      <td>성장, 발달을 위해</td>\n",
       "      <td>2022</td>\n",
       "      <td>8.3</td>\n",
       "      <td>9.7</td>\n",
       "      <td>6.9</td>\n",
       "      <td>12.9</td>\n",
       "      <td>21.2</td>\n",
       "      <td>4.8</td>\n",
       "      <td>1.3</td>\n",
       "    </tr>\n",
       "    <tr>\n",
       "      <th>4</th>\n",
       "      <td>질병치료를 위해</td>\n",
       "      <td>2019</td>\n",
       "      <td>5.2</td>\n",
       "      <td>5.6</td>\n",
       "      <td>5.4</td>\n",
       "      <td>3.3</td>\n",
       "      <td>6.9</td>\n",
       "      <td>5.8</td>\n",
       "      <td>7.8</td>\n",
       "    </tr>\n",
       "    <tr>\n",
       "      <th>5</th>\n",
       "      <td>질병치료를 위해</td>\n",
       "      <td>2020</td>\n",
       "      <td>7.4</td>\n",
       "      <td>4.5</td>\n",
       "      <td>6.7</td>\n",
       "      <td>4.6</td>\n",
       "      <td>8.1</td>\n",
       "      <td>6.7</td>\n",
       "      <td>9.0</td>\n",
       "    </tr>\n",
       "    <tr>\n",
       "      <th>6</th>\n",
       "      <td>질병치료를 위해</td>\n",
       "      <td>2021</td>\n",
       "      <td>13.1</td>\n",
       "      <td>7.4</td>\n",
       "      <td>7.4</td>\n",
       "      <td>10.2</td>\n",
       "      <td>8.4</td>\n",
       "      <td>12.9</td>\n",
       "      <td>14.0</td>\n",
       "    </tr>\n",
       "    <tr>\n",
       "      <th>7</th>\n",
       "      <td>질병치료를 위해</td>\n",
       "      <td>2022</td>\n",
       "      <td>11.1</td>\n",
       "      <td>12.6</td>\n",
       "      <td>9.2</td>\n",
       "      <td>4.1</td>\n",
       "      <td>12.9</td>\n",
       "      <td>11.1</td>\n",
       "      <td>15.5</td>\n",
       "    </tr>\n",
       "    <tr>\n",
       "      <th>8</th>\n",
       "      <td>학습능력 개선을 위해</td>\n",
       "      <td>2019</td>\n",
       "      <td>2.8</td>\n",
       "      <td>0.5</td>\n",
       "      <td>0.0</td>\n",
       "      <td>1.6</td>\n",
       "      <td>4.1</td>\n",
       "      <td>1.8</td>\n",
       "      <td>0.0</td>\n",
       "    </tr>\n",
       "    <tr>\n",
       "      <th>9</th>\n",
       "      <td>학습능력 개선을 위해</td>\n",
       "      <td>2020</td>\n",
       "      <td>4.6</td>\n",
       "      <td>0.9</td>\n",
       "      <td>0.0</td>\n",
       "      <td>0.6</td>\n",
       "      <td>9.6</td>\n",
       "      <td>3.4</td>\n",
       "      <td>0.3</td>\n",
       "    </tr>\n",
       "    <tr>\n",
       "      <th>10</th>\n",
       "      <td>학습능력 개선을 위해</td>\n",
       "      <td>2021</td>\n",
       "      <td>3.2</td>\n",
       "      <td>2.6</td>\n",
       "      <td>0.7</td>\n",
       "      <td>1.5</td>\n",
       "      <td>6.4</td>\n",
       "      <td>3.2</td>\n",
       "      <td>1.3</td>\n",
       "    </tr>\n",
       "    <tr>\n",
       "      <th>11</th>\n",
       "      <td>학습능력 개선을 위해</td>\n",
       "      <td>2022</td>\n",
       "      <td>4.8</td>\n",
       "      <td>3.0</td>\n",
       "      <td>3.2</td>\n",
       "      <td>0.7</td>\n",
       "      <td>10.8</td>\n",
       "      <td>4.0</td>\n",
       "      <td>1.7</td>\n",
       "    </tr>\n",
       "    <tr>\n",
       "      <th>12</th>\n",
       "      <td>질병예방을 위하여</td>\n",
       "      <td>2019</td>\n",
       "      <td>44.9</td>\n",
       "      <td>40.2</td>\n",
       "      <td>46.2</td>\n",
       "      <td>38.8</td>\n",
       "      <td>43.5</td>\n",
       "      <td>49.5</td>\n",
       "      <td>45.4</td>\n",
       "    </tr>\n",
       "    <tr>\n",
       "      <th>13</th>\n",
       "      <td>질병예방을 위하여</td>\n",
       "      <td>2020</td>\n",
       "      <td>50.7</td>\n",
       "      <td>46.8</td>\n",
       "      <td>41.7</td>\n",
       "      <td>49.2</td>\n",
       "      <td>46.3</td>\n",
       "      <td>57.2</td>\n",
       "      <td>52.7</td>\n",
       "    </tr>\n",
       "    <tr>\n",
       "      <th>14</th>\n",
       "      <td>질병예방을 위하여</td>\n",
       "      <td>2021</td>\n",
       "      <td>48.8</td>\n",
       "      <td>47.9</td>\n",
       "      <td>36.7</td>\n",
       "      <td>44.2</td>\n",
       "      <td>40.5</td>\n",
       "      <td>53.8</td>\n",
       "      <td>55.7</td>\n",
       "    </tr>\n",
       "    <tr>\n",
       "      <th>15</th>\n",
       "      <td>질병예방을 위하여</td>\n",
       "      <td>2022</td>\n",
       "      <td>48.0</td>\n",
       "      <td>43.4</td>\n",
       "      <td>41.4</td>\n",
       "      <td>36.1</td>\n",
       "      <td>43.0</td>\n",
       "      <td>50.0</td>\n",
       "      <td>52.1</td>\n",
       "    </tr>\n",
       "    <tr>\n",
       "      <th>16</th>\n",
       "      <td>미용효과를 위하여</td>\n",
       "      <td>2019</td>\n",
       "      <td>11.3</td>\n",
       "      <td>25.0</td>\n",
       "      <td>16.4</td>\n",
       "      <td>22.1</td>\n",
       "      <td>11.2</td>\n",
       "      <td>12.0</td>\n",
       "      <td>6.3</td>\n",
       "    </tr>\n",
       "    <tr>\n",
       "      <th>17</th>\n",
       "      <td>미용효과를 위하여</td>\n",
       "      <td>2020</td>\n",
       "      <td>19.6</td>\n",
       "      <td>31.0</td>\n",
       "      <td>37.0</td>\n",
       "      <td>24.7</td>\n",
       "      <td>21.3</td>\n",
       "      <td>18.5</td>\n",
       "      <td>13.5</td>\n",
       "    </tr>\n",
       "    <tr>\n",
       "      <th>18</th>\n",
       "      <td>미용효과를 위하여</td>\n",
       "      <td>2021</td>\n",
       "      <td>14.3</td>\n",
       "      <td>21.6</td>\n",
       "      <td>26.8</td>\n",
       "      <td>25.3</td>\n",
       "      <td>18.5</td>\n",
       "      <td>15.8</td>\n",
       "      <td>8.0</td>\n",
       "    </tr>\n",
       "    <tr>\n",
       "      <th>19</th>\n",
       "      <td>미용효과를 위하여</td>\n",
       "      <td>2022</td>\n",
       "      <td>16.9</td>\n",
       "      <td>32.0</td>\n",
       "      <td>25.7</td>\n",
       "      <td>34.7</td>\n",
       "      <td>24.0</td>\n",
       "      <td>19.9</td>\n",
       "      <td>14.8</td>\n",
       "    </tr>\n",
       "    <tr>\n",
       "      <th>20</th>\n",
       "      <td>피로회복을 위해</td>\n",
       "      <td>2019</td>\n",
       "      <td>71.8</td>\n",
       "      <td>71.5</td>\n",
       "      <td>61.3</td>\n",
       "      <td>74.5</td>\n",
       "      <td>72.2</td>\n",
       "      <td>73.3</td>\n",
       "      <td>65.7</td>\n",
       "    </tr>\n",
       "    <tr>\n",
       "      <th>21</th>\n",
       "      <td>피로회복을 위해</td>\n",
       "      <td>2020</td>\n",
       "      <td>72.9</td>\n",
       "      <td>72.8</td>\n",
       "      <td>76.4</td>\n",
       "      <td>76.0</td>\n",
       "      <td>70.3</td>\n",
       "      <td>70.1</td>\n",
       "      <td>69.7</td>\n",
       "    </tr>\n",
       "    <tr>\n",
       "      <th>22</th>\n",
       "      <td>피로회복을 위해</td>\n",
       "      <td>2021</td>\n",
       "      <td>68.6</td>\n",
       "      <td>54.0</td>\n",
       "      <td>66.6</td>\n",
       "      <td>60.8</td>\n",
       "      <td>67.6</td>\n",
       "      <td>66.0</td>\n",
       "      <td>60.5</td>\n",
       "    </tr>\n",
       "    <tr>\n",
       "      <th>23</th>\n",
       "      <td>피로회복을 위해</td>\n",
       "      <td>2022</td>\n",
       "      <td>66.0</td>\n",
       "      <td>68.9</td>\n",
       "      <td>58.3</td>\n",
       "      <td>72.4</td>\n",
       "      <td>72.3</td>\n",
       "      <td>67.1</td>\n",
       "      <td>61.1</td>\n",
       "    </tr>\n",
       "    <tr>\n",
       "      <th>24</th>\n",
       "      <td>건강 증진을 위해</td>\n",
       "      <td>2019</td>\n",
       "      <td>68.1</td>\n",
       "      <td>57.0</td>\n",
       "      <td>47.4</td>\n",
       "      <td>62.9</td>\n",
       "      <td>64.3</td>\n",
       "      <td>74.3</td>\n",
       "      <td>74.5</td>\n",
       "    </tr>\n",
       "    <tr>\n",
       "      <th>25</th>\n",
       "      <td>건강 증진을 위해</td>\n",
       "      <td>2020</td>\n",
       "      <td>69.5</td>\n",
       "      <td>58.8</td>\n",
       "      <td>59.9</td>\n",
       "      <td>60.0</td>\n",
       "      <td>71.1</td>\n",
       "      <td>71.9</td>\n",
       "      <td>72.0</td>\n",
       "    </tr>\n",
       "    <tr>\n",
       "      <th>26</th>\n",
       "      <td>건강 증진을 위해</td>\n",
       "      <td>2021</td>\n",
       "      <td>70.2</td>\n",
       "      <td>65.5</td>\n",
       "      <td>65.2</td>\n",
       "      <td>67.5</td>\n",
       "      <td>63.4</td>\n",
       "      <td>68.9</td>\n",
       "      <td>74.9</td>\n",
       "    </tr>\n",
       "    <tr>\n",
       "      <th>27</th>\n",
       "      <td>건강 증진을 위해</td>\n",
       "      <td>2022</td>\n",
       "      <td>67.5</td>\n",
       "      <td>59.7</td>\n",
       "      <td>48.4</td>\n",
       "      <td>63.3</td>\n",
       "      <td>61.5</td>\n",
       "      <td>67.0</td>\n",
       "      <td>68.2</td>\n",
       "    </tr>\n",
       "    <tr>\n",
       "      <th>28</th>\n",
       "      <td>기타</td>\n",
       "      <td>2019</td>\n",
       "      <td>0.2</td>\n",
       "      <td>0.0</td>\n",
       "      <td>0.0</td>\n",
       "      <td>0.3</td>\n",
       "      <td>0.0</td>\n",
       "      <td>0.2</td>\n",
       "      <td>0.1</td>\n",
       "    </tr>\n",
       "    <tr>\n",
       "      <th>29</th>\n",
       "      <td>기타</td>\n",
       "      <td>2020</td>\n",
       "      <td>0.0</td>\n",
       "      <td>0.1</td>\n",
       "      <td>0.0</td>\n",
       "      <td>0.0</td>\n",
       "      <td>0.1</td>\n",
       "      <td>0.0</td>\n",
       "      <td>0.2</td>\n",
       "    </tr>\n",
       "    <tr>\n",
       "      <th>30</th>\n",
       "      <td>기타</td>\n",
       "      <td>2021</td>\n",
       "      <td>0.1</td>\n",
       "      <td>0.0</td>\n",
       "      <td>0.0</td>\n",
       "      <td>0.0</td>\n",
       "      <td>0.4</td>\n",
       "      <td>0.0</td>\n",
       "      <td>0.0</td>\n",
       "    </tr>\n",
       "  </tbody>\n",
       "</table>\n",
       "</div>"
      ],
      "text/plain": [
       "         이유별(1)    시점    남성    여성   20대   30대   40대   50대  60대 이상\n",
       "0    성장, 발달을 위해  2019   9.3   0.5   2.1   8.9  10.6   1.9     0.0\n",
       "1    성장, 발달을 위해  2020   9.1   1.5   0.0   7.2  13.1   3.6     0.3\n",
       "2    성장, 발달을 위해  2021   7.2   6.0   1.4   9.8  14.6   5.0     1.5\n",
       "3    성장, 발달을 위해  2022   8.3   9.7   6.9  12.9  21.2   4.8     1.3\n",
       "4      질병치료를 위해  2019   5.2   5.6   5.4   3.3   6.9   5.8     7.8\n",
       "5      질병치료를 위해  2020   7.4   4.5   6.7   4.6   8.1   6.7     9.0\n",
       "6      질병치료를 위해  2021  13.1   7.4   7.4  10.2   8.4  12.9    14.0\n",
       "7      질병치료를 위해  2022  11.1  12.6   9.2   4.1  12.9  11.1    15.5\n",
       "8   학습능력 개선을 위해  2019   2.8   0.5   0.0   1.6   4.1   1.8     0.0\n",
       "9   학습능력 개선을 위해  2020   4.6   0.9   0.0   0.6   9.6   3.4     0.3\n",
       "10  학습능력 개선을 위해  2021   3.2   2.6   0.7   1.5   6.4   3.2     1.3\n",
       "11  학습능력 개선을 위해  2022   4.8   3.0   3.2   0.7  10.8   4.0     1.7\n",
       "12    질병예방을 위하여  2019  44.9  40.2  46.2  38.8  43.5  49.5    45.4\n",
       "13    질병예방을 위하여  2020  50.7  46.8  41.7  49.2  46.3  57.2    52.7\n",
       "14    질병예방을 위하여  2021  48.8  47.9  36.7  44.2  40.5  53.8    55.7\n",
       "15    질병예방을 위하여  2022  48.0  43.4  41.4  36.1  43.0  50.0    52.1\n",
       "16    미용효과를 위하여  2019  11.3  25.0  16.4  22.1  11.2  12.0     6.3\n",
       "17    미용효과를 위하여  2020  19.6  31.0  37.0  24.7  21.3  18.5    13.5\n",
       "18    미용효과를 위하여  2021  14.3  21.6  26.8  25.3  18.5  15.8     8.0\n",
       "19    미용효과를 위하여  2022  16.9  32.0  25.7  34.7  24.0  19.9    14.8\n",
       "20     피로회복을 위해  2019  71.8  71.5  61.3  74.5  72.2  73.3    65.7\n",
       "21     피로회복을 위해  2020  72.9  72.8  76.4  76.0  70.3  70.1    69.7\n",
       "22     피로회복을 위해  2021  68.6  54.0  66.6  60.8  67.6  66.0    60.5\n",
       "23     피로회복을 위해  2022  66.0  68.9  58.3  72.4  72.3  67.1    61.1\n",
       "24    건강 증진을 위해  2019  68.1  57.0  47.4  62.9  64.3  74.3    74.5\n",
       "25    건강 증진을 위해  2020  69.5  58.8  59.9  60.0  71.1  71.9    72.0\n",
       "26    건강 증진을 위해  2021  70.2  65.5  65.2  67.5  63.4  68.9    74.9\n",
       "27    건강 증진을 위해  2022  67.5  59.7  48.4  63.3  61.5  67.0    68.2\n",
       "28           기타  2019   0.2   0.0   0.0   0.3   0.0   0.2     0.1\n",
       "29           기타  2020   0.0   0.1   0.0   0.0   0.1   0.0     0.2\n",
       "30           기타  2021   0.1   0.0   0.0   0.0   0.4   0.0     0.0"
      ]
     },
     "execution_count": 64,
     "metadata": {},
     "output_type": "execute_result"
    }
   ],
   "source": [
    "df_intake_rsn = pd.read_excel(\"../data/건강기능식품을_먹는_주된_이유_2018_2022.xlsx\", header=1, usecols=\"A:B, R:X\")\n",
    "df_intake_rsn[1:4].fillna(\"성장, 발달을 위해\", inplace=True)\n",
    "df_intake_rsn[5:8].fillna(\"질병치료를 위해\", inplace=True)\n",
    "df_intake_rsn[9:12].fillna(\"학습능력 개선을 위해\", inplace=True)\n",
    "df_intake_rsn[13:16].fillna(\"질병예방을 위하여\", inplace=True)\n",
    "df_intake_rsn[17:20].fillna(\"미용효과를 위하여\", inplace=True)\n",
    "df_intake_rsn[21:24].fillna(\"피로회복을 위해\", inplace=True)\n",
    "df_intake_rsn[24:28].fillna(\"건강 증진을 위해\", inplace=True)\n",
    "df_intake_rsn[29:31].fillna(\"기타\", inplace=True)\n",
    "\n",
    "df_intake_rsn"
   ]
  },
  {
   "cell_type": "code",
   "execution_count": 112,
   "metadata": {},
   "outputs": [
    {
     "data": {
      "text/html": [
       "<div>\n",
       "<style scoped>\n",
       "    .dataframe tbody tr th:only-of-type {\n",
       "        vertical-align: middle;\n",
       "    }\n",
       "\n",
       "    .dataframe tbody tr th {\n",
       "        vertical-align: top;\n",
       "    }\n",
       "\n",
       "    .dataframe thead th {\n",
       "        text-align: right;\n",
       "    }\n",
       "</style>\n",
       "<table border=\"1\" class=\"dataframe\">\n",
       "  <thead>\n",
       "    <tr style=\"text-align: right;\">\n",
       "      <th></th>\n",
       "      <th>이유별(1)</th>\n",
       "      <th>시점</th>\n",
       "      <th>남성</th>\n",
       "      <th>여성</th>\n",
       "      <th>20대</th>\n",
       "      <th>30대</th>\n",
       "      <th>40대</th>\n",
       "      <th>50대</th>\n",
       "      <th>60대 이상</th>\n",
       "    </tr>\n",
       "  </thead>\n",
       "  <tbody>\n",
       "    <tr>\n",
       "      <th>3</th>\n",
       "      <td>성장, 발달을 위해</td>\n",
       "      <td>2022</td>\n",
       "      <td>8.3</td>\n",
       "      <td>9.7</td>\n",
       "      <td>6.9</td>\n",
       "      <td>12.9</td>\n",
       "      <td>21.2</td>\n",
       "      <td>4.8</td>\n",
       "      <td>1.3</td>\n",
       "    </tr>\n",
       "    <tr>\n",
       "      <th>7</th>\n",
       "      <td>질병치료를 위해</td>\n",
       "      <td>2022</td>\n",
       "      <td>11.1</td>\n",
       "      <td>12.6</td>\n",
       "      <td>9.2</td>\n",
       "      <td>4.1</td>\n",
       "      <td>12.9</td>\n",
       "      <td>11.1</td>\n",
       "      <td>15.5</td>\n",
       "    </tr>\n",
       "    <tr>\n",
       "      <th>11</th>\n",
       "      <td>학습능력 개선을 위해</td>\n",
       "      <td>2022</td>\n",
       "      <td>4.8</td>\n",
       "      <td>3.0</td>\n",
       "      <td>3.2</td>\n",
       "      <td>0.7</td>\n",
       "      <td>10.8</td>\n",
       "      <td>4.0</td>\n",
       "      <td>1.7</td>\n",
       "    </tr>\n",
       "    <tr>\n",
       "      <th>15</th>\n",
       "      <td>질병예방을 위하여</td>\n",
       "      <td>2022</td>\n",
       "      <td>48.0</td>\n",
       "      <td>43.4</td>\n",
       "      <td>41.4</td>\n",
       "      <td>36.1</td>\n",
       "      <td>43.0</td>\n",
       "      <td>50.0</td>\n",
       "      <td>52.1</td>\n",
       "    </tr>\n",
       "    <tr>\n",
       "      <th>19</th>\n",
       "      <td>미용효과를 위하여</td>\n",
       "      <td>2022</td>\n",
       "      <td>16.9</td>\n",
       "      <td>32.0</td>\n",
       "      <td>25.7</td>\n",
       "      <td>34.7</td>\n",
       "      <td>24.0</td>\n",
       "      <td>19.9</td>\n",
       "      <td>14.8</td>\n",
       "    </tr>\n",
       "    <tr>\n",
       "      <th>23</th>\n",
       "      <td>피로회복을 위해</td>\n",
       "      <td>2022</td>\n",
       "      <td>66.0</td>\n",
       "      <td>68.9</td>\n",
       "      <td>58.3</td>\n",
       "      <td>72.4</td>\n",
       "      <td>72.3</td>\n",
       "      <td>67.1</td>\n",
       "      <td>61.1</td>\n",
       "    </tr>\n",
       "    <tr>\n",
       "      <th>27</th>\n",
       "      <td>건강 증진을 위해</td>\n",
       "      <td>2022</td>\n",
       "      <td>67.5</td>\n",
       "      <td>59.7</td>\n",
       "      <td>48.4</td>\n",
       "      <td>63.3</td>\n",
       "      <td>61.5</td>\n",
       "      <td>67.0</td>\n",
       "      <td>68.2</td>\n",
       "    </tr>\n",
       "  </tbody>\n",
       "</table>\n",
       "</div>"
      ],
      "text/plain": [
       "         이유별(1)    시점    남성    여성   20대   30대   40대   50대  60대 이상\n",
       "3    성장, 발달을 위해  2022   8.3   9.7   6.9  12.9  21.2   4.8     1.3\n",
       "7      질병치료를 위해  2022  11.1  12.6   9.2   4.1  12.9  11.1    15.5\n",
       "11  학습능력 개선을 위해  2022   4.8   3.0   3.2   0.7  10.8   4.0     1.7\n",
       "15    질병예방을 위하여  2022  48.0  43.4  41.4  36.1  43.0  50.0    52.1\n",
       "19    미용효과를 위하여  2022  16.9  32.0  25.7  34.7  24.0  19.9    14.8\n",
       "23     피로회복을 위해  2022  66.0  68.9  58.3  72.4  72.3  67.1    61.1\n",
       "27    건강 증진을 위해  2022  67.5  59.7  48.4  63.3  61.5  67.0    68.2"
      ]
     },
     "execution_count": 112,
     "metadata": {},
     "output_type": "execute_result"
    }
   ],
   "source": [
    "df1 = df_intake_rsn.groupby(\"시점\").get_group(2019)\n",
    "df2 = df_intake_rsn.groupby(\"시점\").get_group(2020)\n",
    "df3 = df_intake_rsn.groupby(\"시점\").get_group(2021)\n",
    "df4 = df_intake_rsn.groupby(\"시점\").get_group(2022)\n",
    "df4"
   ]
  },
  {
   "cell_type": "code",
   "execution_count": null,
   "metadata": {},
   "outputs": [],
   "source": []
  },
  {
   "cell_type": "code",
   "execution_count": 103,
   "metadata": {},
   "outputs": [
    {
     "ename": "ValueError",
     "evalue": "Trace type 'pie' is not compatible with subplot type 'xy'\nat grid position (1, 1)\n\nSee the docstring for the specs argument to plotly.subplots.make_subplots\nfor more information on subplot types",
     "output_type": "error",
     "traceback": [
      "\u001b[1;31m---------------------------------------------------------------------------\u001b[0m",
      "\u001b[1;31mValueError\u001b[0m                                Traceback (most recent call last)",
      "Cell \u001b[1;32mIn[103], line 4\u001b[0m\n\u001b[0;32m      1\u001b[0m \u001b[39m### 연도별 성별 건강기능식품 복용 이유\u001b[39;00m\n\u001b[0;32m      2\u001b[0m fig \u001b[39m=\u001b[39m make_subplots(rows\u001b[39m=\u001b[39m \u001b[39m2\u001b[39m, cols\u001b[39m=\u001b[39m \u001b[39m4\u001b[39m)\n\u001b[1;32m----> 4\u001b[0m fig\u001b[39m.\u001b[39;49madd_trace(go\u001b[39m.\u001b[39;49mPie(labels\u001b[39m=\u001b[39;49mdf_intake_rsn\u001b[39m.\u001b[39;49mgroupby(\u001b[39m\"\u001b[39;49m\u001b[39m시점\u001b[39;49m\u001b[39m\"\u001b[39;49m)\u001b[39m.\u001b[39;49mget_group(\u001b[39m2019\u001b[39;49m)[\u001b[39m\"\u001b[39;49m\u001b[39m이유별(1)\u001b[39;49m\u001b[39m\"\u001b[39;49m]\u001b[39m.\u001b[39;49mvalues,\n\u001b[0;32m      5\u001b[0m                      values\u001b[39m=\u001b[39;49mdf_intake_rsn\u001b[39m.\u001b[39;49mgroupby(\u001b[39m\"\u001b[39;49m\u001b[39m시점\u001b[39;49m\u001b[39m\"\u001b[39;49m)\u001b[39m.\u001b[39;49mget_group(\u001b[39m2019\u001b[39;49m)[\u001b[39m\"\u001b[39;49m\u001b[39m남성\u001b[39;49m\u001b[39m\"\u001b[39;49m]\u001b[39m.\u001b[39;49mvalues),\n\u001b[0;32m      6\u001b[0m                      row\u001b[39m=\u001b[39;49m\u001b[39m1\u001b[39;49m, col\u001b[39m=\u001b[39;49m\u001b[39m1\u001b[39;49m)\n\u001b[0;32m      7\u001b[0m fig\u001b[39m.\u001b[39madd_trace(go\u001b[39m.\u001b[39mPie(labels\u001b[39m=\u001b[39mdf_intake_rsn\u001b[39m.\u001b[39mgroupby(\u001b[39m\"\u001b[39m\u001b[39m시점\u001b[39m\u001b[39m\"\u001b[39m)\u001b[39m.\u001b[39mget_group(\u001b[39m2020\u001b[39m)[\u001b[39m\"\u001b[39m\u001b[39m이유별(1)\u001b[39m\u001b[39m\"\u001b[39m]\u001b[39m.\u001b[39mvalues,\n\u001b[0;32m      8\u001b[0m                      values\u001b[39m=\u001b[39mdf_intake_rsn\u001b[39m.\u001b[39mgroupby(\u001b[39m\"\u001b[39m\u001b[39m시점\u001b[39m\u001b[39m\"\u001b[39m)\u001b[39m.\u001b[39mget_group(\u001b[39m2020\u001b[39m)[\u001b[39m\"\u001b[39m\u001b[39m남성\u001b[39m\u001b[39m\"\u001b[39m]\u001b[39m.\u001b[39mvalues),\n\u001b[0;32m      9\u001b[0m                      row\u001b[39m=\u001b[39m\u001b[39m1\u001b[39m, col\u001b[39m=\u001b[39m\u001b[39m2\u001b[39m)\n\u001b[0;32m     10\u001b[0m fig\u001b[39m.\u001b[39madd_trace(go\u001b[39m.\u001b[39mPie(labels\u001b[39m=\u001b[39mdf_intake_rsn\u001b[39m.\u001b[39mgroupby(\u001b[39m\"\u001b[39m\u001b[39m시점\u001b[39m\u001b[39m\"\u001b[39m)\u001b[39m.\u001b[39mget_group(\u001b[39m2021\u001b[39m)[\u001b[39m\"\u001b[39m\u001b[39m이유별(1)\u001b[39m\u001b[39m\"\u001b[39m]\u001b[39m.\u001b[39mvalues,\n\u001b[0;32m     11\u001b[0m                      values\u001b[39m=\u001b[39mdf_intake_rsn\u001b[39m.\u001b[39mgroupby(\u001b[39m\"\u001b[39m\u001b[39m시점\u001b[39m\u001b[39m\"\u001b[39m)\u001b[39m.\u001b[39mget_group(\u001b[39m2021\u001b[39m)[\u001b[39m\"\u001b[39m\u001b[39m남성\u001b[39m\u001b[39m\"\u001b[39m]\u001b[39m.\u001b[39mvalues),\n\u001b[0;32m     12\u001b[0m                      row\u001b[39m=\u001b[39m\u001b[39m1\u001b[39m, col\u001b[39m=\u001b[39m\u001b[39m3\u001b[39m)\n",
      "File \u001b[1;32mc:\\Users\\USER\\anaconda3\\envs\\busan_env\\lib\\site-packages\\plotly\\graph_objs\\_figure.py:900\u001b[0m, in \u001b[0;36mFigure.add_trace\u001b[1;34m(self, trace, row, col, secondary_y, exclude_empty_subplots)\u001b[0m\n\u001b[0;32m    825\u001b[0m \u001b[39mdef\u001b[39;00m \u001b[39madd_trace\u001b[39m(\n\u001b[0;32m    826\u001b[0m     \u001b[39mself\u001b[39m, trace, row\u001b[39m=\u001b[39m\u001b[39mNone\u001b[39;00m, col\u001b[39m=\u001b[39m\u001b[39mNone\u001b[39;00m, secondary_y\u001b[39m=\u001b[39m\u001b[39mNone\u001b[39;00m, exclude_empty_subplots\u001b[39m=\u001b[39m\u001b[39mFalse\u001b[39;00m\n\u001b[0;32m    827\u001b[0m ) \u001b[39m-\u001b[39m\u001b[39m>\u001b[39m \u001b[39m\"\u001b[39m\u001b[39mFigure\u001b[39m\u001b[39m\"\u001b[39m:\n\u001b[0;32m    828\u001b[0m \u001b[39m    \u001b[39m\u001b[39m\"\"\"\u001b[39;00m\n\u001b[0;32m    829\u001b[0m \n\u001b[0;32m    830\u001b[0m \u001b[39m    Add a trace to the figure\u001b[39;00m\n\u001b[1;32m   (...)\u001b[0m\n\u001b[0;32m    898\u001b[0m \n\u001b[0;32m    899\u001b[0m \u001b[39m    \"\"\"\u001b[39;00m\n\u001b[1;32m--> 900\u001b[0m     \u001b[39mreturn\u001b[39;00m \u001b[39msuper\u001b[39;49m(Figure, \u001b[39mself\u001b[39;49m)\u001b[39m.\u001b[39;49madd_trace(\n\u001b[0;32m    901\u001b[0m         trace, row, col, secondary_y, exclude_empty_subplots\n\u001b[0;32m    902\u001b[0m     )\n",
      "File \u001b[1;32mc:\\Users\\USER\\anaconda3\\envs\\busan_env\\lib\\site-packages\\plotly\\basedatatypes.py:2108\u001b[0m, in \u001b[0;36mBaseFigure.add_trace\u001b[1;34m(self, trace, row, col, secondary_y, exclude_empty_subplots)\u001b[0m\n\u001b[0;32m   2099\u001b[0m         \u001b[39mself\u001b[39m\u001b[39m.\u001b[39madd_trace(\n\u001b[0;32m   2100\u001b[0m             trace,\n\u001b[0;32m   2101\u001b[0m             row\u001b[39m=\u001b[39mr,\n\u001b[1;32m   (...)\u001b[0m\n\u001b[0;32m   2104\u001b[0m             exclude_empty_subplots\u001b[39m=\u001b[39mexclude_empty_subplots,\n\u001b[0;32m   2105\u001b[0m         )\n\u001b[0;32m   2106\u001b[0m     \u001b[39mreturn\u001b[39;00m \u001b[39mself\u001b[39m\n\u001b[1;32m-> 2108\u001b[0m \u001b[39mreturn\u001b[39;00m \u001b[39mself\u001b[39;49m\u001b[39m.\u001b[39;49madd_traces(\n\u001b[0;32m   2109\u001b[0m     data\u001b[39m=\u001b[39;49m[trace],\n\u001b[0;32m   2110\u001b[0m     rows\u001b[39m=\u001b[39;49m[row] \u001b[39mif\u001b[39;49;00m row \u001b[39mis\u001b[39;49;00m \u001b[39mnot\u001b[39;49;00m \u001b[39mNone\u001b[39;49;00m \u001b[39melse\u001b[39;49;00m \u001b[39mNone\u001b[39;49;00m,\n\u001b[0;32m   2111\u001b[0m     cols\u001b[39m=\u001b[39;49m[col] \u001b[39mif\u001b[39;49;00m col \u001b[39mis\u001b[39;49;00m \u001b[39mnot\u001b[39;49;00m \u001b[39mNone\u001b[39;49;00m \u001b[39melse\u001b[39;49;00m \u001b[39mNone\u001b[39;49;00m,\n\u001b[0;32m   2112\u001b[0m     secondary_ys\u001b[39m=\u001b[39;49m[secondary_y] \u001b[39mif\u001b[39;49;00m secondary_y \u001b[39mis\u001b[39;49;00m \u001b[39mnot\u001b[39;49;00m \u001b[39mNone\u001b[39;49;00m \u001b[39melse\u001b[39;49;00m \u001b[39mNone\u001b[39;49;00m,\n\u001b[0;32m   2113\u001b[0m     exclude_empty_subplots\u001b[39m=\u001b[39;49mexclude_empty_subplots,\n\u001b[0;32m   2114\u001b[0m )\n",
      "File \u001b[1;32mc:\\Users\\USER\\anaconda3\\envs\\busan_env\\lib\\site-packages\\plotly\\graph_objs\\_figure.py:980\u001b[0m, in \u001b[0;36mFigure.add_traces\u001b[1;34m(self, data, rows, cols, secondary_ys, exclude_empty_subplots)\u001b[0m\n\u001b[0;32m    904\u001b[0m \u001b[39mdef\u001b[39;00m \u001b[39madd_traces\u001b[39m(\n\u001b[0;32m    905\u001b[0m     \u001b[39mself\u001b[39m,\n\u001b[0;32m    906\u001b[0m     data,\n\u001b[1;32m   (...)\u001b[0m\n\u001b[0;32m    910\u001b[0m     exclude_empty_subplots\u001b[39m=\u001b[39m\u001b[39mFalse\u001b[39;00m,\n\u001b[0;32m    911\u001b[0m ) \u001b[39m-\u001b[39m\u001b[39m>\u001b[39m \u001b[39m\"\u001b[39m\u001b[39mFigure\u001b[39m\u001b[39m\"\u001b[39m:\n\u001b[0;32m    912\u001b[0m \u001b[39m    \u001b[39m\u001b[39m\"\"\"\u001b[39;00m\n\u001b[0;32m    913\u001b[0m \n\u001b[0;32m    914\u001b[0m \u001b[39m    Add traces to the figure\u001b[39;00m\n\u001b[1;32m   (...)\u001b[0m\n\u001b[0;32m    978\u001b[0m \n\u001b[0;32m    979\u001b[0m \u001b[39m    \"\"\"\u001b[39;00m\n\u001b[1;32m--> 980\u001b[0m     \u001b[39mreturn\u001b[39;00m \u001b[39msuper\u001b[39;49m(Figure, \u001b[39mself\u001b[39;49m)\u001b[39m.\u001b[39;49madd_traces(\n\u001b[0;32m    981\u001b[0m         data, rows, cols, secondary_ys, exclude_empty_subplots\n\u001b[0;32m    982\u001b[0m     )\n",
      "File \u001b[1;32mc:\\Users\\USER\\anaconda3\\envs\\busan_env\\lib\\site-packages\\plotly\\basedatatypes.py:2238\u001b[0m, in \u001b[0;36mBaseFigure.add_traces\u001b[1;34m(self, data, rows, cols, secondary_ys, exclude_empty_subplots)\u001b[0m\n\u001b[0;32m   2236\u001b[0m \u001b[39mif\u001b[39;00m rows \u001b[39mis\u001b[39;00m \u001b[39mnot\u001b[39;00m \u001b[39mNone\u001b[39;00m:\n\u001b[0;32m   2237\u001b[0m     \u001b[39mfor\u001b[39;00m trace, row, col, secondary_y \u001b[39min\u001b[39;00m \u001b[39mzip\u001b[39m(data, rows, cols, secondary_ys):\n\u001b[1;32m-> 2238\u001b[0m         \u001b[39mself\u001b[39;49m\u001b[39m.\u001b[39;49m_set_trace_grid_position(trace, row, col, secondary_y)\n\u001b[0;32m   2240\u001b[0m \u001b[39mif\u001b[39;00m exclude_empty_subplots:\n\u001b[0;32m   2241\u001b[0m     data \u001b[39m=\u001b[39m \u001b[39mlist\u001b[39m(\n\u001b[0;32m   2242\u001b[0m         \u001b[39mfilter\u001b[39m(\n\u001b[0;32m   2243\u001b[0m             \u001b[39mlambda\u001b[39;00m trace: \u001b[39mself\u001b[39m\u001b[39m.\u001b[39m_subplot_not_empty(\n\u001b[1;32m   (...)\u001b[0m\n\u001b[0;32m   2247\u001b[0m         )\n\u001b[0;32m   2248\u001b[0m     )\n",
      "File \u001b[1;32mc:\\Users\\USER\\anaconda3\\envs\\busan_env\\lib\\site-packages\\plotly\\basedatatypes.py:2330\u001b[0m, in \u001b[0;36mBaseFigure._set_trace_grid_position\u001b[1;34m(self, trace, row, col, secondary_y)\u001b[0m\n\u001b[0;32m   2327\u001b[0m \u001b[39mfrom\u001b[39;00m \u001b[39mplotly\u001b[39;00m\u001b[39m.\u001b[39;00m\u001b[39m_subplots\u001b[39;00m \u001b[39mimport\u001b[39;00m _set_trace_grid_reference\n\u001b[0;32m   2329\u001b[0m grid_ref \u001b[39m=\u001b[39m \u001b[39mself\u001b[39m\u001b[39m.\u001b[39m_validate_get_grid_ref()\n\u001b[1;32m-> 2330\u001b[0m \u001b[39mreturn\u001b[39;00m _set_trace_grid_reference(\n\u001b[0;32m   2331\u001b[0m     trace, \u001b[39mself\u001b[39;49m\u001b[39m.\u001b[39;49mlayout, grid_ref, row, col, secondary_y\n\u001b[0;32m   2332\u001b[0m )\n",
      "File \u001b[1;32mc:\\Users\\USER\\anaconda3\\envs\\busan_env\\lib\\site-packages\\plotly\\_subplots.py:1417\u001b[0m, in \u001b[0;36m_set_trace_grid_reference\u001b[1;34m(trace, layout, grid_ref, row, col, secondary_y)\u001b[0m\n\u001b[0;32m   1415\u001b[0m     \u001b[39mfor\u001b[39;00m k \u001b[39min\u001b[39;00m trace_kwargs:\n\u001b[0;32m   1416\u001b[0m         \u001b[39mif\u001b[39;00m k \u001b[39mnot\u001b[39;00m \u001b[39min\u001b[39;00m trace:\n\u001b[1;32m-> 1417\u001b[0m             \u001b[39mraise\u001b[39;00m \u001b[39mValueError\u001b[39;00m(\n\u001b[0;32m   1418\u001b[0m \u001b[39m                \u001b[39m\u001b[39m\"\"\"\\\u001b[39;00m\n\u001b[0;32m   1419\u001b[0m \u001b[39mTrace type '{typ}' is not compatible with subplot type '{subplot_type}'\u001b[39;00m\n\u001b[0;32m   1420\u001b[0m \u001b[39mat grid position ({row}, {col})\u001b[39;00m\n\u001b[0;32m   1421\u001b[0m \n\u001b[0;32m   1422\u001b[0m \u001b[39mSee the docstring for the specs argument to plotly.subplots.make_subplots\u001b[39;00m\n\u001b[0;32m   1423\u001b[0m \u001b[39mfor more information on subplot types\"\"\"\u001b[39;00m\u001b[39m.\u001b[39mformat(\n\u001b[0;32m   1424\u001b[0m                     typ\u001b[39m=\u001b[39mtrace\u001b[39m.\u001b[39mtype,\n\u001b[0;32m   1425\u001b[0m                     subplot_type\u001b[39m=\u001b[39msubplot_refs[\u001b[39m0\u001b[39m]\u001b[39m.\u001b[39msubplot_type,\n\u001b[0;32m   1426\u001b[0m                     row\u001b[39m=\u001b[39mrow,\n\u001b[0;32m   1427\u001b[0m                     col\u001b[39m=\u001b[39mcol,\n\u001b[0;32m   1428\u001b[0m                 )\n\u001b[0;32m   1429\u001b[0m             )\n\u001b[0;32m   1431\u001b[0m     \u001b[39m# Update trace reference\u001b[39;00m\n\u001b[0;32m   1432\u001b[0m     trace\u001b[39m.\u001b[39mupdate(trace_kwargs)\n",
      "\u001b[1;31mValueError\u001b[0m: Trace type 'pie' is not compatible with subplot type 'xy'\nat grid position (1, 1)\n\nSee the docstring for the specs argument to plotly.subplots.make_subplots\nfor more information on subplot types"
     ]
    }
   ],
   "source": [
    "### 연도별 성별 건강기능식품 복용 이유\n",
    "fig = make_subplots(rows= 2, cols= 4)\n",
    "\n",
    "fig.add_trace(go.Pie(labels=df_intake_rsn.groupby(\"시점\").get_group(2019)[\"이유별(1)\"].values,\n",
    "                     values=df_intake_rsn.groupby(\"시점\").get_group(2019)[\"남성\"].values),\n",
    "                     row=1, col=1)\n",
    "fig.add_trace(go.Pie(labels=df_intake_rsn.groupby(\"시점\").get_group(2020)[\"이유별(1)\"].values,\n",
    "                     values=df_intake_rsn.groupby(\"시점\").get_group(2020)[\"남성\"].values),\n",
    "                     row=1, col=2)\n",
    "fig.add_trace(go.Pie(labels=df_intake_rsn.groupby(\"시점\").get_group(2021)[\"이유별(1)\"].values,\n",
    "                     values=df_intake_rsn.groupby(\"시점\").get_group(2021)[\"남성\"].values),\n",
    "                     row=1, col=3)\n",
    "fig.add_trace(go.Pie(labels=df_intake_rsn.groupby(\"시점\").get_group(2022)[\"이유별(1)\"].values,\n",
    "                     values=df_intake_rsn.groupby(\"시점\").get_group(2022)[\"남성\"].values),\n",
    "                     row=1, col=4)\n",
    "\n",
    "fig.add_trace(go.Pie(labels=df_intake_rsn.groupby(\"시점\").get_group(2019)[\"이유별(1)\"].values,\n",
    "                     values=df_intake_rsn.groupby(\"시점\").get_group(2019)[\"여성\"].values),\n",
    "                     row=1, col=1)\n",
    "fig.add_trace(go.Pie(labels=df_intake_rsn.groupby(\"시점\").get_group(2020)[\"이유별(1)\"].values,\n",
    "                     values=df_intake_rsn.groupby(\"시점\").get_group(2020)[\"여성\"].values),\n",
    "                     row=1, col=2)\n",
    "fig.add_trace(go.Pie(labels=df_intake_rsn.groupby(\"시점\").get_group(2021)[\"이유별(1)\"].values,\n",
    "                     values=df_intake_rsn.groupby(\"시점\").get_group(2021)[\"여성\"].values),\n",
    "                     row=1, col=3)\n",
    "fig.add_trace(go.Pie(labels=df_intake_rsn.groupby(\"시점\").get_group(2022)[\"이유별(1)\"].values,\n",
    "                     values=df_intake_rsn.groupby(\"시점\").get_group(2022)[\"여성\"].values),\n",
    "                     row=1, col=4)\n",
    "\n",
    "\n",
    "fig.show()\n"
   ]
  },
  {
   "cell_type": "code",
   "execution_count": 116,
   "metadata": {},
   "outputs": [
    {
     "data": {
      "application/vnd.plotly.v1+json": {
       "config": {
        "plotlyServerURL": "https://plot.ly"
       },
       "data": [
        {
         "domain": {
          "x": [
           0,
           1
          ],
          "y": [
           0,
           1
          ]
         },
         "hovertemplate": "이유별(1)=%{label}<br>여성=%{value}<extra></extra>",
         "labels": [
          "성장, 발달을 위해",
          "질병치료를 위해",
          "학습능력 개선을 위해",
          "질병예방을 위하여",
          "미용효과를 위하여",
          "피로회복을 위해",
          "건강 증진을 위해",
          "기타"
         ],
         "legendgroup": "",
         "name": "",
         "showlegend": true,
         "type": "pie",
         "values": [
          0.5,
          5.6,
          0.5,
          40.2,
          25,
          71.5,
          57,
          0
         ]
        }
       ],
       "layout": {
        "legend": {
         "tracegroupgap": 0
        },
        "template": {
         "data": {
          "bar": [
           {
            "error_x": {
             "color": "#2a3f5f"
            },
            "error_y": {
             "color": "#2a3f5f"
            },
            "marker": {
             "line": {
              "color": "#E5ECF6",
              "width": 0.5
             },
             "pattern": {
              "fillmode": "overlay",
              "size": 10,
              "solidity": 0.2
             }
            },
            "type": "bar"
           }
          ],
          "barpolar": [
           {
            "marker": {
             "line": {
              "color": "#E5ECF6",
              "width": 0.5
             },
             "pattern": {
              "fillmode": "overlay",
              "size": 10,
              "solidity": 0.2
             }
            },
            "type": "barpolar"
           }
          ],
          "carpet": [
           {
            "aaxis": {
             "endlinecolor": "#2a3f5f",
             "gridcolor": "white",
             "linecolor": "white",
             "minorgridcolor": "white",
             "startlinecolor": "#2a3f5f"
            },
            "baxis": {
             "endlinecolor": "#2a3f5f",
             "gridcolor": "white",
             "linecolor": "white",
             "minorgridcolor": "white",
             "startlinecolor": "#2a3f5f"
            },
            "type": "carpet"
           }
          ],
          "choropleth": [
           {
            "colorbar": {
             "outlinewidth": 0,
             "ticks": ""
            },
            "type": "choropleth"
           }
          ],
          "contour": [
           {
            "colorbar": {
             "outlinewidth": 0,
             "ticks": ""
            },
            "colorscale": [
             [
              0,
              "#0d0887"
             ],
             [
              0.1111111111111111,
              "#46039f"
             ],
             [
              0.2222222222222222,
              "#7201a8"
             ],
             [
              0.3333333333333333,
              "#9c179e"
             ],
             [
              0.4444444444444444,
              "#bd3786"
             ],
             [
              0.5555555555555556,
              "#d8576b"
             ],
             [
              0.6666666666666666,
              "#ed7953"
             ],
             [
              0.7777777777777778,
              "#fb9f3a"
             ],
             [
              0.8888888888888888,
              "#fdca26"
             ],
             [
              1,
              "#f0f921"
             ]
            ],
            "type": "contour"
           }
          ],
          "contourcarpet": [
           {
            "colorbar": {
             "outlinewidth": 0,
             "ticks": ""
            },
            "type": "contourcarpet"
           }
          ],
          "heatmap": [
           {
            "colorbar": {
             "outlinewidth": 0,
             "ticks": ""
            },
            "colorscale": [
             [
              0,
              "#0d0887"
             ],
             [
              0.1111111111111111,
              "#46039f"
             ],
             [
              0.2222222222222222,
              "#7201a8"
             ],
             [
              0.3333333333333333,
              "#9c179e"
             ],
             [
              0.4444444444444444,
              "#bd3786"
             ],
             [
              0.5555555555555556,
              "#d8576b"
             ],
             [
              0.6666666666666666,
              "#ed7953"
             ],
             [
              0.7777777777777778,
              "#fb9f3a"
             ],
             [
              0.8888888888888888,
              "#fdca26"
             ],
             [
              1,
              "#f0f921"
             ]
            ],
            "type": "heatmap"
           }
          ],
          "heatmapgl": [
           {
            "colorbar": {
             "outlinewidth": 0,
             "ticks": ""
            },
            "colorscale": [
             [
              0,
              "#0d0887"
             ],
             [
              0.1111111111111111,
              "#46039f"
             ],
             [
              0.2222222222222222,
              "#7201a8"
             ],
             [
              0.3333333333333333,
              "#9c179e"
             ],
             [
              0.4444444444444444,
              "#bd3786"
             ],
             [
              0.5555555555555556,
              "#d8576b"
             ],
             [
              0.6666666666666666,
              "#ed7953"
             ],
             [
              0.7777777777777778,
              "#fb9f3a"
             ],
             [
              0.8888888888888888,
              "#fdca26"
             ],
             [
              1,
              "#f0f921"
             ]
            ],
            "type": "heatmapgl"
           }
          ],
          "histogram": [
           {
            "marker": {
             "pattern": {
              "fillmode": "overlay",
              "size": 10,
              "solidity": 0.2
             }
            },
            "type": "histogram"
           }
          ],
          "histogram2d": [
           {
            "colorbar": {
             "outlinewidth": 0,
             "ticks": ""
            },
            "colorscale": [
             [
              0,
              "#0d0887"
             ],
             [
              0.1111111111111111,
              "#46039f"
             ],
             [
              0.2222222222222222,
              "#7201a8"
             ],
             [
              0.3333333333333333,
              "#9c179e"
             ],
             [
              0.4444444444444444,
              "#bd3786"
             ],
             [
              0.5555555555555556,
              "#d8576b"
             ],
             [
              0.6666666666666666,
              "#ed7953"
             ],
             [
              0.7777777777777778,
              "#fb9f3a"
             ],
             [
              0.8888888888888888,
              "#fdca26"
             ],
             [
              1,
              "#f0f921"
             ]
            ],
            "type": "histogram2d"
           }
          ],
          "histogram2dcontour": [
           {
            "colorbar": {
             "outlinewidth": 0,
             "ticks": ""
            },
            "colorscale": [
             [
              0,
              "#0d0887"
             ],
             [
              0.1111111111111111,
              "#46039f"
             ],
             [
              0.2222222222222222,
              "#7201a8"
             ],
             [
              0.3333333333333333,
              "#9c179e"
             ],
             [
              0.4444444444444444,
              "#bd3786"
             ],
             [
              0.5555555555555556,
              "#d8576b"
             ],
             [
              0.6666666666666666,
              "#ed7953"
             ],
             [
              0.7777777777777778,
              "#fb9f3a"
             ],
             [
              0.8888888888888888,
              "#fdca26"
             ],
             [
              1,
              "#f0f921"
             ]
            ],
            "type": "histogram2dcontour"
           }
          ],
          "mesh3d": [
           {
            "colorbar": {
             "outlinewidth": 0,
             "ticks": ""
            },
            "type": "mesh3d"
           }
          ],
          "parcoords": [
           {
            "line": {
             "colorbar": {
              "outlinewidth": 0,
              "ticks": ""
             }
            },
            "type": "parcoords"
           }
          ],
          "pie": [
           {
            "automargin": true,
            "type": "pie"
           }
          ],
          "scatter": [
           {
            "fillpattern": {
             "fillmode": "overlay",
             "size": 10,
             "solidity": 0.2
            },
            "type": "scatter"
           }
          ],
          "scatter3d": [
           {
            "line": {
             "colorbar": {
              "outlinewidth": 0,
              "ticks": ""
             }
            },
            "marker": {
             "colorbar": {
              "outlinewidth": 0,
              "ticks": ""
             }
            },
            "type": "scatter3d"
           }
          ],
          "scattercarpet": [
           {
            "marker": {
             "colorbar": {
              "outlinewidth": 0,
              "ticks": ""
             }
            },
            "type": "scattercarpet"
           }
          ],
          "scattergeo": [
           {
            "marker": {
             "colorbar": {
              "outlinewidth": 0,
              "ticks": ""
             }
            },
            "type": "scattergeo"
           }
          ],
          "scattergl": [
           {
            "marker": {
             "colorbar": {
              "outlinewidth": 0,
              "ticks": ""
             }
            },
            "type": "scattergl"
           }
          ],
          "scattermapbox": [
           {
            "marker": {
             "colorbar": {
              "outlinewidth": 0,
              "ticks": ""
             }
            },
            "type": "scattermapbox"
           }
          ],
          "scatterpolar": [
           {
            "marker": {
             "colorbar": {
              "outlinewidth": 0,
              "ticks": ""
             }
            },
            "type": "scatterpolar"
           }
          ],
          "scatterpolargl": [
           {
            "marker": {
             "colorbar": {
              "outlinewidth": 0,
              "ticks": ""
             }
            },
            "type": "scatterpolargl"
           }
          ],
          "scatterternary": [
           {
            "marker": {
             "colorbar": {
              "outlinewidth": 0,
              "ticks": ""
             }
            },
            "type": "scatterternary"
           }
          ],
          "surface": [
           {
            "colorbar": {
             "outlinewidth": 0,
             "ticks": ""
            },
            "colorscale": [
             [
              0,
              "#0d0887"
             ],
             [
              0.1111111111111111,
              "#46039f"
             ],
             [
              0.2222222222222222,
              "#7201a8"
             ],
             [
              0.3333333333333333,
              "#9c179e"
             ],
             [
              0.4444444444444444,
              "#bd3786"
             ],
             [
              0.5555555555555556,
              "#d8576b"
             ],
             [
              0.6666666666666666,
              "#ed7953"
             ],
             [
              0.7777777777777778,
              "#fb9f3a"
             ],
             [
              0.8888888888888888,
              "#fdca26"
             ],
             [
              1,
              "#f0f921"
             ]
            ],
            "type": "surface"
           }
          ],
          "table": [
           {
            "cells": {
             "fill": {
              "color": "#EBF0F8"
             },
             "line": {
              "color": "white"
             }
            },
            "header": {
             "fill": {
              "color": "#C8D4E3"
             },
             "line": {
              "color": "white"
             }
            },
            "type": "table"
           }
          ]
         },
         "layout": {
          "annotationdefaults": {
           "arrowcolor": "#2a3f5f",
           "arrowhead": 0,
           "arrowwidth": 1
          },
          "autotypenumbers": "strict",
          "coloraxis": {
           "colorbar": {
            "outlinewidth": 0,
            "ticks": ""
           }
          },
          "colorscale": {
           "diverging": [
            [
             0,
             "#8e0152"
            ],
            [
             0.1,
             "#c51b7d"
            ],
            [
             0.2,
             "#de77ae"
            ],
            [
             0.3,
             "#f1b6da"
            ],
            [
             0.4,
             "#fde0ef"
            ],
            [
             0.5,
             "#f7f7f7"
            ],
            [
             0.6,
             "#e6f5d0"
            ],
            [
             0.7,
             "#b8e186"
            ],
            [
             0.8,
             "#7fbc41"
            ],
            [
             0.9,
             "#4d9221"
            ],
            [
             1,
             "#276419"
            ]
           ],
           "sequential": [
            [
             0,
             "#0d0887"
            ],
            [
             0.1111111111111111,
             "#46039f"
            ],
            [
             0.2222222222222222,
             "#7201a8"
            ],
            [
             0.3333333333333333,
             "#9c179e"
            ],
            [
             0.4444444444444444,
             "#bd3786"
            ],
            [
             0.5555555555555556,
             "#d8576b"
            ],
            [
             0.6666666666666666,
             "#ed7953"
            ],
            [
             0.7777777777777778,
             "#fb9f3a"
            ],
            [
             0.8888888888888888,
             "#fdca26"
            ],
            [
             1,
             "#f0f921"
            ]
           ],
           "sequentialminus": [
            [
             0,
             "#0d0887"
            ],
            [
             0.1111111111111111,
             "#46039f"
            ],
            [
             0.2222222222222222,
             "#7201a8"
            ],
            [
             0.3333333333333333,
             "#9c179e"
            ],
            [
             0.4444444444444444,
             "#bd3786"
            ],
            [
             0.5555555555555556,
             "#d8576b"
            ],
            [
             0.6666666666666666,
             "#ed7953"
            ],
            [
             0.7777777777777778,
             "#fb9f3a"
            ],
            [
             0.8888888888888888,
             "#fdca26"
            ],
            [
             1,
             "#f0f921"
            ]
           ]
          },
          "colorway": [
           "#636efa",
           "#EF553B",
           "#00cc96",
           "#ab63fa",
           "#FFA15A",
           "#19d3f3",
           "#FF6692",
           "#B6E880",
           "#FF97FF",
           "#FECB52"
          ],
          "font": {
           "color": "#2a3f5f"
          },
          "geo": {
           "bgcolor": "white",
           "lakecolor": "white",
           "landcolor": "#E5ECF6",
           "showlakes": true,
           "showland": true,
           "subunitcolor": "white"
          },
          "hoverlabel": {
           "align": "left"
          },
          "hovermode": "closest",
          "mapbox": {
           "style": "light"
          },
          "paper_bgcolor": "white",
          "plot_bgcolor": "#E5ECF6",
          "polar": {
           "angularaxis": {
            "gridcolor": "white",
            "linecolor": "white",
            "ticks": ""
           },
           "bgcolor": "#E5ECF6",
           "radialaxis": {
            "gridcolor": "white",
            "linecolor": "white",
            "ticks": ""
           }
          },
          "scene": {
           "xaxis": {
            "backgroundcolor": "#E5ECF6",
            "gridcolor": "white",
            "gridwidth": 2,
            "linecolor": "white",
            "showbackground": true,
            "ticks": "",
            "zerolinecolor": "white"
           },
           "yaxis": {
            "backgroundcolor": "#E5ECF6",
            "gridcolor": "white",
            "gridwidth": 2,
            "linecolor": "white",
            "showbackground": true,
            "ticks": "",
            "zerolinecolor": "white"
           },
           "zaxis": {
            "backgroundcolor": "#E5ECF6",
            "gridcolor": "white",
            "gridwidth": 2,
            "linecolor": "white",
            "showbackground": true,
            "ticks": "",
            "zerolinecolor": "white"
           }
          },
          "shapedefaults": {
           "line": {
            "color": "#2a3f5f"
           }
          },
          "ternary": {
           "aaxis": {
            "gridcolor": "white",
            "linecolor": "white",
            "ticks": ""
           },
           "baxis": {
            "gridcolor": "white",
            "linecolor": "white",
            "ticks": ""
           },
           "bgcolor": "#E5ECF6",
           "caxis": {
            "gridcolor": "white",
            "linecolor": "white",
            "ticks": ""
           }
          },
          "title": {
           "x": 0.05
          },
          "xaxis": {
           "automargin": true,
           "gridcolor": "white",
           "linecolor": "white",
           "ticks": "",
           "title": {
            "standoff": 15
           },
           "zerolinecolor": "white",
           "zerolinewidth": 2
          },
          "yaxis": {
           "automargin": true,
           "gridcolor": "white",
           "linecolor": "white",
           "ticks": "",
           "title": {
            "standoff": 15
           },
           "zerolinecolor": "white",
           "zerolinewidth": 2
          }
         }
        },
        "title": {
         "text": "2019 여성"
        },
        "width": 500
       }
      }
     },
     "metadata": {},
     "output_type": "display_data"
    }
   ],
   "source": [
    "px.pie(df1, values=\"여성\", names=\"이유별(1)\", title=\"2019 여성\", width=500)"
   ]
  },
  {
   "cell_type": "code",
   "execution_count": 119,
   "metadata": {},
   "outputs": [
    {
     "data": {
      "text/html": [
       "<div>\n",
       "<style scoped>\n",
       "    .dataframe tbody tr th:only-of-type {\n",
       "        vertical-align: middle;\n",
       "    }\n",
       "\n",
       "    .dataframe tbody tr th {\n",
       "        vertical-align: top;\n",
       "    }\n",
       "\n",
       "    .dataframe thead th {\n",
       "        text-align: right;\n",
       "    }\n",
       "</style>\n",
       "<table border=\"1\" class=\"dataframe\">\n",
       "  <thead>\n",
       "    <tr style=\"text-align: right;\">\n",
       "      <th></th>\n",
       "      <th>이유별(1)</th>\n",
       "      <th>시점</th>\n",
       "      <th>남성</th>\n",
       "      <th>여성</th>\n",
       "      <th>20대</th>\n",
       "      <th>30대</th>\n",
       "      <th>40대</th>\n",
       "      <th>50대</th>\n",
       "      <th>60대 이상</th>\n",
       "    </tr>\n",
       "  </thead>\n",
       "  <tbody>\n",
       "    <tr>\n",
       "      <th>0</th>\n",
       "      <td>성장, 발달을 위해</td>\n",
       "      <td>2019</td>\n",
       "      <td>9.3</td>\n",
       "      <td>0.5</td>\n",
       "      <td>2.1</td>\n",
       "      <td>8.9</td>\n",
       "      <td>10.6</td>\n",
       "      <td>1.9</td>\n",
       "      <td>0.0</td>\n",
       "    </tr>\n",
       "    <tr>\n",
       "      <th>4</th>\n",
       "      <td>질병치료를 위해</td>\n",
       "      <td>2019</td>\n",
       "      <td>5.2</td>\n",
       "      <td>5.6</td>\n",
       "      <td>5.4</td>\n",
       "      <td>3.3</td>\n",
       "      <td>6.9</td>\n",
       "      <td>5.8</td>\n",
       "      <td>7.8</td>\n",
       "    </tr>\n",
       "    <tr>\n",
       "      <th>8</th>\n",
       "      <td>학습능력 개선을 위해</td>\n",
       "      <td>2019</td>\n",
       "      <td>2.8</td>\n",
       "      <td>0.5</td>\n",
       "      <td>0.0</td>\n",
       "      <td>1.6</td>\n",
       "      <td>4.1</td>\n",
       "      <td>1.8</td>\n",
       "      <td>0.0</td>\n",
       "    </tr>\n",
       "    <tr>\n",
       "      <th>12</th>\n",
       "      <td>질병예방을 위하여</td>\n",
       "      <td>2019</td>\n",
       "      <td>44.9</td>\n",
       "      <td>40.2</td>\n",
       "      <td>46.2</td>\n",
       "      <td>38.8</td>\n",
       "      <td>43.5</td>\n",
       "      <td>49.5</td>\n",
       "      <td>45.4</td>\n",
       "    </tr>\n",
       "    <tr>\n",
       "      <th>16</th>\n",
       "      <td>미용효과를 위하여</td>\n",
       "      <td>2019</td>\n",
       "      <td>11.3</td>\n",
       "      <td>25.0</td>\n",
       "      <td>16.4</td>\n",
       "      <td>22.1</td>\n",
       "      <td>11.2</td>\n",
       "      <td>12.0</td>\n",
       "      <td>6.3</td>\n",
       "    </tr>\n",
       "    <tr>\n",
       "      <th>20</th>\n",
       "      <td>피로회복을 위해</td>\n",
       "      <td>2019</td>\n",
       "      <td>71.8</td>\n",
       "      <td>71.5</td>\n",
       "      <td>61.3</td>\n",
       "      <td>74.5</td>\n",
       "      <td>72.2</td>\n",
       "      <td>73.3</td>\n",
       "      <td>65.7</td>\n",
       "    </tr>\n",
       "    <tr>\n",
       "      <th>24</th>\n",
       "      <td>건강 증진을 위해</td>\n",
       "      <td>2019</td>\n",
       "      <td>68.1</td>\n",
       "      <td>57.0</td>\n",
       "      <td>47.4</td>\n",
       "      <td>62.9</td>\n",
       "      <td>64.3</td>\n",
       "      <td>74.3</td>\n",
       "      <td>74.5</td>\n",
       "    </tr>\n",
       "    <tr>\n",
       "      <th>28</th>\n",
       "      <td>기타</td>\n",
       "      <td>2019</td>\n",
       "      <td>0.2</td>\n",
       "      <td>0.0</td>\n",
       "      <td>0.0</td>\n",
       "      <td>0.3</td>\n",
       "      <td>0.0</td>\n",
       "      <td>0.2</td>\n",
       "      <td>0.1</td>\n",
       "    </tr>\n",
       "  </tbody>\n",
       "</table>\n",
       "</div>"
      ],
      "text/plain": [
       "         이유별(1)    시점    남성    여성   20대   30대   40대   50대  60대 이상\n",
       "0    성장, 발달을 위해  2019   9.3   0.5   2.1   8.9  10.6   1.9     0.0\n",
       "4      질병치료를 위해  2019   5.2   5.6   5.4   3.3   6.9   5.8     7.8\n",
       "8   학습능력 개선을 위해  2019   2.8   0.5   0.0   1.6   4.1   1.8     0.0\n",
       "12    질병예방을 위하여  2019  44.9  40.2  46.2  38.8  43.5  49.5    45.4\n",
       "16    미용효과를 위하여  2019  11.3  25.0  16.4  22.1  11.2  12.0     6.3\n",
       "20     피로회복을 위해  2019  71.8  71.5  61.3  74.5  72.2  73.3    65.7\n",
       "24    건강 증진을 위해  2019  68.1  57.0  47.4  62.9  64.3  74.3    74.5\n",
       "28           기타  2019   0.2   0.0   0.0   0.3   0.0   0.2     0.1"
      ]
     },
     "execution_count": 119,
     "metadata": {},
     "output_type": "execute_result"
    }
   ],
   "source": [
    "df_intake_rsn.groupby(\"이유별(1)\")\n",
    "df1"
   ]
  },
  {
   "cell_type": "code",
   "execution_count": null,
   "metadata": {},
   "outputs": [],
   "source": [
    "### 연도별 성별 건강기능식품 복용여부 추이\n",
    "fig = make_subplots(rows= 2, cols= 4,\n",
    "                    subplot_titles=(\"20대 건강기능식품 복용 이유\", \"30대 건강기능식품 복용 이유\",\n",
    "                                    \"40대 건강기능식품 복용 이유\", \"50대 건강기능식품 복용 이유\",\n",
    "                                    \"60대 이상 건강기능식품 복용 이유\"))\n",
    "\n",
    "# - 20대 건강기능식품 복용여부 추이\n",
    "fig.add_trace(go.Bar(x=df_intake_rsn.groupby(\"이유별(1)\").get_group(\"먹고 있다\")[\"20대\"].values,\n",
    "                     y=df_intake_rsn[\"시점\"][:4].values, orientation='h'),\n",
    "                     row=1, col=1)\n",
    "fig.add_trace(go.Bar(x=df_intake_rsn.groupby(\"이유별(1)\").get_group(\"먹고 있지 않다\")[\"20대\"].values,\n",
    "                     y=df_intake_rsn[\"시점\"][:4].values, orientation='h'),\n",
    "                     row=1, col=1)\n",
    "# - 30대 건강기능식품 복용여부 추이\n",
    "fig.add_trace(go.Bar(x=df_intake_rsn.groupby(\"이유별(1)\").get_group(\"먹고 있다\")[\"30대\"].values,\n",
    "                     y=df_intake_rsn[\"시점\"][:4].values, orientation='h'),\n",
    "                     row=1, col=2)\n",
    "fig.add_trace(go.Bar(x=df_intake_rsn.groupby(\"이유별(1)\").get_group(\"먹고 있지 않다\")[\"30대\"].values,\n",
    "                     y=df_intake_rsn[\"시점\"][:4].values, orientation='h'),\n",
    "                     row=1, col=2)\n",
    "# - 40대 건강기능식품 복용여부 추이\n",
    "fig.add_trace(go.Bar(x=df_intake_rsn.groupby(\"이유별(1)\").get_group(\"먹고 있다\")[\"40대\"].values,\n",
    "                     y=df_intake_rsn[\"시점\"][:4].values, orientation='h'),\n",
    "                     row=1, col=3)\n",
    "fig.add_trace(go.Bar(x=df_intake_rsn.groupby(\"이유별(1)\").get_group(\"먹고 있지 않다\")[\"40대\"].values,\n",
    "                     y=df_intake_rsn[\"시점\"][:4].values, orientation='h'),\n",
    "                     row=1, col=3)\n",
    "# - 50대 건강기능식품 복용여부 추이\n",
    "fig.add_trace(go.Bar(x=df_intake_rsn.groupby(\"이유별(1)\").get_group(\"먹고 있다\")[\"50대\"].values,\n",
    "                     y=df_intake_rsn[\"시점\"][:4].values, orientation='h'),\n",
    "                     row=2, col=1)\n",
    "fig.add_trace(go.Bar(x=df_intake_rsn.groupby(\"이유별(1)\").get_group(\"먹고 있지 않다\")[\"50대\"].values,\n",
    "                     y=df_intake_rsn[\"시점\"][:4].values, orientation='h'),\n",
    "                     row=2, col=1)\n",
    "# - 60대 이상 건강기능식품 복용여부 추이\n",
    "fig.add_trace(go.Bar(x=df_intake_rsn.groupby(\"이유별(1)\").get_group(\"먹고 있다\")[\"60대 이상\"].values,\n",
    "                     y=df_intake_rsn[\"시점\"][:4].values, orientation='h'),\n",
    "                     row=2, col=2)\n",
    "fig.add_trace(go.Bar(x=df_intake_rsn.groupby(\"이유별(1)\").get_group(\"먹고 있지 않다\")[\"60대 이상\"].values,\n",
    "                     y=df_intake_rsn[\"시점\"][:4].values, orientation='h'),\n",
    "                     row=2, col=2)\n",
    "\n",
    "\n",
    "\n",
    "fig.update_layout(title_text=\"연도별 성별 건강기능식품 복용여부 추이\",\n",
    "                  barmode=\"relative\", showlegend=False)\n",
    "\n",
    "fig.show()"
   ]
  },
  {
   "cell_type": "code",
   "execution_count": null,
   "metadata": {},
   "outputs": [],
   "source": []
  },
  {
   "cell_type": "code",
   "execution_count": null,
   "metadata": {},
   "outputs": [],
   "source": []
  },
  {
   "cell_type": "code",
   "execution_count": null,
   "metadata": {},
   "outputs": [],
   "source": []
  },
  {
   "cell_type": "code",
   "execution_count": null,
   "metadata": {},
   "outputs": [],
   "source": []
  },
  {
   "cell_type": "code",
   "execution_count": null,
   "metadata": {},
   "outputs": [],
   "source": []
  },
  {
   "cell_type": "code",
   "execution_count": null,
   "metadata": {},
   "outputs": [],
   "source": []
  }
 ],
 "metadata": {
  "kernelspec": {
   "display_name": "busan_env",
   "language": "python",
   "name": "python3"
  },
  "language_info": {
   "codemirror_mode": {
    "name": "ipython",
    "version": 3
   },
   "file_extension": ".py",
   "mimetype": "text/x-python",
   "name": "python",
   "nbconvert_exporter": "python",
   "pygments_lexer": "ipython3",
   "version": "3.9.16"
  },
  "orig_nbformat": 4
 },
 "nbformat": 4,
 "nbformat_minor": 2
}
