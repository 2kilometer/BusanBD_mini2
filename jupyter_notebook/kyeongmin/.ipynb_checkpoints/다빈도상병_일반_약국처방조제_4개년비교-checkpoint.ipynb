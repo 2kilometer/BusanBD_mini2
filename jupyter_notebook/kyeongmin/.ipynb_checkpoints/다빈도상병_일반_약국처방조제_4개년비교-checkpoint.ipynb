{
 "cells": [
  {
   "cell_type": "code",
   "execution_count": 1,
   "metadata": {},
   "outputs": [],
   "source": [
    "import plotly\n",
    "import plotly.graph_objects as go\n",
    "import plotly.express as px\n",
    "import pandas as pd"
   ]
  },
  {
   "cell_type": "markdown",
   "metadata": {},
   "source": [
    "# 2021년 기준 다빈도 상병"
   ]
  },
  {
   "cell_type": "code",
   "execution_count": 2,
   "metadata": {},
   "outputs": [
    {
     "name": "stderr",
     "output_type": "stream",
     "text": [
      "c:\\Users\\USER\\anaconda3\\envs\\busan_env\\lib\\site-packages\\openpyxl\\styles\\stylesheet.py:226: UserWarning: Workbook contains no default style, apply openpyxl's default\n",
      "  warn(\"Workbook contains no default style, apply openpyxl's default\")\n",
      "c:\\Users\\USER\\anaconda3\\envs\\busan_env\\lib\\site-packages\\openpyxl\\styles\\stylesheet.py:226: UserWarning: Workbook contains no default style, apply openpyxl's default\n",
      "  warn(\"Workbook contains no default style, apply openpyxl's default\")\n",
      "c:\\Users\\USER\\anaconda3\\envs\\busan_env\\lib\\site-packages\\openpyxl\\styles\\stylesheet.py:226: UserWarning: Workbook contains no default style, apply openpyxl's default\n",
      "  warn(\"Workbook contains no default style, apply openpyxl's default\")\n"
     ]
    },
    {
     "data": {
      "text/html": [
       "<div>\n",
       "<style scoped>\n",
       "    .dataframe tbody tr th:only-of-type {\n",
       "        vertical-align: middle;\n",
       "    }\n",
       "\n",
       "    .dataframe tbody tr th {\n",
       "        vertical-align: top;\n",
       "    }\n",
       "\n",
       "    .dataframe thead th {\n",
       "        text-align: right;\n",
       "    }\n",
       "</style>\n",
       "<table border=\"1\" class=\"dataframe\">\n",
       "  <thead>\n",
       "    <tr style=\"text-align: right;\">\n",
       "      <th></th>\n",
       "      <th>순위별</th>\n",
       "      <th>상병명</th>\n",
       "      <th>2021진료실인원(명)</th>\n",
       "      <th>2021상병코드</th>\n",
       "      <th>2020진료실인원(명)</th>\n",
       "      <th>2019진료실인원(명)</th>\n",
       "      <th>2018진료실인원(명)</th>\n",
       "    </tr>\n",
       "  </thead>\n",
       "  <tbody>\n",
       "    <tr>\n",
       "      <th>0</th>\n",
       "      <td>1위</td>\n",
       "      <td>K05_치은염및치주질환</td>\n",
       "      <td>17641937</td>\n",
       "      <td>K05</td>\n",
       "      <td>16337755</td>\n",
       "      <td>16854301.0</td>\n",
       "      <td>15829305.0</td>\n",
       "    </tr>\n",
       "    <tr>\n",
       "      <th>1</th>\n",
       "      <td>2위</td>\n",
       "      <td>J20_급성기관지염</td>\n",
       "      <td>7416511</td>\n",
       "      <td>J20</td>\n",
       "      <td>9424601</td>\n",
       "      <td>16103362.0</td>\n",
       "      <td>16788119.0</td>\n",
       "    </tr>\n",
       "    <tr>\n",
       "      <th>2</th>\n",
       "      <td>3위</td>\n",
       "      <td>I10_본태성(원발성)고혈압</td>\n",
       "      <td>6803587</td>\n",
       "      <td>I10</td>\n",
       "      <td>6488276</td>\n",
       "      <td>6290325.0</td>\n",
       "      <td>6063677.0</td>\n",
       "    </tr>\n",
       "    <tr>\n",
       "      <th>3</th>\n",
       "      <td>4위</td>\n",
       "      <td>K02_치아우식</td>\n",
       "      <td>6350440</td>\n",
       "      <td>K02</td>\n",
       "      <td>6137300</td>\n",
       "      <td>6451476.0</td>\n",
       "      <td>5871862.0</td>\n",
       "    </tr>\n",
       "    <tr>\n",
       "      <th>4</th>\n",
       "      <td>5위</td>\n",
       "      <td>M54_등통증</td>\n",
       "      <td>5455203</td>\n",
       "      <td>M54</td>\n",
       "      <td>5114450</td>\n",
       "      <td>5419768.0</td>\n",
       "      <td>5254064.0</td>\n",
       "    </tr>\n",
       "    <tr>\n",
       "      <th>5</th>\n",
       "      <td>6위</td>\n",
       "      <td>J30_혈관운동성및앨러지성비염</td>\n",
       "      <td>5005048</td>\n",
       "      <td>J30</td>\n",
       "      <td>5188981</td>\n",
       "      <td>7046897.0</td>\n",
       "      <td>7034188.0</td>\n",
       "    </tr>\n",
       "    <tr>\n",
       "      <th>6</th>\n",
       "      <td>7위</td>\n",
       "      <td>K29_위염및십이지장염</td>\n",
       "      <td>4923829</td>\n",
       "      <td>K29</td>\n",
       "      <td>4546735</td>\n",
       "      <td>5242035.0</td>\n",
       "      <td>5336838.0</td>\n",
       "    </tr>\n",
       "    <tr>\n",
       "      <th>7</th>\n",
       "      <td>8위</td>\n",
       "      <td>K21_위-식도역류병</td>\n",
       "      <td>4914675</td>\n",
       "      <td>K21</td>\n",
       "      <td>4589073</td>\n",
       "      <td>4597376.0</td>\n",
       "      <td>4437764.0</td>\n",
       "    </tr>\n",
       "    <tr>\n",
       "      <th>8</th>\n",
       "      <td>9위</td>\n",
       "      <td>L23_앨러지성접촉피부염</td>\n",
       "      <td>4348291</td>\n",
       "      <td>L23</td>\n",
       "      <td>4380322</td>\n",
       "      <td>4665140.0</td>\n",
       "      <td>4617628.0</td>\n",
       "    </tr>\n",
       "    <tr>\n",
       "      <th>9</th>\n",
       "      <td>10위</td>\n",
       "      <td>H10_결막염</td>\n",
       "      <td>3920336</td>\n",
       "      <td>H10</td>\n",
       "      <td>3824283</td>\n",
       "      <td>4572256.0</td>\n",
       "      <td>4690391.0</td>\n",
       "    </tr>\n",
       "    <tr>\n",
       "      <th>10</th>\n",
       "      <td>11위</td>\n",
       "      <td>Z11_감염성및기생충성질환에대한특수선별검사</td>\n",
       "      <td>3806187</td>\n",
       "      <td>Z11</td>\n",
       "      <td>1221796</td>\n",
       "      <td>NaN</td>\n",
       "      <td>NaN</td>\n",
       "    </tr>\n",
       "    <tr>\n",
       "      <th>11</th>\n",
       "      <td>12위</td>\n",
       "      <td>K04_치수및근단주위조직의질환</td>\n",
       "      <td>3704402</td>\n",
       "      <td>K04</td>\n",
       "      <td>3900164</td>\n",
       "      <td>4217933.0</td>\n",
       "      <td>4297830.0</td>\n",
       "    </tr>\n",
       "    <tr>\n",
       "      <th>12</th>\n",
       "      <td>13위</td>\n",
       "      <td>A09_감염성및상세불명기원의기타위장염및결장염</td>\n",
       "      <td>3569235</td>\n",
       "      <td>A09</td>\n",
       "      <td>3295095</td>\n",
       "      <td>4379508.0</td>\n",
       "      <td>4625172.0</td>\n",
       "    </tr>\n",
       "    <tr>\n",
       "      <th>13</th>\n",
       "      <td>14위</td>\n",
       "      <td>E11_2형당뇨병</td>\n",
       "      <td>3229748</td>\n",
       "      <td>E11</td>\n",
       "      <td>3027552</td>\n",
       "      <td>2901869.0</td>\n",
       "      <td>2732795.0</td>\n",
       "    </tr>\n",
       "    <tr>\n",
       "      <th>14</th>\n",
       "      <td>15위</td>\n",
       "      <td>M17_무릎관절증</td>\n",
       "      <td>2901421</td>\n",
       "      <td>M17</td>\n",
       "      <td>2731456</td>\n",
       "      <td>2950913.0</td>\n",
       "      <td>2869031.0</td>\n",
       "    </tr>\n",
       "    <tr>\n",
       "      <th>15</th>\n",
       "      <td>16위</td>\n",
       "      <td>M79_달리분류되지않은기타연조직장애</td>\n",
       "      <td>2894192</td>\n",
       "      <td>M79</td>\n",
       "      <td>2505851</td>\n",
       "      <td>3016635.0</td>\n",
       "      <td>3081561.0</td>\n",
       "    </tr>\n",
       "    <tr>\n",
       "      <th>16</th>\n",
       "      <td>17위</td>\n",
       "      <td>H52_굴절및조절의장애</td>\n",
       "      <td>2752295</td>\n",
       "      <td>H52</td>\n",
       "      <td>2303664</td>\n",
       "      <td>2632464.0</td>\n",
       "      <td>2594785.0</td>\n",
       "    </tr>\n",
       "    <tr>\n",
       "      <th>17</th>\n",
       "      <td>18위</td>\n",
       "      <td>J06_다발성및상세불명부위의급성상기도감염</td>\n",
       "      <td>2718709</td>\n",
       "      <td>J06</td>\n",
       "      <td>3364497</td>\n",
       "      <td>5681270.0</td>\n",
       "      <td>6021474.0</td>\n",
       "    </tr>\n",
       "    <tr>\n",
       "      <th>18</th>\n",
       "      <td>19위</td>\n",
       "      <td>E78_지질단백질대사장애및기타지질증</td>\n",
       "      <td>2648917</td>\n",
       "      <td>E78</td>\n",
       "      <td>2278100</td>\n",
       "      <td>2209728.0</td>\n",
       "      <td>2036255.0</td>\n",
       "    </tr>\n",
       "    <tr>\n",
       "      <th>19</th>\n",
       "      <td>20위</td>\n",
       "      <td>H04_눈물계통의장애</td>\n",
       "      <td>2616514</td>\n",
       "      <td>H04</td>\n",
       "      <td>2284001</td>\n",
       "      <td>2547223.0</td>\n",
       "      <td>2444182.0</td>\n",
       "    </tr>\n",
       "  </tbody>\n",
       "</table>\n",
       "</div>"
      ],
      "text/plain": [
       "    순위별                       상병명  2021진료실인원(명) 2021상병코드  2020진료실인원(명)   \n",
       "0    1위              K05_치은염및치주질환      17641937      K05      16337755  \\\n",
       "1    2위                J20_급성기관지염       7416511      J20       9424601   \n",
       "2    3위           I10_본태성(원발성)고혈압       6803587      I10       6488276   \n",
       "3    4위                  K02_치아우식       6350440      K02       6137300   \n",
       "4    5위                   M54_등통증       5455203      M54       5114450   \n",
       "5    6위          J30_혈관운동성및앨러지성비염       5005048      J30       5188981   \n",
       "6    7위              K29_위염및십이지장염       4923829      K29       4546735   \n",
       "7    8위               K21_위-식도역류병       4914675      K21       4589073   \n",
       "8    9위             L23_앨러지성접촉피부염       4348291      L23       4380322   \n",
       "9   10위                   H10_결막염       3920336      H10       3824283   \n",
       "10  11위   Z11_감염성및기생충성질환에대한특수선별검사       3806187      Z11       1221796   \n",
       "11  12위          K04_치수및근단주위조직의질환       3704402      K04       3900164   \n",
       "12  13위  A09_감염성및상세불명기원의기타위장염및결장염       3569235      A09       3295095   \n",
       "13  14위                 E11_2형당뇨병       3229748      E11       3027552   \n",
       "14  15위                 M17_무릎관절증       2901421      M17       2731456   \n",
       "15  16위       M79_달리분류되지않은기타연조직장애       2894192      M79       2505851   \n",
       "16  17위              H52_굴절및조절의장애       2752295      H52       2303664   \n",
       "17  18위    J06_다발성및상세불명부위의급성상기도감염       2718709      J06       3364497   \n",
       "18  19위       E78_지질단백질대사장애및기타지질증       2648917      E78       2278100   \n",
       "19  20위               H04_눈물계통의장애       2616514      H04       2284001   \n",
       "\n",
       "    2019진료실인원(명)  2018진료실인원(명)  \n",
       "0     16854301.0    15829305.0  \n",
       "1     16103362.0    16788119.0  \n",
       "2      6290325.0     6063677.0  \n",
       "3      6451476.0     5871862.0  \n",
       "4      5419768.0     5254064.0  \n",
       "5      7046897.0     7034188.0  \n",
       "6      5242035.0     5336838.0  \n",
       "7      4597376.0     4437764.0  \n",
       "8      4665140.0     4617628.0  \n",
       "9      4572256.0     4690391.0  \n",
       "10           NaN           NaN  \n",
       "11     4217933.0     4297830.0  \n",
       "12     4379508.0     4625172.0  \n",
       "13     2901869.0     2732795.0  \n",
       "14     2950913.0     2869031.0  \n",
       "15     3016635.0     3081561.0  \n",
       "16     2632464.0     2594785.0  \n",
       "17     5681270.0     6021474.0  \n",
       "18     2209728.0     2036255.0  \n",
       "19     2547223.0     2444182.0  "
      ]
     },
     "execution_count": 2,
     "metadata": {},
     "output_type": "execute_result"
    }
   ],
   "source": [
    "### 다빈도 상병 4개년 비교하기 (top20 : 2021년 상병 기준)\n",
    "df = pd.DataFrame()\n",
    "# - 2021년 top20 데이터 불러들이기\n",
    "df_2021 = pd.read_excel(\"../data/질병소분류별_다빈도_상병_급여현황_계__{}.xlsx\".format(\"2021\"),\n",
    "                        header=1, usecols=\"A:C\")[:20].rename(columns={\"진료실인원 (명)\":\"{}진료실인원(명)\".format(\"2021\")})\n",
    "df_2021[\"2021상병코드\"] = df_2021[\"상병명\"].str[0:3]\n",
    "\n",
    "# - 2021 top 20를 기준으로 2019~2020년 데이터 합치기\n",
    "year_list = [2020, 2019, 2018]\n",
    "for val_y in year_list :\n",
    "    df_temp = pd.DataFrame()\n",
    "    df_temp = pd.read_excel(\"../data/질병소분류별_다빈도_상병_급여현황_계__{}.xlsx\".format(val_y),\n",
    "                        header=1, usecols=\"B,C\").rename(columns={\"진료실인원 (명)\":\"{}진료실인원(명)\".format(val_y)})\n",
    "    df_temp[\"{}상병코드\".format(val_y)] = df_temp[\"상병명\"].str[0:3]\n",
    "    df_temp.drop(columns=\"상병명\", inplace=True)\n",
    "\n",
    "    df_2021 = pd.merge(left=df_2021, right=df_temp, how=\"left\",\n",
    "                       left_on=\"2021상병코드\", right_on=\"{}상병코드\".format(val_y))\n",
    "    df_2021.drop(columns=\"{}상병코드\".format(val_y), inplace=True)\n",
    "\n",
    "df_2021"
   ]
  },
  {
   "cell_type": "code",
   "execution_count": 14,
   "metadata": {},
   "outputs": [
    {
     "data": {
      "application/vnd.plotly.v1+json": {
       "config": {
        "plotlyServerURL": "https://plot.ly"
       },
       "data": [
        {
         "name": "2021",
         "type": "bar",
         "x": [
          "K05_치은염및치주질환",
          "J20_급성기관지염",
          "I10_본태성(원발성)고혈압",
          "K02_치아우식",
          "M54_등통증",
          "J30_혈관운동성및앨러지성비염",
          "K29_위염및십이지장염",
          "K21_위-식도역류병",
          "L23_앨러지성접촉피부염",
          "H10_결막염",
          "Z11_감염성및기생충성질환에대한특수선별검사",
          "K04_치수및근단주위조직의질환",
          "A09_감염성및상세불명기원의기타위장염및결장염",
          "E11_2형당뇨병",
          "M17_무릎관절증",
          "M79_달리분류되지않은기타연조직장애",
          "H52_굴절및조절의장애",
          "J06_다발성및상세불명부위의급성상기도감염",
          "E78_지질단백질대사장애및기타지질증",
          "H04_눈물계통의장애"
         ],
         "y": [
          17641937,
          7416511,
          6803587,
          6350440,
          5455203,
          5005048,
          4923829,
          4914675,
          4348291,
          3920336,
          3806187,
          3704402,
          3569235,
          3229748,
          2901421,
          2894192,
          2752295,
          2718709,
          2648917,
          2616514
         ]
        },
        {
         "name": "2020",
         "type": "bar",
         "x": [
          "K05_치은염및치주질환",
          "J20_급성기관지염",
          "I10_본태성(원발성)고혈압",
          "K02_치아우식",
          "M54_등통증",
          "J30_혈관운동성및앨러지성비염",
          "K29_위염및십이지장염",
          "K21_위-식도역류병",
          "L23_앨러지성접촉피부염",
          "H10_결막염",
          "Z11_감염성및기생충성질환에대한특수선별검사",
          "K04_치수및근단주위조직의질환",
          "A09_감염성및상세불명기원의기타위장염및결장염",
          "E11_2형당뇨병",
          "M17_무릎관절증",
          "M79_달리분류되지않은기타연조직장애",
          "H52_굴절및조절의장애",
          "J06_다발성및상세불명부위의급성상기도감염",
          "E78_지질단백질대사장애및기타지질증",
          "H04_눈물계통의장애"
         ],
         "y": [
          16337755,
          9424601,
          6488276,
          6137300,
          5114450,
          5188981,
          4546735,
          4589073,
          4380322,
          3824283,
          1221796,
          3900164,
          3295095,
          3027552,
          2731456,
          2505851,
          2303664,
          3364497,
          2278100,
          2284001
         ]
        },
        {
         "name": "2019",
         "type": "bar",
         "x": [
          "K05_치은염및치주질환",
          "J20_급성기관지염",
          "I10_본태성(원발성)고혈압",
          "K02_치아우식",
          "M54_등통증",
          "J30_혈관운동성및앨러지성비염",
          "K29_위염및십이지장염",
          "K21_위-식도역류병",
          "L23_앨러지성접촉피부염",
          "H10_결막염",
          "Z11_감염성및기생충성질환에대한특수선별검사",
          "K04_치수및근단주위조직의질환",
          "A09_감염성및상세불명기원의기타위장염및결장염",
          "E11_2형당뇨병",
          "M17_무릎관절증",
          "M79_달리분류되지않은기타연조직장애",
          "H52_굴절및조절의장애",
          "J06_다발성및상세불명부위의급성상기도감염",
          "E78_지질단백질대사장애및기타지질증",
          "H04_눈물계통의장애"
         ],
         "y": [
          16854301,
          16103362,
          6290325,
          6451476,
          5419768,
          7046897,
          5242035,
          4597376,
          4665140,
          4572256,
          null,
          4217933,
          4379508,
          2901869,
          2950913,
          3016635,
          2632464,
          5681270,
          2209728,
          2547223
         ]
        },
        {
         "name": "2018",
         "type": "bar",
         "x": [
          "K05_치은염및치주질환",
          "J20_급성기관지염",
          "I10_본태성(원발성)고혈압",
          "K02_치아우식",
          "M54_등통증",
          "J30_혈관운동성및앨러지성비염",
          "K29_위염및십이지장염",
          "K21_위-식도역류병",
          "L23_앨러지성접촉피부염",
          "H10_결막염",
          "Z11_감염성및기생충성질환에대한특수선별검사",
          "K04_치수및근단주위조직의질환",
          "A09_감염성및상세불명기원의기타위장염및결장염",
          "E11_2형당뇨병",
          "M17_무릎관절증",
          "M79_달리분류되지않은기타연조직장애",
          "H52_굴절및조절의장애",
          "J06_다발성및상세불명부위의급성상기도감염",
          "E78_지질단백질대사장애및기타지질증",
          "H04_눈물계통의장애"
         ],
         "y": [
          15829305,
          16788119,
          6063677,
          5871862,
          5254064,
          7034188,
          5336838,
          4437764,
          4617628,
          4690391,
          null,
          4297830,
          4625172,
          2732795,
          2869031,
          3081561,
          2594785,
          6021474,
          2036255,
          2444182
         ]
        }
       ],
       "layout": {
        "barmode": "group",
        "template": {
         "data": {
          "bar": [
           {
            "error_x": {
             "color": "#2a3f5f"
            },
            "error_y": {
             "color": "#2a3f5f"
            },
            "marker": {
             "line": {
              "color": "#E5ECF6",
              "width": 0.5
             },
             "pattern": {
              "fillmode": "overlay",
              "size": 10,
              "solidity": 0.2
             }
            },
            "type": "bar"
           }
          ],
          "barpolar": [
           {
            "marker": {
             "line": {
              "color": "#E5ECF6",
              "width": 0.5
             },
             "pattern": {
              "fillmode": "overlay",
              "size": 10,
              "solidity": 0.2
             }
            },
            "type": "barpolar"
           }
          ],
          "carpet": [
           {
            "aaxis": {
             "endlinecolor": "#2a3f5f",
             "gridcolor": "white",
             "linecolor": "white",
             "minorgridcolor": "white",
             "startlinecolor": "#2a3f5f"
            },
            "baxis": {
             "endlinecolor": "#2a3f5f",
             "gridcolor": "white",
             "linecolor": "white",
             "minorgridcolor": "white",
             "startlinecolor": "#2a3f5f"
            },
            "type": "carpet"
           }
          ],
          "choropleth": [
           {
            "colorbar": {
             "outlinewidth": 0,
             "ticks": ""
            },
            "type": "choropleth"
           }
          ],
          "contour": [
           {
            "colorbar": {
             "outlinewidth": 0,
             "ticks": ""
            },
            "colorscale": [
             [
              0,
              "#0d0887"
             ],
             [
              0.1111111111111111,
              "#46039f"
             ],
             [
              0.2222222222222222,
              "#7201a8"
             ],
             [
              0.3333333333333333,
              "#9c179e"
             ],
             [
              0.4444444444444444,
              "#bd3786"
             ],
             [
              0.5555555555555556,
              "#d8576b"
             ],
             [
              0.6666666666666666,
              "#ed7953"
             ],
             [
              0.7777777777777778,
              "#fb9f3a"
             ],
             [
              0.8888888888888888,
              "#fdca26"
             ],
             [
              1,
              "#f0f921"
             ]
            ],
            "type": "contour"
           }
          ],
          "contourcarpet": [
           {
            "colorbar": {
             "outlinewidth": 0,
             "ticks": ""
            },
            "type": "contourcarpet"
           }
          ],
          "heatmap": [
           {
            "colorbar": {
             "outlinewidth": 0,
             "ticks": ""
            },
            "colorscale": [
             [
              0,
              "#0d0887"
             ],
             [
              0.1111111111111111,
              "#46039f"
             ],
             [
              0.2222222222222222,
              "#7201a8"
             ],
             [
              0.3333333333333333,
              "#9c179e"
             ],
             [
              0.4444444444444444,
              "#bd3786"
             ],
             [
              0.5555555555555556,
              "#d8576b"
             ],
             [
              0.6666666666666666,
              "#ed7953"
             ],
             [
              0.7777777777777778,
              "#fb9f3a"
             ],
             [
              0.8888888888888888,
              "#fdca26"
             ],
             [
              1,
              "#f0f921"
             ]
            ],
            "type": "heatmap"
           }
          ],
          "heatmapgl": [
           {
            "colorbar": {
             "outlinewidth": 0,
             "ticks": ""
            },
            "colorscale": [
             [
              0,
              "#0d0887"
             ],
             [
              0.1111111111111111,
              "#46039f"
             ],
             [
              0.2222222222222222,
              "#7201a8"
             ],
             [
              0.3333333333333333,
              "#9c179e"
             ],
             [
              0.4444444444444444,
              "#bd3786"
             ],
             [
              0.5555555555555556,
              "#d8576b"
             ],
             [
              0.6666666666666666,
              "#ed7953"
             ],
             [
              0.7777777777777778,
              "#fb9f3a"
             ],
             [
              0.8888888888888888,
              "#fdca26"
             ],
             [
              1,
              "#f0f921"
             ]
            ],
            "type": "heatmapgl"
           }
          ],
          "histogram": [
           {
            "marker": {
             "pattern": {
              "fillmode": "overlay",
              "size": 10,
              "solidity": 0.2
             }
            },
            "type": "histogram"
           }
          ],
          "histogram2d": [
           {
            "colorbar": {
             "outlinewidth": 0,
             "ticks": ""
            },
            "colorscale": [
             [
              0,
              "#0d0887"
             ],
             [
              0.1111111111111111,
              "#46039f"
             ],
             [
              0.2222222222222222,
              "#7201a8"
             ],
             [
              0.3333333333333333,
              "#9c179e"
             ],
             [
              0.4444444444444444,
              "#bd3786"
             ],
             [
              0.5555555555555556,
              "#d8576b"
             ],
             [
              0.6666666666666666,
              "#ed7953"
             ],
             [
              0.7777777777777778,
              "#fb9f3a"
             ],
             [
              0.8888888888888888,
              "#fdca26"
             ],
             [
              1,
              "#f0f921"
             ]
            ],
            "type": "histogram2d"
           }
          ],
          "histogram2dcontour": [
           {
            "colorbar": {
             "outlinewidth": 0,
             "ticks": ""
            },
            "colorscale": [
             [
              0,
              "#0d0887"
             ],
             [
              0.1111111111111111,
              "#46039f"
             ],
             [
              0.2222222222222222,
              "#7201a8"
             ],
             [
              0.3333333333333333,
              "#9c179e"
             ],
             [
              0.4444444444444444,
              "#bd3786"
             ],
             [
              0.5555555555555556,
              "#d8576b"
             ],
             [
              0.6666666666666666,
              "#ed7953"
             ],
             [
              0.7777777777777778,
              "#fb9f3a"
             ],
             [
              0.8888888888888888,
              "#fdca26"
             ],
             [
              1,
              "#f0f921"
             ]
            ],
            "type": "histogram2dcontour"
           }
          ],
          "mesh3d": [
           {
            "colorbar": {
             "outlinewidth": 0,
             "ticks": ""
            },
            "type": "mesh3d"
           }
          ],
          "parcoords": [
           {
            "line": {
             "colorbar": {
              "outlinewidth": 0,
              "ticks": ""
             }
            },
            "type": "parcoords"
           }
          ],
          "pie": [
           {
            "automargin": true,
            "type": "pie"
           }
          ],
          "scatter": [
           {
            "fillpattern": {
             "fillmode": "overlay",
             "size": 10,
             "solidity": 0.2
            },
            "type": "scatter"
           }
          ],
          "scatter3d": [
           {
            "line": {
             "colorbar": {
              "outlinewidth": 0,
              "ticks": ""
             }
            },
            "marker": {
             "colorbar": {
              "outlinewidth": 0,
              "ticks": ""
             }
            },
            "type": "scatter3d"
           }
          ],
          "scattercarpet": [
           {
            "marker": {
             "colorbar": {
              "outlinewidth": 0,
              "ticks": ""
             }
            },
            "type": "scattercarpet"
           }
          ],
          "scattergeo": [
           {
            "marker": {
             "colorbar": {
              "outlinewidth": 0,
              "ticks": ""
             }
            },
            "type": "scattergeo"
           }
          ],
          "scattergl": [
           {
            "marker": {
             "colorbar": {
              "outlinewidth": 0,
              "ticks": ""
             }
            },
            "type": "scattergl"
           }
          ],
          "scattermapbox": [
           {
            "marker": {
             "colorbar": {
              "outlinewidth": 0,
              "ticks": ""
             }
            },
            "type": "scattermapbox"
           }
          ],
          "scatterpolar": [
           {
            "marker": {
             "colorbar": {
              "outlinewidth": 0,
              "ticks": ""
             }
            },
            "type": "scatterpolar"
           }
          ],
          "scatterpolargl": [
           {
            "marker": {
             "colorbar": {
              "outlinewidth": 0,
              "ticks": ""
             }
            },
            "type": "scatterpolargl"
           }
          ],
          "scatterternary": [
           {
            "marker": {
             "colorbar": {
              "outlinewidth": 0,
              "ticks": ""
             }
            },
            "type": "scatterternary"
           }
          ],
          "surface": [
           {
            "colorbar": {
             "outlinewidth": 0,
             "ticks": ""
            },
            "colorscale": [
             [
              0,
              "#0d0887"
             ],
             [
              0.1111111111111111,
              "#46039f"
             ],
             [
              0.2222222222222222,
              "#7201a8"
             ],
             [
              0.3333333333333333,
              "#9c179e"
             ],
             [
              0.4444444444444444,
              "#bd3786"
             ],
             [
              0.5555555555555556,
              "#d8576b"
             ],
             [
              0.6666666666666666,
              "#ed7953"
             ],
             [
              0.7777777777777778,
              "#fb9f3a"
             ],
             [
              0.8888888888888888,
              "#fdca26"
             ],
             [
              1,
              "#f0f921"
             ]
            ],
            "type": "surface"
           }
          ],
          "table": [
           {
            "cells": {
             "fill": {
              "color": "#EBF0F8"
             },
             "line": {
              "color": "white"
             }
            },
            "header": {
             "fill": {
              "color": "#C8D4E3"
             },
             "line": {
              "color": "white"
             }
            },
            "type": "table"
           }
          ]
         },
         "layout": {
          "annotationdefaults": {
           "arrowcolor": "#2a3f5f",
           "arrowhead": 0,
           "arrowwidth": 1
          },
          "autotypenumbers": "strict",
          "coloraxis": {
           "colorbar": {
            "outlinewidth": 0,
            "ticks": ""
           }
          },
          "colorscale": {
           "diverging": [
            [
             0,
             "#8e0152"
            ],
            [
             0.1,
             "#c51b7d"
            ],
            [
             0.2,
             "#de77ae"
            ],
            [
             0.3,
             "#f1b6da"
            ],
            [
             0.4,
             "#fde0ef"
            ],
            [
             0.5,
             "#f7f7f7"
            ],
            [
             0.6,
             "#e6f5d0"
            ],
            [
             0.7,
             "#b8e186"
            ],
            [
             0.8,
             "#7fbc41"
            ],
            [
             0.9,
             "#4d9221"
            ],
            [
             1,
             "#276419"
            ]
           ],
           "sequential": [
            [
             0,
             "#0d0887"
            ],
            [
             0.1111111111111111,
             "#46039f"
            ],
            [
             0.2222222222222222,
             "#7201a8"
            ],
            [
             0.3333333333333333,
             "#9c179e"
            ],
            [
             0.4444444444444444,
             "#bd3786"
            ],
            [
             0.5555555555555556,
             "#d8576b"
            ],
            [
             0.6666666666666666,
             "#ed7953"
            ],
            [
             0.7777777777777778,
             "#fb9f3a"
            ],
            [
             0.8888888888888888,
             "#fdca26"
            ],
            [
             1,
             "#f0f921"
            ]
           ],
           "sequentialminus": [
            [
             0,
             "#0d0887"
            ],
            [
             0.1111111111111111,
             "#46039f"
            ],
            [
             0.2222222222222222,
             "#7201a8"
            ],
            [
             0.3333333333333333,
             "#9c179e"
            ],
            [
             0.4444444444444444,
             "#bd3786"
            ],
            [
             0.5555555555555556,
             "#d8576b"
            ],
            [
             0.6666666666666666,
             "#ed7953"
            ],
            [
             0.7777777777777778,
             "#fb9f3a"
            ],
            [
             0.8888888888888888,
             "#fdca26"
            ],
            [
             1,
             "#f0f921"
            ]
           ]
          },
          "colorway": [
           "#636efa",
           "#EF553B",
           "#00cc96",
           "#ab63fa",
           "#FFA15A",
           "#19d3f3",
           "#FF6692",
           "#B6E880",
           "#FF97FF",
           "#FECB52"
          ],
          "font": {
           "color": "#2a3f5f"
          },
          "geo": {
           "bgcolor": "white",
           "lakecolor": "white",
           "landcolor": "#E5ECF6",
           "showlakes": true,
           "showland": true,
           "subunitcolor": "white"
          },
          "hoverlabel": {
           "align": "left"
          },
          "hovermode": "closest",
          "mapbox": {
           "style": "light"
          },
          "paper_bgcolor": "white",
          "plot_bgcolor": "#E5ECF6",
          "polar": {
           "angularaxis": {
            "gridcolor": "white",
            "linecolor": "white",
            "ticks": ""
           },
           "bgcolor": "#E5ECF6",
           "radialaxis": {
            "gridcolor": "white",
            "linecolor": "white",
            "ticks": ""
           }
          },
          "scene": {
           "xaxis": {
            "backgroundcolor": "#E5ECF6",
            "gridcolor": "white",
            "gridwidth": 2,
            "linecolor": "white",
            "showbackground": true,
            "ticks": "",
            "zerolinecolor": "white"
           },
           "yaxis": {
            "backgroundcolor": "#E5ECF6",
            "gridcolor": "white",
            "gridwidth": 2,
            "linecolor": "white",
            "showbackground": true,
            "ticks": "",
            "zerolinecolor": "white"
           },
           "zaxis": {
            "backgroundcolor": "#E5ECF6",
            "gridcolor": "white",
            "gridwidth": 2,
            "linecolor": "white",
            "showbackground": true,
            "ticks": "",
            "zerolinecolor": "white"
           }
          },
          "shapedefaults": {
           "line": {
            "color": "#2a3f5f"
           }
          },
          "ternary": {
           "aaxis": {
            "gridcolor": "white",
            "linecolor": "white",
            "ticks": ""
           },
           "baxis": {
            "gridcolor": "white",
            "linecolor": "white",
            "ticks": ""
           },
           "bgcolor": "#E5ECF6",
           "caxis": {
            "gridcolor": "white",
            "linecolor": "white",
            "ticks": ""
           }
          },
          "title": {
           "x": 0.05
          },
          "xaxis": {
           "automargin": true,
           "gridcolor": "white",
           "linecolor": "white",
           "ticks": "",
           "title": {
            "standoff": 15
           },
           "zerolinecolor": "white",
           "zerolinewidth": 2
          },
          "yaxis": {
           "automargin": true,
           "gridcolor": "white",
           "linecolor": "white",
           "ticks": "",
           "title": {
            "standoff": 15
           },
           "zerolinecolor": "white",
           "zerolinewidth": 2
          }
         }
        },
        "title": {
         "text": "2018-2021 진료실인원 Grouped Bar Plot (2021 기준)"
        },
        "yaxis": {
         "title": {
          "text": "진료실인원(명)"
         }
        }
       }
      }
     },
     "metadata": {},
     "output_type": "display_data"
    }
   ],
   "source": [
    "### 다빈도 상병 4개년 그룹 Bar Plot\n",
    "fig = go.Figure()\n",
    "\n",
    "fig.add_trace(go.Bar(\n",
    "    y=df_2021[\"2021진료실인원(명)\"], x=df_2021[\"상병명\"], name='2021'\n",
    "))\n",
    "fig.add_trace(go.Bar(\n",
    "    y=df_2021[\"2020진료실인원(명)\"], x=df_2021[\"상병명\"], name='2020'\n",
    "))\n",
    "fig.add_trace(go.Bar(\n",
    "    y=df_2021[\"2019진료실인원(명)\"], x=df_2021[\"상병명\"], name='2019'\n",
    "))\n",
    "fig.add_trace(go.Bar(\n",
    "    y=df_2021[\"2018진료실인원(명)\"], x=df_2021[\"상병명\"], name='2018'\n",
    "))\n",
    "\n",
    "fig.update_layout(barmode='group',  # 그룹막대그래프 설정\n",
    "    title_text=\"2018-2021 진료실인원 Grouped Bar Plot (2021 기준)\",\n",
    "    yaxis_title=\"진료실인원(명)\")\n",
    "\n",
    "fig.show()"
   ]
  },
  {
   "cell_type": "code",
   "execution_count": null,
   "metadata": {},
   "outputs": [],
   "source": []
  },
  {
   "cell_type": "code",
   "execution_count": 4,
   "metadata": {},
   "outputs": [
    {
     "name": "stderr",
     "output_type": "stream",
     "text": [
      "c:\\Users\\USER\\anaconda3\\envs\\busan_env\\lib\\site-packages\\openpyxl\\styles\\stylesheet.py:226: UserWarning:\n",
      "\n",
      "Workbook contains no default style, apply openpyxl's default\n",
      "\n",
      "c:\\Users\\USER\\anaconda3\\envs\\busan_env\\lib\\site-packages\\openpyxl\\styles\\stylesheet.py:226: UserWarning:\n",
      "\n",
      "Workbook contains no default style, apply openpyxl's default\n",
      "\n"
     ]
    },
    {
     "data": {
      "text/html": [
       "<div>\n",
       "<style scoped>\n",
       "    .dataframe tbody tr th:only-of-type {\n",
       "        vertical-align: middle;\n",
       "    }\n",
       "\n",
       "    .dataframe tbody tr th {\n",
       "        vertical-align: top;\n",
       "    }\n",
       "\n",
       "    .dataframe thead th {\n",
       "        text-align: right;\n",
       "    }\n",
       "</style>\n",
       "<table border=\"1\" class=\"dataframe\">\n",
       "  <thead>\n",
       "    <tr style=\"text-align: right;\">\n",
       "      <th></th>\n",
       "      <th>순위별(1)</th>\n",
       "      <th>상병별</th>\n",
       "      <th>2021진료실인원(명)</th>\n",
       "      <th>2021상병코드</th>\n",
       "      <th>2020진료실인원(명)</th>\n",
       "      <th>2019진료실인원(명)</th>\n",
       "      <th>2018진료실인원(명)</th>\n",
       "    </tr>\n",
       "  </thead>\n",
       "  <tbody>\n",
       "    <tr>\n",
       "      <th>0</th>\n",
       "      <td>1위</td>\n",
       "      <td>J20_급성기관지염</td>\n",
       "      <td>6994578</td>\n",
       "      <td>J20</td>\n",
       "      <td>8930763</td>\n",
       "      <td>15390418</td>\n",
       "      <td>15526223</td>\n",
       "    </tr>\n",
       "    <tr>\n",
       "      <th>1</th>\n",
       "      <td>2위</td>\n",
       "      <td>I10_본태성(원발성)고혈압</td>\n",
       "      <td>6359093</td>\n",
       "      <td>I10</td>\n",
       "      <td>6045039</td>\n",
       "      <td>5729715</td>\n",
       "      <td>5459998</td>\n",
       "    </tr>\n",
       "    <tr>\n",
       "      <th>2</th>\n",
       "      <td>3위</td>\n",
       "      <td>K05_치은염및치주질환</td>\n",
       "      <td>5400428</td>\n",
       "      <td>K05</td>\n",
       "      <td>5154723</td>\n",
       "      <td>5117185</td>\n",
       "      <td>4789045</td>\n",
       "    </tr>\n",
       "    <tr>\n",
       "      <th>3</th>\n",
       "      <td>4위</td>\n",
       "      <td>J30_혈관운동성및앨러지성비염</td>\n",
       "      <td>4904559</td>\n",
       "      <td>J30</td>\n",
       "      <td>5087239</td>\n",
       "      <td>6911767</td>\n",
       "      <td>6666864</td>\n",
       "    </tr>\n",
       "    <tr>\n",
       "      <th>4</th>\n",
       "      <td>5위</td>\n",
       "      <td>K29_위염및십이지장염</td>\n",
       "      <td>4762623</td>\n",
       "      <td>K29</td>\n",
       "      <td>4430266</td>\n",
       "      <td>4997564</td>\n",
       "      <td>4945445</td>\n",
       "    </tr>\n",
       "    <tr>\n",
       "      <th>5</th>\n",
       "      <td>6위</td>\n",
       "      <td>K21_위-식도역류병</td>\n",
       "      <td>4613663</td>\n",
       "      <td>K21</td>\n",
       "      <td>4308604</td>\n",
       "      <td>4255676</td>\n",
       "      <td>4022082</td>\n",
       "    </tr>\n",
       "    <tr>\n",
       "      <th>6</th>\n",
       "      <td>7위</td>\n",
       "      <td>L23_앨러지성접촉피부염</td>\n",
       "      <td>4097862</td>\n",
       "      <td>L23</td>\n",
       "      <td>4132558</td>\n",
       "      <td>4362206</td>\n",
       "      <td>4218005</td>\n",
       "    </tr>\n",
       "    <tr>\n",
       "      <th>7</th>\n",
       "      <td>8위</td>\n",
       "      <td>M54_등통증</td>\n",
       "      <td>3794929</td>\n",
       "      <td>M54</td>\n",
       "      <td>3537297</td>\n",
       "      <td>3643498</td>\n",
       "      <td>3464267</td>\n",
       "    </tr>\n",
       "    <tr>\n",
       "      <th>8</th>\n",
       "      <td>9위</td>\n",
       "      <td>H10_결막염</td>\n",
       "      <td>3689050</td>\n",
       "      <td>H10</td>\n",
       "      <td>3614379</td>\n",
       "      <td>4298042</td>\n",
       "      <td>4327470</td>\n",
       "    </tr>\n",
       "    <tr>\n",
       "      <th>9</th>\n",
       "      <td>10위</td>\n",
       "      <td>A09_감염성및상세불명기원의기타위장염및결장염</td>\n",
       "      <td>3005122</td>\n",
       "      <td>A09</td>\n",
       "      <td>2741369</td>\n",
       "      <td>3614920</td>\n",
       "      <td>3757147</td>\n",
       "    </tr>\n",
       "    <tr>\n",
       "      <th>10</th>\n",
       "      <td>11위</td>\n",
       "      <td>E11_2형당뇨병</td>\n",
       "      <td>2851286</td>\n",
       "      <td>E11</td>\n",
       "      <td>2686500</td>\n",
       "      <td>2534933</td>\n",
       "      <td>2366663</td>\n",
       "    </tr>\n",
       "    <tr>\n",
       "      <th>11</th>\n",
       "      <td>12위</td>\n",
       "      <td>J06_다발성및상세불명부위의급성상기도감염</td>\n",
       "      <td>2458645</td>\n",
       "      <td>J06</td>\n",
       "      <td>3083139</td>\n",
       "      <td>5258531</td>\n",
       "      <td>5363578</td>\n",
       "    </tr>\n",
       "    <tr>\n",
       "      <th>12</th>\n",
       "      <td>13위</td>\n",
       "      <td>J03_급성편도염</td>\n",
       "      <td>2441297</td>\n",
       "      <td>J03</td>\n",
       "      <td>2820951</td>\n",
       "      <td>4894157</td>\n",
       "      <td>5294106</td>\n",
       "    </tr>\n",
       "    <tr>\n",
       "      <th>13</th>\n",
       "      <td>14위</td>\n",
       "      <td>H04_눈물계통의장애</td>\n",
       "      <td>2394681</td>\n",
       "      <td>H04</td>\n",
       "      <td>2098477</td>\n",
       "      <td>2326214</td>\n",
       "      <td>2197176</td>\n",
       "    </tr>\n",
       "    <tr>\n",
       "      <th>14</th>\n",
       "      <td>15위</td>\n",
       "      <td>E78_지질단백질대사장애및기타지질증</td>\n",
       "      <td>2231228</td>\n",
       "      <td>E78</td>\n",
       "      <td>1925661</td>\n",
       "      <td>1782895</td>\n",
       "      <td>1629890</td>\n",
       "    </tr>\n",
       "    <tr>\n",
       "      <th>15</th>\n",
       "      <td>16위</td>\n",
       "      <td>M17_무릎관절증</td>\n",
       "      <td>2202894</td>\n",
       "      <td>M17</td>\n",
       "      <td>2082363</td>\n",
       "      <td>2236880</td>\n",
       "      <td>2146351</td>\n",
       "    </tr>\n",
       "    <tr>\n",
       "      <th>16</th>\n",
       "      <td>17위</td>\n",
       "      <td>J02_급성인두염</td>\n",
       "      <td>2192329</td>\n",
       "      <td>J02</td>\n",
       "      <td>2440951</td>\n",
       "      <td>4135538</td>\n",
       "      <td>4329488</td>\n",
       "    </tr>\n",
       "    <tr>\n",
       "      <th>17</th>\n",
       "      <td>18위</td>\n",
       "      <td>L50_두드러기</td>\n",
       "      <td>2058229</td>\n",
       "      <td>L50</td>\n",
       "      <td>1979912</td>\n",
       "      <td>2197781</td>\n",
       "      <td>2149949</td>\n",
       "    </tr>\n",
       "    <tr>\n",
       "      <th>18</th>\n",
       "      <td>19위</td>\n",
       "      <td>ZZ_양방기타</td>\n",
       "      <td>2013791</td>\n",
       "      <td>ZZ_</td>\n",
       "      <td>2262747</td>\n",
       "      <td>4754624</td>\n",
       "      <td>13505359</td>\n",
       "    </tr>\n",
       "    <tr>\n",
       "      <th>19</th>\n",
       "      <td>20위</td>\n",
       "      <td>B35_백선증</td>\n",
       "      <td>2010630</td>\n",
       "      <td>B35</td>\n",
       "      <td>2111646</td>\n",
       "      <td>2185564</td>\n",
       "      <td>2167559</td>\n",
       "    </tr>\n",
       "  </tbody>\n",
       "</table>\n",
       "</div>"
      ],
      "text/plain": [
       "   순위별(1)                       상병별  2021진료실인원(명) 2021상병코드  2020진료실인원(명)   \n",
       "0      1위                J20_급성기관지염       6994578      J20       8930763  \\\n",
       "1      2위           I10_본태성(원발성)고혈압       6359093      I10       6045039   \n",
       "2      3위              K05_치은염및치주질환       5400428      K05       5154723   \n",
       "3      4위          J30_혈관운동성및앨러지성비염       4904559      J30       5087239   \n",
       "4      5위              K29_위염및십이지장염       4762623      K29       4430266   \n",
       "5      6위               K21_위-식도역류병       4613663      K21       4308604   \n",
       "6      7위             L23_앨러지성접촉피부염       4097862      L23       4132558   \n",
       "7      8위                   M54_등통증       3794929      M54       3537297   \n",
       "8      9위                   H10_결막염       3689050      H10       3614379   \n",
       "9     10위  A09_감염성및상세불명기원의기타위장염및결장염       3005122      A09       2741369   \n",
       "10    11위                 E11_2형당뇨병       2851286      E11       2686500   \n",
       "11    12위    J06_다발성및상세불명부위의급성상기도감염       2458645      J06       3083139   \n",
       "12    13위                 J03_급성편도염       2441297      J03       2820951   \n",
       "13    14위               H04_눈물계통의장애       2394681      H04       2098477   \n",
       "14    15위       E78_지질단백질대사장애및기타지질증       2231228      E78       1925661   \n",
       "15    16위                 M17_무릎관절증       2202894      M17       2082363   \n",
       "16    17위                 J02_급성인두염       2192329      J02       2440951   \n",
       "17    18위                  L50_두드러기       2058229      L50       1979912   \n",
       "18    19위                   ZZ_양방기타       2013791      ZZ_       2262747   \n",
       "19    20위                   B35_백선증       2010630      B35       2111646   \n",
       "\n",
       "    2019진료실인원(명)  2018진료실인원(명)  \n",
       "0       15390418      15526223  \n",
       "1        5729715       5459998  \n",
       "2        5117185       4789045  \n",
       "3        6911767       6666864  \n",
       "4        4997564       4945445  \n",
       "5        4255676       4022082  \n",
       "6        4362206       4218005  \n",
       "7        3643498       3464267  \n",
       "8        4298042       4327470  \n",
       "9        3614920       3757147  \n",
       "10       2534933       2366663  \n",
       "11       5258531       5363578  \n",
       "12       4894157       5294106  \n",
       "13       2326214       2197176  \n",
       "14       1782895       1629890  \n",
       "15       2236880       2146351  \n",
       "16       4135538       4329488  \n",
       "17       2197781       2149949  \n",
       "18       4754624      13505359  \n",
       "19       2185564       2167559  "
      ]
     },
     "execution_count": 4,
     "metadata": {},
     "output_type": "execute_result"
    }
   ],
   "source": [
    "### 약국 처방조제 다빈도 상병 4개년 비교하기 (top20 : 2021년 상병 기준)\n",
    "df = pd.DataFrame()\n",
    "# - 2021년 top20 데이터 불러들이기\n",
    "df_phar_2021 = pd.read_excel(\"../data/질병소분류별_약국_처방조제_다빈도_상병_급여현황_계__{}.xlsx\".format(\"2021\"),\n",
    "                        header=1, usecols=\"A:C\")[:20].rename(columns={\"진료실인원 (명)\":\"{}진료실인원(명)\".format(\"2021\")})\n",
    "df_phar_2021[\"2021상병코드\"] = df_phar_2021[\"상병별\"].str[0:3]\n",
    "\n",
    "# - 2021 top 20를 기준으로 2019~2020년 데이터 합치기\n",
    "year_list = [2020, 2019, 2018]\n",
    "for val_y in year_list :\n",
    "    df_temp = pd.DataFrame()\n",
    "    df_temp = pd.read_excel(\"../data/질병소분류별_약국_처방조제_다빈도_상병_급여현황_계__{}.xlsx\".format(val_y),\n",
    "                        header=1, usecols=\"B,C\").rename(columns={\"진료실인원 (명)\":\"{}진료실인원(명)\".format(val_y)})\n",
    "    df_temp[\"{}상병코드\".format(val_y)] = df_temp[\"상병별\"].str[0:3]\n",
    "    df_temp.drop(columns=\"상병별\", inplace=True)\n",
    "\n",
    "    df_phar_2021 = pd.merge(left=df_phar_2021, right=df_temp, how=\"left\",\n",
    "                       left_on=\"2021상병코드\", right_on=\"{}상병코드\".format(val_y))\n",
    "    df_phar_2021.drop(columns=\"{}상병코드\".format(val_y), inplace=True)\n",
    "\n",
    "df_phar_2021\n"
   ]
  },
  {
   "cell_type": "code",
   "execution_count": 13,
   "metadata": {},
   "outputs": [
    {
     "data": {
      "application/vnd.plotly.v1+json": {
       "config": {
        "plotlyServerURL": "https://plot.ly"
       },
       "data": [
        {
         "name": "2021",
         "type": "bar",
         "x": [
          "J20_급성기관지염",
          "I10_본태성(원발성)고혈압",
          "K05_치은염및치주질환",
          "J30_혈관운동성및앨러지성비염",
          "K29_위염및십이지장염",
          "K21_위-식도역류병",
          "L23_앨러지성접촉피부염",
          "M54_등통증",
          "H10_결막염",
          "A09_감염성및상세불명기원의기타위장염및결장염",
          "E11_2형당뇨병",
          "J06_다발성및상세불명부위의급성상기도감염",
          "J03_급성편도염",
          "H04_눈물계통의장애",
          "E78_지질단백질대사장애및기타지질증",
          "M17_무릎관절증",
          "J02_급성인두염",
          "L50_두드러기",
          "ZZ_양방기타",
          "B35_백선증"
         ],
         "y": [
          6994578,
          6359093,
          5400428,
          4904559,
          4762623,
          4613663,
          4097862,
          3794929,
          3689050,
          3005122,
          2851286,
          2458645,
          2441297,
          2394681,
          2231228,
          2202894,
          2192329,
          2058229,
          2013791,
          2010630
         ]
        },
        {
         "name": "2020",
         "type": "bar",
         "x": [
          "J20_급성기관지염",
          "I10_본태성(원발성)고혈압",
          "K05_치은염및치주질환",
          "J30_혈관운동성및앨러지성비염",
          "K29_위염및십이지장염",
          "K21_위-식도역류병",
          "L23_앨러지성접촉피부염",
          "M54_등통증",
          "H10_결막염",
          "A09_감염성및상세불명기원의기타위장염및결장염",
          "E11_2형당뇨병",
          "J06_다발성및상세불명부위의급성상기도감염",
          "J03_급성편도염",
          "H04_눈물계통의장애",
          "E78_지질단백질대사장애및기타지질증",
          "M17_무릎관절증",
          "J02_급성인두염",
          "L50_두드러기",
          "ZZ_양방기타",
          "B35_백선증"
         ],
         "y": [
          8930763,
          6045039,
          5154723,
          5087239,
          4430266,
          4308604,
          4132558,
          3537297,
          3614379,
          2741369,
          2686500,
          3083139,
          2820951,
          2098477,
          1925661,
          2082363,
          2440951,
          1979912,
          2262747,
          2111646
         ]
        },
        {
         "name": "2019",
         "type": "bar",
         "x": [
          "J20_급성기관지염",
          "I10_본태성(원발성)고혈압",
          "K05_치은염및치주질환",
          "J30_혈관운동성및앨러지성비염",
          "K29_위염및십이지장염",
          "K21_위-식도역류병",
          "L23_앨러지성접촉피부염",
          "M54_등통증",
          "H10_결막염",
          "A09_감염성및상세불명기원의기타위장염및결장염",
          "E11_2형당뇨병",
          "J06_다발성및상세불명부위의급성상기도감염",
          "J03_급성편도염",
          "H04_눈물계통의장애",
          "E78_지질단백질대사장애및기타지질증",
          "M17_무릎관절증",
          "J02_급성인두염",
          "L50_두드러기",
          "ZZ_양방기타",
          "B35_백선증"
         ],
         "y": [
          15390418,
          5729715,
          5117185,
          6911767,
          4997564,
          4255676,
          4362206,
          3643498,
          4298042,
          3614920,
          2534933,
          5258531,
          4894157,
          2326214,
          1782895,
          2236880,
          4135538,
          2197781,
          4754624,
          2185564
         ]
        },
        {
         "name": "2018",
         "type": "bar",
         "x": [
          "J20_급성기관지염",
          "I10_본태성(원발성)고혈압",
          "K05_치은염및치주질환",
          "J30_혈관운동성및앨러지성비염",
          "K29_위염및십이지장염",
          "K21_위-식도역류병",
          "L23_앨러지성접촉피부염",
          "M54_등통증",
          "H10_결막염",
          "A09_감염성및상세불명기원의기타위장염및결장염",
          "E11_2형당뇨병",
          "J06_다발성및상세불명부위의급성상기도감염",
          "J03_급성편도염",
          "H04_눈물계통의장애",
          "E78_지질단백질대사장애및기타지질증",
          "M17_무릎관절증",
          "J02_급성인두염",
          "L50_두드러기",
          "ZZ_양방기타",
          "B35_백선증"
         ],
         "y": [
          15526223,
          5459998,
          4789045,
          6666864,
          4945445,
          4022082,
          4218005,
          3464267,
          4327470,
          3757147,
          2366663,
          5363578,
          5294106,
          2197176,
          1629890,
          2146351,
          4329488,
          2149949,
          13505359,
          2167559
         ]
        }
       ],
       "layout": {
        "barmode": "group",
        "template": {
         "data": {
          "bar": [
           {
            "error_x": {
             "color": "#2a3f5f"
            },
            "error_y": {
             "color": "#2a3f5f"
            },
            "marker": {
             "line": {
              "color": "#E5ECF6",
              "width": 0.5
             },
             "pattern": {
              "fillmode": "overlay",
              "size": 10,
              "solidity": 0.2
             }
            },
            "type": "bar"
           }
          ],
          "barpolar": [
           {
            "marker": {
             "line": {
              "color": "#E5ECF6",
              "width": 0.5
             },
             "pattern": {
              "fillmode": "overlay",
              "size": 10,
              "solidity": 0.2
             }
            },
            "type": "barpolar"
           }
          ],
          "carpet": [
           {
            "aaxis": {
             "endlinecolor": "#2a3f5f",
             "gridcolor": "white",
             "linecolor": "white",
             "minorgridcolor": "white",
             "startlinecolor": "#2a3f5f"
            },
            "baxis": {
             "endlinecolor": "#2a3f5f",
             "gridcolor": "white",
             "linecolor": "white",
             "minorgridcolor": "white",
             "startlinecolor": "#2a3f5f"
            },
            "type": "carpet"
           }
          ],
          "choropleth": [
           {
            "colorbar": {
             "outlinewidth": 0,
             "ticks": ""
            },
            "type": "choropleth"
           }
          ],
          "contour": [
           {
            "colorbar": {
             "outlinewidth": 0,
             "ticks": ""
            },
            "colorscale": [
             [
              0,
              "#0d0887"
             ],
             [
              0.1111111111111111,
              "#46039f"
             ],
             [
              0.2222222222222222,
              "#7201a8"
             ],
             [
              0.3333333333333333,
              "#9c179e"
             ],
             [
              0.4444444444444444,
              "#bd3786"
             ],
             [
              0.5555555555555556,
              "#d8576b"
             ],
             [
              0.6666666666666666,
              "#ed7953"
             ],
             [
              0.7777777777777778,
              "#fb9f3a"
             ],
             [
              0.8888888888888888,
              "#fdca26"
             ],
             [
              1,
              "#f0f921"
             ]
            ],
            "type": "contour"
           }
          ],
          "contourcarpet": [
           {
            "colorbar": {
             "outlinewidth": 0,
             "ticks": ""
            },
            "type": "contourcarpet"
           }
          ],
          "heatmap": [
           {
            "colorbar": {
             "outlinewidth": 0,
             "ticks": ""
            },
            "colorscale": [
             [
              0,
              "#0d0887"
             ],
             [
              0.1111111111111111,
              "#46039f"
             ],
             [
              0.2222222222222222,
              "#7201a8"
             ],
             [
              0.3333333333333333,
              "#9c179e"
             ],
             [
              0.4444444444444444,
              "#bd3786"
             ],
             [
              0.5555555555555556,
              "#d8576b"
             ],
             [
              0.6666666666666666,
              "#ed7953"
             ],
             [
              0.7777777777777778,
              "#fb9f3a"
             ],
             [
              0.8888888888888888,
              "#fdca26"
             ],
             [
              1,
              "#f0f921"
             ]
            ],
            "type": "heatmap"
           }
          ],
          "heatmapgl": [
           {
            "colorbar": {
             "outlinewidth": 0,
             "ticks": ""
            },
            "colorscale": [
             [
              0,
              "#0d0887"
             ],
             [
              0.1111111111111111,
              "#46039f"
             ],
             [
              0.2222222222222222,
              "#7201a8"
             ],
             [
              0.3333333333333333,
              "#9c179e"
             ],
             [
              0.4444444444444444,
              "#bd3786"
             ],
             [
              0.5555555555555556,
              "#d8576b"
             ],
             [
              0.6666666666666666,
              "#ed7953"
             ],
             [
              0.7777777777777778,
              "#fb9f3a"
             ],
             [
              0.8888888888888888,
              "#fdca26"
             ],
             [
              1,
              "#f0f921"
             ]
            ],
            "type": "heatmapgl"
           }
          ],
          "histogram": [
           {
            "marker": {
             "pattern": {
              "fillmode": "overlay",
              "size": 10,
              "solidity": 0.2
             }
            },
            "type": "histogram"
           }
          ],
          "histogram2d": [
           {
            "colorbar": {
             "outlinewidth": 0,
             "ticks": ""
            },
            "colorscale": [
             [
              0,
              "#0d0887"
             ],
             [
              0.1111111111111111,
              "#46039f"
             ],
             [
              0.2222222222222222,
              "#7201a8"
             ],
             [
              0.3333333333333333,
              "#9c179e"
             ],
             [
              0.4444444444444444,
              "#bd3786"
             ],
             [
              0.5555555555555556,
              "#d8576b"
             ],
             [
              0.6666666666666666,
              "#ed7953"
             ],
             [
              0.7777777777777778,
              "#fb9f3a"
             ],
             [
              0.8888888888888888,
              "#fdca26"
             ],
             [
              1,
              "#f0f921"
             ]
            ],
            "type": "histogram2d"
           }
          ],
          "histogram2dcontour": [
           {
            "colorbar": {
             "outlinewidth": 0,
             "ticks": ""
            },
            "colorscale": [
             [
              0,
              "#0d0887"
             ],
             [
              0.1111111111111111,
              "#46039f"
             ],
             [
              0.2222222222222222,
              "#7201a8"
             ],
             [
              0.3333333333333333,
              "#9c179e"
             ],
             [
              0.4444444444444444,
              "#bd3786"
             ],
             [
              0.5555555555555556,
              "#d8576b"
             ],
             [
              0.6666666666666666,
              "#ed7953"
             ],
             [
              0.7777777777777778,
              "#fb9f3a"
             ],
             [
              0.8888888888888888,
              "#fdca26"
             ],
             [
              1,
              "#f0f921"
             ]
            ],
            "type": "histogram2dcontour"
           }
          ],
          "mesh3d": [
           {
            "colorbar": {
             "outlinewidth": 0,
             "ticks": ""
            },
            "type": "mesh3d"
           }
          ],
          "parcoords": [
           {
            "line": {
             "colorbar": {
              "outlinewidth": 0,
              "ticks": ""
             }
            },
            "type": "parcoords"
           }
          ],
          "pie": [
           {
            "automargin": true,
            "type": "pie"
           }
          ],
          "scatter": [
           {
            "fillpattern": {
             "fillmode": "overlay",
             "size": 10,
             "solidity": 0.2
            },
            "type": "scatter"
           }
          ],
          "scatter3d": [
           {
            "line": {
             "colorbar": {
              "outlinewidth": 0,
              "ticks": ""
             }
            },
            "marker": {
             "colorbar": {
              "outlinewidth": 0,
              "ticks": ""
             }
            },
            "type": "scatter3d"
           }
          ],
          "scattercarpet": [
           {
            "marker": {
             "colorbar": {
              "outlinewidth": 0,
              "ticks": ""
             }
            },
            "type": "scattercarpet"
           }
          ],
          "scattergeo": [
           {
            "marker": {
             "colorbar": {
              "outlinewidth": 0,
              "ticks": ""
             }
            },
            "type": "scattergeo"
           }
          ],
          "scattergl": [
           {
            "marker": {
             "colorbar": {
              "outlinewidth": 0,
              "ticks": ""
             }
            },
            "type": "scattergl"
           }
          ],
          "scattermapbox": [
           {
            "marker": {
             "colorbar": {
              "outlinewidth": 0,
              "ticks": ""
             }
            },
            "type": "scattermapbox"
           }
          ],
          "scatterpolar": [
           {
            "marker": {
             "colorbar": {
              "outlinewidth": 0,
              "ticks": ""
             }
            },
            "type": "scatterpolar"
           }
          ],
          "scatterpolargl": [
           {
            "marker": {
             "colorbar": {
              "outlinewidth": 0,
              "ticks": ""
             }
            },
            "type": "scatterpolargl"
           }
          ],
          "scatterternary": [
           {
            "marker": {
             "colorbar": {
              "outlinewidth": 0,
              "ticks": ""
             }
            },
            "type": "scatterternary"
           }
          ],
          "surface": [
           {
            "colorbar": {
             "outlinewidth": 0,
             "ticks": ""
            },
            "colorscale": [
             [
              0,
              "#0d0887"
             ],
             [
              0.1111111111111111,
              "#46039f"
             ],
             [
              0.2222222222222222,
              "#7201a8"
             ],
             [
              0.3333333333333333,
              "#9c179e"
             ],
             [
              0.4444444444444444,
              "#bd3786"
             ],
             [
              0.5555555555555556,
              "#d8576b"
             ],
             [
              0.6666666666666666,
              "#ed7953"
             ],
             [
              0.7777777777777778,
              "#fb9f3a"
             ],
             [
              0.8888888888888888,
              "#fdca26"
             ],
             [
              1,
              "#f0f921"
             ]
            ],
            "type": "surface"
           }
          ],
          "table": [
           {
            "cells": {
             "fill": {
              "color": "#EBF0F8"
             },
             "line": {
              "color": "white"
             }
            },
            "header": {
             "fill": {
              "color": "#C8D4E3"
             },
             "line": {
              "color": "white"
             }
            },
            "type": "table"
           }
          ]
         },
         "layout": {
          "annotationdefaults": {
           "arrowcolor": "#2a3f5f",
           "arrowhead": 0,
           "arrowwidth": 1
          },
          "autotypenumbers": "strict",
          "coloraxis": {
           "colorbar": {
            "outlinewidth": 0,
            "ticks": ""
           }
          },
          "colorscale": {
           "diverging": [
            [
             0,
             "#8e0152"
            ],
            [
             0.1,
             "#c51b7d"
            ],
            [
             0.2,
             "#de77ae"
            ],
            [
             0.3,
             "#f1b6da"
            ],
            [
             0.4,
             "#fde0ef"
            ],
            [
             0.5,
             "#f7f7f7"
            ],
            [
             0.6,
             "#e6f5d0"
            ],
            [
             0.7,
             "#b8e186"
            ],
            [
             0.8,
             "#7fbc41"
            ],
            [
             0.9,
             "#4d9221"
            ],
            [
             1,
             "#276419"
            ]
           ],
           "sequential": [
            [
             0,
             "#0d0887"
            ],
            [
             0.1111111111111111,
             "#46039f"
            ],
            [
             0.2222222222222222,
             "#7201a8"
            ],
            [
             0.3333333333333333,
             "#9c179e"
            ],
            [
             0.4444444444444444,
             "#bd3786"
            ],
            [
             0.5555555555555556,
             "#d8576b"
            ],
            [
             0.6666666666666666,
             "#ed7953"
            ],
            [
             0.7777777777777778,
             "#fb9f3a"
            ],
            [
             0.8888888888888888,
             "#fdca26"
            ],
            [
             1,
             "#f0f921"
            ]
           ],
           "sequentialminus": [
            [
             0,
             "#0d0887"
            ],
            [
             0.1111111111111111,
             "#46039f"
            ],
            [
             0.2222222222222222,
             "#7201a8"
            ],
            [
             0.3333333333333333,
             "#9c179e"
            ],
            [
             0.4444444444444444,
             "#bd3786"
            ],
            [
             0.5555555555555556,
             "#d8576b"
            ],
            [
             0.6666666666666666,
             "#ed7953"
            ],
            [
             0.7777777777777778,
             "#fb9f3a"
            ],
            [
             0.8888888888888888,
             "#fdca26"
            ],
            [
             1,
             "#f0f921"
            ]
           ]
          },
          "colorway": [
           "#636efa",
           "#EF553B",
           "#00cc96",
           "#ab63fa",
           "#FFA15A",
           "#19d3f3",
           "#FF6692",
           "#B6E880",
           "#FF97FF",
           "#FECB52"
          ],
          "font": {
           "color": "#2a3f5f"
          },
          "geo": {
           "bgcolor": "white",
           "lakecolor": "white",
           "landcolor": "#E5ECF6",
           "showlakes": true,
           "showland": true,
           "subunitcolor": "white"
          },
          "hoverlabel": {
           "align": "left"
          },
          "hovermode": "closest",
          "mapbox": {
           "style": "light"
          },
          "paper_bgcolor": "white",
          "plot_bgcolor": "#E5ECF6",
          "polar": {
           "angularaxis": {
            "gridcolor": "white",
            "linecolor": "white",
            "ticks": ""
           },
           "bgcolor": "#E5ECF6",
           "radialaxis": {
            "gridcolor": "white",
            "linecolor": "white",
            "ticks": ""
           }
          },
          "scene": {
           "xaxis": {
            "backgroundcolor": "#E5ECF6",
            "gridcolor": "white",
            "gridwidth": 2,
            "linecolor": "white",
            "showbackground": true,
            "ticks": "",
            "zerolinecolor": "white"
           },
           "yaxis": {
            "backgroundcolor": "#E5ECF6",
            "gridcolor": "white",
            "gridwidth": 2,
            "linecolor": "white",
            "showbackground": true,
            "ticks": "",
            "zerolinecolor": "white"
           },
           "zaxis": {
            "backgroundcolor": "#E5ECF6",
            "gridcolor": "white",
            "gridwidth": 2,
            "linecolor": "white",
            "showbackground": true,
            "ticks": "",
            "zerolinecolor": "white"
           }
          },
          "shapedefaults": {
           "line": {
            "color": "#2a3f5f"
           }
          },
          "ternary": {
           "aaxis": {
            "gridcolor": "white",
            "linecolor": "white",
            "ticks": ""
           },
           "baxis": {
            "gridcolor": "white",
            "linecolor": "white",
            "ticks": ""
           },
           "bgcolor": "#E5ECF6",
           "caxis": {
            "gridcolor": "white",
            "linecolor": "white",
            "ticks": ""
           }
          },
          "title": {
           "x": 0.05
          },
          "xaxis": {
           "automargin": true,
           "gridcolor": "white",
           "linecolor": "white",
           "ticks": "",
           "title": {
            "standoff": 15
           },
           "zerolinecolor": "white",
           "zerolinewidth": 2
          },
          "yaxis": {
           "automargin": true,
           "gridcolor": "white",
           "linecolor": "white",
           "ticks": "",
           "title": {
            "standoff": 15
           },
           "zerolinecolor": "white",
           "zerolinewidth": 2
          }
         }
        },
        "title": {
         "text": "2018-2021 약국 처방조제 진료실인원 Grouped Bar Plot (2021 기준)"
        },
        "yaxis": {
         "title": {
          "text": "진료실인원(명)"
         }
        }
       }
      }
     },
     "metadata": {},
     "output_type": "display_data"
    }
   ],
   "source": [
    "fig = go.Figure()\n",
    "\n",
    "fig.add_trace(go.Bar(\n",
    "    y=df_phar_2021[\"2021진료실인원(명)\"], x=df_phar_2021[\"상병별\"], name='2021'\n",
    "))\n",
    "fig.add_trace(go.Bar(\n",
    "    y=df_phar_2021[\"2020진료실인원(명)\"], x=df_phar_2021[\"상병별\"], name='2020'\n",
    "))\n",
    "fig.add_trace(go.Bar(\n",
    "    y=df_phar_2021[\"2019진료실인원(명)\"], x=df_phar_2021[\"상병별\"], name='2019'\n",
    "))\n",
    "fig.add_trace(go.Bar(\n",
    "    y=df_phar_2021[\"2018진료실인원(명)\"], x=df_phar_2021[\"상병별\"], name='2018'\n",
    "))\n",
    "\n",
    "fig.update_layout(barmode='group',  # 그룹막대그래프 설정\n",
    "    title_text=\"2018-2021 약국 처방조제 진료실인원 Grouped Bar Plot (2021 기준)\",\n",
    "    yaxis_title=\"진료실인원(명)\")\n",
    "# fig.update_layout(template=watermark_template)\n",
    "fig.show()"
   ]
  },
  {
   "cell_type": "code",
   "execution_count": null,
   "metadata": {},
   "outputs": [],
   "source": [
    "\n"
   ]
  },
  {
   "cell_type": "markdown",
   "metadata": {},
   "source": [
    "# 2018년 다빈도 상병 기준"
   ]
  },
  {
   "cell_type": "code",
   "execution_count": 18,
   "metadata": {},
   "outputs": [
    {
     "name": "stderr",
     "output_type": "stream",
     "text": [
      "c:\\Users\\USER\\anaconda3\\envs\\busan_env\\lib\\site-packages\\openpyxl\\styles\\stylesheet.py:226: UserWarning:\n",
      "\n",
      "Workbook contains no default style, apply openpyxl's default\n",
      "\n",
      "c:\\Users\\USER\\anaconda3\\envs\\busan_env\\lib\\site-packages\\openpyxl\\styles\\stylesheet.py:226: UserWarning:\n",
      "\n",
      "Workbook contains no default style, apply openpyxl's default\n",
      "\n",
      "c:\\Users\\USER\\anaconda3\\envs\\busan_env\\lib\\site-packages\\openpyxl\\styles\\stylesheet.py:226: UserWarning:\n",
      "\n",
      "Workbook contains no default style, apply openpyxl's default\n",
      "\n"
     ]
    },
    {
     "data": {
      "text/html": [
       "<div>\n",
       "<style scoped>\n",
       "    .dataframe tbody tr th:only-of-type {\n",
       "        vertical-align: middle;\n",
       "    }\n",
       "\n",
       "    .dataframe tbody tr th {\n",
       "        vertical-align: top;\n",
       "    }\n",
       "\n",
       "    .dataframe thead th {\n",
       "        text-align: right;\n",
       "    }\n",
       "</style>\n",
       "<table border=\"1\" class=\"dataframe\">\n",
       "  <thead>\n",
       "    <tr style=\"text-align: right;\">\n",
       "      <th></th>\n",
       "      <th>순위별(1)</th>\n",
       "      <th>상병명</th>\n",
       "      <th>2018진료실인원(명)</th>\n",
       "      <th>2018상병코드</th>\n",
       "      <th>2021진료실인원(명)</th>\n",
       "      <th>2020진료실인원(명)</th>\n",
       "      <th>2019진료실인원(명)</th>\n",
       "    </tr>\n",
       "  </thead>\n",
       "  <tbody>\n",
       "    <tr>\n",
       "      <th>0</th>\n",
       "      <td>1위</td>\n",
       "      <td>J20_급성기관지염</td>\n",
       "      <td>16788119</td>\n",
       "      <td>J20</td>\n",
       "      <td>7416511</td>\n",
       "      <td>9424601</td>\n",
       "      <td>16103362</td>\n",
       "    </tr>\n",
       "    <tr>\n",
       "      <th>1</th>\n",
       "      <td>2위</td>\n",
       "      <td>K05_치은염 및 치주질환</td>\n",
       "      <td>15829305</td>\n",
       "      <td>K05</td>\n",
       "      <td>17641937</td>\n",
       "      <td>16337755</td>\n",
       "      <td>16854301</td>\n",
       "    </tr>\n",
       "    <tr>\n",
       "      <th>2</th>\n",
       "      <td>3위</td>\n",
       "      <td>J30_혈관운동성 및 앨러지성비염</td>\n",
       "      <td>7034188</td>\n",
       "      <td>J30</td>\n",
       "      <td>5005048</td>\n",
       "      <td>5188981</td>\n",
       "      <td>7046897</td>\n",
       "    </tr>\n",
       "    <tr>\n",
       "      <th>3</th>\n",
       "      <td>4위</td>\n",
       "      <td>I10_본태성(원발성)고혈압</td>\n",
       "      <td>6063677</td>\n",
       "      <td>I10</td>\n",
       "      <td>6803587</td>\n",
       "      <td>6488276</td>\n",
       "      <td>6290325</td>\n",
       "    </tr>\n",
       "    <tr>\n",
       "      <th>4</th>\n",
       "      <td>5위</td>\n",
       "      <td>J06_다발성 및 상세불명부위의 급성상기도감염</td>\n",
       "      <td>6021474</td>\n",
       "      <td>J06</td>\n",
       "      <td>2718709</td>\n",
       "      <td>3364497</td>\n",
       "      <td>5681270</td>\n",
       "    </tr>\n",
       "    <tr>\n",
       "      <th>5</th>\n",
       "      <td>6위</td>\n",
       "      <td>K02_치아우식</td>\n",
       "      <td>5871862</td>\n",
       "      <td>K02</td>\n",
       "      <td>6350440</td>\n",
       "      <td>6137300</td>\n",
       "      <td>6451476</td>\n",
       "    </tr>\n",
       "    <tr>\n",
       "      <th>6</th>\n",
       "      <td>7위</td>\n",
       "      <td>J03_급성편도염</td>\n",
       "      <td>5728747</td>\n",
       "      <td>J03</td>\n",
       "      <td>2578482</td>\n",
       "      <td>2972009</td>\n",
       "      <td>5132064</td>\n",
       "    </tr>\n",
       "    <tr>\n",
       "      <th>7</th>\n",
       "      <td>8위</td>\n",
       "      <td>K29_위염 및 십이지장염</td>\n",
       "      <td>5336838</td>\n",
       "      <td>K29</td>\n",
       "      <td>4923829</td>\n",
       "      <td>4546735</td>\n",
       "      <td>5242035</td>\n",
       "    </tr>\n",
       "    <tr>\n",
       "      <th>8</th>\n",
       "      <td>9위</td>\n",
       "      <td>M54_등통증</td>\n",
       "      <td>5254064</td>\n",
       "      <td>M54</td>\n",
       "      <td>5455203</td>\n",
       "      <td>5114450</td>\n",
       "      <td>5419768</td>\n",
       "    </tr>\n",
       "    <tr>\n",
       "      <th>9</th>\n",
       "      <td>10위</td>\n",
       "      <td>J02_급성인두염</td>\n",
       "      <td>4749358</td>\n",
       "      <td>J02</td>\n",
       "      <td>2360881</td>\n",
       "      <td>2616615</td>\n",
       "      <td>4405101</td>\n",
       "    </tr>\n",
       "    <tr>\n",
       "      <th>10</th>\n",
       "      <td>11위</td>\n",
       "      <td>H10_결막염</td>\n",
       "      <td>4690391</td>\n",
       "      <td>H10</td>\n",
       "      <td>3920336</td>\n",
       "      <td>3824283</td>\n",
       "      <td>4572256</td>\n",
       "    </tr>\n",
       "    <tr>\n",
       "      <th>11</th>\n",
       "      <td>12위</td>\n",
       "      <td>A09_감염성 및 상세불명 기원의 기타위장염 및 결장염</td>\n",
       "      <td>4625172</td>\n",
       "      <td>A09</td>\n",
       "      <td>3569235</td>\n",
       "      <td>3295095</td>\n",
       "      <td>4379508</td>\n",
       "    </tr>\n",
       "    <tr>\n",
       "      <th>12</th>\n",
       "      <td>13위</td>\n",
       "      <td>L23_앨러지성접촉피부염</td>\n",
       "      <td>4617628</td>\n",
       "      <td>L23</td>\n",
       "      <td>4348291</td>\n",
       "      <td>4380322</td>\n",
       "      <td>4665140</td>\n",
       "    </tr>\n",
       "    <tr>\n",
       "      <th>13</th>\n",
       "      <td>14위</td>\n",
       "      <td>J00_급성비인두염[감기]</td>\n",
       "      <td>4500372</td>\n",
       "      <td>J00</td>\n",
       "      <td>2149583</td>\n",
       "      <td>2632835</td>\n",
       "      <td>4154922</td>\n",
       "    </tr>\n",
       "    <tr>\n",
       "      <th>14</th>\n",
       "      <td>15위</td>\n",
       "      <td>K21_위-식도역류병</td>\n",
       "      <td>4437764</td>\n",
       "      <td>K21</td>\n",
       "      <td>4914675</td>\n",
       "      <td>4589073</td>\n",
       "      <td>4597376</td>\n",
       "    </tr>\n",
       "    <tr>\n",
       "      <th>15</th>\n",
       "      <td>16위</td>\n",
       "      <td>K04_치수 및 근단주위조직의 질환</td>\n",
       "      <td>4297830</td>\n",
       "      <td>K04</td>\n",
       "      <td>3704402</td>\n",
       "      <td>3900164</td>\n",
       "      <td>4217933</td>\n",
       "    </tr>\n",
       "    <tr>\n",
       "      <th>16</th>\n",
       "      <td>17위</td>\n",
       "      <td>J01_급성부비동염</td>\n",
       "      <td>3919171</td>\n",
       "      <td>J01</td>\n",
       "      <td>2017524</td>\n",
       "      <td>2218835</td>\n",
       "      <td>3775514</td>\n",
       "    </tr>\n",
       "    <tr>\n",
       "      <th>17</th>\n",
       "      <td>18위</td>\n",
       "      <td>J04_급성후두염 및 기관염</td>\n",
       "      <td>3440222</td>\n",
       "      <td>J04</td>\n",
       "      <td>1532391</td>\n",
       "      <td>1905709</td>\n",
       "      <td>3335709</td>\n",
       "    </tr>\n",
       "    <tr>\n",
       "      <th>18</th>\n",
       "      <td>19위</td>\n",
       "      <td>M79_달리분류되지않은 기타연조직장애</td>\n",
       "      <td>3081561</td>\n",
       "      <td>M79</td>\n",
       "      <td>2894192</td>\n",
       "      <td>2505851</td>\n",
       "      <td>3016635</td>\n",
       "    </tr>\n",
       "    <tr>\n",
       "      <th>19</th>\n",
       "      <td>20위</td>\n",
       "      <td>M17_무릎관절증</td>\n",
       "      <td>2869031</td>\n",
       "      <td>M17</td>\n",
       "      <td>2901421</td>\n",
       "      <td>2731456</td>\n",
       "      <td>2950913</td>\n",
       "    </tr>\n",
       "  </tbody>\n",
       "</table>\n",
       "</div>"
      ],
      "text/plain": [
       "   순위별(1)                             상병명  2018진료실인원(명) 2018상병코드   \n",
       "0      1위                      J20_급성기관지염      16788119      J20  \\\n",
       "1      2위                  K05_치은염 및 치주질환      15829305      K05   \n",
       "2      3위              J30_혈관운동성 및 앨러지성비염       7034188      J30   \n",
       "3      4위                 I10_본태성(원발성)고혈압       6063677      I10   \n",
       "4      5위       J06_다발성 및 상세불명부위의 급성상기도감염       6021474      J06   \n",
       "5      6위                        K02_치아우식       5871862      K02   \n",
       "6      7위                       J03_급성편도염       5728747      J03   \n",
       "7      8위                  K29_위염 및 십이지장염       5336838      K29   \n",
       "8      9위                         M54_등통증       5254064      M54   \n",
       "9     10위                       J02_급성인두염       4749358      J02   \n",
       "10    11위                         H10_결막염       4690391      H10   \n",
       "11    12위  A09_감염성 및 상세불명 기원의 기타위장염 및 결장염       4625172      A09   \n",
       "12    13위                   L23_앨러지성접촉피부염       4617628      L23   \n",
       "13    14위                  J00_급성비인두염[감기]       4500372      J00   \n",
       "14    15위                     K21_위-식도역류병       4437764      K21   \n",
       "15    16위             K04_치수 및 근단주위조직의 질환       4297830      K04   \n",
       "16    17위                      J01_급성부비동염       3919171      J01   \n",
       "17    18위                 J04_급성후두염 및 기관염       3440222      J04   \n",
       "18    19위            M79_달리분류되지않은 기타연조직장애       3081561      M79   \n",
       "19    20위                       M17_무릎관절증       2869031      M17   \n",
       "\n",
       "    2021진료실인원(명)  2020진료실인원(명)  2019진료실인원(명)  \n",
       "0        7416511       9424601      16103362  \n",
       "1       17641937      16337755      16854301  \n",
       "2        5005048       5188981       7046897  \n",
       "3        6803587       6488276       6290325  \n",
       "4        2718709       3364497       5681270  \n",
       "5        6350440       6137300       6451476  \n",
       "6        2578482       2972009       5132064  \n",
       "7        4923829       4546735       5242035  \n",
       "8        5455203       5114450       5419768  \n",
       "9        2360881       2616615       4405101  \n",
       "10       3920336       3824283       4572256  \n",
       "11       3569235       3295095       4379508  \n",
       "12       4348291       4380322       4665140  \n",
       "13       2149583       2632835       4154922  \n",
       "14       4914675       4589073       4597376  \n",
       "15       3704402       3900164       4217933  \n",
       "16       2017524       2218835       3775514  \n",
       "17       1532391       1905709       3335709  \n",
       "18       2894192       2505851       3016635  \n",
       "19       2901421       2731456       2950913  "
      ]
     },
     "execution_count": 18,
     "metadata": {},
     "output_type": "execute_result"
    }
   ],
   "source": [
    "### 다빈도 상병 4개년 비교하기 (top20 : 2018년 상병 기준)\n",
    "df = pd.DataFrame()\n",
    "# - 2018년 top20 데이터 불러들이기\n",
    "df_2018 = pd.read_excel(\"../data/질병소분류별_다빈도_상병_급여현황_계__{}.xlsx\".format(\"2018\"),\n",
    "                        header=1, usecols=\"A:C\")[:20].rename(columns={\"진료실인원 (명)\":\"{}진료실인원(명)\".format(\"2018\")})\n",
    "df_2018[\"2018상병코드\"] = df_2018[\"상병명\"].str[0:3]\n",
    "\n",
    "# - 2018 top 20를 기준으로 2019~2020년 데이터 합치기\n",
    "year_list = [2021, 2020, 2019]\n",
    "for val_y in year_list :\n",
    "    df_temp = pd.DataFrame()\n",
    "    df_temp = pd.read_excel(\"../data/질병소분류별_다빈도_상병_급여현황_계__{}.xlsx\".format(val_y),\n",
    "                        header=1, usecols=\"B,C\").rename(columns={\"진료실인원 (명)\":\"{}진료실인원(명)\".format(val_y)})\n",
    "    df_temp[\"{}상병코드\".format(val_y)] = df_temp[\"상병명\"].str[0:3]\n",
    "    df_temp.drop(columns=\"상병명\", inplace=True)\n",
    "\n",
    "    df_2018 = pd.merge(left=df_2018, right=df_temp, how=\"left\",\n",
    "                       left_on=\"2018상병코드\", right_on=\"{}상병코드\".format(val_y))\n",
    "    df_2018.drop(columns=\"{}상병코드\".format(val_y), inplace=True)\n",
    "\n",
    "df_2018"
   ]
  },
  {
   "cell_type": "code",
   "execution_count": 19,
   "metadata": {},
   "outputs": [
    {
     "data": {
      "application/vnd.plotly.v1+json": {
       "config": {
        "plotlyServerURL": "https://plot.ly"
       },
       "data": [
        {
         "name": "2021",
         "type": "bar",
         "x": [
          "J20_급성기관지염",
          "K05_치은염 및 치주질환",
          "J30_혈관운동성 및 앨러지성비염",
          "I10_본태성(원발성)고혈압",
          "J06_다발성 및 상세불명부위의 급성상기도감염",
          "K02_치아우식",
          "J03_급성편도염",
          "K29_위염 및 십이지장염",
          "M54_등통증",
          "J02_급성인두염",
          "H10_결막염",
          "A09_감염성 및 상세불명 기원의 기타위장염 및 결장염",
          "L23_앨러지성접촉피부염",
          "J00_급성비인두염[감기]",
          "K21_위-식도역류병",
          "K04_치수 및 근단주위조직의 질환",
          "J01_급성부비동염",
          "J04_급성후두염 및 기관염",
          "M79_달리분류되지않은 기타연조직장애",
          "M17_무릎관절증"
         ],
         "y": [
          7416511,
          17641937,
          5005048,
          6803587,
          2718709,
          6350440,
          2578482,
          4923829,
          5455203,
          2360881,
          3920336,
          3569235,
          4348291,
          2149583,
          4914675,
          3704402,
          2017524,
          1532391,
          2894192,
          2901421
         ]
        },
        {
         "name": "2020",
         "type": "bar",
         "x": [
          "J20_급성기관지염",
          "K05_치은염 및 치주질환",
          "J30_혈관운동성 및 앨러지성비염",
          "I10_본태성(원발성)고혈압",
          "J06_다발성 및 상세불명부위의 급성상기도감염",
          "K02_치아우식",
          "J03_급성편도염",
          "K29_위염 및 십이지장염",
          "M54_등통증",
          "J02_급성인두염",
          "H10_결막염",
          "A09_감염성 및 상세불명 기원의 기타위장염 및 결장염",
          "L23_앨러지성접촉피부염",
          "J00_급성비인두염[감기]",
          "K21_위-식도역류병",
          "K04_치수 및 근단주위조직의 질환",
          "J01_급성부비동염",
          "J04_급성후두염 및 기관염",
          "M79_달리분류되지않은 기타연조직장애",
          "M17_무릎관절증"
         ],
         "y": [
          9424601,
          16337755,
          5188981,
          6488276,
          3364497,
          6137300,
          2972009,
          4546735,
          5114450,
          2616615,
          3824283,
          3295095,
          4380322,
          2632835,
          4589073,
          3900164,
          2218835,
          1905709,
          2505851,
          2731456
         ]
        },
        {
         "name": "2019",
         "type": "bar",
         "x": [
          "J20_급성기관지염",
          "K05_치은염 및 치주질환",
          "J30_혈관운동성 및 앨러지성비염",
          "I10_본태성(원발성)고혈압",
          "J06_다발성 및 상세불명부위의 급성상기도감염",
          "K02_치아우식",
          "J03_급성편도염",
          "K29_위염 및 십이지장염",
          "M54_등통증",
          "J02_급성인두염",
          "H10_결막염",
          "A09_감염성 및 상세불명 기원의 기타위장염 및 결장염",
          "L23_앨러지성접촉피부염",
          "J00_급성비인두염[감기]",
          "K21_위-식도역류병",
          "K04_치수 및 근단주위조직의 질환",
          "J01_급성부비동염",
          "J04_급성후두염 및 기관염",
          "M79_달리분류되지않은 기타연조직장애",
          "M17_무릎관절증"
         ],
         "y": [
          16103362,
          16854301,
          7046897,
          6290325,
          5681270,
          6451476,
          5132064,
          5242035,
          5419768,
          4405101,
          4572256,
          4379508,
          4665140,
          4154922,
          4597376,
          4217933,
          3775514,
          3335709,
          3016635,
          2950913
         ]
        },
        {
         "name": "2018",
         "type": "bar",
         "x": [
          "J20_급성기관지염",
          "K05_치은염 및 치주질환",
          "J30_혈관운동성 및 앨러지성비염",
          "I10_본태성(원발성)고혈압",
          "J06_다발성 및 상세불명부위의 급성상기도감염",
          "K02_치아우식",
          "J03_급성편도염",
          "K29_위염 및 십이지장염",
          "M54_등통증",
          "J02_급성인두염",
          "H10_결막염",
          "A09_감염성 및 상세불명 기원의 기타위장염 및 결장염",
          "L23_앨러지성접촉피부염",
          "J00_급성비인두염[감기]",
          "K21_위-식도역류병",
          "K04_치수 및 근단주위조직의 질환",
          "J01_급성부비동염",
          "J04_급성후두염 및 기관염",
          "M79_달리분류되지않은 기타연조직장애",
          "M17_무릎관절증"
         ],
         "y": [
          16788119,
          15829305,
          7034188,
          6063677,
          6021474,
          5871862,
          5728747,
          5336838,
          5254064,
          4749358,
          4690391,
          4625172,
          4617628,
          4500372,
          4437764,
          4297830,
          3919171,
          3440222,
          3081561,
          2869031
         ]
        }
       ],
       "layout": {
        "barmode": "group",
        "template": {
         "data": {
          "bar": [
           {
            "error_x": {
             "color": "#2a3f5f"
            },
            "error_y": {
             "color": "#2a3f5f"
            },
            "marker": {
             "line": {
              "color": "#E5ECF6",
              "width": 0.5
             },
             "pattern": {
              "fillmode": "overlay",
              "size": 10,
              "solidity": 0.2
             }
            },
            "type": "bar"
           }
          ],
          "barpolar": [
           {
            "marker": {
             "line": {
              "color": "#E5ECF6",
              "width": 0.5
             },
             "pattern": {
              "fillmode": "overlay",
              "size": 10,
              "solidity": 0.2
             }
            },
            "type": "barpolar"
           }
          ],
          "carpet": [
           {
            "aaxis": {
             "endlinecolor": "#2a3f5f",
             "gridcolor": "white",
             "linecolor": "white",
             "minorgridcolor": "white",
             "startlinecolor": "#2a3f5f"
            },
            "baxis": {
             "endlinecolor": "#2a3f5f",
             "gridcolor": "white",
             "linecolor": "white",
             "minorgridcolor": "white",
             "startlinecolor": "#2a3f5f"
            },
            "type": "carpet"
           }
          ],
          "choropleth": [
           {
            "colorbar": {
             "outlinewidth": 0,
             "ticks": ""
            },
            "type": "choropleth"
           }
          ],
          "contour": [
           {
            "colorbar": {
             "outlinewidth": 0,
             "ticks": ""
            },
            "colorscale": [
             [
              0,
              "#0d0887"
             ],
             [
              0.1111111111111111,
              "#46039f"
             ],
             [
              0.2222222222222222,
              "#7201a8"
             ],
             [
              0.3333333333333333,
              "#9c179e"
             ],
             [
              0.4444444444444444,
              "#bd3786"
             ],
             [
              0.5555555555555556,
              "#d8576b"
             ],
             [
              0.6666666666666666,
              "#ed7953"
             ],
             [
              0.7777777777777778,
              "#fb9f3a"
             ],
             [
              0.8888888888888888,
              "#fdca26"
             ],
             [
              1,
              "#f0f921"
             ]
            ],
            "type": "contour"
           }
          ],
          "contourcarpet": [
           {
            "colorbar": {
             "outlinewidth": 0,
             "ticks": ""
            },
            "type": "contourcarpet"
           }
          ],
          "heatmap": [
           {
            "colorbar": {
             "outlinewidth": 0,
             "ticks": ""
            },
            "colorscale": [
             [
              0,
              "#0d0887"
             ],
             [
              0.1111111111111111,
              "#46039f"
             ],
             [
              0.2222222222222222,
              "#7201a8"
             ],
             [
              0.3333333333333333,
              "#9c179e"
             ],
             [
              0.4444444444444444,
              "#bd3786"
             ],
             [
              0.5555555555555556,
              "#d8576b"
             ],
             [
              0.6666666666666666,
              "#ed7953"
             ],
             [
              0.7777777777777778,
              "#fb9f3a"
             ],
             [
              0.8888888888888888,
              "#fdca26"
             ],
             [
              1,
              "#f0f921"
             ]
            ],
            "type": "heatmap"
           }
          ],
          "heatmapgl": [
           {
            "colorbar": {
             "outlinewidth": 0,
             "ticks": ""
            },
            "colorscale": [
             [
              0,
              "#0d0887"
             ],
             [
              0.1111111111111111,
              "#46039f"
             ],
             [
              0.2222222222222222,
              "#7201a8"
             ],
             [
              0.3333333333333333,
              "#9c179e"
             ],
             [
              0.4444444444444444,
              "#bd3786"
             ],
             [
              0.5555555555555556,
              "#d8576b"
             ],
             [
              0.6666666666666666,
              "#ed7953"
             ],
             [
              0.7777777777777778,
              "#fb9f3a"
             ],
             [
              0.8888888888888888,
              "#fdca26"
             ],
             [
              1,
              "#f0f921"
             ]
            ],
            "type": "heatmapgl"
           }
          ],
          "histogram": [
           {
            "marker": {
             "pattern": {
              "fillmode": "overlay",
              "size": 10,
              "solidity": 0.2
             }
            },
            "type": "histogram"
           }
          ],
          "histogram2d": [
           {
            "colorbar": {
             "outlinewidth": 0,
             "ticks": ""
            },
            "colorscale": [
             [
              0,
              "#0d0887"
             ],
             [
              0.1111111111111111,
              "#46039f"
             ],
             [
              0.2222222222222222,
              "#7201a8"
             ],
             [
              0.3333333333333333,
              "#9c179e"
             ],
             [
              0.4444444444444444,
              "#bd3786"
             ],
             [
              0.5555555555555556,
              "#d8576b"
             ],
             [
              0.6666666666666666,
              "#ed7953"
             ],
             [
              0.7777777777777778,
              "#fb9f3a"
             ],
             [
              0.8888888888888888,
              "#fdca26"
             ],
             [
              1,
              "#f0f921"
             ]
            ],
            "type": "histogram2d"
           }
          ],
          "histogram2dcontour": [
           {
            "colorbar": {
             "outlinewidth": 0,
             "ticks": ""
            },
            "colorscale": [
             [
              0,
              "#0d0887"
             ],
             [
              0.1111111111111111,
              "#46039f"
             ],
             [
              0.2222222222222222,
              "#7201a8"
             ],
             [
              0.3333333333333333,
              "#9c179e"
             ],
             [
              0.4444444444444444,
              "#bd3786"
             ],
             [
              0.5555555555555556,
              "#d8576b"
             ],
             [
              0.6666666666666666,
              "#ed7953"
             ],
             [
              0.7777777777777778,
              "#fb9f3a"
             ],
             [
              0.8888888888888888,
              "#fdca26"
             ],
             [
              1,
              "#f0f921"
             ]
            ],
            "type": "histogram2dcontour"
           }
          ],
          "mesh3d": [
           {
            "colorbar": {
             "outlinewidth": 0,
             "ticks": ""
            },
            "type": "mesh3d"
           }
          ],
          "parcoords": [
           {
            "line": {
             "colorbar": {
              "outlinewidth": 0,
              "ticks": ""
             }
            },
            "type": "parcoords"
           }
          ],
          "pie": [
           {
            "automargin": true,
            "type": "pie"
           }
          ],
          "scatter": [
           {
            "fillpattern": {
             "fillmode": "overlay",
             "size": 10,
             "solidity": 0.2
            },
            "type": "scatter"
           }
          ],
          "scatter3d": [
           {
            "line": {
             "colorbar": {
              "outlinewidth": 0,
              "ticks": ""
             }
            },
            "marker": {
             "colorbar": {
              "outlinewidth": 0,
              "ticks": ""
             }
            },
            "type": "scatter3d"
           }
          ],
          "scattercarpet": [
           {
            "marker": {
             "colorbar": {
              "outlinewidth": 0,
              "ticks": ""
             }
            },
            "type": "scattercarpet"
           }
          ],
          "scattergeo": [
           {
            "marker": {
             "colorbar": {
              "outlinewidth": 0,
              "ticks": ""
             }
            },
            "type": "scattergeo"
           }
          ],
          "scattergl": [
           {
            "marker": {
             "colorbar": {
              "outlinewidth": 0,
              "ticks": ""
             }
            },
            "type": "scattergl"
           }
          ],
          "scattermapbox": [
           {
            "marker": {
             "colorbar": {
              "outlinewidth": 0,
              "ticks": ""
             }
            },
            "type": "scattermapbox"
           }
          ],
          "scatterpolar": [
           {
            "marker": {
             "colorbar": {
              "outlinewidth": 0,
              "ticks": ""
             }
            },
            "type": "scatterpolar"
           }
          ],
          "scatterpolargl": [
           {
            "marker": {
             "colorbar": {
              "outlinewidth": 0,
              "ticks": ""
             }
            },
            "type": "scatterpolargl"
           }
          ],
          "scatterternary": [
           {
            "marker": {
             "colorbar": {
              "outlinewidth": 0,
              "ticks": ""
             }
            },
            "type": "scatterternary"
           }
          ],
          "surface": [
           {
            "colorbar": {
             "outlinewidth": 0,
             "ticks": ""
            },
            "colorscale": [
             [
              0,
              "#0d0887"
             ],
             [
              0.1111111111111111,
              "#46039f"
             ],
             [
              0.2222222222222222,
              "#7201a8"
             ],
             [
              0.3333333333333333,
              "#9c179e"
             ],
             [
              0.4444444444444444,
              "#bd3786"
             ],
             [
              0.5555555555555556,
              "#d8576b"
             ],
             [
              0.6666666666666666,
              "#ed7953"
             ],
             [
              0.7777777777777778,
              "#fb9f3a"
             ],
             [
              0.8888888888888888,
              "#fdca26"
             ],
             [
              1,
              "#f0f921"
             ]
            ],
            "type": "surface"
           }
          ],
          "table": [
           {
            "cells": {
             "fill": {
              "color": "#EBF0F8"
             },
             "line": {
              "color": "white"
             }
            },
            "header": {
             "fill": {
              "color": "#C8D4E3"
             },
             "line": {
              "color": "white"
             }
            },
            "type": "table"
           }
          ]
         },
         "layout": {
          "annotationdefaults": {
           "arrowcolor": "#2a3f5f",
           "arrowhead": 0,
           "arrowwidth": 1
          },
          "autotypenumbers": "strict",
          "coloraxis": {
           "colorbar": {
            "outlinewidth": 0,
            "ticks": ""
           }
          },
          "colorscale": {
           "diverging": [
            [
             0,
             "#8e0152"
            ],
            [
             0.1,
             "#c51b7d"
            ],
            [
             0.2,
             "#de77ae"
            ],
            [
             0.3,
             "#f1b6da"
            ],
            [
             0.4,
             "#fde0ef"
            ],
            [
             0.5,
             "#f7f7f7"
            ],
            [
             0.6,
             "#e6f5d0"
            ],
            [
             0.7,
             "#b8e186"
            ],
            [
             0.8,
             "#7fbc41"
            ],
            [
             0.9,
             "#4d9221"
            ],
            [
             1,
             "#276419"
            ]
           ],
           "sequential": [
            [
             0,
             "#0d0887"
            ],
            [
             0.1111111111111111,
             "#46039f"
            ],
            [
             0.2222222222222222,
             "#7201a8"
            ],
            [
             0.3333333333333333,
             "#9c179e"
            ],
            [
             0.4444444444444444,
             "#bd3786"
            ],
            [
             0.5555555555555556,
             "#d8576b"
            ],
            [
             0.6666666666666666,
             "#ed7953"
            ],
            [
             0.7777777777777778,
             "#fb9f3a"
            ],
            [
             0.8888888888888888,
             "#fdca26"
            ],
            [
             1,
             "#f0f921"
            ]
           ],
           "sequentialminus": [
            [
             0,
             "#0d0887"
            ],
            [
             0.1111111111111111,
             "#46039f"
            ],
            [
             0.2222222222222222,
             "#7201a8"
            ],
            [
             0.3333333333333333,
             "#9c179e"
            ],
            [
             0.4444444444444444,
             "#bd3786"
            ],
            [
             0.5555555555555556,
             "#d8576b"
            ],
            [
             0.6666666666666666,
             "#ed7953"
            ],
            [
             0.7777777777777778,
             "#fb9f3a"
            ],
            [
             0.8888888888888888,
             "#fdca26"
            ],
            [
             1,
             "#f0f921"
            ]
           ]
          },
          "colorway": [
           "#636efa",
           "#EF553B",
           "#00cc96",
           "#ab63fa",
           "#FFA15A",
           "#19d3f3",
           "#FF6692",
           "#B6E880",
           "#FF97FF",
           "#FECB52"
          ],
          "font": {
           "color": "#2a3f5f"
          },
          "geo": {
           "bgcolor": "white",
           "lakecolor": "white",
           "landcolor": "#E5ECF6",
           "showlakes": true,
           "showland": true,
           "subunitcolor": "white"
          },
          "hoverlabel": {
           "align": "left"
          },
          "hovermode": "closest",
          "mapbox": {
           "style": "light"
          },
          "paper_bgcolor": "white",
          "plot_bgcolor": "#E5ECF6",
          "polar": {
           "angularaxis": {
            "gridcolor": "white",
            "linecolor": "white",
            "ticks": ""
           },
           "bgcolor": "#E5ECF6",
           "radialaxis": {
            "gridcolor": "white",
            "linecolor": "white",
            "ticks": ""
           }
          },
          "scene": {
           "xaxis": {
            "backgroundcolor": "#E5ECF6",
            "gridcolor": "white",
            "gridwidth": 2,
            "linecolor": "white",
            "showbackground": true,
            "ticks": "",
            "zerolinecolor": "white"
           },
           "yaxis": {
            "backgroundcolor": "#E5ECF6",
            "gridcolor": "white",
            "gridwidth": 2,
            "linecolor": "white",
            "showbackground": true,
            "ticks": "",
            "zerolinecolor": "white"
           },
           "zaxis": {
            "backgroundcolor": "#E5ECF6",
            "gridcolor": "white",
            "gridwidth": 2,
            "linecolor": "white",
            "showbackground": true,
            "ticks": "",
            "zerolinecolor": "white"
           }
          },
          "shapedefaults": {
           "line": {
            "color": "#2a3f5f"
           }
          },
          "ternary": {
           "aaxis": {
            "gridcolor": "white",
            "linecolor": "white",
            "ticks": ""
           },
           "baxis": {
            "gridcolor": "white",
            "linecolor": "white",
            "ticks": ""
           },
           "bgcolor": "#E5ECF6",
           "caxis": {
            "gridcolor": "white",
            "linecolor": "white",
            "ticks": ""
           }
          },
          "title": {
           "x": 0.05
          },
          "xaxis": {
           "automargin": true,
           "gridcolor": "white",
           "linecolor": "white",
           "ticks": "",
           "title": {
            "standoff": 15
           },
           "zerolinecolor": "white",
           "zerolinewidth": 2
          },
          "yaxis": {
           "automargin": true,
           "gridcolor": "white",
           "linecolor": "white",
           "ticks": "",
           "title": {
            "standoff": 15
           },
           "zerolinecolor": "white",
           "zerolinewidth": 2
          }
         }
        },
        "title": {
         "text": "2018-2021 진료실인원 Grouped Bar Plot (2018 기준)"
        },
        "yaxis": {
         "title": {
          "text": "진료실인원(명)"
         }
        }
       }
      }
     },
     "metadata": {},
     "output_type": "display_data"
    }
   ],
   "source": [
    "### 다빈도 상병 4개년 그룹 Bar Plot\n",
    "fig = go.Figure()\n",
    "\n",
    "fig.add_trace(go.Bar(\n",
    "    y=df_2018[\"2021진료실인원(명)\"], x=df_2018[\"상병명\"], name='2021'\n",
    "))\n",
    "fig.add_trace(go.Bar(\n",
    "    y=df_2018[\"2020진료실인원(명)\"], x=df_2018[\"상병명\"], name='2020'\n",
    "))\n",
    "fig.add_trace(go.Bar(\n",
    "    y=df_2018[\"2019진료실인원(명)\"], x=df_2018[\"상병명\"], name='2019'\n",
    "))\n",
    "fig.add_trace(go.Bar(\n",
    "    y=df_2018[\"2018진료실인원(명)\"], x=df_2018[\"상병명\"], name='2018'\n",
    "))\n",
    "\n",
    "fig.update_layout(barmode='group',  # 그룹막대그래프 설정\n",
    "    title_text=\"2018-2021 진료실인원 Grouped Bar Plot (2018 기준)\",\n",
    "    yaxis_title=\"진료실인원(명)\")\n",
    "\n",
    "fig.show()"
   ]
  },
  {
   "cell_type": "code",
   "execution_count": 7,
   "metadata": {},
   "outputs": [
    {
     "name": "stderr",
     "output_type": "stream",
     "text": [
      "c:\\Users\\USER\\anaconda3\\envs\\busan_env\\lib\\site-packages\\openpyxl\\styles\\stylesheet.py:226: UserWarning:\n",
      "\n",
      "Workbook contains no default style, apply openpyxl's default\n",
      "\n",
      "c:\\Users\\USER\\anaconda3\\envs\\busan_env\\lib\\site-packages\\openpyxl\\styles\\stylesheet.py:226: UserWarning:\n",
      "\n",
      "Workbook contains no default style, apply openpyxl's default\n",
      "\n"
     ]
    },
    {
     "data": {
      "text/html": [
       "<div>\n",
       "<style scoped>\n",
       "    .dataframe tbody tr th:only-of-type {\n",
       "        vertical-align: middle;\n",
       "    }\n",
       "\n",
       "    .dataframe tbody tr th {\n",
       "        vertical-align: top;\n",
       "    }\n",
       "\n",
       "    .dataframe thead th {\n",
       "        text-align: right;\n",
       "    }\n",
       "</style>\n",
       "<table border=\"1\" class=\"dataframe\">\n",
       "  <thead>\n",
       "    <tr style=\"text-align: right;\">\n",
       "      <th></th>\n",
       "      <th>순위별(1)</th>\n",
       "      <th>상병별</th>\n",
       "      <th>2018진료실인원(명)</th>\n",
       "      <th>2018상병코드</th>\n",
       "      <th>2021진료실인원(명)</th>\n",
       "      <th>2020진료실인원(명)</th>\n",
       "      <th>2019진료실인원(명)</th>\n",
       "    </tr>\n",
       "  </thead>\n",
       "  <tbody>\n",
       "    <tr>\n",
       "      <th>0</th>\n",
       "      <td>1위</td>\n",
       "      <td>J20_급성기관지염</td>\n",
       "      <td>15526223</td>\n",
       "      <td>J20</td>\n",
       "      <td>6994578</td>\n",
       "      <td>8930763</td>\n",
       "      <td>15390418</td>\n",
       "    </tr>\n",
       "    <tr>\n",
       "      <th>1</th>\n",
       "      <td>2위</td>\n",
       "      <td>ZZ_양방기타</td>\n",
       "      <td>13505359</td>\n",
       "      <td>ZZ_</td>\n",
       "      <td>2013791</td>\n",
       "      <td>2262747</td>\n",
       "      <td>4754624</td>\n",
       "    </tr>\n",
       "    <tr>\n",
       "      <th>2</th>\n",
       "      <td>3위</td>\n",
       "      <td>J30_혈관운동성및앨러지성비염</td>\n",
       "      <td>6666864</td>\n",
       "      <td>J30</td>\n",
       "      <td>4904559</td>\n",
       "      <td>5087239</td>\n",
       "      <td>6911767</td>\n",
       "    </tr>\n",
       "    <tr>\n",
       "      <th>3</th>\n",
       "      <td>4위</td>\n",
       "      <td>I10_본태성(원발성)고혈압</td>\n",
       "      <td>5459998</td>\n",
       "      <td>I10</td>\n",
       "      <td>6359093</td>\n",
       "      <td>6045039</td>\n",
       "      <td>5729715</td>\n",
       "    </tr>\n",
       "    <tr>\n",
       "      <th>4</th>\n",
       "      <td>5위</td>\n",
       "      <td>J06_다발성및상세불명부위의급성상기도감염</td>\n",
       "      <td>5363578</td>\n",
       "      <td>J06</td>\n",
       "      <td>2458645</td>\n",
       "      <td>3083139</td>\n",
       "      <td>5258531</td>\n",
       "    </tr>\n",
       "    <tr>\n",
       "      <th>5</th>\n",
       "      <td>6위</td>\n",
       "      <td>J03_급성편도염</td>\n",
       "      <td>5294106</td>\n",
       "      <td>J03</td>\n",
       "      <td>2441297</td>\n",
       "      <td>2820951</td>\n",
       "      <td>4894157</td>\n",
       "    </tr>\n",
       "    <tr>\n",
       "      <th>6</th>\n",
       "      <td>7위</td>\n",
       "      <td>K29_위염및십이지장염</td>\n",
       "      <td>4945445</td>\n",
       "      <td>K29</td>\n",
       "      <td>4762623</td>\n",
       "      <td>4430266</td>\n",
       "      <td>4997564</td>\n",
       "    </tr>\n",
       "    <tr>\n",
       "      <th>7</th>\n",
       "      <td>8위</td>\n",
       "      <td>K05_치은염및치주질환</td>\n",
       "      <td>4789045</td>\n",
       "      <td>K05</td>\n",
       "      <td>5400428</td>\n",
       "      <td>5154723</td>\n",
       "      <td>5117185</td>\n",
       "    </tr>\n",
       "    <tr>\n",
       "      <th>8</th>\n",
       "      <td>9위</td>\n",
       "      <td>J02_급성인두염</td>\n",
       "      <td>4329488</td>\n",
       "      <td>J02</td>\n",
       "      <td>2192329</td>\n",
       "      <td>2440951</td>\n",
       "      <td>4135538</td>\n",
       "    </tr>\n",
       "    <tr>\n",
       "      <th>9</th>\n",
       "      <td>10위</td>\n",
       "      <td>H10_결막염</td>\n",
       "      <td>4327470</td>\n",
       "      <td>H10</td>\n",
       "      <td>3689050</td>\n",
       "      <td>3614379</td>\n",
       "      <td>4298042</td>\n",
       "    </tr>\n",
       "    <tr>\n",
       "      <th>10</th>\n",
       "      <td>11위</td>\n",
       "      <td>L23_앨러지성접촉피부염</td>\n",
       "      <td>4218005</td>\n",
       "      <td>L23</td>\n",
       "      <td>4097862</td>\n",
       "      <td>4132558</td>\n",
       "      <td>4362206</td>\n",
       "    </tr>\n",
       "    <tr>\n",
       "      <th>11</th>\n",
       "      <td>12위</td>\n",
       "      <td>K21_위-식도역류병</td>\n",
       "      <td>4022082</td>\n",
       "      <td>K21</td>\n",
       "      <td>4613663</td>\n",
       "      <td>4308604</td>\n",
       "      <td>4255676</td>\n",
       "    </tr>\n",
       "    <tr>\n",
       "      <th>12</th>\n",
       "      <td>13위</td>\n",
       "      <td>A09_감염성및상세불명기원의기타위장염및결장염</td>\n",
       "      <td>3757147</td>\n",
       "      <td>A09</td>\n",
       "      <td>3005122</td>\n",
       "      <td>2741369</td>\n",
       "      <td>3614920</td>\n",
       "    </tr>\n",
       "    <tr>\n",
       "      <th>13</th>\n",
       "      <td>14위</td>\n",
       "      <td>J01_급성부비동염</td>\n",
       "      <td>3644406</td>\n",
       "      <td>J01</td>\n",
       "      <td>1916864</td>\n",
       "      <td>2105359</td>\n",
       "      <td>3612077</td>\n",
       "    </tr>\n",
       "    <tr>\n",
       "      <th>14</th>\n",
       "      <td>15위</td>\n",
       "      <td>J00_급성비인두염[감기]</td>\n",
       "      <td>3619225</td>\n",
       "      <td>J00</td>\n",
       "      <td>1766797</td>\n",
       "      <td>2093801</td>\n",
       "      <td>3453689</td>\n",
       "    </tr>\n",
       "    <tr>\n",
       "      <th>15</th>\n",
       "      <td>16위</td>\n",
       "      <td>M54_등통증</td>\n",
       "      <td>3464267</td>\n",
       "      <td>M54</td>\n",
       "      <td>3794929</td>\n",
       "      <td>3537297</td>\n",
       "      <td>3643498</td>\n",
       "    </tr>\n",
       "    <tr>\n",
       "      <th>16</th>\n",
       "      <td>17위</td>\n",
       "      <td>J04_급성후두염및기관염</td>\n",
       "      <td>3122292</td>\n",
       "      <td>J04</td>\n",
       "      <td>1401916</td>\n",
       "      <td>1752934</td>\n",
       "      <td>3114475</td>\n",
       "    </tr>\n",
       "    <tr>\n",
       "      <th>17</th>\n",
       "      <td>18위</td>\n",
       "      <td>E11_2형당뇨병</td>\n",
       "      <td>2366663</td>\n",
       "      <td>E11</td>\n",
       "      <td>2851286</td>\n",
       "      <td>2686500</td>\n",
       "      <td>2534933</td>\n",
       "    </tr>\n",
       "    <tr>\n",
       "      <th>18</th>\n",
       "      <td>19위</td>\n",
       "      <td>H04_눈물계통의장애</td>\n",
       "      <td>2197176</td>\n",
       "      <td>H04</td>\n",
       "      <td>2394681</td>\n",
       "      <td>2098477</td>\n",
       "      <td>2326214</td>\n",
       "    </tr>\n",
       "    <tr>\n",
       "      <th>19</th>\n",
       "      <td>20위</td>\n",
       "      <td>B35_백선증</td>\n",
       "      <td>2167559</td>\n",
       "      <td>B35</td>\n",
       "      <td>2010630</td>\n",
       "      <td>2111646</td>\n",
       "      <td>2185564</td>\n",
       "    </tr>\n",
       "  </tbody>\n",
       "</table>\n",
       "</div>"
      ],
      "text/plain": [
       "   순위별(1)                       상병별  2018진료실인원(명) 2018상병코드  2021진료실인원(명)   \n",
       "0      1위                J20_급성기관지염      15526223      J20       6994578  \\\n",
       "1      2위                   ZZ_양방기타      13505359      ZZ_       2013791   \n",
       "2      3위          J30_혈관운동성및앨러지성비염       6666864      J30       4904559   \n",
       "3      4위           I10_본태성(원발성)고혈압       5459998      I10       6359093   \n",
       "4      5위    J06_다발성및상세불명부위의급성상기도감염       5363578      J06       2458645   \n",
       "5      6위                 J03_급성편도염       5294106      J03       2441297   \n",
       "6      7위              K29_위염및십이지장염       4945445      K29       4762623   \n",
       "7      8위              K05_치은염및치주질환       4789045      K05       5400428   \n",
       "8      9위                 J02_급성인두염       4329488      J02       2192329   \n",
       "9     10위                   H10_결막염       4327470      H10       3689050   \n",
       "10    11위             L23_앨러지성접촉피부염       4218005      L23       4097862   \n",
       "11    12위               K21_위-식도역류병       4022082      K21       4613663   \n",
       "12    13위  A09_감염성및상세불명기원의기타위장염및결장염       3757147      A09       3005122   \n",
       "13    14위                J01_급성부비동염       3644406      J01       1916864   \n",
       "14    15위            J00_급성비인두염[감기]       3619225      J00       1766797   \n",
       "15    16위                   M54_등통증       3464267      M54       3794929   \n",
       "16    17위             J04_급성후두염및기관염       3122292      J04       1401916   \n",
       "17    18위                 E11_2형당뇨병       2366663      E11       2851286   \n",
       "18    19위               H04_눈물계통의장애       2197176      H04       2394681   \n",
       "19    20위                   B35_백선증       2167559      B35       2010630   \n",
       "\n",
       "    2020진료실인원(명)  2019진료실인원(명)  \n",
       "0        8930763      15390418  \n",
       "1        2262747       4754624  \n",
       "2        5087239       6911767  \n",
       "3        6045039       5729715  \n",
       "4        3083139       5258531  \n",
       "5        2820951       4894157  \n",
       "6        4430266       4997564  \n",
       "7        5154723       5117185  \n",
       "8        2440951       4135538  \n",
       "9        3614379       4298042  \n",
       "10       4132558       4362206  \n",
       "11       4308604       4255676  \n",
       "12       2741369       3614920  \n",
       "13       2105359       3612077  \n",
       "14       2093801       3453689  \n",
       "15       3537297       3643498  \n",
       "16       1752934       3114475  \n",
       "17       2686500       2534933  \n",
       "18       2098477       2326214  \n",
       "19       2111646       2185564  "
      ]
     },
     "execution_count": 7,
     "metadata": {},
     "output_type": "execute_result"
    }
   ],
   "source": [
    "### 다빈도 상병 4개년 비교하기 (top20 : 2018년 상병 기준)\n",
    "df = pd.DataFrame()\n",
    "# - 2018년 top20 데이터 불러들이기\n",
    "df_2018 = pd.read_excel(\"../data/질병소분류별_약국_처방조제_다빈도_상병_급여현황_계__{}.xlsx\".format(\"2018\"),\n",
    "                        header=1, usecols=\"A:C\")[:20].rename(columns={\"진료실인원 (명)\":\"{}진료실인원(명)\".format(\"2018\")})\n",
    "df_2018[\"2018상병코드\"] = df_2018[\"상병별\"].str[0:3]\n",
    "\n",
    "# - 2018 top 20를 기준으로 2019~2020년 데이터 합치기\n",
    "year_list = [2021, 2020, 2019]\n",
    "for val_y in year_list :\n",
    "    df_temp = pd.DataFrame()\n",
    "    df_temp = pd.read_excel(\"../data/질병소분류별_약국_처방조제_다빈도_상병_급여현황_계__{}.xlsx\".format(val_y),\n",
    "                        header=1, usecols=\"B,C\").rename(columns={\"진료실인원 (명)\":\"{}진료실인원(명)\".format(val_y)})\n",
    "    df_temp[\"{}상병코드\".format(val_y)] = df_temp[\"상병별\"].str[0:3]\n",
    "    df_temp.drop(columns=\"상병별\", inplace=True)\n",
    "\n",
    "    df_2018 = pd.merge(left=df_2018, right=df_temp, how=\"left\",\n",
    "                       left_on=\"2018상병코드\", right_on=\"{}상병코드\".format(val_y))\n",
    "    df_2018.drop(columns=\"{}상병코드\".format(val_y), inplace=True)\n",
    "\n",
    "df_2018"
   ]
  },
  {
   "cell_type": "code",
   "execution_count": 11,
   "metadata": {},
   "outputs": [
    {
     "data": {
      "application/vnd.plotly.v1+json": {
       "config": {
        "plotlyServerURL": "https://plot.ly"
       },
       "data": [
        {
         "name": "2021",
         "type": "bar",
         "x": [
          "J20_급성기관지염",
          "ZZ_양방기타",
          "J30_혈관운동성및앨러지성비염",
          "I10_본태성(원발성)고혈압",
          "J06_다발성및상세불명부위의급성상기도감염",
          "J03_급성편도염",
          "K29_위염및십이지장염",
          "K05_치은염및치주질환",
          "J02_급성인두염",
          "H10_결막염",
          "L23_앨러지성접촉피부염",
          "K21_위-식도역류병",
          "A09_감염성및상세불명기원의기타위장염및결장염",
          "J01_급성부비동염",
          "J00_급성비인두염[감기]",
          "M54_등통증",
          "J04_급성후두염및기관염",
          "E11_2형당뇨병",
          "H04_눈물계통의장애",
          "B35_백선증"
         ],
         "y": [
          6994578,
          2013791,
          4904559,
          6359093,
          2458645,
          2441297,
          4762623,
          5400428,
          2192329,
          3689050,
          4097862,
          4613663,
          3005122,
          1916864,
          1766797,
          3794929,
          1401916,
          2851286,
          2394681,
          2010630
         ]
        },
        {
         "name": "2020",
         "type": "bar",
         "x": [
          "J20_급성기관지염",
          "ZZ_양방기타",
          "J30_혈관운동성및앨러지성비염",
          "I10_본태성(원발성)고혈압",
          "J06_다발성및상세불명부위의급성상기도감염",
          "J03_급성편도염",
          "K29_위염및십이지장염",
          "K05_치은염및치주질환",
          "J02_급성인두염",
          "H10_결막염",
          "L23_앨러지성접촉피부염",
          "K21_위-식도역류병",
          "A09_감염성및상세불명기원의기타위장염및결장염",
          "J01_급성부비동염",
          "J00_급성비인두염[감기]",
          "M54_등통증",
          "J04_급성후두염및기관염",
          "E11_2형당뇨병",
          "H04_눈물계통의장애",
          "B35_백선증"
         ],
         "y": [
          8930763,
          2262747,
          5087239,
          6045039,
          3083139,
          2820951,
          4430266,
          5154723,
          2440951,
          3614379,
          4132558,
          4308604,
          2741369,
          2105359,
          2093801,
          3537297,
          1752934,
          2686500,
          2098477,
          2111646
         ]
        },
        {
         "name": "2019",
         "type": "bar",
         "x": [
          "J20_급성기관지염",
          "ZZ_양방기타",
          "J30_혈관운동성및앨러지성비염",
          "I10_본태성(원발성)고혈압",
          "J06_다발성및상세불명부위의급성상기도감염",
          "J03_급성편도염",
          "K29_위염및십이지장염",
          "K05_치은염및치주질환",
          "J02_급성인두염",
          "H10_결막염",
          "L23_앨러지성접촉피부염",
          "K21_위-식도역류병",
          "A09_감염성및상세불명기원의기타위장염및결장염",
          "J01_급성부비동염",
          "J00_급성비인두염[감기]",
          "M54_등통증",
          "J04_급성후두염및기관염",
          "E11_2형당뇨병",
          "H04_눈물계통의장애",
          "B35_백선증"
         ],
         "y": [
          15390418,
          4754624,
          6911767,
          5729715,
          5258531,
          4894157,
          4997564,
          5117185,
          4135538,
          4298042,
          4362206,
          4255676,
          3614920,
          3612077,
          3453689,
          3643498,
          3114475,
          2534933,
          2326214,
          2185564
         ]
        },
        {
         "name": "2018",
         "type": "bar",
         "x": [
          "J20_급성기관지염",
          "ZZ_양방기타",
          "J30_혈관운동성및앨러지성비염",
          "I10_본태성(원발성)고혈압",
          "J06_다발성및상세불명부위의급성상기도감염",
          "J03_급성편도염",
          "K29_위염및십이지장염",
          "K05_치은염및치주질환",
          "J02_급성인두염",
          "H10_결막염",
          "L23_앨러지성접촉피부염",
          "K21_위-식도역류병",
          "A09_감염성및상세불명기원의기타위장염및결장염",
          "J01_급성부비동염",
          "J00_급성비인두염[감기]",
          "M54_등통증",
          "J04_급성후두염및기관염",
          "E11_2형당뇨병",
          "H04_눈물계통의장애",
          "B35_백선증"
         ],
         "y": [
          15526223,
          13505359,
          6666864,
          5459998,
          5363578,
          5294106,
          4945445,
          4789045,
          4329488,
          4327470,
          4218005,
          4022082,
          3757147,
          3644406,
          3619225,
          3464267,
          3122292,
          2366663,
          2197176,
          2167559
         ]
        }
       ],
       "layout": {
        "barmode": "group",
        "template": {
         "data": {
          "bar": [
           {
            "error_x": {
             "color": "#2a3f5f"
            },
            "error_y": {
             "color": "#2a3f5f"
            },
            "marker": {
             "line": {
              "color": "#E5ECF6",
              "width": 0.5
             },
             "pattern": {
              "fillmode": "overlay",
              "size": 10,
              "solidity": 0.2
             }
            },
            "type": "bar"
           }
          ],
          "barpolar": [
           {
            "marker": {
             "line": {
              "color": "#E5ECF6",
              "width": 0.5
             },
             "pattern": {
              "fillmode": "overlay",
              "size": 10,
              "solidity": 0.2
             }
            },
            "type": "barpolar"
           }
          ],
          "carpet": [
           {
            "aaxis": {
             "endlinecolor": "#2a3f5f",
             "gridcolor": "white",
             "linecolor": "white",
             "minorgridcolor": "white",
             "startlinecolor": "#2a3f5f"
            },
            "baxis": {
             "endlinecolor": "#2a3f5f",
             "gridcolor": "white",
             "linecolor": "white",
             "minorgridcolor": "white",
             "startlinecolor": "#2a3f5f"
            },
            "type": "carpet"
           }
          ],
          "choropleth": [
           {
            "colorbar": {
             "outlinewidth": 0,
             "ticks": ""
            },
            "type": "choropleth"
           }
          ],
          "contour": [
           {
            "colorbar": {
             "outlinewidth": 0,
             "ticks": ""
            },
            "colorscale": [
             [
              0,
              "#0d0887"
             ],
             [
              0.1111111111111111,
              "#46039f"
             ],
             [
              0.2222222222222222,
              "#7201a8"
             ],
             [
              0.3333333333333333,
              "#9c179e"
             ],
             [
              0.4444444444444444,
              "#bd3786"
             ],
             [
              0.5555555555555556,
              "#d8576b"
             ],
             [
              0.6666666666666666,
              "#ed7953"
             ],
             [
              0.7777777777777778,
              "#fb9f3a"
             ],
             [
              0.8888888888888888,
              "#fdca26"
             ],
             [
              1,
              "#f0f921"
             ]
            ],
            "type": "contour"
           }
          ],
          "contourcarpet": [
           {
            "colorbar": {
             "outlinewidth": 0,
             "ticks": ""
            },
            "type": "contourcarpet"
           }
          ],
          "heatmap": [
           {
            "colorbar": {
             "outlinewidth": 0,
             "ticks": ""
            },
            "colorscale": [
             [
              0,
              "#0d0887"
             ],
             [
              0.1111111111111111,
              "#46039f"
             ],
             [
              0.2222222222222222,
              "#7201a8"
             ],
             [
              0.3333333333333333,
              "#9c179e"
             ],
             [
              0.4444444444444444,
              "#bd3786"
             ],
             [
              0.5555555555555556,
              "#d8576b"
             ],
             [
              0.6666666666666666,
              "#ed7953"
             ],
             [
              0.7777777777777778,
              "#fb9f3a"
             ],
             [
              0.8888888888888888,
              "#fdca26"
             ],
             [
              1,
              "#f0f921"
             ]
            ],
            "type": "heatmap"
           }
          ],
          "heatmapgl": [
           {
            "colorbar": {
             "outlinewidth": 0,
             "ticks": ""
            },
            "colorscale": [
             [
              0,
              "#0d0887"
             ],
             [
              0.1111111111111111,
              "#46039f"
             ],
             [
              0.2222222222222222,
              "#7201a8"
             ],
             [
              0.3333333333333333,
              "#9c179e"
             ],
             [
              0.4444444444444444,
              "#bd3786"
             ],
             [
              0.5555555555555556,
              "#d8576b"
             ],
             [
              0.6666666666666666,
              "#ed7953"
             ],
             [
              0.7777777777777778,
              "#fb9f3a"
             ],
             [
              0.8888888888888888,
              "#fdca26"
             ],
             [
              1,
              "#f0f921"
             ]
            ],
            "type": "heatmapgl"
           }
          ],
          "histogram": [
           {
            "marker": {
             "pattern": {
              "fillmode": "overlay",
              "size": 10,
              "solidity": 0.2
             }
            },
            "type": "histogram"
           }
          ],
          "histogram2d": [
           {
            "colorbar": {
             "outlinewidth": 0,
             "ticks": ""
            },
            "colorscale": [
             [
              0,
              "#0d0887"
             ],
             [
              0.1111111111111111,
              "#46039f"
             ],
             [
              0.2222222222222222,
              "#7201a8"
             ],
             [
              0.3333333333333333,
              "#9c179e"
             ],
             [
              0.4444444444444444,
              "#bd3786"
             ],
             [
              0.5555555555555556,
              "#d8576b"
             ],
             [
              0.6666666666666666,
              "#ed7953"
             ],
             [
              0.7777777777777778,
              "#fb9f3a"
             ],
             [
              0.8888888888888888,
              "#fdca26"
             ],
             [
              1,
              "#f0f921"
             ]
            ],
            "type": "histogram2d"
           }
          ],
          "histogram2dcontour": [
           {
            "colorbar": {
             "outlinewidth": 0,
             "ticks": ""
            },
            "colorscale": [
             [
              0,
              "#0d0887"
             ],
             [
              0.1111111111111111,
              "#46039f"
             ],
             [
              0.2222222222222222,
              "#7201a8"
             ],
             [
              0.3333333333333333,
              "#9c179e"
             ],
             [
              0.4444444444444444,
              "#bd3786"
             ],
             [
              0.5555555555555556,
              "#d8576b"
             ],
             [
              0.6666666666666666,
              "#ed7953"
             ],
             [
              0.7777777777777778,
              "#fb9f3a"
             ],
             [
              0.8888888888888888,
              "#fdca26"
             ],
             [
              1,
              "#f0f921"
             ]
            ],
            "type": "histogram2dcontour"
           }
          ],
          "mesh3d": [
           {
            "colorbar": {
             "outlinewidth": 0,
             "ticks": ""
            },
            "type": "mesh3d"
           }
          ],
          "parcoords": [
           {
            "line": {
             "colorbar": {
              "outlinewidth": 0,
              "ticks": ""
             }
            },
            "type": "parcoords"
           }
          ],
          "pie": [
           {
            "automargin": true,
            "type": "pie"
           }
          ],
          "scatter": [
           {
            "fillpattern": {
             "fillmode": "overlay",
             "size": 10,
             "solidity": 0.2
            },
            "type": "scatter"
           }
          ],
          "scatter3d": [
           {
            "line": {
             "colorbar": {
              "outlinewidth": 0,
              "ticks": ""
             }
            },
            "marker": {
             "colorbar": {
              "outlinewidth": 0,
              "ticks": ""
             }
            },
            "type": "scatter3d"
           }
          ],
          "scattercarpet": [
           {
            "marker": {
             "colorbar": {
              "outlinewidth": 0,
              "ticks": ""
             }
            },
            "type": "scattercarpet"
           }
          ],
          "scattergeo": [
           {
            "marker": {
             "colorbar": {
              "outlinewidth": 0,
              "ticks": ""
             }
            },
            "type": "scattergeo"
           }
          ],
          "scattergl": [
           {
            "marker": {
             "colorbar": {
              "outlinewidth": 0,
              "ticks": ""
             }
            },
            "type": "scattergl"
           }
          ],
          "scattermapbox": [
           {
            "marker": {
             "colorbar": {
              "outlinewidth": 0,
              "ticks": ""
             }
            },
            "type": "scattermapbox"
           }
          ],
          "scatterpolar": [
           {
            "marker": {
             "colorbar": {
              "outlinewidth": 0,
              "ticks": ""
             }
            },
            "type": "scatterpolar"
           }
          ],
          "scatterpolargl": [
           {
            "marker": {
             "colorbar": {
              "outlinewidth": 0,
              "ticks": ""
             }
            },
            "type": "scatterpolargl"
           }
          ],
          "scatterternary": [
           {
            "marker": {
             "colorbar": {
              "outlinewidth": 0,
              "ticks": ""
             }
            },
            "type": "scatterternary"
           }
          ],
          "surface": [
           {
            "colorbar": {
             "outlinewidth": 0,
             "ticks": ""
            },
            "colorscale": [
             [
              0,
              "#0d0887"
             ],
             [
              0.1111111111111111,
              "#46039f"
             ],
             [
              0.2222222222222222,
              "#7201a8"
             ],
             [
              0.3333333333333333,
              "#9c179e"
             ],
             [
              0.4444444444444444,
              "#bd3786"
             ],
             [
              0.5555555555555556,
              "#d8576b"
             ],
             [
              0.6666666666666666,
              "#ed7953"
             ],
             [
              0.7777777777777778,
              "#fb9f3a"
             ],
             [
              0.8888888888888888,
              "#fdca26"
             ],
             [
              1,
              "#f0f921"
             ]
            ],
            "type": "surface"
           }
          ],
          "table": [
           {
            "cells": {
             "fill": {
              "color": "#EBF0F8"
             },
             "line": {
              "color": "white"
             }
            },
            "header": {
             "fill": {
              "color": "#C8D4E3"
             },
             "line": {
              "color": "white"
             }
            },
            "type": "table"
           }
          ]
         },
         "layout": {
          "annotationdefaults": {
           "arrowcolor": "#2a3f5f",
           "arrowhead": 0,
           "arrowwidth": 1
          },
          "autotypenumbers": "strict",
          "coloraxis": {
           "colorbar": {
            "outlinewidth": 0,
            "ticks": ""
           }
          },
          "colorscale": {
           "diverging": [
            [
             0,
             "#8e0152"
            ],
            [
             0.1,
             "#c51b7d"
            ],
            [
             0.2,
             "#de77ae"
            ],
            [
             0.3,
             "#f1b6da"
            ],
            [
             0.4,
             "#fde0ef"
            ],
            [
             0.5,
             "#f7f7f7"
            ],
            [
             0.6,
             "#e6f5d0"
            ],
            [
             0.7,
             "#b8e186"
            ],
            [
             0.8,
             "#7fbc41"
            ],
            [
             0.9,
             "#4d9221"
            ],
            [
             1,
             "#276419"
            ]
           ],
           "sequential": [
            [
             0,
             "#0d0887"
            ],
            [
             0.1111111111111111,
             "#46039f"
            ],
            [
             0.2222222222222222,
             "#7201a8"
            ],
            [
             0.3333333333333333,
             "#9c179e"
            ],
            [
             0.4444444444444444,
             "#bd3786"
            ],
            [
             0.5555555555555556,
             "#d8576b"
            ],
            [
             0.6666666666666666,
             "#ed7953"
            ],
            [
             0.7777777777777778,
             "#fb9f3a"
            ],
            [
             0.8888888888888888,
             "#fdca26"
            ],
            [
             1,
             "#f0f921"
            ]
           ],
           "sequentialminus": [
            [
             0,
             "#0d0887"
            ],
            [
             0.1111111111111111,
             "#46039f"
            ],
            [
             0.2222222222222222,
             "#7201a8"
            ],
            [
             0.3333333333333333,
             "#9c179e"
            ],
            [
             0.4444444444444444,
             "#bd3786"
            ],
            [
             0.5555555555555556,
             "#d8576b"
            ],
            [
             0.6666666666666666,
             "#ed7953"
            ],
            [
             0.7777777777777778,
             "#fb9f3a"
            ],
            [
             0.8888888888888888,
             "#fdca26"
            ],
            [
             1,
             "#f0f921"
            ]
           ]
          },
          "colorway": [
           "#636efa",
           "#EF553B",
           "#00cc96",
           "#ab63fa",
           "#FFA15A",
           "#19d3f3",
           "#FF6692",
           "#B6E880",
           "#FF97FF",
           "#FECB52"
          ],
          "font": {
           "color": "#2a3f5f"
          },
          "geo": {
           "bgcolor": "white",
           "lakecolor": "white",
           "landcolor": "#E5ECF6",
           "showlakes": true,
           "showland": true,
           "subunitcolor": "white"
          },
          "hoverlabel": {
           "align": "left"
          },
          "hovermode": "closest",
          "mapbox": {
           "style": "light"
          },
          "paper_bgcolor": "white",
          "plot_bgcolor": "#E5ECF6",
          "polar": {
           "angularaxis": {
            "gridcolor": "white",
            "linecolor": "white",
            "ticks": ""
           },
           "bgcolor": "#E5ECF6",
           "radialaxis": {
            "gridcolor": "white",
            "linecolor": "white",
            "ticks": ""
           }
          },
          "scene": {
           "xaxis": {
            "backgroundcolor": "#E5ECF6",
            "gridcolor": "white",
            "gridwidth": 2,
            "linecolor": "white",
            "showbackground": true,
            "ticks": "",
            "zerolinecolor": "white"
           },
           "yaxis": {
            "backgroundcolor": "#E5ECF6",
            "gridcolor": "white",
            "gridwidth": 2,
            "linecolor": "white",
            "showbackground": true,
            "ticks": "",
            "zerolinecolor": "white"
           },
           "zaxis": {
            "backgroundcolor": "#E5ECF6",
            "gridcolor": "white",
            "gridwidth": 2,
            "linecolor": "white",
            "showbackground": true,
            "ticks": "",
            "zerolinecolor": "white"
           }
          },
          "shapedefaults": {
           "line": {
            "color": "#2a3f5f"
           }
          },
          "ternary": {
           "aaxis": {
            "gridcolor": "white",
            "linecolor": "white",
            "ticks": ""
           },
           "baxis": {
            "gridcolor": "white",
            "linecolor": "white",
            "ticks": ""
           },
           "bgcolor": "#E5ECF6",
           "caxis": {
            "gridcolor": "white",
            "linecolor": "white",
            "ticks": ""
           }
          },
          "title": {
           "x": 0.05
          },
          "xaxis": {
           "automargin": true,
           "gridcolor": "white",
           "linecolor": "white",
           "ticks": "",
           "title": {
            "standoff": 15
           },
           "zerolinecolor": "white",
           "zerolinewidth": 2
          },
          "yaxis": {
           "automargin": true,
           "gridcolor": "white",
           "linecolor": "white",
           "ticks": "",
           "title": {
            "standoff": 15
           },
           "zerolinecolor": "white",
           "zerolinewidth": 2
          }
         }
        },
        "title": {
         "text": "2018-2021 약국 처방조제 진료실인원 Grouped Bar Plot (2018 기준)"
        },
        "yaxis": {
         "title": {
          "text": "진료실인원(명)"
         }
        }
       }
      }
     },
     "metadata": {},
     "output_type": "display_data"
    }
   ],
   "source": [
    "### 다빈도 상병 4개년 그룹 Bar Plot\n",
    "fig = go.Figure()\n",
    "\n",
    "fig.add_trace(go.Bar(\n",
    "    y=df_2018[\"2021진료실인원(명)\"], x=df_2018[\"상병별\"], name='2021'\n",
    "))\n",
    "fig.add_trace(go.Bar(\n",
    "    y=df_2018[\"2020진료실인원(명)\"], x=df_2018[\"상병별\"], name='2020'\n",
    "))\n",
    "fig.add_trace(go.Bar(\n",
    "    y=df_2018[\"2019진료실인원(명)\"], x=df_2018[\"상병별\"], name='2019'\n",
    "))\n",
    "fig.add_trace(go.Bar(\n",
    "    y=df_2018[\"2018진료실인원(명)\"], x=df_2018[\"상병별\"], name='2018'\n",
    "))\n",
    "\n",
    "fig.update_layout(barmode='group',  # 그룹막대그래프 설정\n",
    "    title_text=\"2018-2021 약국 처방조제 진료실인원 Grouped Bar Plot (2018 기준)\",\n",
    "    yaxis_title=\"진료실인원(명)\")\n",
    "\n",
    "fig.show()"
   ]
  },
  {
   "cell_type": "code",
   "execution_count": null,
   "metadata": {},
   "outputs": [],
   "source": []
  },
  {
   "cell_type": "code",
   "execution_count": null,
   "metadata": {},
   "outputs": [],
   "source": []
  },
  {
   "cell_type": "code",
   "execution_count": null,
   "metadata": {},
   "outputs": [],
   "source": []
  },
  {
   "cell_type": "code",
   "execution_count": null,
   "metadata": {},
   "outputs": [],
   "source": []
  },
  {
   "cell_type": "code",
   "execution_count": null,
   "metadata": {},
   "outputs": [],
   "source": []
  },
  {
   "cell_type": "code",
   "execution_count": null,
   "metadata": {},
   "outputs": [],
   "source": []
  },
  {
   "cell_type": "code",
   "execution_count": null,
   "metadata": {},
   "outputs": [],
   "source": []
  }
 ],
 "metadata": {
  "kernelspec": {
   "display_name": "Python 3 (ipykernel)",
   "language": "python",
   "name": "python3"
  },
  "language_info": {
   "codemirror_mode": {
    "name": "ipython",
    "version": 3
   },
   "file_extension": ".py",
   "mimetype": "text/x-python",
   "name": "python",
   "nbconvert_exporter": "python",
   "pygments_lexer": "ipython3",
   "version": "3.9.16"
  }
 },
 "nbformat": 4,
 "nbformat_minor": 2
}
