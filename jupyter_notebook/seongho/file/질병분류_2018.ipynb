{
 "cells": [
  {
   "cell_type": "code",
   "execution_count": 45,
   "metadata": {},
   "outputs": [],
   "source": [
    "import pandas as pd\n",
    "import numpy as np\n",
    "#시각화(고급)\n",
    "import seaborn as sns\n",
    "#시각화\n",
    "import matplotlib.pyplot as plt\n",
    "import plotly.graph_objects as ply\n",
    "#한글 폰트\n",
    "from matplotlib import font_manager, rc\n",
    "plt.rc(\"font\",family= \"Malgun Gothic\")\n",
    "###마이너스 기호 사용 설정\n",
    "plt.rcParams[\"axes.unicode_minus\"]=False\n",
    "#지도\n",
    "import folium\n",
    "# 운영체제를 확인하기 위한 라이브러리\n",
    "import platform"
   ]
  },
  {
   "cell_type": "code",
   "execution_count": 47,
   "metadata": {},
   "outputs": [],
   "source": [
    "### 2018년_성별_질병별_환자수\n",
    "# 파일 읽어들이기\n",
    "file_path = \"./질병분류_계_2018.xlsx\"\n",
    "df1 = pd.read_excel(file_path,skipfooter=480)\n",
    "file_path = \"./질병분류_남자_2018.xlsx\"\n",
    "df2 = pd.read_excel(file_path,usecols=\"B:C\")\n",
    "file_path = \"./질병분류_여자_2018.xlsx\"\n",
    "df3 = pd.read_excel(file_path,usecols=\"B:C\")\n",
    "# 컬럼명 수정\n",
    "df1.rename(columns={df1.columns[0]:\"순위별\",df1.columns[1]:\"상병명\",df1.columns[2]:\"2018진료실인원\"},inplace=True)\n",
    "df2.rename(columns={df2.columns[0]:\"상병명\",df2.columns[1]:\"2018진료실인원\"},inplace=True)\n",
    "df3.rename(columns={df3.columns[0]:\"상병명\",df3.columns[1]:\"2018진료실인원\"},inplace=True)\n",
    "# 데이터 공백 제거\n",
    "df1['상병명'] = df1['상병명'].str.replace(\" \", \"\")\n",
    "df2['상병명'] = df2['상병명'].str.replace(\" \", \"\")\n",
    "df3['상병명'] = df3['상병명'].str.replace(\" \", \"\")\n",
    "# 데이터 합치기\n",
    "df_12=df1.merge(df2, on='상병명', how='left')\n",
    "df_2018=df_12.merge(df3, on='상병명', how='left')\n",
    "# 컬럼명 수정\n",
    "df_2018.rename(columns={df_2018.columns[2]:\"2018진료실인원_계\",\n",
    "                       df_2018.columns[3]:\"2018진료실인원_남자\",\n",
    "                       df_2018.columns[4]:\"2018진료실인원_여자\"},inplace=True)"
   ]
  },
  {
   "cell_type": "code",
   "execution_count": 48,
   "metadata": {},
   "outputs": [],
   "source": [
    "### 2019년_성별_질병별_환자수\n",
    "# 파일 읽어들이기\n",
    "file_path = \"./질병분류_계_2019.xlsx\"\n",
    "df1 = pd.read_excel(file_path,skipfooter=480)\n",
    "file_path = \"./질병분류_남자_2019.xlsx\"\n",
    "df2 = pd.read_excel(file_path,usecols=\"B:C\")\n",
    "file_path = \"./질병분류_여자_2019.xlsx\"\n",
    "df3 = pd.read_excel(file_path,usecols=\"B:C\")\n",
    "# 컬럼명 수정\n",
    "df1.rename(columns={df1.columns[0]:\"순위별\",df1.columns[1]:\"상병명\",df1.columns[2]:\"2019진료실인원\"},inplace=True)\n",
    "df2.rename(columns={df2.columns[0]:\"상병명\",df2.columns[1]:\"2019진료실인원\"},inplace=True)\n",
    "df3.rename(columns={df3.columns[0]:\"상병명\",df3.columns[1]:\"2019진료실인원\"},inplace=True)\n",
    "# 데이터 공백 제거\n",
    "df1['상병명'] = df1['상병명'].str.replace(\" \", \"\")\n",
    "df2['상병명'] = df2['상병명'].str.replace(\" \", \"\")\n",
    "df3['상병명'] = df3['상병명'].str.replace(\" \", \"\")\n",
    "# 데이터 합치기\n",
    "df_12=df1.merge(df2, on='상병명', how='left')\n",
    "df_2019=df_12.merge(df3, on='상병명', how='left')\n",
    "# 컬럼명 수정\n",
    "df_2019.rename(columns={df_2019.columns[2]:\"2019진료실인원_계\",\n",
    "                       df_2019.columns[3]:\"2019진료실인원_남자\",\n",
    "                       df_2019.columns[4]:\"2019진료실인원_여자\"},inplace=True)"
   ]
  },
  {
   "cell_type": "code",
   "execution_count": 49,
   "metadata": {},
   "outputs": [],
   "source": [
    "### 2020년_성별_질병별_환자수\n",
    "# 파일 읽어들이기\n",
    "file_path = \"./질병분류_계_2020.xlsx\"\n",
    "df1 = pd.read_excel(file_path,skipfooter=480)\n",
    "file_path = \"./질병분류_남자_2020.xlsx\"\n",
    "df2 = pd.read_excel(file_path,usecols=\"B:C\")\n",
    "file_path = \"./질병분류_여자_2020.xlsx\"\n",
    "df3 = pd.read_excel(file_path,usecols=\"B:C\")\n",
    "# 컬럼명 수정\n",
    "df1.rename(columns={df1.columns[0]:\"순위별\",df1.columns[1]:\"상병명\",df1.columns[2]:\"2020진료실인원\"},inplace=True)\n",
    "df2.rename(columns={df2.columns[0]:\"상병명\",df2.columns[1]:\"2020진료실인원\"},inplace=True)\n",
    "df3.rename(columns={df3.columns[0]:\"상병명\",df3.columns[1]:\"2020진료실인원\"},inplace=True)\n",
    "# 데이터 공백 제거\n",
    "df1['상병명'] = df1['상병명'].str.replace(\" \", \"\")\n",
    "df2['상병명'] = df2['상병명'].str.replace(\" \", \"\")\n",
    "df3['상병명'] = df3['상병명'].str.replace(\" \", \"\")\n",
    "# 데이터 합치기\n",
    "df_12=df1.merge(df2, on='상병명', how='left')\n",
    "df_2020=df_12.merge(df3, on='상병명', how='left')\n",
    "# 컬럼명 수정\n",
    "df_2020.rename(columns={df_2020.columns[2]:\"2020진료실인원_계\",\n",
    "                       df_2020.columns[3]:\"2020진료실인원_남자\",\n",
    "                       df_2020.columns[4]:\"2020진료실인원_여자\"},inplace=True)"
   ]
  },
  {
   "cell_type": "code",
   "execution_count": 50,
   "metadata": {},
   "outputs": [],
   "source": [
    "### 2021년_성별_질병별_환자수\n",
    "# 파일 읽어들이기\n",
    "file_path = \"./질병분류_계_2021.xlsx\"\n",
    "df1 = pd.read_excel(file_path,skipfooter=480)\n",
    "file_path = \"./질병분류_남자_2021.xlsx\"\n",
    "df2 = pd.read_excel(file_path,usecols=\"B:C\")\n",
    "file_path = \"./질병분류_여자_2021.xlsx\"\n",
    "df3 = pd.read_excel(file_path,usecols=\"B:C\")\n",
    "# 컬럼명 수정\n",
    "df1.rename(columns={df1.columns[0]:\"순위별\",df1.columns[1]:\"상병명\",df1.columns[2]:\"2021진료실인원\"},inplace=True)\n",
    "df2.rename(columns={df2.columns[0]:\"상병명\",df2.columns[1]:\"2021진료실인원\"},inplace=True)\n",
    "df3.rename(columns={df3.columns[0]:\"상병명\",df3.columns[1]:\"2021진료실인원\"},inplace=True)\n",
    "# 데이터 공백 제거\n",
    "df1['상병명'] = df1['상병명'].str.replace(\" \", \"\")\n",
    "df2['상병명'] = df2['상병명'].str.replace(\" \", \"\")\n",
    "df3['상병명'] = df3['상병명'].str.replace(\" \", \"\")\n",
    "# 데이터 합치기\n",
    "df_12=df1.merge(df2, on='상병명', how='left')\n",
    "df_2021=df_12.merge(df3, on='상병명', how='left')\n",
    "# 컬럼명 수정\n",
    "df_2021.rename(columns={df_2021.columns[2]:\"2021진료실인원_계\",\n",
    "                       df_2021.columns[3]:\"2021진료실인원_남자\",\n",
    "                       df_2021.columns[4]:\"2021진료실인원_여자\"},inplace=True)"
   ]
  },
  {
   "cell_type": "code",
   "execution_count": 54,
   "metadata": {},
   "outputs": [
    {
     "data": {
      "application/vnd.plotly.v1+json": {
       "config": {
        "plotlyServerURL": "https://plot.ly"
       },
       "data": [
        {
         "name": "전체",
         "textinfo": "value+percent initial",
         "textposition": "inside",
         "type": "funnel",
         "x": [
          16788119,
          15829305,
          7034188,
          6063677,
          6021474,
          5871862,
          5728747,
          5336838,
          5254064,
          4749358,
          4690391,
          4625172,
          4617628,
          4500372,
          4437764,
          4297830,
          3919171,
          3440222,
          3081561,
          2869031
         ],
         "y": [
          "J20_급성기관지염",
          "K05_치은염및치주질환",
          "J30_혈관운동성및앨러지성비염",
          "I10_본태성(원발성)고혈압",
          "J06_다발성및상세불명부위의급성상기도감염",
          "K02_치아우식",
          "J03_급성편도염",
          "K29_위염및십이지장염",
          "M54_등통증",
          "J02_급성인두염",
          "H10_결막염",
          "A09_감염성및상세불명기원의기타위장염및결장염",
          "L23_앨러지성접촉피부염",
          "J00_급성비인두염[감기]",
          "K21_위-식도역류병",
          "K04_치수및근단주위조직의질환",
          "J01_급성부비동염",
          "J04_급성후두염및기관염",
          "M79_달리분류되지않은기타연조직장애",
          "M17_무릎관절증"
         ]
        },
        {
         "name": "남자",
         "textinfo": "value+percent previous",
         "textposition": "inside",
         "type": "funnel",
         "x": [
          7532246,
          7751687,
          3278989,
          3024444,
          2677460,
          2784296,
          2572839,
          2133505,
          2205349,
          2083228,
          1973530,
          2184119,
          1935797,
          2043685,
          1882925,
          2242577,
          1810346,
          1473098,
          1293440,
          858435
         ],
         "y": [
          "J20_급성기관지염",
          "K05_치은염및치주질환",
          "J30_혈관운동성및앨러지성비염",
          "I10_본태성(원발성)고혈압",
          "J06_다발성및상세불명부위의급성상기도감염",
          "K02_치아우식",
          "J03_급성편도염",
          "K29_위염및십이지장염",
          "M54_등통증",
          "J02_급성인두염",
          "H10_결막염",
          "A09_감염성및상세불명기원의기타위장염및결장염",
          "L23_앨러지성접촉피부염",
          "J00_급성비인두염[감기]",
          "K21_위-식도역류병",
          "K04_치수및근단주위조직의질환",
          "J01_급성부비동염",
          "J04_급성후두염및기관염",
          "M79_달리분류되지않은기타연조직장애",
          "M17_무릎관절증"
         ]
        },
        {
         "name": "여자",
         "textinfo": "value+percent previous",
         "textposition": "inside",
         "type": "funnel",
         "x": [
          9255873,
          8077618,
          3755199,
          3039233,
          3344014,
          3087566,
          3155908,
          3203333,
          3048715,
          2666130,
          2716861,
          2441053,
          2681831,
          2456687,
          2554839,
          2055253,
          2108825,
          1967124,
          1788121,
          2010596
         ],
         "y": [
          "J20_급성기관지염",
          "K05_치은염및치주질환",
          "J30_혈관운동성및앨러지성비염",
          "I10_본태성(원발성)고혈압",
          "J06_다발성및상세불명부위의급성상기도감염",
          "K02_치아우식",
          "J03_급성편도염",
          "K29_위염및십이지장염",
          "M54_등통증",
          "J02_급성인두염",
          "H10_결막염",
          "A09_감염성및상세불명기원의기타위장염및결장염",
          "L23_앨러지성접촉피부염",
          "J00_급성비인두염[감기]",
          "K21_위-식도역류병",
          "K04_치수및근단주위조직의질환",
          "J01_급성부비동염",
          "J04_급성후두염및기관염",
          "M79_달리분류되지않은기타연조직장애",
          "M17_무릎관절증"
         ]
        }
       ],
       "layout": {
        "funnelmode": "stack",
        "margin": {
         "b": 50,
         "l": 50,
         "r": 50,
         "t": 50
        },
        "showlegend": true,
        "template": {
         "data": {
          "bar": [
           {
            "error_x": {
             "color": "#2a3f5f"
            },
            "error_y": {
             "color": "#2a3f5f"
            },
            "marker": {
             "line": {
              "color": "#E5ECF6",
              "width": 0.5
             },
             "pattern": {
              "fillmode": "overlay",
              "size": 10,
              "solidity": 0.2
             }
            },
            "type": "bar"
           }
          ],
          "barpolar": [
           {
            "marker": {
             "line": {
              "color": "#E5ECF6",
              "width": 0.5
             },
             "pattern": {
              "fillmode": "overlay",
              "size": 10,
              "solidity": 0.2
             }
            },
            "type": "barpolar"
           }
          ],
          "carpet": [
           {
            "aaxis": {
             "endlinecolor": "#2a3f5f",
             "gridcolor": "white",
             "linecolor": "white",
             "minorgridcolor": "white",
             "startlinecolor": "#2a3f5f"
            },
            "baxis": {
             "endlinecolor": "#2a3f5f",
             "gridcolor": "white",
             "linecolor": "white",
             "minorgridcolor": "white",
             "startlinecolor": "#2a3f5f"
            },
            "type": "carpet"
           }
          ],
          "choropleth": [
           {
            "colorbar": {
             "outlinewidth": 0,
             "ticks": ""
            },
            "type": "choropleth"
           }
          ],
          "contour": [
           {
            "colorbar": {
             "outlinewidth": 0,
             "ticks": ""
            },
            "colorscale": [
             [
              0,
              "#0d0887"
             ],
             [
              0.1111111111111111,
              "#46039f"
             ],
             [
              0.2222222222222222,
              "#7201a8"
             ],
             [
              0.3333333333333333,
              "#9c179e"
             ],
             [
              0.4444444444444444,
              "#bd3786"
             ],
             [
              0.5555555555555556,
              "#d8576b"
             ],
             [
              0.6666666666666666,
              "#ed7953"
             ],
             [
              0.7777777777777778,
              "#fb9f3a"
             ],
             [
              0.8888888888888888,
              "#fdca26"
             ],
             [
              1,
              "#f0f921"
             ]
            ],
            "type": "contour"
           }
          ],
          "contourcarpet": [
           {
            "colorbar": {
             "outlinewidth": 0,
             "ticks": ""
            },
            "type": "contourcarpet"
           }
          ],
          "heatmap": [
           {
            "colorbar": {
             "outlinewidth": 0,
             "ticks": ""
            },
            "colorscale": [
             [
              0,
              "#0d0887"
             ],
             [
              0.1111111111111111,
              "#46039f"
             ],
             [
              0.2222222222222222,
              "#7201a8"
             ],
             [
              0.3333333333333333,
              "#9c179e"
             ],
             [
              0.4444444444444444,
              "#bd3786"
             ],
             [
              0.5555555555555556,
              "#d8576b"
             ],
             [
              0.6666666666666666,
              "#ed7953"
             ],
             [
              0.7777777777777778,
              "#fb9f3a"
             ],
             [
              0.8888888888888888,
              "#fdca26"
             ],
             [
              1,
              "#f0f921"
             ]
            ],
            "type": "heatmap"
           }
          ],
          "heatmapgl": [
           {
            "colorbar": {
             "outlinewidth": 0,
             "ticks": ""
            },
            "colorscale": [
             [
              0,
              "#0d0887"
             ],
             [
              0.1111111111111111,
              "#46039f"
             ],
             [
              0.2222222222222222,
              "#7201a8"
             ],
             [
              0.3333333333333333,
              "#9c179e"
             ],
             [
              0.4444444444444444,
              "#bd3786"
             ],
             [
              0.5555555555555556,
              "#d8576b"
             ],
             [
              0.6666666666666666,
              "#ed7953"
             ],
             [
              0.7777777777777778,
              "#fb9f3a"
             ],
             [
              0.8888888888888888,
              "#fdca26"
             ],
             [
              1,
              "#f0f921"
             ]
            ],
            "type": "heatmapgl"
           }
          ],
          "histogram": [
           {
            "marker": {
             "pattern": {
              "fillmode": "overlay",
              "size": 10,
              "solidity": 0.2
             }
            },
            "type": "histogram"
           }
          ],
          "histogram2d": [
           {
            "colorbar": {
             "outlinewidth": 0,
             "ticks": ""
            },
            "colorscale": [
             [
              0,
              "#0d0887"
             ],
             [
              0.1111111111111111,
              "#46039f"
             ],
             [
              0.2222222222222222,
              "#7201a8"
             ],
             [
              0.3333333333333333,
              "#9c179e"
             ],
             [
              0.4444444444444444,
              "#bd3786"
             ],
             [
              0.5555555555555556,
              "#d8576b"
             ],
             [
              0.6666666666666666,
              "#ed7953"
             ],
             [
              0.7777777777777778,
              "#fb9f3a"
             ],
             [
              0.8888888888888888,
              "#fdca26"
             ],
             [
              1,
              "#f0f921"
             ]
            ],
            "type": "histogram2d"
           }
          ],
          "histogram2dcontour": [
           {
            "colorbar": {
             "outlinewidth": 0,
             "ticks": ""
            },
            "colorscale": [
             [
              0,
              "#0d0887"
             ],
             [
              0.1111111111111111,
              "#46039f"
             ],
             [
              0.2222222222222222,
              "#7201a8"
             ],
             [
              0.3333333333333333,
              "#9c179e"
             ],
             [
              0.4444444444444444,
              "#bd3786"
             ],
             [
              0.5555555555555556,
              "#d8576b"
             ],
             [
              0.6666666666666666,
              "#ed7953"
             ],
             [
              0.7777777777777778,
              "#fb9f3a"
             ],
             [
              0.8888888888888888,
              "#fdca26"
             ],
             [
              1,
              "#f0f921"
             ]
            ],
            "type": "histogram2dcontour"
           }
          ],
          "mesh3d": [
           {
            "colorbar": {
             "outlinewidth": 0,
             "ticks": ""
            },
            "type": "mesh3d"
           }
          ],
          "parcoords": [
           {
            "line": {
             "colorbar": {
              "outlinewidth": 0,
              "ticks": ""
             }
            },
            "type": "parcoords"
           }
          ],
          "pie": [
           {
            "automargin": true,
            "type": "pie"
           }
          ],
          "scatter": [
           {
            "fillpattern": {
             "fillmode": "overlay",
             "size": 10,
             "solidity": 0.2
            },
            "type": "scatter"
           }
          ],
          "scatter3d": [
           {
            "line": {
             "colorbar": {
              "outlinewidth": 0,
              "ticks": ""
             }
            },
            "marker": {
             "colorbar": {
              "outlinewidth": 0,
              "ticks": ""
             }
            },
            "type": "scatter3d"
           }
          ],
          "scattercarpet": [
           {
            "marker": {
             "colorbar": {
              "outlinewidth": 0,
              "ticks": ""
             }
            },
            "type": "scattercarpet"
           }
          ],
          "scattergeo": [
           {
            "marker": {
             "colorbar": {
              "outlinewidth": 0,
              "ticks": ""
             }
            },
            "type": "scattergeo"
           }
          ],
          "scattergl": [
           {
            "marker": {
             "colorbar": {
              "outlinewidth": 0,
              "ticks": ""
             }
            },
            "type": "scattergl"
           }
          ],
          "scattermapbox": [
           {
            "marker": {
             "colorbar": {
              "outlinewidth": 0,
              "ticks": ""
             }
            },
            "type": "scattermapbox"
           }
          ],
          "scatterpolar": [
           {
            "marker": {
             "colorbar": {
              "outlinewidth": 0,
              "ticks": ""
             }
            },
            "type": "scatterpolar"
           }
          ],
          "scatterpolargl": [
           {
            "marker": {
             "colorbar": {
              "outlinewidth": 0,
              "ticks": ""
             }
            },
            "type": "scatterpolargl"
           }
          ],
          "scatterternary": [
           {
            "marker": {
             "colorbar": {
              "outlinewidth": 0,
              "ticks": ""
             }
            },
            "type": "scatterternary"
           }
          ],
          "surface": [
           {
            "colorbar": {
             "outlinewidth": 0,
             "ticks": ""
            },
            "colorscale": [
             [
              0,
              "#0d0887"
             ],
             [
              0.1111111111111111,
              "#46039f"
             ],
             [
              0.2222222222222222,
              "#7201a8"
             ],
             [
              0.3333333333333333,
              "#9c179e"
             ],
             [
              0.4444444444444444,
              "#bd3786"
             ],
             [
              0.5555555555555556,
              "#d8576b"
             ],
             [
              0.6666666666666666,
              "#ed7953"
             ],
             [
              0.7777777777777778,
              "#fb9f3a"
             ],
             [
              0.8888888888888888,
              "#fdca26"
             ],
             [
              1,
              "#f0f921"
             ]
            ],
            "type": "surface"
           }
          ],
          "table": [
           {
            "cells": {
             "fill": {
              "color": "#EBF0F8"
             },
             "line": {
              "color": "white"
             }
            },
            "header": {
             "fill": {
              "color": "#C8D4E3"
             },
             "line": {
              "color": "white"
             }
            },
            "type": "table"
           }
          ]
         },
         "layout": {
          "annotationdefaults": {
           "arrowcolor": "#2a3f5f",
           "arrowhead": 0,
           "arrowwidth": 1
          },
          "autotypenumbers": "strict",
          "coloraxis": {
           "colorbar": {
            "outlinewidth": 0,
            "ticks": ""
           }
          },
          "colorscale": {
           "diverging": [
            [
             0,
             "#8e0152"
            ],
            [
             0.1,
             "#c51b7d"
            ],
            [
             0.2,
             "#de77ae"
            ],
            [
             0.3,
             "#f1b6da"
            ],
            [
             0.4,
             "#fde0ef"
            ],
            [
             0.5,
             "#f7f7f7"
            ],
            [
             0.6,
             "#e6f5d0"
            ],
            [
             0.7,
             "#b8e186"
            ],
            [
             0.8,
             "#7fbc41"
            ],
            [
             0.9,
             "#4d9221"
            ],
            [
             1,
             "#276419"
            ]
           ],
           "sequential": [
            [
             0,
             "#0d0887"
            ],
            [
             0.1111111111111111,
             "#46039f"
            ],
            [
             0.2222222222222222,
             "#7201a8"
            ],
            [
             0.3333333333333333,
             "#9c179e"
            ],
            [
             0.4444444444444444,
             "#bd3786"
            ],
            [
             0.5555555555555556,
             "#d8576b"
            ],
            [
             0.6666666666666666,
             "#ed7953"
            ],
            [
             0.7777777777777778,
             "#fb9f3a"
            ],
            [
             0.8888888888888888,
             "#fdca26"
            ],
            [
             1,
             "#f0f921"
            ]
           ],
           "sequentialminus": [
            [
             0,
             "#0d0887"
            ],
            [
             0.1111111111111111,
             "#46039f"
            ],
            [
             0.2222222222222222,
             "#7201a8"
            ],
            [
             0.3333333333333333,
             "#9c179e"
            ],
            [
             0.4444444444444444,
             "#bd3786"
            ],
            [
             0.5555555555555556,
             "#d8576b"
            ],
            [
             0.6666666666666666,
             "#ed7953"
            ],
            [
             0.7777777777777778,
             "#fb9f3a"
            ],
            [
             0.8888888888888888,
             "#fdca26"
            ],
            [
             1,
             "#f0f921"
            ]
           ]
          },
          "colorway": [
           "#636efa",
           "#EF553B",
           "#00cc96",
           "#ab63fa",
           "#FFA15A",
           "#19d3f3",
           "#FF6692",
           "#B6E880",
           "#FF97FF",
           "#FECB52"
          ],
          "font": {
           "color": "#2a3f5f"
          },
          "geo": {
           "bgcolor": "white",
           "lakecolor": "white",
           "landcolor": "#E5ECF6",
           "showlakes": true,
           "showland": true,
           "subunitcolor": "white"
          },
          "hoverlabel": {
           "align": "left"
          },
          "hovermode": "closest",
          "mapbox": {
           "style": "light"
          },
          "paper_bgcolor": "white",
          "plot_bgcolor": "#E5ECF6",
          "polar": {
           "angularaxis": {
            "gridcolor": "white",
            "linecolor": "white",
            "ticks": ""
           },
           "bgcolor": "#E5ECF6",
           "radialaxis": {
            "gridcolor": "white",
            "linecolor": "white",
            "ticks": ""
           }
          },
          "scene": {
           "xaxis": {
            "backgroundcolor": "#E5ECF6",
            "gridcolor": "white",
            "gridwidth": 2,
            "linecolor": "white",
            "showbackground": true,
            "ticks": "",
            "zerolinecolor": "white"
           },
           "yaxis": {
            "backgroundcolor": "#E5ECF6",
            "gridcolor": "white",
            "gridwidth": 2,
            "linecolor": "white",
            "showbackground": true,
            "ticks": "",
            "zerolinecolor": "white"
           },
           "zaxis": {
            "backgroundcolor": "#E5ECF6",
            "gridcolor": "white",
            "gridwidth": 2,
            "linecolor": "white",
            "showbackground": true,
            "ticks": "",
            "zerolinecolor": "white"
           }
          },
          "shapedefaults": {
           "line": {
            "color": "#2a3f5f"
           }
          },
          "ternary": {
           "aaxis": {
            "gridcolor": "white",
            "linecolor": "white",
            "ticks": ""
           },
           "baxis": {
            "gridcolor": "white",
            "linecolor": "white",
            "ticks": ""
           },
           "bgcolor": "#E5ECF6",
           "caxis": {
            "gridcolor": "white",
            "linecolor": "white",
            "ticks": ""
           }
          },
          "title": {
           "x": 0.05
          },
          "xaxis": {
           "automargin": true,
           "gridcolor": "white",
           "linecolor": "white",
           "ticks": "",
           "title": {
            "standoff": 15
           },
           "zerolinecolor": "white",
           "zerolinewidth": 2
          },
          "yaxis": {
           "automargin": true,
           "gridcolor": "white",
           "linecolor": "white",
           "ticks": "",
           "title": {
            "standoff": 15
           },
           "zerolinecolor": "white",
           "zerolinewidth": 2
          }
         }
        },
        "title": {
         "text": "2018 질병별 진료실인원 Funnel Plot"
        }
       }
      }
     },
     "metadata": {},
     "output_type": "display_data"
    }
   ],
   "source": [
    "# Funnel Plot 그리기\n",
    "fig = ply.Figure()\n",
    "\n",
    "fig.add_trace(ply.Funnel(\n",
    "    name='전체',\n",
    "    y=df_2018['상병명'],\n",
    "    x=df_2018['2018진료실인원_계'],\n",
    "    textposition=\"inside\",\n",
    "    textinfo=\"value+percent initial\"))\n",
    "\n",
    "fig.add_trace(ply.Funnel(\n",
    "    name='남자',\n",
    "    y=df_2018['상병명'],\n",
    "    x=df_2018['2018진료실인원_남자'],\n",
    "    textposition=\"inside\",\n",
    "    textinfo=\"value+percent previous\"))\n",
    "\n",
    "fig.add_trace(ply.Funnel(\n",
    "    name='여자',\n",
    "    y=df_2018['상병명'],\n",
    "    x=df_2018['2018진료실인원_여자'],\n",
    "    textposition=\"inside\",\n",
    "    textinfo=\"value+percent previous\"))\n",
    "\n",
    "# 그래프 레이아웃 설정\n",
    "fig.update_layout(title=\"2018 질병별 진료실인원 Funnel Plot\",\n",
    "                  funnelmode=\"stack\",\n",
    "                  showlegend=True,\n",
    "                  margin=dict(l=50, r=50, t=50, b=50))\n",
    "\n",
    "# 그래프 출력\n",
    "fig.show()"
   ]
  },
  {
   "cell_type": "code",
   "execution_count": null,
   "metadata": {},
   "outputs": [],
   "source": []
  }
 ],
 "metadata": {
  "kernelspec": {
   "display_name": "busan_env_kernel",
   "language": "python",
   "name": "busan_env"
  },
  "language_info": {
   "codemirror_mode": {
    "name": "ipython",
    "version": 3
   },
   "file_extension": ".py",
   "mimetype": "text/x-python",
   "name": "python",
   "nbconvert_exporter": "python",
   "pygments_lexer": "ipython3",
   "version": "3.9.16"
  },
  "orig_nbformat": 4
 },
 "nbformat": 4,
 "nbformat_minor": 2
}
