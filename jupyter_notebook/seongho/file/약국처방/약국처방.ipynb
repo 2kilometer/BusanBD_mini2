{
 "cells": [
  {
   "cell_type": "code",
   "execution_count": 1,
   "metadata": {},
   "outputs": [],
   "source": [
    "import pandas as pd\n",
    "import numpy as np\n",
    "#시각화(고급)\n",
    "import seaborn as sns\n",
    "#시각화\n",
    "import matplotlib.pyplot as plt\n",
    "import plotly.graph_objects as ply\n",
    "import plotly.express as px\n",
    "#한글 폰트\n",
    "from matplotlib import font_manager, rc\n",
    "plt.rc(\"font\",family= \"Malgun Gothic\")\n",
    "###마이너스 기호 사용 설정\n",
    "plt.rcParams[\"axes.unicode_minus\"]=False\n",
    "#지도\n",
    "import folium\n",
    "# 운영체제를 확인하기 위한 라이브러리\n",
    "import platform"
   ]
  },
  {
   "cell_type": "code",
   "execution_count": 2,
   "metadata": {},
   "outputs": [
    {
     "data": {
      "text/html": [
       "<div>\n",
       "<style scoped>\n",
       "    .dataframe tbody tr th:only-of-type {\n",
       "        vertical-align: middle;\n",
       "    }\n",
       "\n",
       "    .dataframe tbody tr th {\n",
       "        vertical-align: top;\n",
       "    }\n",
       "\n",
       "    .dataframe thead th {\n",
       "        text-align: right;\n",
       "    }\n",
       "</style>\n",
       "<table border=\"1\" class=\"dataframe\">\n",
       "  <thead>\n",
       "    <tr style=\"text-align: right;\">\n",
       "      <th></th>\n",
       "      <th>순위별</th>\n",
       "      <th>상병명</th>\n",
       "      <th>2018진료실인원_계</th>\n",
       "      <th>2018진료실인원_남자</th>\n",
       "      <th>2018진료실인원_여자</th>\n",
       "    </tr>\n",
       "  </thead>\n",
       "  <tbody>\n",
       "    <tr>\n",
       "      <th>0</th>\n",
       "      <td>1위</td>\n",
       "      <td>J20_급성기관지염</td>\n",
       "      <td>15526223</td>\n",
       "      <td>6936134</td>\n",
       "      <td>8590089</td>\n",
       "    </tr>\n",
       "    <tr>\n",
       "      <th>1</th>\n",
       "      <td>2위</td>\n",
       "      <td>ZZ_양방기타</td>\n",
       "      <td>13505359</td>\n",
       "      <td>6112307</td>\n",
       "      <td>7393052</td>\n",
       "    </tr>\n",
       "    <tr>\n",
       "      <th>2</th>\n",
       "      <td>3위</td>\n",
       "      <td>J30_혈관운동성및앨러지성비염</td>\n",
       "      <td>6666864</td>\n",
       "      <td>3096693</td>\n",
       "      <td>3570171</td>\n",
       "    </tr>\n",
       "    <tr>\n",
       "      <th>3</th>\n",
       "      <td>4위</td>\n",
       "      <td>I10_본태성(원발성)고혈압</td>\n",
       "      <td>5459998</td>\n",
       "      <td>2700802</td>\n",
       "      <td>2759196</td>\n",
       "    </tr>\n",
       "    <tr>\n",
       "      <th>4</th>\n",
       "      <td>5위</td>\n",
       "      <td>J06_다발성및상세불명부위의급성상기도감염</td>\n",
       "      <td>5363578</td>\n",
       "      <td>2362829</td>\n",
       "      <td>3000749</td>\n",
       "    </tr>\n",
       "    <tr>\n",
       "      <th>5</th>\n",
       "      <td>6위</td>\n",
       "      <td>J03_급성편도염</td>\n",
       "      <td>5294106</td>\n",
       "      <td>2367452</td>\n",
       "      <td>2926654</td>\n",
       "    </tr>\n",
       "    <tr>\n",
       "      <th>6</th>\n",
       "      <td>7위</td>\n",
       "      <td>K29_위염및십이지장염</td>\n",
       "      <td>4945445</td>\n",
       "      <td>1969950</td>\n",
       "      <td>2975495</td>\n",
       "    </tr>\n",
       "    <tr>\n",
       "      <th>7</th>\n",
       "      <td>8위</td>\n",
       "      <td>K05_치은염및치주질환</td>\n",
       "      <td>4789045</td>\n",
       "      <td>2612303</td>\n",
       "      <td>2176742</td>\n",
       "    </tr>\n",
       "    <tr>\n",
       "      <th>8</th>\n",
       "      <td>9위</td>\n",
       "      <td>J02_급성인두염</td>\n",
       "      <td>4329488</td>\n",
       "      <td>1885704</td>\n",
       "      <td>2443784</td>\n",
       "    </tr>\n",
       "    <tr>\n",
       "      <th>9</th>\n",
       "      <td>10위</td>\n",
       "      <td>H10_결막염</td>\n",
       "      <td>4327470</td>\n",
       "      <td>1805820</td>\n",
       "      <td>2521650</td>\n",
       "    </tr>\n",
       "    <tr>\n",
       "      <th>10</th>\n",
       "      <td>11위</td>\n",
       "      <td>L23_앨러지성접촉피부염</td>\n",
       "      <td>4218005</td>\n",
       "      <td>1770583</td>\n",
       "      <td>2447422</td>\n",
       "    </tr>\n",
       "    <tr>\n",
       "      <th>11</th>\n",
       "      <td>12위</td>\n",
       "      <td>K21_위-식도역류병</td>\n",
       "      <td>4022082</td>\n",
       "      <td>1689299</td>\n",
       "      <td>2332783</td>\n",
       "    </tr>\n",
       "    <tr>\n",
       "      <th>12</th>\n",
       "      <td>13위</td>\n",
       "      <td>A09_감염성및상세불명기원의기타위장염및결장염</td>\n",
       "      <td>3757147</td>\n",
       "      <td>1791561</td>\n",
       "      <td>1965586</td>\n",
       "    </tr>\n",
       "    <tr>\n",
       "      <th>13</th>\n",
       "      <td>14위</td>\n",
       "      <td>J01_급성부비동염</td>\n",
       "      <td>3644406</td>\n",
       "      <td>1683899</td>\n",
       "      <td>1960507</td>\n",
       "    </tr>\n",
       "    <tr>\n",
       "      <th>14</th>\n",
       "      <td>15위</td>\n",
       "      <td>J00_급성비인두염[감기]</td>\n",
       "      <td>3619225</td>\n",
       "      <td>1627167</td>\n",
       "      <td>1992058</td>\n",
       "    </tr>\n",
       "    <tr>\n",
       "      <th>15</th>\n",
       "      <td>16위</td>\n",
       "      <td>M54_등통증</td>\n",
       "      <td>3464267</td>\n",
       "      <td>1472302</td>\n",
       "      <td>1991965</td>\n",
       "    </tr>\n",
       "    <tr>\n",
       "      <th>16</th>\n",
       "      <td>17위</td>\n",
       "      <td>J04_급성후두염및기관염</td>\n",
       "      <td>3122292</td>\n",
       "      <td>1329466</td>\n",
       "      <td>1792826</td>\n",
       "    </tr>\n",
       "    <tr>\n",
       "      <th>17</th>\n",
       "      <td>18위</td>\n",
       "      <td>E11_2형당뇨병</td>\n",
       "      <td>2366663</td>\n",
       "      <td>1309763</td>\n",
       "      <td>1056900</td>\n",
       "    </tr>\n",
       "    <tr>\n",
       "      <th>18</th>\n",
       "      <td>19위</td>\n",
       "      <td>H04_눈물계통의장애</td>\n",
       "      <td>2197176</td>\n",
       "      <td>706923</td>\n",
       "      <td>1490253</td>\n",
       "    </tr>\n",
       "    <tr>\n",
       "      <th>19</th>\n",
       "      <td>20위</td>\n",
       "      <td>B35_백선증</td>\n",
       "      <td>2167559</td>\n",
       "      <td>1205424</td>\n",
       "      <td>962135</td>\n",
       "    </tr>\n",
       "  </tbody>\n",
       "</table>\n",
       "</div>"
      ],
      "text/plain": [
       "    순위별                       상병명  2018진료실인원_계  2018진료실인원_남자  2018진료실인원_여자\n",
       "0    1위                J20_급성기관지염     15526223       6936134       8590089\n",
       "1    2위                   ZZ_양방기타     13505359       6112307       7393052\n",
       "2    3위          J30_혈관운동성및앨러지성비염      6666864       3096693       3570171\n",
       "3    4위           I10_본태성(원발성)고혈압      5459998       2700802       2759196\n",
       "4    5위    J06_다발성및상세불명부위의급성상기도감염      5363578       2362829       3000749\n",
       "5    6위                 J03_급성편도염      5294106       2367452       2926654\n",
       "6    7위              K29_위염및십이지장염      4945445       1969950       2975495\n",
       "7    8위              K05_치은염및치주질환      4789045       2612303       2176742\n",
       "8    9위                 J02_급성인두염      4329488       1885704       2443784\n",
       "9   10위                   H10_결막염      4327470       1805820       2521650\n",
       "10  11위             L23_앨러지성접촉피부염      4218005       1770583       2447422\n",
       "11  12위               K21_위-식도역류병      4022082       1689299       2332783\n",
       "12  13위  A09_감염성및상세불명기원의기타위장염및결장염      3757147       1791561       1965586\n",
       "13  14위                J01_급성부비동염      3644406       1683899       1960507\n",
       "14  15위            J00_급성비인두염[감기]      3619225       1627167       1992058\n",
       "15  16위                   M54_등통증      3464267       1472302       1991965\n",
       "16  17위             J04_급성후두염및기관염      3122292       1329466       1792826\n",
       "17  18위                 E11_2형당뇨병      2366663       1309763       1056900\n",
       "18  19위               H04_눈물계통의장애      2197176        706923       1490253\n",
       "19  20위                   B35_백선증      2167559       1205424        962135"
      ]
     },
     "execution_count": 2,
     "metadata": {},
     "output_type": "execute_result"
    }
   ],
   "source": [
    "### 2018년_성별_질병별_환자수\n",
    "# 파일 읽어들이기\n",
    "file_path = \"./약국처방_계_2018.xlsx\"\n",
    "df1 = pd.read_excel(file_path,header=1,skipfooter=480)\n",
    "file_path = \"./약국처방_남자_2018.xlsx\"\n",
    "df2 = pd.read_excel(file_path,header=1,usecols=\"B:C\")\n",
    "file_path = \"./약국처방_여자_2018.xlsx\"\n",
    "df3 = pd.read_excel(file_path,header=1,usecols=\"B:C\")\n",
    "# 컬럼명 수정\n",
    "df1.rename(columns={df1.columns[0]:\"순위별\",df1.columns[1]:\"상병명\",df1.columns[2]:\"2018진료실인원\"},inplace=True)\n",
    "df2.rename(columns={df2.columns[0]:\"상병명\",df2.columns[1]:\"2018진료실인원\"},inplace=True)\n",
    "df3.rename(columns={df3.columns[0]:\"상병명\",df3.columns[1]:\"2018진료실인원\"},inplace=True)\n",
    "# 데이터 공백 제거\n",
    "df1['상병명'] = df1['상병명'].str.replace(\" \", \"\")\n",
    "df2['상병명'] = df2['상병명'].str.replace(\" \", \"\")\n",
    "df3['상병명'] = df3['상병명'].str.replace(\" \", \"\")\n",
    "# 데이터 합치기\n",
    "df_12=df1.merge(df2, on='상병명', how='left')\n",
    "df_2018=df_12.merge(df3, on='상병명', how='left')\n",
    "# 컬럼명 수정\n",
    "df_2018.rename(columns={df_2018.columns[2]:\"2018진료실인원_계\",\n",
    "                       df_2018.columns[3]:\"2018진료실인원_남자\",\n",
    "                       df_2018.columns[4]:\"2018진료실인원_여자\"},inplace=True)\n",
    "df_2018"
   ]
  },
  {
   "cell_type": "code",
   "execution_count": 3,
   "metadata": {},
   "outputs": [],
   "source": [
    "### 2019년_성별_질병별_환자수\n",
    "# 파일 읽어들이기\n",
    "file_path = \"./약국처방_계_2019.xlsx\"\n",
    "df1 = pd.read_excel(file_path,header=1,skipfooter=480)\n",
    "file_path = \"./약국처방_남자_2019.xlsx\"\n",
    "df2 = pd.read_excel(file_path,header=1,usecols=\"B:C\")\n",
    "file_path = \"./약국처방_여자_2019.xlsx\"\n",
    "df3 = pd.read_excel(file_path,header=1,usecols=\"B:C\")\n",
    "# 컬럼명 수정\n",
    "df1.rename(columns={df1.columns[0]:\"순위별\",df1.columns[1]:\"상병명\",df1.columns[2]:\"2019진료실인원\"},inplace=True)\n",
    "df2.rename(columns={df2.columns[0]:\"상병명\",df2.columns[1]:\"2019진료실인원\"},inplace=True)\n",
    "df3.rename(columns={df3.columns[0]:\"상병명\",df3.columns[1]:\"2019진료실인원\"},inplace=True)\n",
    "# 데이터 공백 제거\n",
    "df1['상병명'] = df1['상병명'].str.replace(\" \", \"\")\n",
    "df2['상병명'] = df2['상병명'].str.replace(\" \", \"\")\n",
    "df3['상병명'] = df3['상병명'].str.replace(\" \", \"\")\n",
    "# 데이터 합치기\n",
    "df_12=df1.merge(df2, on='상병명', how='left')\n",
    "df_2019=df_12.merge(df3, on='상병명', how='left')\n",
    "# 컬럼명 수정\n",
    "df_2019.rename(columns={df_2019.columns[2]:\"2019진료실인원_계\",\n",
    "                       df_2019.columns[3]:\"2019진료실인원_남자\",\n",
    "                       df_2019.columns[4]:\"2019진료실인원_여자\"},inplace=True)"
   ]
  },
  {
   "cell_type": "code",
   "execution_count": 4,
   "metadata": {},
   "outputs": [
    {
     "name": "stderr",
     "output_type": "stream",
     "text": [
      "c:\\Users\\USER\\anaconda3\\envs\\busan_env\\lib\\site-packages\\openpyxl\\styles\\stylesheet.py:226: UserWarning: Workbook contains no default style, apply openpyxl's default\n",
      "  warn(\"Workbook contains no default style, apply openpyxl's default\")\n",
      "c:\\Users\\USER\\anaconda3\\envs\\busan_env\\lib\\site-packages\\openpyxl\\styles\\stylesheet.py:226: UserWarning: Workbook contains no default style, apply openpyxl's default\n",
      "  warn(\"Workbook contains no default style, apply openpyxl's default\")\n",
      "c:\\Users\\USER\\anaconda3\\envs\\busan_env\\lib\\site-packages\\openpyxl\\styles\\stylesheet.py:226: UserWarning: Workbook contains no default style, apply openpyxl's default\n",
      "  warn(\"Workbook contains no default style, apply openpyxl's default\")\n"
     ]
    }
   ],
   "source": [
    "### 2020년_성별_질병별_환자수\n",
    "# 파일 읽어들이기\n",
    "file_path = \"./약국처방_계_2020.xlsx\"\n",
    "df1 = pd.read_excel(file_path,header=1,skipfooter=480)\n",
    "file_path = \"./약국처방_남자_2020.xlsx\"\n",
    "df2 = pd.read_excel(file_path,header=1,usecols=\"B:C\")\n",
    "file_path = \"./약국처방_여자_2020.xlsx\"\n",
    "df3 = pd.read_excel(file_path,header=1,usecols=\"B:C\")\n",
    "# 컬럼명 수정\n",
    "df1.rename(columns={df1.columns[0]:\"순위별\",df1.columns[1]:\"상병명\",df1.columns[2]:\"2020진료실인원\"},inplace=True)\n",
    "df2.rename(columns={df2.columns[0]:\"상병명\",df2.columns[1]:\"2020진료실인원\"},inplace=True)\n",
    "df3.rename(columns={df3.columns[0]:\"상병명\",df3.columns[1]:\"2020진료실인원\"},inplace=True)\n",
    "# 데이터 공백 제거\n",
    "df1['상병명'] = df1['상병명'].str.replace(\" \", \"\")\n",
    "df2['상병명'] = df2['상병명'].str.replace(\" \", \"\")\n",
    "df3['상병명'] = df3['상병명'].str.replace(\" \", \"\")\n",
    "# 데이터 합치기\n",
    "df_12=df1.merge(df2, on='상병명', how='left')\n",
    "df_2020=df_12.merge(df3, on='상병명', how='left')\n",
    "# 컬럼명 수정\n",
    "df_2020.rename(columns={df_2020.columns[2]:\"2020진료실인원_계\",\n",
    "                       df_2020.columns[3]:\"2020진료실인원_남자\",\n",
    "                       df_2020.columns[4]:\"2020진료실인원_여자\"},inplace=True)"
   ]
  },
  {
   "cell_type": "code",
   "execution_count": 5,
   "metadata": {},
   "outputs": [
    {
     "name": "stderr",
     "output_type": "stream",
     "text": [
      "c:\\Users\\USER\\anaconda3\\envs\\busan_env\\lib\\site-packages\\openpyxl\\styles\\stylesheet.py:226: UserWarning: Workbook contains no default style, apply openpyxl's default\n",
      "  warn(\"Workbook contains no default style, apply openpyxl's default\")\n",
      "c:\\Users\\USER\\anaconda3\\envs\\busan_env\\lib\\site-packages\\openpyxl\\styles\\stylesheet.py:226: UserWarning: Workbook contains no default style, apply openpyxl's default\n",
      "  warn(\"Workbook contains no default style, apply openpyxl's default\")\n",
      "c:\\Users\\USER\\anaconda3\\envs\\busan_env\\lib\\site-packages\\openpyxl\\styles\\stylesheet.py:226: UserWarning: Workbook contains no default style, apply openpyxl's default\n",
      "  warn(\"Workbook contains no default style, apply openpyxl's default\")\n"
     ]
    },
    {
     "data": {
      "text/html": [
       "<div>\n",
       "<style scoped>\n",
       "    .dataframe tbody tr th:only-of-type {\n",
       "        vertical-align: middle;\n",
       "    }\n",
       "\n",
       "    .dataframe tbody tr th {\n",
       "        vertical-align: top;\n",
       "    }\n",
       "\n",
       "    .dataframe thead th {\n",
       "        text-align: right;\n",
       "    }\n",
       "</style>\n",
       "<table border=\"1\" class=\"dataframe\">\n",
       "  <thead>\n",
       "    <tr style=\"text-align: right;\">\n",
       "      <th></th>\n",
       "      <th>순위별</th>\n",
       "      <th>상병명</th>\n",
       "      <th>2021진료실인원_계</th>\n",
       "      <th>2021진료실인원_남자</th>\n",
       "      <th>2021진료실인원_여자</th>\n",
       "    </tr>\n",
       "  </thead>\n",
       "  <tbody>\n",
       "    <tr>\n",
       "      <th>0</th>\n",
       "      <td>1위</td>\n",
       "      <td>J20_급성기관지염</td>\n",
       "      <td>6994578</td>\n",
       "      <td>3158706</td>\n",
       "      <td>3835872</td>\n",
       "    </tr>\n",
       "    <tr>\n",
       "      <th>1</th>\n",
       "      <td>2위</td>\n",
       "      <td>I10_본태성(원발성)고혈압</td>\n",
       "      <td>6359093</td>\n",
       "      <td>3213180</td>\n",
       "      <td>3145913</td>\n",
       "    </tr>\n",
       "    <tr>\n",
       "      <th>2</th>\n",
       "      <td>3위</td>\n",
       "      <td>K05_치은염및치주질환</td>\n",
       "      <td>5400428</td>\n",
       "      <td>2901054</td>\n",
       "      <td>2499374</td>\n",
       "    </tr>\n",
       "    <tr>\n",
       "      <th>3</th>\n",
       "      <td>4위</td>\n",
       "      <td>J30_혈관운동성및앨러지성비염</td>\n",
       "      <td>4904559</td>\n",
       "      <td>2371675</td>\n",
       "      <td>2532884</td>\n",
       "    </tr>\n",
       "    <tr>\n",
       "      <th>4</th>\n",
       "      <td>5위</td>\n",
       "      <td>K29_위염및십이지장염</td>\n",
       "      <td>4762623</td>\n",
       "      <td>1923658</td>\n",
       "      <td>2838965</td>\n",
       "    </tr>\n",
       "    <tr>\n",
       "      <th>5</th>\n",
       "      <td>6위</td>\n",
       "      <td>K21_위-식도역류병</td>\n",
       "      <td>4613663</td>\n",
       "      <td>1920834</td>\n",
       "      <td>2692829</td>\n",
       "    </tr>\n",
       "    <tr>\n",
       "      <th>6</th>\n",
       "      <td>7위</td>\n",
       "      <td>L23_앨러지성접촉피부염</td>\n",
       "      <td>4097862</td>\n",
       "      <td>1732012</td>\n",
       "      <td>2365850</td>\n",
       "    </tr>\n",
       "    <tr>\n",
       "      <th>7</th>\n",
       "      <td>8위</td>\n",
       "      <td>M54_등통증</td>\n",
       "      <td>3794929</td>\n",
       "      <td>1667653</td>\n",
       "      <td>2127276</td>\n",
       "    </tr>\n",
       "    <tr>\n",
       "      <th>8</th>\n",
       "      <td>9위</td>\n",
       "      <td>H10_결막염</td>\n",
       "      <td>3689050</td>\n",
       "      <td>1513943</td>\n",
       "      <td>2175107</td>\n",
       "    </tr>\n",
       "    <tr>\n",
       "      <th>9</th>\n",
       "      <td>10위</td>\n",
       "      <td>A09_감염성및상세불명기원의기타위장염및결장염</td>\n",
       "      <td>3005122</td>\n",
       "      <td>1419204</td>\n",
       "      <td>1585918</td>\n",
       "    </tr>\n",
       "    <tr>\n",
       "      <th>10</th>\n",
       "      <td>11위</td>\n",
       "      <td>E11_2형당뇨병</td>\n",
       "      <td>2851286</td>\n",
       "      <td>1595972</td>\n",
       "      <td>1255314</td>\n",
       "    </tr>\n",
       "    <tr>\n",
       "      <th>11</th>\n",
       "      <td>12위</td>\n",
       "      <td>J06_다발성및상세불명부위의급성상기도감염</td>\n",
       "      <td>2458645</td>\n",
       "      <td>1072876</td>\n",
       "      <td>1385769</td>\n",
       "    </tr>\n",
       "    <tr>\n",
       "      <th>12</th>\n",
       "      <td>13위</td>\n",
       "      <td>J03_급성편도염</td>\n",
       "      <td>2441297</td>\n",
       "      <td>1049851</td>\n",
       "      <td>1391446</td>\n",
       "    </tr>\n",
       "    <tr>\n",
       "      <th>13</th>\n",
       "      <td>14위</td>\n",
       "      <td>H04_눈물계통의장애</td>\n",
       "      <td>2394681</td>\n",
       "      <td>779235</td>\n",
       "      <td>1615446</td>\n",
       "    </tr>\n",
       "    <tr>\n",
       "      <th>14</th>\n",
       "      <td>15위</td>\n",
       "      <td>E78_지질단백질대사장애및기타지질증</td>\n",
       "      <td>2231228</td>\n",
       "      <td>887126</td>\n",
       "      <td>1344102</td>\n",
       "    </tr>\n",
       "    <tr>\n",
       "      <th>15</th>\n",
       "      <td>16위</td>\n",
       "      <td>M17_무릎관절증</td>\n",
       "      <td>2202894</td>\n",
       "      <td>694075</td>\n",
       "      <td>1508819</td>\n",
       "    </tr>\n",
       "    <tr>\n",
       "      <th>16</th>\n",
       "      <td>17위</td>\n",
       "      <td>J02_급성인두염</td>\n",
       "      <td>2192329</td>\n",
       "      <td>938495</td>\n",
       "      <td>1253834</td>\n",
       "    </tr>\n",
       "    <tr>\n",
       "      <th>17</th>\n",
       "      <td>18위</td>\n",
       "      <td>L50_두드러기</td>\n",
       "      <td>2058229</td>\n",
       "      <td>893717</td>\n",
       "      <td>1164512</td>\n",
       "    </tr>\n",
       "    <tr>\n",
       "      <th>18</th>\n",
       "      <td>19위</td>\n",
       "      <td>ZZ_양방기타</td>\n",
       "      <td>2013791</td>\n",
       "      <td>907558</td>\n",
       "      <td>1106233</td>\n",
       "    </tr>\n",
       "    <tr>\n",
       "      <th>19</th>\n",
       "      <td>20위</td>\n",
       "      <td>B35_백선증</td>\n",
       "      <td>2010630</td>\n",
       "      <td>1118156</td>\n",
       "      <td>892474</td>\n",
       "    </tr>\n",
       "  </tbody>\n",
       "</table>\n",
       "</div>"
      ],
      "text/plain": [
       "    순위별                       상병명  2021진료실인원_계  2021진료실인원_남자  2021진료실인원_여자\n",
       "0    1위                J20_급성기관지염      6994578       3158706       3835872\n",
       "1    2위           I10_본태성(원발성)고혈압      6359093       3213180       3145913\n",
       "2    3위              K05_치은염및치주질환      5400428       2901054       2499374\n",
       "3    4위          J30_혈관운동성및앨러지성비염      4904559       2371675       2532884\n",
       "4    5위              K29_위염및십이지장염      4762623       1923658       2838965\n",
       "5    6위               K21_위-식도역류병      4613663       1920834       2692829\n",
       "6    7위             L23_앨러지성접촉피부염      4097862       1732012       2365850\n",
       "7    8위                   M54_등통증      3794929       1667653       2127276\n",
       "8    9위                   H10_결막염      3689050       1513943       2175107\n",
       "9   10위  A09_감염성및상세불명기원의기타위장염및결장염      3005122       1419204       1585918\n",
       "10  11위                 E11_2형당뇨병      2851286       1595972       1255314\n",
       "11  12위    J06_다발성및상세불명부위의급성상기도감염      2458645       1072876       1385769\n",
       "12  13위                 J03_급성편도염      2441297       1049851       1391446\n",
       "13  14위               H04_눈물계통의장애      2394681        779235       1615446\n",
       "14  15위       E78_지질단백질대사장애및기타지질증      2231228        887126       1344102\n",
       "15  16위                 M17_무릎관절증      2202894        694075       1508819\n",
       "16  17위                 J02_급성인두염      2192329        938495       1253834\n",
       "17  18위                  L50_두드러기      2058229        893717       1164512\n",
       "18  19위                   ZZ_양방기타      2013791        907558       1106233\n",
       "19  20위                   B35_백선증      2010630       1118156        892474"
      ]
     },
     "execution_count": 5,
     "metadata": {},
     "output_type": "execute_result"
    }
   ],
   "source": [
    "### 2021년_성별_질병별_환자수\n",
    "# 파일 읽어들이기\n",
    "file_path = \"./약국처방_계_2021.xlsx\"\n",
    "df1 = pd.read_excel(file_path,header=1,skipfooter=480)\n",
    "file_path = \"./약국처방_남자_2021.xlsx\"\n",
    "df2 = pd.read_excel(file_path,header=1,usecols=\"B:C\")\n",
    "file_path = \"./약국처방_여자_2021.xlsx\"\n",
    "df3 = pd.read_excel(file_path,header=1,usecols=\"B:C\")\n",
    "# 컬럼명 수정\n",
    "df1.rename(columns={df1.columns[0]:\"순위별\",df1.columns[1]:\"상병명\",df1.columns[2]:\"2021진료실인원\"},inplace=True)\n",
    "df2.rename(columns={df2.columns[0]:\"상병명\",df2.columns[1]:\"2021진료실인원\"},inplace=True)\n",
    "df3.rename(columns={df3.columns[0]:\"상병명\",df3.columns[1]:\"2021진료실인원\"},inplace=True)\n",
    "# 데이터 공백 제거\n",
    "df1['상병명'] = df1['상병명'].str.replace(\" \", \"\")\n",
    "df2['상병명'] = df2['상병명'].str.replace(\" \", \"\")\n",
    "df3['상병명'] = df3['상병명'].str.replace(\" \", \"\")\n",
    "# 데이터 합치기\n",
    "df_12=df1.merge(df2, on='상병명', how='left')\n",
    "df_2021=df_12.merge(df3, on='상병명', how='left')\n",
    "# 컬럼명 수정\n",
    "df_2021.rename(columns={df_2021.columns[2]:\"2021진료실인원_계\",\n",
    "                       df_2021.columns[3]:\"2021진료실인원_남자\",\n",
    "                       df_2021.columns[4]:\"2021진료실인원_여자\"},inplace=True)\n",
    "df_2021"
   ]
  },
  {
   "cell_type": "code",
   "execution_count": 26,
   "metadata": {},
   "outputs": [
    {
     "data": {
      "application/vnd.plotly.v1+json": {
       "config": {
        "plotlyServerURL": "https://plot.ly"
       },
       "data": [
        {
         "marker": {
          "color": "#4A55A2"
         },
         "name": "남자",
         "textinfo": "value+percent previous",
         "textposition": "inside",
         "type": "funnel",
         "x": [
          6936134,
          6112307,
          3096693,
          2700802,
          2362829,
          2367452,
          1969950,
          2612303,
          1885704,
          1805820,
          1770583,
          1689299,
          1791561,
          1683899,
          1627167,
          1472302,
          1329466,
          1309763,
          706923,
          1205424
         ],
         "y": [
          "J20_급성기관지염",
          "ZZ_양방기타",
          "J30_혈관운동성및앨러지성비염",
          "I10_본태성(원발성)고혈압",
          "J06_다발성및상세불명부위의급성상기도감염",
          "J03_급성편도염",
          "K29_위염및십이지장염",
          "K05_치은염및치주질환",
          "J02_급성인두염",
          "H10_결막염",
          "L23_앨러지성접촉피부염",
          "K21_위-식도역류병",
          "A09_감염성및상세불명기원의기타위장염및결장염",
          "J01_급성부비동염",
          "J00_급성비인두염[감기]",
          "M54_등통증",
          "J04_급성후두염및기관염",
          "E11_2형당뇨병",
          "H04_눈물계통의장애",
          "B35_백선증"
         ]
        },
        {
         "marker": {
          "color": "#FEA1A1"
         },
         "name": "여자",
         "textinfo": "value+percent previous",
         "textposition": "inside",
         "type": "funnel",
         "x": [
          8590089,
          7393052,
          3570171,
          2759196,
          3000749,
          2926654,
          2975495,
          2176742,
          2443784,
          2521650,
          2447422,
          2332783,
          1965586,
          1960507,
          1992058,
          1991965,
          1792826,
          1056900,
          1490253,
          962135
         ],
         "y": [
          "J20_급성기관지염",
          "ZZ_양방기타",
          "J30_혈관운동성및앨러지성비염",
          "I10_본태성(원발성)고혈압",
          "J06_다발성및상세불명부위의급성상기도감염",
          "J03_급성편도염",
          "K29_위염및십이지장염",
          "K05_치은염및치주질환",
          "J02_급성인두염",
          "H10_결막염",
          "L23_앨러지성접촉피부염",
          "K21_위-식도역류병",
          "A09_감염성및상세불명기원의기타위장염및결장염",
          "J01_급성부비동염",
          "J00_급성비인두염[감기]",
          "M54_등통증",
          "J04_급성후두염및기관염",
          "E11_2형당뇨병",
          "H04_눈물계통의장애",
          "B35_백선증"
         ]
        }
       ],
       "layout": {
        "funnelmode": "stack",
        "margin": {
         "b": 50,
         "l": 50,
         "r": 50,
         "t": 50
        },
        "shapes": [
         {
          "line": {
           "color": "black",
           "width": 2
          },
          "type": "line",
          "x0": 0.5,
          "x1": 0.5,
          "xref": "paper",
          "y0": 0.993,
          "y1": 0.007,
          "yref": "paper"
         }
        ],
        "showlegend": true,
        "template": {
         "data": {
          "bar": [
           {
            "error_x": {
             "color": "#2a3f5f"
            },
            "error_y": {
             "color": "#2a3f5f"
            },
            "marker": {
             "line": {
              "color": "#E5ECF6",
              "width": 0.5
             },
             "pattern": {
              "fillmode": "overlay",
              "size": 10,
              "solidity": 0.2
             }
            },
            "type": "bar"
           }
          ],
          "barpolar": [
           {
            "marker": {
             "line": {
              "color": "#E5ECF6",
              "width": 0.5
             },
             "pattern": {
              "fillmode": "overlay",
              "size": 10,
              "solidity": 0.2
             }
            },
            "type": "barpolar"
           }
          ],
          "carpet": [
           {
            "aaxis": {
             "endlinecolor": "#2a3f5f",
             "gridcolor": "white",
             "linecolor": "white",
             "minorgridcolor": "white",
             "startlinecolor": "#2a3f5f"
            },
            "baxis": {
             "endlinecolor": "#2a3f5f",
             "gridcolor": "white",
             "linecolor": "white",
             "minorgridcolor": "white",
             "startlinecolor": "#2a3f5f"
            },
            "type": "carpet"
           }
          ],
          "choropleth": [
           {
            "colorbar": {
             "outlinewidth": 0,
             "ticks": ""
            },
            "type": "choropleth"
           }
          ],
          "contour": [
           {
            "colorbar": {
             "outlinewidth": 0,
             "ticks": ""
            },
            "colorscale": [
             [
              0,
              "#0d0887"
             ],
             [
              0.1111111111111111,
              "#46039f"
             ],
             [
              0.2222222222222222,
              "#7201a8"
             ],
             [
              0.3333333333333333,
              "#9c179e"
             ],
             [
              0.4444444444444444,
              "#bd3786"
             ],
             [
              0.5555555555555556,
              "#d8576b"
             ],
             [
              0.6666666666666666,
              "#ed7953"
             ],
             [
              0.7777777777777778,
              "#fb9f3a"
             ],
             [
              0.8888888888888888,
              "#fdca26"
             ],
             [
              1,
              "#f0f921"
             ]
            ],
            "type": "contour"
           }
          ],
          "contourcarpet": [
           {
            "colorbar": {
             "outlinewidth": 0,
             "ticks": ""
            },
            "type": "contourcarpet"
           }
          ],
          "heatmap": [
           {
            "colorbar": {
             "outlinewidth": 0,
             "ticks": ""
            },
            "colorscale": [
             [
              0,
              "#0d0887"
             ],
             [
              0.1111111111111111,
              "#46039f"
             ],
             [
              0.2222222222222222,
              "#7201a8"
             ],
             [
              0.3333333333333333,
              "#9c179e"
             ],
             [
              0.4444444444444444,
              "#bd3786"
             ],
             [
              0.5555555555555556,
              "#d8576b"
             ],
             [
              0.6666666666666666,
              "#ed7953"
             ],
             [
              0.7777777777777778,
              "#fb9f3a"
             ],
             [
              0.8888888888888888,
              "#fdca26"
             ],
             [
              1,
              "#f0f921"
             ]
            ],
            "type": "heatmap"
           }
          ],
          "heatmapgl": [
           {
            "colorbar": {
             "outlinewidth": 0,
             "ticks": ""
            },
            "colorscale": [
             [
              0,
              "#0d0887"
             ],
             [
              0.1111111111111111,
              "#46039f"
             ],
             [
              0.2222222222222222,
              "#7201a8"
             ],
             [
              0.3333333333333333,
              "#9c179e"
             ],
             [
              0.4444444444444444,
              "#bd3786"
             ],
             [
              0.5555555555555556,
              "#d8576b"
             ],
             [
              0.6666666666666666,
              "#ed7953"
             ],
             [
              0.7777777777777778,
              "#fb9f3a"
             ],
             [
              0.8888888888888888,
              "#fdca26"
             ],
             [
              1,
              "#f0f921"
             ]
            ],
            "type": "heatmapgl"
           }
          ],
          "histogram": [
           {
            "marker": {
             "pattern": {
              "fillmode": "overlay",
              "size": 10,
              "solidity": 0.2
             }
            },
            "type": "histogram"
           }
          ],
          "histogram2d": [
           {
            "colorbar": {
             "outlinewidth": 0,
             "ticks": ""
            },
            "colorscale": [
             [
              0,
              "#0d0887"
             ],
             [
              0.1111111111111111,
              "#46039f"
             ],
             [
              0.2222222222222222,
              "#7201a8"
             ],
             [
              0.3333333333333333,
              "#9c179e"
             ],
             [
              0.4444444444444444,
              "#bd3786"
             ],
             [
              0.5555555555555556,
              "#d8576b"
             ],
             [
              0.6666666666666666,
              "#ed7953"
             ],
             [
              0.7777777777777778,
              "#fb9f3a"
             ],
             [
              0.8888888888888888,
              "#fdca26"
             ],
             [
              1,
              "#f0f921"
             ]
            ],
            "type": "histogram2d"
           }
          ],
          "histogram2dcontour": [
           {
            "colorbar": {
             "outlinewidth": 0,
             "ticks": ""
            },
            "colorscale": [
             [
              0,
              "#0d0887"
             ],
             [
              0.1111111111111111,
              "#46039f"
             ],
             [
              0.2222222222222222,
              "#7201a8"
             ],
             [
              0.3333333333333333,
              "#9c179e"
             ],
             [
              0.4444444444444444,
              "#bd3786"
             ],
             [
              0.5555555555555556,
              "#d8576b"
             ],
             [
              0.6666666666666666,
              "#ed7953"
             ],
             [
              0.7777777777777778,
              "#fb9f3a"
             ],
             [
              0.8888888888888888,
              "#fdca26"
             ],
             [
              1,
              "#f0f921"
             ]
            ],
            "type": "histogram2dcontour"
           }
          ],
          "mesh3d": [
           {
            "colorbar": {
             "outlinewidth": 0,
             "ticks": ""
            },
            "type": "mesh3d"
           }
          ],
          "parcoords": [
           {
            "line": {
             "colorbar": {
              "outlinewidth": 0,
              "ticks": ""
             }
            },
            "type": "parcoords"
           }
          ],
          "pie": [
           {
            "automargin": true,
            "type": "pie"
           }
          ],
          "scatter": [
           {
            "fillpattern": {
             "fillmode": "overlay",
             "size": 10,
             "solidity": 0.2
            },
            "type": "scatter"
           }
          ],
          "scatter3d": [
           {
            "line": {
             "colorbar": {
              "outlinewidth": 0,
              "ticks": ""
             }
            },
            "marker": {
             "colorbar": {
              "outlinewidth": 0,
              "ticks": ""
             }
            },
            "type": "scatter3d"
           }
          ],
          "scattercarpet": [
           {
            "marker": {
             "colorbar": {
              "outlinewidth": 0,
              "ticks": ""
             }
            },
            "type": "scattercarpet"
           }
          ],
          "scattergeo": [
           {
            "marker": {
             "colorbar": {
              "outlinewidth": 0,
              "ticks": ""
             }
            },
            "type": "scattergeo"
           }
          ],
          "scattergl": [
           {
            "marker": {
             "colorbar": {
              "outlinewidth": 0,
              "ticks": ""
             }
            },
            "type": "scattergl"
           }
          ],
          "scattermapbox": [
           {
            "marker": {
             "colorbar": {
              "outlinewidth": 0,
              "ticks": ""
             }
            },
            "type": "scattermapbox"
           }
          ],
          "scatterpolar": [
           {
            "marker": {
             "colorbar": {
              "outlinewidth": 0,
              "ticks": ""
             }
            },
            "type": "scatterpolar"
           }
          ],
          "scatterpolargl": [
           {
            "marker": {
             "colorbar": {
              "outlinewidth": 0,
              "ticks": ""
             }
            },
            "type": "scatterpolargl"
           }
          ],
          "scatterternary": [
           {
            "marker": {
             "colorbar": {
              "outlinewidth": 0,
              "ticks": ""
             }
            },
            "type": "scatterternary"
           }
          ],
          "surface": [
           {
            "colorbar": {
             "outlinewidth": 0,
             "ticks": ""
            },
            "colorscale": [
             [
              0,
              "#0d0887"
             ],
             [
              0.1111111111111111,
              "#46039f"
             ],
             [
              0.2222222222222222,
              "#7201a8"
             ],
             [
              0.3333333333333333,
              "#9c179e"
             ],
             [
              0.4444444444444444,
              "#bd3786"
             ],
             [
              0.5555555555555556,
              "#d8576b"
             ],
             [
              0.6666666666666666,
              "#ed7953"
             ],
             [
              0.7777777777777778,
              "#fb9f3a"
             ],
             [
              0.8888888888888888,
              "#fdca26"
             ],
             [
              1,
              "#f0f921"
             ]
            ],
            "type": "surface"
           }
          ],
          "table": [
           {
            "cells": {
             "fill": {
              "color": "#EBF0F8"
             },
             "line": {
              "color": "white"
             }
            },
            "header": {
             "fill": {
              "color": "#C8D4E3"
             },
             "line": {
              "color": "white"
             }
            },
            "type": "table"
           }
          ]
         },
         "layout": {
          "annotationdefaults": {
           "arrowcolor": "#2a3f5f",
           "arrowhead": 0,
           "arrowwidth": 1
          },
          "autotypenumbers": "strict",
          "coloraxis": {
           "colorbar": {
            "outlinewidth": 0,
            "ticks": ""
           }
          },
          "colorscale": {
           "diverging": [
            [
             0,
             "#8e0152"
            ],
            [
             0.1,
             "#c51b7d"
            ],
            [
             0.2,
             "#de77ae"
            ],
            [
             0.3,
             "#f1b6da"
            ],
            [
             0.4,
             "#fde0ef"
            ],
            [
             0.5,
             "#f7f7f7"
            ],
            [
             0.6,
             "#e6f5d0"
            ],
            [
             0.7,
             "#b8e186"
            ],
            [
             0.8,
             "#7fbc41"
            ],
            [
             0.9,
             "#4d9221"
            ],
            [
             1,
             "#276419"
            ]
           ],
           "sequential": [
            [
             0,
             "#0d0887"
            ],
            [
             0.1111111111111111,
             "#46039f"
            ],
            [
             0.2222222222222222,
             "#7201a8"
            ],
            [
             0.3333333333333333,
             "#9c179e"
            ],
            [
             0.4444444444444444,
             "#bd3786"
            ],
            [
             0.5555555555555556,
             "#d8576b"
            ],
            [
             0.6666666666666666,
             "#ed7953"
            ],
            [
             0.7777777777777778,
             "#fb9f3a"
            ],
            [
             0.8888888888888888,
             "#fdca26"
            ],
            [
             1,
             "#f0f921"
            ]
           ],
           "sequentialminus": [
            [
             0,
             "#0d0887"
            ],
            [
             0.1111111111111111,
             "#46039f"
            ],
            [
             0.2222222222222222,
             "#7201a8"
            ],
            [
             0.3333333333333333,
             "#9c179e"
            ],
            [
             0.4444444444444444,
             "#bd3786"
            ],
            [
             0.5555555555555556,
             "#d8576b"
            ],
            [
             0.6666666666666666,
             "#ed7953"
            ],
            [
             0.7777777777777778,
             "#fb9f3a"
            ],
            [
             0.8888888888888888,
             "#fdca26"
            ],
            [
             1,
             "#f0f921"
            ]
           ]
          },
          "colorway": [
           "#636efa",
           "#EF553B",
           "#00cc96",
           "#ab63fa",
           "#FFA15A",
           "#19d3f3",
           "#FF6692",
           "#B6E880",
           "#FF97FF",
           "#FECB52"
          ],
          "font": {
           "color": "#2a3f5f"
          },
          "geo": {
           "bgcolor": "white",
           "lakecolor": "white",
           "landcolor": "#E5ECF6",
           "showlakes": true,
           "showland": true,
           "subunitcolor": "white"
          },
          "hoverlabel": {
           "align": "left"
          },
          "hovermode": "closest",
          "mapbox": {
           "style": "light"
          },
          "paper_bgcolor": "white",
          "plot_bgcolor": "#E5ECF6",
          "polar": {
           "angularaxis": {
            "gridcolor": "white",
            "linecolor": "white",
            "ticks": ""
           },
           "bgcolor": "#E5ECF6",
           "radialaxis": {
            "gridcolor": "white",
            "linecolor": "white",
            "ticks": ""
           }
          },
          "scene": {
           "xaxis": {
            "backgroundcolor": "#E5ECF6",
            "gridcolor": "white",
            "gridwidth": 2,
            "linecolor": "white",
            "showbackground": true,
            "ticks": "",
            "zerolinecolor": "white"
           },
           "yaxis": {
            "backgroundcolor": "#E5ECF6",
            "gridcolor": "white",
            "gridwidth": 2,
            "linecolor": "white",
            "showbackground": true,
            "ticks": "",
            "zerolinecolor": "white"
           },
           "zaxis": {
            "backgroundcolor": "#E5ECF6",
            "gridcolor": "white",
            "gridwidth": 2,
            "linecolor": "white",
            "showbackground": true,
            "ticks": "",
            "zerolinecolor": "white"
           }
          },
          "shapedefaults": {
           "line": {
            "color": "#2a3f5f"
           }
          },
          "ternary": {
           "aaxis": {
            "gridcolor": "white",
            "linecolor": "white",
            "ticks": ""
           },
           "baxis": {
            "gridcolor": "white",
            "linecolor": "white",
            "ticks": ""
           },
           "bgcolor": "#E5ECF6",
           "caxis": {
            "gridcolor": "white",
            "linecolor": "white",
            "ticks": ""
           }
          },
          "title": {
           "x": 0.05
          },
          "xaxis": {
           "automargin": true,
           "gridcolor": "white",
           "linecolor": "white",
           "ticks": "",
           "title": {
            "standoff": 15
           },
           "zerolinecolor": "white",
           "zerolinewidth": 2
          },
          "yaxis": {
           "automargin": true,
           "gridcolor": "white",
           "linecolor": "white",
           "ticks": "",
           "title": {
            "standoff": 15
           },
           "zerolinecolor": "white",
           "zerolinewidth": 2
          }
         }
        },
        "title": {
         "text": "2018 질병별 약국처방조제 진료실인원 Funnel Plot"
        }
       }
      }
     },
     "metadata": {},
     "output_type": "display_data"
    }
   ],
   "source": [
    "# Funnel Plot 그리기\n",
    "fig = ply.Figure()\n",
    "\n",
    "fig.add_trace(ply.Funnel(\n",
    "    name='남자',\n",
    "    y=df_2018['상병명'],\n",
    "    x=df_2018['2018진료실인원_남자'],\n",
    "    textposition=\"inside\",\n",
    "    textinfo=\"value+percent previous\",\n",
    "    marker=dict(color=\"#4A55A2\"\n",
    "    )))\n",
    "\n",
    "fig.add_trace(ply.Funnel(\n",
    "    name='여자',\n",
    "    y=df_2018['상병명'],\n",
    "    x=df_2018['2018진료실인원_여자'],\n",
    "    textposition=\"inside\",\n",
    "    textinfo=\"value+percent previous\",\n",
    "    marker=dict(color=\"#FEA1A1\"\n",
    "    )))\n",
    "\n",
    "# 가운데 일직선의 선 추가\n",
    "fig.add_shape(\n",
    "    type='line',\n",
    "    x0=0.5, x1=0.5,\n",
    "    y0=0.993, y1=0.007,\n",
    "    xref='paper', yref='paper',\n",
    "    line=dict(color='black', width=2)\n",
    ")\n",
    "# 그래프 레이아웃 설정\n",
    "fig.update_layout(title=\"2018 질병별 약국처방조제 진료실인원 Funnel Plot\",\n",
    "                  funnelmode=\"stack\",\n",
    "                  showlegend=True,\n",
    "                  margin=dict(l=50, r=50, t=50, b=50))\n",
    "\n",
    "# 그래프 출력\n",
    "fig.show()"
   ]
  },
  {
   "cell_type": "code",
   "execution_count": 27,
   "metadata": {},
   "outputs": [
    {
     "data": {
      "application/vnd.plotly.v1+json": {
       "config": {
        "plotlyServerURL": "https://plot.ly"
       },
       "data": [
        {
         "marker": {
          "color": "#4A55A2"
         },
         "name": "남자",
         "textinfo": "value+percent previous",
         "textposition": "inside",
         "type": "funnel",
         "x": [
          6899765,
          3228708,
          2859606,
          2318890,
          2773637,
          2011060,
          2192329,
          2144282,
          1852214,
          1785829,
          1789304,
          1799208,
          1563000,
          1722359,
          1675577,
          1558037,
          1334495,
          1410894,
          749865,
          676226
         ],
         "y": [
          "J20_급성기관지염",
          "J30_혈관운동성및앨러지성비염",
          "I10_본태성(원발성)고혈압",
          "J06_다발성및상세불명부위의급성상기도감염",
          "K05_치은염및치주질환",
          "K29_위염및십이지장염",
          "J03_급성편도염",
          "ZZ_양방기타",
          "L23_앨러지성접촉피부염",
          "H10_결막염",
          "K21_위-식도역류병",
          "J02_급성인두염",
          "M54_등통증",
          "A09_감염성및상세불명기원의기타위장염및결장염",
          "J01_급성부비동염",
          "J00_급성비인두염[감기]",
          "J04_급성후두염및기관염",
          "E11_2형당뇨병",
          "H04_눈물계통의장애",
          "M17_무릎관절증"
         ]
        },
        {
         "marker": {
          "color": "#FEA1A1"
         },
         "name": "여자",
         "textinfo": "value+percent previous",
         "textposition": "inside",
         "type": "funnel",
         "x": [
          8490653,
          3683059,
          2870109,
          2939641,
          2343548,
          2986504,
          2701828,
          2610342,
          2509992,
          2512213,
          2466372,
          2336330,
          2080498,
          1892561,
          1936500,
          1895652,
          1779980,
          1124039,
          1576349,
          1560654
         ],
         "y": [
          "J20_급성기관지염",
          "J30_혈관운동성및앨러지성비염",
          "I10_본태성(원발성)고혈압",
          "J06_다발성및상세불명부위의급성상기도감염",
          "K05_치은염및치주질환",
          "K29_위염및십이지장염",
          "J03_급성편도염",
          "ZZ_양방기타",
          "L23_앨러지성접촉피부염",
          "H10_결막염",
          "K21_위-식도역류병",
          "J02_급성인두염",
          "M54_등통증",
          "A09_감염성및상세불명기원의기타위장염및결장염",
          "J01_급성부비동염",
          "J00_급성비인두염[감기]",
          "J04_급성후두염및기관염",
          "E11_2형당뇨병",
          "H04_눈물계통의장애",
          "M17_무릎관절증"
         ]
        }
       ],
       "layout": {
        "funnelmode": "stack",
        "margin": {
         "b": 50,
         "l": 50,
         "r": 50,
         "t": 50
        },
        "shapes": [
         {
          "line": {
           "color": "black",
           "width": 2
          },
          "type": "line",
          "x0": 0.5,
          "x1": 0.5,
          "xref": "paper",
          "y0": 0.993,
          "y1": 0.007,
          "yref": "paper"
         }
        ],
        "showlegend": true,
        "template": {
         "data": {
          "bar": [
           {
            "error_x": {
             "color": "#2a3f5f"
            },
            "error_y": {
             "color": "#2a3f5f"
            },
            "marker": {
             "line": {
              "color": "#E5ECF6",
              "width": 0.5
             },
             "pattern": {
              "fillmode": "overlay",
              "size": 10,
              "solidity": 0.2
             }
            },
            "type": "bar"
           }
          ],
          "barpolar": [
           {
            "marker": {
             "line": {
              "color": "#E5ECF6",
              "width": 0.5
             },
             "pattern": {
              "fillmode": "overlay",
              "size": 10,
              "solidity": 0.2
             }
            },
            "type": "barpolar"
           }
          ],
          "carpet": [
           {
            "aaxis": {
             "endlinecolor": "#2a3f5f",
             "gridcolor": "white",
             "linecolor": "white",
             "minorgridcolor": "white",
             "startlinecolor": "#2a3f5f"
            },
            "baxis": {
             "endlinecolor": "#2a3f5f",
             "gridcolor": "white",
             "linecolor": "white",
             "minorgridcolor": "white",
             "startlinecolor": "#2a3f5f"
            },
            "type": "carpet"
           }
          ],
          "choropleth": [
           {
            "colorbar": {
             "outlinewidth": 0,
             "ticks": ""
            },
            "type": "choropleth"
           }
          ],
          "contour": [
           {
            "colorbar": {
             "outlinewidth": 0,
             "ticks": ""
            },
            "colorscale": [
             [
              0,
              "#0d0887"
             ],
             [
              0.1111111111111111,
              "#46039f"
             ],
             [
              0.2222222222222222,
              "#7201a8"
             ],
             [
              0.3333333333333333,
              "#9c179e"
             ],
             [
              0.4444444444444444,
              "#bd3786"
             ],
             [
              0.5555555555555556,
              "#d8576b"
             ],
             [
              0.6666666666666666,
              "#ed7953"
             ],
             [
              0.7777777777777778,
              "#fb9f3a"
             ],
             [
              0.8888888888888888,
              "#fdca26"
             ],
             [
              1,
              "#f0f921"
             ]
            ],
            "type": "contour"
           }
          ],
          "contourcarpet": [
           {
            "colorbar": {
             "outlinewidth": 0,
             "ticks": ""
            },
            "type": "contourcarpet"
           }
          ],
          "heatmap": [
           {
            "colorbar": {
             "outlinewidth": 0,
             "ticks": ""
            },
            "colorscale": [
             [
              0,
              "#0d0887"
             ],
             [
              0.1111111111111111,
              "#46039f"
             ],
             [
              0.2222222222222222,
              "#7201a8"
             ],
             [
              0.3333333333333333,
              "#9c179e"
             ],
             [
              0.4444444444444444,
              "#bd3786"
             ],
             [
              0.5555555555555556,
              "#d8576b"
             ],
             [
              0.6666666666666666,
              "#ed7953"
             ],
             [
              0.7777777777777778,
              "#fb9f3a"
             ],
             [
              0.8888888888888888,
              "#fdca26"
             ],
             [
              1,
              "#f0f921"
             ]
            ],
            "type": "heatmap"
           }
          ],
          "heatmapgl": [
           {
            "colorbar": {
             "outlinewidth": 0,
             "ticks": ""
            },
            "colorscale": [
             [
              0,
              "#0d0887"
             ],
             [
              0.1111111111111111,
              "#46039f"
             ],
             [
              0.2222222222222222,
              "#7201a8"
             ],
             [
              0.3333333333333333,
              "#9c179e"
             ],
             [
              0.4444444444444444,
              "#bd3786"
             ],
             [
              0.5555555555555556,
              "#d8576b"
             ],
             [
              0.6666666666666666,
              "#ed7953"
             ],
             [
              0.7777777777777778,
              "#fb9f3a"
             ],
             [
              0.8888888888888888,
              "#fdca26"
             ],
             [
              1,
              "#f0f921"
             ]
            ],
            "type": "heatmapgl"
           }
          ],
          "histogram": [
           {
            "marker": {
             "pattern": {
              "fillmode": "overlay",
              "size": 10,
              "solidity": 0.2
             }
            },
            "type": "histogram"
           }
          ],
          "histogram2d": [
           {
            "colorbar": {
             "outlinewidth": 0,
             "ticks": ""
            },
            "colorscale": [
             [
              0,
              "#0d0887"
             ],
             [
              0.1111111111111111,
              "#46039f"
             ],
             [
              0.2222222222222222,
              "#7201a8"
             ],
             [
              0.3333333333333333,
              "#9c179e"
             ],
             [
              0.4444444444444444,
              "#bd3786"
             ],
             [
              0.5555555555555556,
              "#d8576b"
             ],
             [
              0.6666666666666666,
              "#ed7953"
             ],
             [
              0.7777777777777778,
              "#fb9f3a"
             ],
             [
              0.8888888888888888,
              "#fdca26"
             ],
             [
              1,
              "#f0f921"
             ]
            ],
            "type": "histogram2d"
           }
          ],
          "histogram2dcontour": [
           {
            "colorbar": {
             "outlinewidth": 0,
             "ticks": ""
            },
            "colorscale": [
             [
              0,
              "#0d0887"
             ],
             [
              0.1111111111111111,
              "#46039f"
             ],
             [
              0.2222222222222222,
              "#7201a8"
             ],
             [
              0.3333333333333333,
              "#9c179e"
             ],
             [
              0.4444444444444444,
              "#bd3786"
             ],
             [
              0.5555555555555556,
              "#d8576b"
             ],
             [
              0.6666666666666666,
              "#ed7953"
             ],
             [
              0.7777777777777778,
              "#fb9f3a"
             ],
             [
              0.8888888888888888,
              "#fdca26"
             ],
             [
              1,
              "#f0f921"
             ]
            ],
            "type": "histogram2dcontour"
           }
          ],
          "mesh3d": [
           {
            "colorbar": {
             "outlinewidth": 0,
             "ticks": ""
            },
            "type": "mesh3d"
           }
          ],
          "parcoords": [
           {
            "line": {
             "colorbar": {
              "outlinewidth": 0,
              "ticks": ""
             }
            },
            "type": "parcoords"
           }
          ],
          "pie": [
           {
            "automargin": true,
            "type": "pie"
           }
          ],
          "scatter": [
           {
            "fillpattern": {
             "fillmode": "overlay",
             "size": 10,
             "solidity": 0.2
            },
            "type": "scatter"
           }
          ],
          "scatter3d": [
           {
            "line": {
             "colorbar": {
              "outlinewidth": 0,
              "ticks": ""
             }
            },
            "marker": {
             "colorbar": {
              "outlinewidth": 0,
              "ticks": ""
             }
            },
            "type": "scatter3d"
           }
          ],
          "scattercarpet": [
           {
            "marker": {
             "colorbar": {
              "outlinewidth": 0,
              "ticks": ""
             }
            },
            "type": "scattercarpet"
           }
          ],
          "scattergeo": [
           {
            "marker": {
             "colorbar": {
              "outlinewidth": 0,
              "ticks": ""
             }
            },
            "type": "scattergeo"
           }
          ],
          "scattergl": [
           {
            "marker": {
             "colorbar": {
              "outlinewidth": 0,
              "ticks": ""
             }
            },
            "type": "scattergl"
           }
          ],
          "scattermapbox": [
           {
            "marker": {
             "colorbar": {
              "outlinewidth": 0,
              "ticks": ""
             }
            },
            "type": "scattermapbox"
           }
          ],
          "scatterpolar": [
           {
            "marker": {
             "colorbar": {
              "outlinewidth": 0,
              "ticks": ""
             }
            },
            "type": "scatterpolar"
           }
          ],
          "scatterpolargl": [
           {
            "marker": {
             "colorbar": {
              "outlinewidth": 0,
              "ticks": ""
             }
            },
            "type": "scatterpolargl"
           }
          ],
          "scatterternary": [
           {
            "marker": {
             "colorbar": {
              "outlinewidth": 0,
              "ticks": ""
             }
            },
            "type": "scatterternary"
           }
          ],
          "surface": [
           {
            "colorbar": {
             "outlinewidth": 0,
             "ticks": ""
            },
            "colorscale": [
             [
              0,
              "#0d0887"
             ],
             [
              0.1111111111111111,
              "#46039f"
             ],
             [
              0.2222222222222222,
              "#7201a8"
             ],
             [
              0.3333333333333333,
              "#9c179e"
             ],
             [
              0.4444444444444444,
              "#bd3786"
             ],
             [
              0.5555555555555556,
              "#d8576b"
             ],
             [
              0.6666666666666666,
              "#ed7953"
             ],
             [
              0.7777777777777778,
              "#fb9f3a"
             ],
             [
              0.8888888888888888,
              "#fdca26"
             ],
             [
              1,
              "#f0f921"
             ]
            ],
            "type": "surface"
           }
          ],
          "table": [
           {
            "cells": {
             "fill": {
              "color": "#EBF0F8"
             },
             "line": {
              "color": "white"
             }
            },
            "header": {
             "fill": {
              "color": "#C8D4E3"
             },
             "line": {
              "color": "white"
             }
            },
            "type": "table"
           }
          ]
         },
         "layout": {
          "annotationdefaults": {
           "arrowcolor": "#2a3f5f",
           "arrowhead": 0,
           "arrowwidth": 1
          },
          "autotypenumbers": "strict",
          "coloraxis": {
           "colorbar": {
            "outlinewidth": 0,
            "ticks": ""
           }
          },
          "colorscale": {
           "diverging": [
            [
             0,
             "#8e0152"
            ],
            [
             0.1,
             "#c51b7d"
            ],
            [
             0.2,
             "#de77ae"
            ],
            [
             0.3,
             "#f1b6da"
            ],
            [
             0.4,
             "#fde0ef"
            ],
            [
             0.5,
             "#f7f7f7"
            ],
            [
             0.6,
             "#e6f5d0"
            ],
            [
             0.7,
             "#b8e186"
            ],
            [
             0.8,
             "#7fbc41"
            ],
            [
             0.9,
             "#4d9221"
            ],
            [
             1,
             "#276419"
            ]
           ],
           "sequential": [
            [
             0,
             "#0d0887"
            ],
            [
             0.1111111111111111,
             "#46039f"
            ],
            [
             0.2222222222222222,
             "#7201a8"
            ],
            [
             0.3333333333333333,
             "#9c179e"
            ],
            [
             0.4444444444444444,
             "#bd3786"
            ],
            [
             0.5555555555555556,
             "#d8576b"
            ],
            [
             0.6666666666666666,
             "#ed7953"
            ],
            [
             0.7777777777777778,
             "#fb9f3a"
            ],
            [
             0.8888888888888888,
             "#fdca26"
            ],
            [
             1,
             "#f0f921"
            ]
           ],
           "sequentialminus": [
            [
             0,
             "#0d0887"
            ],
            [
             0.1111111111111111,
             "#46039f"
            ],
            [
             0.2222222222222222,
             "#7201a8"
            ],
            [
             0.3333333333333333,
             "#9c179e"
            ],
            [
             0.4444444444444444,
             "#bd3786"
            ],
            [
             0.5555555555555556,
             "#d8576b"
            ],
            [
             0.6666666666666666,
             "#ed7953"
            ],
            [
             0.7777777777777778,
             "#fb9f3a"
            ],
            [
             0.8888888888888888,
             "#fdca26"
            ],
            [
             1,
             "#f0f921"
            ]
           ]
          },
          "colorway": [
           "#636efa",
           "#EF553B",
           "#00cc96",
           "#ab63fa",
           "#FFA15A",
           "#19d3f3",
           "#FF6692",
           "#B6E880",
           "#FF97FF",
           "#FECB52"
          ],
          "font": {
           "color": "#2a3f5f"
          },
          "geo": {
           "bgcolor": "white",
           "lakecolor": "white",
           "landcolor": "#E5ECF6",
           "showlakes": true,
           "showland": true,
           "subunitcolor": "white"
          },
          "hoverlabel": {
           "align": "left"
          },
          "hovermode": "closest",
          "mapbox": {
           "style": "light"
          },
          "paper_bgcolor": "white",
          "plot_bgcolor": "#E5ECF6",
          "polar": {
           "angularaxis": {
            "gridcolor": "white",
            "linecolor": "white",
            "ticks": ""
           },
           "bgcolor": "#E5ECF6",
           "radialaxis": {
            "gridcolor": "white",
            "linecolor": "white",
            "ticks": ""
           }
          },
          "scene": {
           "xaxis": {
            "backgroundcolor": "#E5ECF6",
            "gridcolor": "white",
            "gridwidth": 2,
            "linecolor": "white",
            "showbackground": true,
            "ticks": "",
            "zerolinecolor": "white"
           },
           "yaxis": {
            "backgroundcolor": "#E5ECF6",
            "gridcolor": "white",
            "gridwidth": 2,
            "linecolor": "white",
            "showbackground": true,
            "ticks": "",
            "zerolinecolor": "white"
           },
           "zaxis": {
            "backgroundcolor": "#E5ECF6",
            "gridcolor": "white",
            "gridwidth": 2,
            "linecolor": "white",
            "showbackground": true,
            "ticks": "",
            "zerolinecolor": "white"
           }
          },
          "shapedefaults": {
           "line": {
            "color": "#2a3f5f"
           }
          },
          "ternary": {
           "aaxis": {
            "gridcolor": "white",
            "linecolor": "white",
            "ticks": ""
           },
           "baxis": {
            "gridcolor": "white",
            "linecolor": "white",
            "ticks": ""
           },
           "bgcolor": "#E5ECF6",
           "caxis": {
            "gridcolor": "white",
            "linecolor": "white",
            "ticks": ""
           }
          },
          "title": {
           "x": 0.05
          },
          "xaxis": {
           "automargin": true,
           "gridcolor": "white",
           "linecolor": "white",
           "ticks": "",
           "title": {
            "standoff": 15
           },
           "zerolinecolor": "white",
           "zerolinewidth": 2
          },
          "yaxis": {
           "automargin": true,
           "gridcolor": "white",
           "linecolor": "white",
           "ticks": "",
           "title": {
            "standoff": 15
           },
           "zerolinecolor": "white",
           "zerolinewidth": 2
          }
         }
        },
        "title": {
         "text": "2019 질병별 약국처방조제 진료실인원 Funnel Plot"
        }
       }
      }
     },
     "metadata": {},
     "output_type": "display_data"
    }
   ],
   "source": [
    "# Funnel Plot 그리기\n",
    "fig = ply.Figure()\n",
    "\n",
    "# fig.add_trace(ply.Funnel(\n",
    "#     name='전체',\n",
    "#     y=df_2019['상병명'],\n",
    "#     x=df_2019['2019진료실인원_계'],\n",
    "#     textposition=\"inside\",\n",
    "#     textinfo=\"value+percent initial\"))\n",
    "\n",
    "fig.add_trace(ply.Funnel(\n",
    "    name='남자',\n",
    "    y=df_2019['상병명'],\n",
    "    x=df_2019['2019진료실인원_남자'],\n",
    "    textposition=\"inside\",\n",
    "    textinfo=\"value+percent previous\",\n",
    "    marker=dict(color=\"#4A55A2\"\n",
    "    )))\n",
    "\n",
    "fig.add_trace(ply.Funnel(\n",
    "    name='여자',\n",
    "    y=df_2019['상병명'],\n",
    "    x=df_2019['2019진료실인원_여자'],\n",
    "    textposition=\"inside\",\n",
    "    textinfo=\"value+percent previous\",\n",
    "    marker=dict(color=\"#FEA1A1\"\n",
    "    )))\n",
    "\n",
    "# 가운데 일직선의 선 추가\n",
    "fig.add_shape(\n",
    "    type='line',\n",
    "    x0=0.5, x1=0.5,\n",
    "    y0=0.993, y1=0.007,\n",
    "    xref='paper', yref='paper',\n",
    "    line=dict(color='black', width=2)\n",
    ")\n",
    "\n",
    "# 그래프 레이아웃 설정\n",
    "fig.update_layout(title=\"2019 질병별 약국처방조제 진료실인원 Funnel Plot\",\n",
    "                  funnelmode=\"stack\",\n",
    "                  showlegend=True,\n",
    "                  margin=dict(l=50, r=50, t=50, b=50))\n",
    "\n",
    "# 그래프 출력\n",
    "fig.show()"
   ]
  },
  {
   "cell_type": "code",
   "execution_count": 28,
   "metadata": {},
   "outputs": [
    {
     "data": {
      "application/vnd.plotly.v1+json": {
       "config": {
        "plotlyServerURL": "https://plot.ly"
       },
       "data": [
        {
         "marker": {
          "color": "#4A55A2"
         },
         "name": "남자",
         "textinfo": "value+percent previous",
         "textposition": "inside",
         "type": "funnel",
         "x": [
          3992414,
          3037155,
          2792280,
          2435829,
          1793326,
          1798656,
          1780680,
          1485368,
          1549537,
          1344153,
          1225679,
          1304019,
          1501206,
          1044924,
          1023469,
          1182378,
          1008392,
          690129,
          943876,
          653421
         ],
         "y": [
          "J20_급성기관지염",
          "I10_본태성(원발성)고혈압",
          "K05_치은염및치주질환",
          "J30_혈관운동성및앨러지성비염",
          "K29_위염및십이지장염",
          "K21_위-식도역류병",
          "L23_앨러지성접촉피부염",
          "H10_결막염",
          "M54_등통증",
          "J06_다발성및상세불명부위의급성상기도감염",
          "J03_급성편도염",
          "A09_감염성및상세불명기원의기타위장염및결장염",
          "E11_2형당뇨병",
          "J02_급성인두염",
          "ZZ_양방기타",
          "B35_백선증",
          "J01_급성부비동염",
          "H04_눈물계통의장애",
          "J00_급성비인두염[감기]",
          "M17_무릎관절증"
         ]
        },
        {
         "marker": {
          "color": "#FEA1A1"
         },
         "name": "여자",
         "textinfo": "value+percent previous",
         "textposition": "inside",
         "type": "funnel",
         "x": [
          4938349,
          3007884,
          2362443,
          2651410,
          2636940,
          2509948,
          2351878,
          2129011,
          1987760,
          1738986,
          1595272,
          1437350,
          1185294,
          1396027,
          1239278,
          929268,
          1096967,
          1408348,
          1149925,
          1428942
         ],
         "y": [
          "J20_급성기관지염",
          "I10_본태성(원발성)고혈압",
          "K05_치은염및치주질환",
          "J30_혈관운동성및앨러지성비염",
          "K29_위염및십이지장염",
          "K21_위-식도역류병",
          "L23_앨러지성접촉피부염",
          "H10_결막염",
          "M54_등통증",
          "J06_다발성및상세불명부위의급성상기도감염",
          "J03_급성편도염",
          "A09_감염성및상세불명기원의기타위장염및결장염",
          "E11_2형당뇨병",
          "J02_급성인두염",
          "ZZ_양방기타",
          "B35_백선증",
          "J01_급성부비동염",
          "H04_눈물계통의장애",
          "J00_급성비인두염[감기]",
          "M17_무릎관절증"
         ]
        }
       ],
       "layout": {
        "funnelmode": "stack",
        "margin": {
         "b": 50,
         "l": 50,
         "r": 50,
         "t": 50
        },
        "shapes": [
         {
          "line": {
           "color": "black",
           "width": 2
          },
          "type": "line",
          "x0": 0.5,
          "x1": 0.5,
          "xref": "paper",
          "y0": 0.993,
          "y1": 0.007,
          "yref": "paper"
         }
        ],
        "showlegend": true,
        "template": {
         "data": {
          "bar": [
           {
            "error_x": {
             "color": "#2a3f5f"
            },
            "error_y": {
             "color": "#2a3f5f"
            },
            "marker": {
             "line": {
              "color": "#E5ECF6",
              "width": 0.5
             },
             "pattern": {
              "fillmode": "overlay",
              "size": 10,
              "solidity": 0.2
             }
            },
            "type": "bar"
           }
          ],
          "barpolar": [
           {
            "marker": {
             "line": {
              "color": "#E5ECF6",
              "width": 0.5
             },
             "pattern": {
              "fillmode": "overlay",
              "size": 10,
              "solidity": 0.2
             }
            },
            "type": "barpolar"
           }
          ],
          "carpet": [
           {
            "aaxis": {
             "endlinecolor": "#2a3f5f",
             "gridcolor": "white",
             "linecolor": "white",
             "minorgridcolor": "white",
             "startlinecolor": "#2a3f5f"
            },
            "baxis": {
             "endlinecolor": "#2a3f5f",
             "gridcolor": "white",
             "linecolor": "white",
             "minorgridcolor": "white",
             "startlinecolor": "#2a3f5f"
            },
            "type": "carpet"
           }
          ],
          "choropleth": [
           {
            "colorbar": {
             "outlinewidth": 0,
             "ticks": ""
            },
            "type": "choropleth"
           }
          ],
          "contour": [
           {
            "colorbar": {
             "outlinewidth": 0,
             "ticks": ""
            },
            "colorscale": [
             [
              0,
              "#0d0887"
             ],
             [
              0.1111111111111111,
              "#46039f"
             ],
             [
              0.2222222222222222,
              "#7201a8"
             ],
             [
              0.3333333333333333,
              "#9c179e"
             ],
             [
              0.4444444444444444,
              "#bd3786"
             ],
             [
              0.5555555555555556,
              "#d8576b"
             ],
             [
              0.6666666666666666,
              "#ed7953"
             ],
             [
              0.7777777777777778,
              "#fb9f3a"
             ],
             [
              0.8888888888888888,
              "#fdca26"
             ],
             [
              1,
              "#f0f921"
             ]
            ],
            "type": "contour"
           }
          ],
          "contourcarpet": [
           {
            "colorbar": {
             "outlinewidth": 0,
             "ticks": ""
            },
            "type": "contourcarpet"
           }
          ],
          "heatmap": [
           {
            "colorbar": {
             "outlinewidth": 0,
             "ticks": ""
            },
            "colorscale": [
             [
              0,
              "#0d0887"
             ],
             [
              0.1111111111111111,
              "#46039f"
             ],
             [
              0.2222222222222222,
              "#7201a8"
             ],
             [
              0.3333333333333333,
              "#9c179e"
             ],
             [
              0.4444444444444444,
              "#bd3786"
             ],
             [
              0.5555555555555556,
              "#d8576b"
             ],
             [
              0.6666666666666666,
              "#ed7953"
             ],
             [
              0.7777777777777778,
              "#fb9f3a"
             ],
             [
              0.8888888888888888,
              "#fdca26"
             ],
             [
              1,
              "#f0f921"
             ]
            ],
            "type": "heatmap"
           }
          ],
          "heatmapgl": [
           {
            "colorbar": {
             "outlinewidth": 0,
             "ticks": ""
            },
            "colorscale": [
             [
              0,
              "#0d0887"
             ],
             [
              0.1111111111111111,
              "#46039f"
             ],
             [
              0.2222222222222222,
              "#7201a8"
             ],
             [
              0.3333333333333333,
              "#9c179e"
             ],
             [
              0.4444444444444444,
              "#bd3786"
             ],
             [
              0.5555555555555556,
              "#d8576b"
             ],
             [
              0.6666666666666666,
              "#ed7953"
             ],
             [
              0.7777777777777778,
              "#fb9f3a"
             ],
             [
              0.8888888888888888,
              "#fdca26"
             ],
             [
              1,
              "#f0f921"
             ]
            ],
            "type": "heatmapgl"
           }
          ],
          "histogram": [
           {
            "marker": {
             "pattern": {
              "fillmode": "overlay",
              "size": 10,
              "solidity": 0.2
             }
            },
            "type": "histogram"
           }
          ],
          "histogram2d": [
           {
            "colorbar": {
             "outlinewidth": 0,
             "ticks": ""
            },
            "colorscale": [
             [
              0,
              "#0d0887"
             ],
             [
              0.1111111111111111,
              "#46039f"
             ],
             [
              0.2222222222222222,
              "#7201a8"
             ],
             [
              0.3333333333333333,
              "#9c179e"
             ],
             [
              0.4444444444444444,
              "#bd3786"
             ],
             [
              0.5555555555555556,
              "#d8576b"
             ],
             [
              0.6666666666666666,
              "#ed7953"
             ],
             [
              0.7777777777777778,
              "#fb9f3a"
             ],
             [
              0.8888888888888888,
              "#fdca26"
             ],
             [
              1,
              "#f0f921"
             ]
            ],
            "type": "histogram2d"
           }
          ],
          "histogram2dcontour": [
           {
            "colorbar": {
             "outlinewidth": 0,
             "ticks": ""
            },
            "colorscale": [
             [
              0,
              "#0d0887"
             ],
             [
              0.1111111111111111,
              "#46039f"
             ],
             [
              0.2222222222222222,
              "#7201a8"
             ],
             [
              0.3333333333333333,
              "#9c179e"
             ],
             [
              0.4444444444444444,
              "#bd3786"
             ],
             [
              0.5555555555555556,
              "#d8576b"
             ],
             [
              0.6666666666666666,
              "#ed7953"
             ],
             [
              0.7777777777777778,
              "#fb9f3a"
             ],
             [
              0.8888888888888888,
              "#fdca26"
             ],
             [
              1,
              "#f0f921"
             ]
            ],
            "type": "histogram2dcontour"
           }
          ],
          "mesh3d": [
           {
            "colorbar": {
             "outlinewidth": 0,
             "ticks": ""
            },
            "type": "mesh3d"
           }
          ],
          "parcoords": [
           {
            "line": {
             "colorbar": {
              "outlinewidth": 0,
              "ticks": ""
             }
            },
            "type": "parcoords"
           }
          ],
          "pie": [
           {
            "automargin": true,
            "type": "pie"
           }
          ],
          "scatter": [
           {
            "fillpattern": {
             "fillmode": "overlay",
             "size": 10,
             "solidity": 0.2
            },
            "type": "scatter"
           }
          ],
          "scatter3d": [
           {
            "line": {
             "colorbar": {
              "outlinewidth": 0,
              "ticks": ""
             }
            },
            "marker": {
             "colorbar": {
              "outlinewidth": 0,
              "ticks": ""
             }
            },
            "type": "scatter3d"
           }
          ],
          "scattercarpet": [
           {
            "marker": {
             "colorbar": {
              "outlinewidth": 0,
              "ticks": ""
             }
            },
            "type": "scattercarpet"
           }
          ],
          "scattergeo": [
           {
            "marker": {
             "colorbar": {
              "outlinewidth": 0,
              "ticks": ""
             }
            },
            "type": "scattergeo"
           }
          ],
          "scattergl": [
           {
            "marker": {
             "colorbar": {
              "outlinewidth": 0,
              "ticks": ""
             }
            },
            "type": "scattergl"
           }
          ],
          "scattermapbox": [
           {
            "marker": {
             "colorbar": {
              "outlinewidth": 0,
              "ticks": ""
             }
            },
            "type": "scattermapbox"
           }
          ],
          "scatterpolar": [
           {
            "marker": {
             "colorbar": {
              "outlinewidth": 0,
              "ticks": ""
             }
            },
            "type": "scatterpolar"
           }
          ],
          "scatterpolargl": [
           {
            "marker": {
             "colorbar": {
              "outlinewidth": 0,
              "ticks": ""
             }
            },
            "type": "scatterpolargl"
           }
          ],
          "scatterternary": [
           {
            "marker": {
             "colorbar": {
              "outlinewidth": 0,
              "ticks": ""
             }
            },
            "type": "scatterternary"
           }
          ],
          "surface": [
           {
            "colorbar": {
             "outlinewidth": 0,
             "ticks": ""
            },
            "colorscale": [
             [
              0,
              "#0d0887"
             ],
             [
              0.1111111111111111,
              "#46039f"
             ],
             [
              0.2222222222222222,
              "#7201a8"
             ],
             [
              0.3333333333333333,
              "#9c179e"
             ],
             [
              0.4444444444444444,
              "#bd3786"
             ],
             [
              0.5555555555555556,
              "#d8576b"
             ],
             [
              0.6666666666666666,
              "#ed7953"
             ],
             [
              0.7777777777777778,
              "#fb9f3a"
             ],
             [
              0.8888888888888888,
              "#fdca26"
             ],
             [
              1,
              "#f0f921"
             ]
            ],
            "type": "surface"
           }
          ],
          "table": [
           {
            "cells": {
             "fill": {
              "color": "#EBF0F8"
             },
             "line": {
              "color": "white"
             }
            },
            "header": {
             "fill": {
              "color": "#C8D4E3"
             },
             "line": {
              "color": "white"
             }
            },
            "type": "table"
           }
          ]
         },
         "layout": {
          "annotationdefaults": {
           "arrowcolor": "#2a3f5f",
           "arrowhead": 0,
           "arrowwidth": 1
          },
          "autotypenumbers": "strict",
          "coloraxis": {
           "colorbar": {
            "outlinewidth": 0,
            "ticks": ""
           }
          },
          "colorscale": {
           "diverging": [
            [
             0,
             "#8e0152"
            ],
            [
             0.1,
             "#c51b7d"
            ],
            [
             0.2,
             "#de77ae"
            ],
            [
             0.3,
             "#f1b6da"
            ],
            [
             0.4,
             "#fde0ef"
            ],
            [
             0.5,
             "#f7f7f7"
            ],
            [
             0.6,
             "#e6f5d0"
            ],
            [
             0.7,
             "#b8e186"
            ],
            [
             0.8,
             "#7fbc41"
            ],
            [
             0.9,
             "#4d9221"
            ],
            [
             1,
             "#276419"
            ]
           ],
           "sequential": [
            [
             0,
             "#0d0887"
            ],
            [
             0.1111111111111111,
             "#46039f"
            ],
            [
             0.2222222222222222,
             "#7201a8"
            ],
            [
             0.3333333333333333,
             "#9c179e"
            ],
            [
             0.4444444444444444,
             "#bd3786"
            ],
            [
             0.5555555555555556,
             "#d8576b"
            ],
            [
             0.6666666666666666,
             "#ed7953"
            ],
            [
             0.7777777777777778,
             "#fb9f3a"
            ],
            [
             0.8888888888888888,
             "#fdca26"
            ],
            [
             1,
             "#f0f921"
            ]
           ],
           "sequentialminus": [
            [
             0,
             "#0d0887"
            ],
            [
             0.1111111111111111,
             "#46039f"
            ],
            [
             0.2222222222222222,
             "#7201a8"
            ],
            [
             0.3333333333333333,
             "#9c179e"
            ],
            [
             0.4444444444444444,
             "#bd3786"
            ],
            [
             0.5555555555555556,
             "#d8576b"
            ],
            [
             0.6666666666666666,
             "#ed7953"
            ],
            [
             0.7777777777777778,
             "#fb9f3a"
            ],
            [
             0.8888888888888888,
             "#fdca26"
            ],
            [
             1,
             "#f0f921"
            ]
           ]
          },
          "colorway": [
           "#636efa",
           "#EF553B",
           "#00cc96",
           "#ab63fa",
           "#FFA15A",
           "#19d3f3",
           "#FF6692",
           "#B6E880",
           "#FF97FF",
           "#FECB52"
          ],
          "font": {
           "color": "#2a3f5f"
          },
          "geo": {
           "bgcolor": "white",
           "lakecolor": "white",
           "landcolor": "#E5ECF6",
           "showlakes": true,
           "showland": true,
           "subunitcolor": "white"
          },
          "hoverlabel": {
           "align": "left"
          },
          "hovermode": "closest",
          "mapbox": {
           "style": "light"
          },
          "paper_bgcolor": "white",
          "plot_bgcolor": "#E5ECF6",
          "polar": {
           "angularaxis": {
            "gridcolor": "white",
            "linecolor": "white",
            "ticks": ""
           },
           "bgcolor": "#E5ECF6",
           "radialaxis": {
            "gridcolor": "white",
            "linecolor": "white",
            "ticks": ""
           }
          },
          "scene": {
           "xaxis": {
            "backgroundcolor": "#E5ECF6",
            "gridcolor": "white",
            "gridwidth": 2,
            "linecolor": "white",
            "showbackground": true,
            "ticks": "",
            "zerolinecolor": "white"
           },
           "yaxis": {
            "backgroundcolor": "#E5ECF6",
            "gridcolor": "white",
            "gridwidth": 2,
            "linecolor": "white",
            "showbackground": true,
            "ticks": "",
            "zerolinecolor": "white"
           },
           "zaxis": {
            "backgroundcolor": "#E5ECF6",
            "gridcolor": "white",
            "gridwidth": 2,
            "linecolor": "white",
            "showbackground": true,
            "ticks": "",
            "zerolinecolor": "white"
           }
          },
          "shapedefaults": {
           "line": {
            "color": "#2a3f5f"
           }
          },
          "ternary": {
           "aaxis": {
            "gridcolor": "white",
            "linecolor": "white",
            "ticks": ""
           },
           "baxis": {
            "gridcolor": "white",
            "linecolor": "white",
            "ticks": ""
           },
           "bgcolor": "#E5ECF6",
           "caxis": {
            "gridcolor": "white",
            "linecolor": "white",
            "ticks": ""
           }
          },
          "title": {
           "x": 0.05
          },
          "xaxis": {
           "automargin": true,
           "gridcolor": "white",
           "linecolor": "white",
           "ticks": "",
           "title": {
            "standoff": 15
           },
           "zerolinecolor": "white",
           "zerolinewidth": 2
          },
          "yaxis": {
           "automargin": true,
           "gridcolor": "white",
           "linecolor": "white",
           "ticks": "",
           "title": {
            "standoff": 15
           },
           "zerolinecolor": "white",
           "zerolinewidth": 2
          }
         }
        },
        "title": {
         "text": "2020 질병별 약국처방조제 진료실인원 Funnel Plot"
        }
       }
      }
     },
     "metadata": {},
     "output_type": "display_data"
    }
   ],
   "source": [
    "# Funnel Plot 그리기\n",
    "fig = ply.Figure()\n",
    "\n",
    "# fig.add_trace(ply.Funnel(\n",
    "#     name='전체',\n",
    "#     y=df_2020['상병명'],\n",
    "#     x=df_2020['2020진료실인원_계'],\n",
    "#     textposition=\"inside\",\n",
    "#     textinfo=\"value+percent initial\"))\n",
    "\n",
    "fig.add_trace(ply.Funnel(\n",
    "    name='남자',\n",
    "    y=df_2020['상병명'],\n",
    "    x=df_2020['2020진료실인원_남자'],\n",
    "    textposition=\"inside\",\n",
    "    textinfo=\"value+percent previous\",\n",
    "    marker=dict(color=\"#4A55A2\"\n",
    "    )))\n",
    "\n",
    "fig.add_trace(ply.Funnel(\n",
    "    name='여자',\n",
    "    y=df_2020['상병명'],\n",
    "    x=df_2020['2020진료실인원_여자'],\n",
    "    textposition=\"inside\",\n",
    "    textinfo=\"value+percent previous\",\n",
    "    marker=dict(color=\"#FEA1A1\"\n",
    "    )))\n",
    "\n",
    "# 가운데 일직선의 선 추가\n",
    "fig.add_shape(\n",
    "    type='line',\n",
    "    x0=0.5, x1=0.5,\n",
    "    y0=0.993, y1=0.007,\n",
    "    xref='paper', yref='paper',\n",
    "    line=dict(color='black', width=2)\n",
    ")\n",
    "# 그래프 레이아웃 설정\n",
    "fig.update_layout(title=\"2020 질병별 약국처방조제 진료실인원 Funnel Plot\",\n",
    "                  funnelmode=\"stack\",\n",
    "                  showlegend=True,\n",
    "                  margin=dict(l=50, r=50, t=50, b=50))\n",
    "\n",
    "# 그래프 출력\n",
    "fig.show()"
   ]
  },
  {
   "cell_type": "code",
   "execution_count": 29,
   "metadata": {},
   "outputs": [
    {
     "data": {
      "application/vnd.plotly.v1+json": {
       "config": {
        "plotlyServerURL": "https://plot.ly"
       },
       "data": [
        {
         "marker": {
          "color": "#4A55A2"
         },
         "name": "남자",
         "textinfo": "value+percent previous",
         "textposition": "inside",
         "type": "funnel",
         "x": [
          3158706,
          3213180,
          2901054,
          2371675,
          1923658,
          1920834,
          1732012,
          1667653,
          1513943,
          1419204,
          1595972,
          1072876,
          1049851,
          779235,
          887126,
          694075,
          938495,
          893717,
          907558,
          1118156
         ],
         "y": [
          "J20_급성기관지염",
          "I10_본태성(원발성)고혈압",
          "K05_치은염및치주질환",
          "J30_혈관운동성및앨러지성비염",
          "K29_위염및십이지장염",
          "K21_위-식도역류병",
          "L23_앨러지성접촉피부염",
          "M54_등통증",
          "H10_결막염",
          "A09_감염성및상세불명기원의기타위장염및결장염",
          "E11_2형당뇨병",
          "J06_다발성및상세불명부위의급성상기도감염",
          "J03_급성편도염",
          "H04_눈물계통의장애",
          "E78_지질단백질대사장애및기타지질증",
          "M17_무릎관절증",
          "J02_급성인두염",
          "L50_두드러기",
          "ZZ_양방기타",
          "B35_백선증"
         ]
        },
        {
         "marker": {
          "color": "#FEA1A1"
         },
         "name": "여자",
         "textinfo": "value+percent previous",
         "textposition": "inside",
         "type": "funnel",
         "x": [
          3835872,
          3145913,
          2499374,
          2532884,
          2838965,
          2692829,
          2365850,
          2127276,
          2175107,
          1585918,
          1255314,
          1385769,
          1391446,
          1615446,
          1344102,
          1508819,
          1253834,
          1164512,
          1106233,
          892474
         ],
         "y": [
          "J20_급성기관지염",
          "I10_본태성(원발성)고혈압",
          "K05_치은염및치주질환",
          "J30_혈관운동성및앨러지성비염",
          "K29_위염및십이지장염",
          "K21_위-식도역류병",
          "L23_앨러지성접촉피부염",
          "M54_등통증",
          "H10_결막염",
          "A09_감염성및상세불명기원의기타위장염및결장염",
          "E11_2형당뇨병",
          "J06_다발성및상세불명부위의급성상기도감염",
          "J03_급성편도염",
          "H04_눈물계통의장애",
          "E78_지질단백질대사장애및기타지질증",
          "M17_무릎관절증",
          "J02_급성인두염",
          "L50_두드러기",
          "ZZ_양방기타",
          "B35_백선증"
         ]
        }
       ],
       "layout": {
        "funnelmode": "stack",
        "margin": {
         "b": 50,
         "l": 50,
         "r": 50,
         "t": 50
        },
        "shapes": [
         {
          "line": {
           "color": "black",
           "width": 2
          },
          "type": "line",
          "x0": 0.5,
          "x1": 0.5,
          "xref": "paper",
          "y0": 0.993,
          "y1": 0.007,
          "yref": "paper"
         }
        ],
        "showlegend": true,
        "template": {
         "data": {
          "bar": [
           {
            "error_x": {
             "color": "#2a3f5f"
            },
            "error_y": {
             "color": "#2a3f5f"
            },
            "marker": {
             "line": {
              "color": "#E5ECF6",
              "width": 0.5
             },
             "pattern": {
              "fillmode": "overlay",
              "size": 10,
              "solidity": 0.2
             }
            },
            "type": "bar"
           }
          ],
          "barpolar": [
           {
            "marker": {
             "line": {
              "color": "#E5ECF6",
              "width": 0.5
             },
             "pattern": {
              "fillmode": "overlay",
              "size": 10,
              "solidity": 0.2
             }
            },
            "type": "barpolar"
           }
          ],
          "carpet": [
           {
            "aaxis": {
             "endlinecolor": "#2a3f5f",
             "gridcolor": "white",
             "linecolor": "white",
             "minorgridcolor": "white",
             "startlinecolor": "#2a3f5f"
            },
            "baxis": {
             "endlinecolor": "#2a3f5f",
             "gridcolor": "white",
             "linecolor": "white",
             "minorgridcolor": "white",
             "startlinecolor": "#2a3f5f"
            },
            "type": "carpet"
           }
          ],
          "choropleth": [
           {
            "colorbar": {
             "outlinewidth": 0,
             "ticks": ""
            },
            "type": "choropleth"
           }
          ],
          "contour": [
           {
            "colorbar": {
             "outlinewidth": 0,
             "ticks": ""
            },
            "colorscale": [
             [
              0,
              "#0d0887"
             ],
             [
              0.1111111111111111,
              "#46039f"
             ],
             [
              0.2222222222222222,
              "#7201a8"
             ],
             [
              0.3333333333333333,
              "#9c179e"
             ],
             [
              0.4444444444444444,
              "#bd3786"
             ],
             [
              0.5555555555555556,
              "#d8576b"
             ],
             [
              0.6666666666666666,
              "#ed7953"
             ],
             [
              0.7777777777777778,
              "#fb9f3a"
             ],
             [
              0.8888888888888888,
              "#fdca26"
             ],
             [
              1,
              "#f0f921"
             ]
            ],
            "type": "contour"
           }
          ],
          "contourcarpet": [
           {
            "colorbar": {
             "outlinewidth": 0,
             "ticks": ""
            },
            "type": "contourcarpet"
           }
          ],
          "heatmap": [
           {
            "colorbar": {
             "outlinewidth": 0,
             "ticks": ""
            },
            "colorscale": [
             [
              0,
              "#0d0887"
             ],
             [
              0.1111111111111111,
              "#46039f"
             ],
             [
              0.2222222222222222,
              "#7201a8"
             ],
             [
              0.3333333333333333,
              "#9c179e"
             ],
             [
              0.4444444444444444,
              "#bd3786"
             ],
             [
              0.5555555555555556,
              "#d8576b"
             ],
             [
              0.6666666666666666,
              "#ed7953"
             ],
             [
              0.7777777777777778,
              "#fb9f3a"
             ],
             [
              0.8888888888888888,
              "#fdca26"
             ],
             [
              1,
              "#f0f921"
             ]
            ],
            "type": "heatmap"
           }
          ],
          "heatmapgl": [
           {
            "colorbar": {
             "outlinewidth": 0,
             "ticks": ""
            },
            "colorscale": [
             [
              0,
              "#0d0887"
             ],
             [
              0.1111111111111111,
              "#46039f"
             ],
             [
              0.2222222222222222,
              "#7201a8"
             ],
             [
              0.3333333333333333,
              "#9c179e"
             ],
             [
              0.4444444444444444,
              "#bd3786"
             ],
             [
              0.5555555555555556,
              "#d8576b"
             ],
             [
              0.6666666666666666,
              "#ed7953"
             ],
             [
              0.7777777777777778,
              "#fb9f3a"
             ],
             [
              0.8888888888888888,
              "#fdca26"
             ],
             [
              1,
              "#f0f921"
             ]
            ],
            "type": "heatmapgl"
           }
          ],
          "histogram": [
           {
            "marker": {
             "pattern": {
              "fillmode": "overlay",
              "size": 10,
              "solidity": 0.2
             }
            },
            "type": "histogram"
           }
          ],
          "histogram2d": [
           {
            "colorbar": {
             "outlinewidth": 0,
             "ticks": ""
            },
            "colorscale": [
             [
              0,
              "#0d0887"
             ],
             [
              0.1111111111111111,
              "#46039f"
             ],
             [
              0.2222222222222222,
              "#7201a8"
             ],
             [
              0.3333333333333333,
              "#9c179e"
             ],
             [
              0.4444444444444444,
              "#bd3786"
             ],
             [
              0.5555555555555556,
              "#d8576b"
             ],
             [
              0.6666666666666666,
              "#ed7953"
             ],
             [
              0.7777777777777778,
              "#fb9f3a"
             ],
             [
              0.8888888888888888,
              "#fdca26"
             ],
             [
              1,
              "#f0f921"
             ]
            ],
            "type": "histogram2d"
           }
          ],
          "histogram2dcontour": [
           {
            "colorbar": {
             "outlinewidth": 0,
             "ticks": ""
            },
            "colorscale": [
             [
              0,
              "#0d0887"
             ],
             [
              0.1111111111111111,
              "#46039f"
             ],
             [
              0.2222222222222222,
              "#7201a8"
             ],
             [
              0.3333333333333333,
              "#9c179e"
             ],
             [
              0.4444444444444444,
              "#bd3786"
             ],
             [
              0.5555555555555556,
              "#d8576b"
             ],
             [
              0.6666666666666666,
              "#ed7953"
             ],
             [
              0.7777777777777778,
              "#fb9f3a"
             ],
             [
              0.8888888888888888,
              "#fdca26"
             ],
             [
              1,
              "#f0f921"
             ]
            ],
            "type": "histogram2dcontour"
           }
          ],
          "mesh3d": [
           {
            "colorbar": {
             "outlinewidth": 0,
             "ticks": ""
            },
            "type": "mesh3d"
           }
          ],
          "parcoords": [
           {
            "line": {
             "colorbar": {
              "outlinewidth": 0,
              "ticks": ""
             }
            },
            "type": "parcoords"
           }
          ],
          "pie": [
           {
            "automargin": true,
            "type": "pie"
           }
          ],
          "scatter": [
           {
            "fillpattern": {
             "fillmode": "overlay",
             "size": 10,
             "solidity": 0.2
            },
            "type": "scatter"
           }
          ],
          "scatter3d": [
           {
            "line": {
             "colorbar": {
              "outlinewidth": 0,
              "ticks": ""
             }
            },
            "marker": {
             "colorbar": {
              "outlinewidth": 0,
              "ticks": ""
             }
            },
            "type": "scatter3d"
           }
          ],
          "scattercarpet": [
           {
            "marker": {
             "colorbar": {
              "outlinewidth": 0,
              "ticks": ""
             }
            },
            "type": "scattercarpet"
           }
          ],
          "scattergeo": [
           {
            "marker": {
             "colorbar": {
              "outlinewidth": 0,
              "ticks": ""
             }
            },
            "type": "scattergeo"
           }
          ],
          "scattergl": [
           {
            "marker": {
             "colorbar": {
              "outlinewidth": 0,
              "ticks": ""
             }
            },
            "type": "scattergl"
           }
          ],
          "scattermapbox": [
           {
            "marker": {
             "colorbar": {
              "outlinewidth": 0,
              "ticks": ""
             }
            },
            "type": "scattermapbox"
           }
          ],
          "scatterpolar": [
           {
            "marker": {
             "colorbar": {
              "outlinewidth": 0,
              "ticks": ""
             }
            },
            "type": "scatterpolar"
           }
          ],
          "scatterpolargl": [
           {
            "marker": {
             "colorbar": {
              "outlinewidth": 0,
              "ticks": ""
             }
            },
            "type": "scatterpolargl"
           }
          ],
          "scatterternary": [
           {
            "marker": {
             "colorbar": {
              "outlinewidth": 0,
              "ticks": ""
             }
            },
            "type": "scatterternary"
           }
          ],
          "surface": [
           {
            "colorbar": {
             "outlinewidth": 0,
             "ticks": ""
            },
            "colorscale": [
             [
              0,
              "#0d0887"
             ],
             [
              0.1111111111111111,
              "#46039f"
             ],
             [
              0.2222222222222222,
              "#7201a8"
             ],
             [
              0.3333333333333333,
              "#9c179e"
             ],
             [
              0.4444444444444444,
              "#bd3786"
             ],
             [
              0.5555555555555556,
              "#d8576b"
             ],
             [
              0.6666666666666666,
              "#ed7953"
             ],
             [
              0.7777777777777778,
              "#fb9f3a"
             ],
             [
              0.8888888888888888,
              "#fdca26"
             ],
             [
              1,
              "#f0f921"
             ]
            ],
            "type": "surface"
           }
          ],
          "table": [
           {
            "cells": {
             "fill": {
              "color": "#EBF0F8"
             },
             "line": {
              "color": "white"
             }
            },
            "header": {
             "fill": {
              "color": "#C8D4E3"
             },
             "line": {
              "color": "white"
             }
            },
            "type": "table"
           }
          ]
         },
         "layout": {
          "annotationdefaults": {
           "arrowcolor": "#2a3f5f",
           "arrowhead": 0,
           "arrowwidth": 1
          },
          "autotypenumbers": "strict",
          "coloraxis": {
           "colorbar": {
            "outlinewidth": 0,
            "ticks": ""
           }
          },
          "colorscale": {
           "diverging": [
            [
             0,
             "#8e0152"
            ],
            [
             0.1,
             "#c51b7d"
            ],
            [
             0.2,
             "#de77ae"
            ],
            [
             0.3,
             "#f1b6da"
            ],
            [
             0.4,
             "#fde0ef"
            ],
            [
             0.5,
             "#f7f7f7"
            ],
            [
             0.6,
             "#e6f5d0"
            ],
            [
             0.7,
             "#b8e186"
            ],
            [
             0.8,
             "#7fbc41"
            ],
            [
             0.9,
             "#4d9221"
            ],
            [
             1,
             "#276419"
            ]
           ],
           "sequential": [
            [
             0,
             "#0d0887"
            ],
            [
             0.1111111111111111,
             "#46039f"
            ],
            [
             0.2222222222222222,
             "#7201a8"
            ],
            [
             0.3333333333333333,
             "#9c179e"
            ],
            [
             0.4444444444444444,
             "#bd3786"
            ],
            [
             0.5555555555555556,
             "#d8576b"
            ],
            [
             0.6666666666666666,
             "#ed7953"
            ],
            [
             0.7777777777777778,
             "#fb9f3a"
            ],
            [
             0.8888888888888888,
             "#fdca26"
            ],
            [
             1,
             "#f0f921"
            ]
           ],
           "sequentialminus": [
            [
             0,
             "#0d0887"
            ],
            [
             0.1111111111111111,
             "#46039f"
            ],
            [
             0.2222222222222222,
             "#7201a8"
            ],
            [
             0.3333333333333333,
             "#9c179e"
            ],
            [
             0.4444444444444444,
             "#bd3786"
            ],
            [
             0.5555555555555556,
             "#d8576b"
            ],
            [
             0.6666666666666666,
             "#ed7953"
            ],
            [
             0.7777777777777778,
             "#fb9f3a"
            ],
            [
             0.8888888888888888,
             "#fdca26"
            ],
            [
             1,
             "#f0f921"
            ]
           ]
          },
          "colorway": [
           "#636efa",
           "#EF553B",
           "#00cc96",
           "#ab63fa",
           "#FFA15A",
           "#19d3f3",
           "#FF6692",
           "#B6E880",
           "#FF97FF",
           "#FECB52"
          ],
          "font": {
           "color": "#2a3f5f"
          },
          "geo": {
           "bgcolor": "white",
           "lakecolor": "white",
           "landcolor": "#E5ECF6",
           "showlakes": true,
           "showland": true,
           "subunitcolor": "white"
          },
          "hoverlabel": {
           "align": "left"
          },
          "hovermode": "closest",
          "mapbox": {
           "style": "light"
          },
          "paper_bgcolor": "white",
          "plot_bgcolor": "#E5ECF6",
          "polar": {
           "angularaxis": {
            "gridcolor": "white",
            "linecolor": "white",
            "ticks": ""
           },
           "bgcolor": "#E5ECF6",
           "radialaxis": {
            "gridcolor": "white",
            "linecolor": "white",
            "ticks": ""
           }
          },
          "scene": {
           "xaxis": {
            "backgroundcolor": "#E5ECF6",
            "gridcolor": "white",
            "gridwidth": 2,
            "linecolor": "white",
            "showbackground": true,
            "ticks": "",
            "zerolinecolor": "white"
           },
           "yaxis": {
            "backgroundcolor": "#E5ECF6",
            "gridcolor": "white",
            "gridwidth": 2,
            "linecolor": "white",
            "showbackground": true,
            "ticks": "",
            "zerolinecolor": "white"
           },
           "zaxis": {
            "backgroundcolor": "#E5ECF6",
            "gridcolor": "white",
            "gridwidth": 2,
            "linecolor": "white",
            "showbackground": true,
            "ticks": "",
            "zerolinecolor": "white"
           }
          },
          "shapedefaults": {
           "line": {
            "color": "#2a3f5f"
           }
          },
          "ternary": {
           "aaxis": {
            "gridcolor": "white",
            "linecolor": "white",
            "ticks": ""
           },
           "baxis": {
            "gridcolor": "white",
            "linecolor": "white",
            "ticks": ""
           },
           "bgcolor": "#E5ECF6",
           "caxis": {
            "gridcolor": "white",
            "linecolor": "white",
            "ticks": ""
           }
          },
          "title": {
           "x": 0.05
          },
          "xaxis": {
           "automargin": true,
           "gridcolor": "white",
           "linecolor": "white",
           "ticks": "",
           "title": {
            "standoff": 15
           },
           "zerolinecolor": "white",
           "zerolinewidth": 2
          },
          "yaxis": {
           "automargin": true,
           "gridcolor": "white",
           "linecolor": "white",
           "ticks": "",
           "title": {
            "standoff": 15
           },
           "zerolinecolor": "white",
           "zerolinewidth": 2
          }
         }
        },
        "title": {
         "text": "2021 질병별 약국처방조제 진료실인원 Funnel Plot"
        }
       }
      }
     },
     "metadata": {},
     "output_type": "display_data"
    }
   ],
   "source": [
    "# Funnel Plot 그리기\n",
    "fig = ply.Figure()\n",
    "\n",
    "# fig.add_trace(ply.Funnel(\n",
    "#     name='전체',\n",
    "#     y=df_2021['상병명'],\n",
    "#     x=df_2021['2021진료실인원_계'],\n",
    "#     textposition=\"inside\",\n",
    "#     textinfo=\"value+percent initial\"))\n",
    "\n",
    "fig.add_trace(ply.Funnel(\n",
    "    name='남자',\n",
    "    y=df_2021['상병명'],\n",
    "    x=df_2021['2021진료실인원_남자'],\n",
    "    textposition=\"inside\",\n",
    "    textinfo=\"value+percent previous\",\n",
    "    marker=dict(color=\"#4A55A2\"\n",
    "    )))\n",
    "\n",
    "fig.add_trace(ply.Funnel(\n",
    "    name='여자',\n",
    "    y=df_2021['상병명'],\n",
    "    x=df_2021['2021진료실인원_여자'],\n",
    "    textposition=\"inside\",\n",
    "    textinfo=\"value+percent previous\",\n",
    "    marker=dict(color=\"#FEA1A1\"\n",
    "    )))\n",
    "\n",
    "# 가운데 일직선의 선 추가\n",
    "fig.add_shape(\n",
    "    type='line',\n",
    "    x0=0.5, x1=0.5,\n",
    "    y0=0.993, y1=0.007,\n",
    "    xref='paper', yref='paper',\n",
    "    line=dict(color='black', width=2)\n",
    ")\n",
    "\n",
    "# 그래프 레이아웃 설정\n",
    "fig.update_layout(title=\"2021 질병별 약국처방조제 진료실인원 Funnel Plot\",\n",
    "                  funnelmode=\"stack\",\n",
    "                  showlegend=True,\n",
    "                  margin=dict(l=50, r=50, t=50, b=50))\n",
    "\n",
    "# 그래프 출력\n",
    "fig.show()"
   ]
  },
  {
   "cell_type": "code",
   "execution_count": 1,
   "metadata": {},
   "outputs": [
    {
     "name": "stdout",
     "output_type": "stream",
     "text": [
      "-27.936316723371696\n",
      "5.491551459293395\n",
      "5.511895329664447\n",
      "8.09977066547602\n",
      "15.32930309402223\n"
     ]
    }
   ],
   "source": [
    "m=[44268, 46699, 49273, 53264, 61429]\n",
    "for i in range(0,len(m),1):\n",
    "    print(((m[i]-m[i-1])/m[i-1])*100)"
   ]
  }
 ],
 "metadata": {
  "kernelspec": {
   "display_name": "busan_env",
   "language": "python",
   "name": "python3"
  },
  "language_info": {
   "codemirror_mode": {
    "name": "ipython",
    "version": 3
   },
   "file_extension": ".py",
   "mimetype": "text/x-python",
   "name": "python",
   "nbconvert_exporter": "python",
   "pygments_lexer": "ipython3",
   "version": "3.9.16"
  },
  "orig_nbformat": 4
 },
 "nbformat": 4,
 "nbformat_minor": 2
}
