{
 "cells": [
  {
   "cell_type": "markdown",
   "id": "c242f542",
   "metadata": {},
   "source": [
    "# numpy"
   ]
  },
  {
   "cell_type": "code",
   "execution_count": null,
   "id": "ca9551ef",
   "metadata": {},
   "outputs": [],
   "source": [
    "np.percentile(data,%)"
   ]
  },
  {
   "cell_type": "code",
   "execution_count": null,
   "id": "6c634a2b",
   "metadata": {},
   "outputs": [],
   "source": []
  },
  {
   "cell_type": "markdown",
   "id": "564925b2",
   "metadata": {},
   "source": [
    "# 함수"
   ]
  },
  {
   "cell_type": "code",
   "execution_count": 4,
   "id": "4de1b67f",
   "metadata": {
    "collapsed": true
   },
   "outputs": [
    {
     "name": "stdout",
     "output_type": "stream",
     "text": [
      "0 a\n",
      "1 b\n",
      "2 c\n",
      "3 d\n",
      "4 e\n"
     ]
    }
   ],
   "source": [
    "enumerate() : 리스트, 튜플, 문자열을 입력받아 인덱스와 값을 한번에 가져올 수 있음\n",
    "list_a = [\"a\",\"b\",\"c\",\"d\",\"e\"]\n",
    "#   인덱스, 값                 \n",
    "for idx, list_aa in enumerate(list_a):\n",
    "    print(idx, list_aa)"
   ]
  },
  {
   "cell_type": "code",
   "execution_count": null,
   "id": "2fd8b022",
   "metadata": {},
   "outputs": [],
   "source": [
    "astype() : 타입을 변환시켜서 보여줌, 실시간 적용은 아님"
   ]
  },
  {
   "cell_type": "code",
   "execution_count": null,
   "id": "70435d00",
   "metadata": {},
   "outputs": [],
   "source": [
    "#원-핫 인코딩\n",
    "pd.get_dummies(데이터프레임 or 컬럼)\n",
    "범주형 컬럼이 없어지고 그 값이 새로운 컬럼으로 추가됨\n",
    "ex) 성별 -> 성별_여성, 성별_남성\n",
    " - 값은 0,1 또는 True, False로 나옴\n",
    "\n",
    "- 머신러닝할때 자주사용함\n",
    "\n",
    "- 범주만들때 사용함\n",
    "\n",
    "- 컬럼명만 변형해서 추출가능"
   ]
  },
  {
   "cell_type": "code",
   "execution_count": null,
   "id": "a08c1918",
   "metadata": {},
   "outputs": [],
   "source": [
    "그룹별 기초통계\n",
    ".agg([\"count\",\"mean\",\"std\",\"min\",\"max\"])"
   ]
  },
  {
   "cell_type": "code",
   "execution_count": null,
   "id": "e6262d09",
   "metadata": {},
   "outputs": [],
   "source": [
    "cut(데이터(컬럼),나눌구간) 지정한 구간 숫자만큼\n",
    "나눠줌, 거의 균등함\n",
    "\n",
    "출력값\n",
    "인덱스  (시작값, 끝값]\n",
    "      \n",
    "qcut(데이터(컬럼),나눌구간) 지정한 구간 숫자만크 \n",
    "유사한 값을 나눠준다는데, 일정하진않음(랜덤)"
   ]
  },
  {
   "cell_type": "code",
   "execution_count": null,
   "id": "ec9b740d",
   "metadata": {},
   "outputs": [],
   "source": [
    "# 날짜타입으로 변환\n",
    "pd.to_datetime(dates)\n",
    "\n",
    "# 년월일 데이터 추출\n",
    " - to_period(freq=\"D\") : 날짜타입의 데이터 중에 년월일까지의 데이터 추출\n",
    " - freq = \"D\" : 일자까지(\"Y\",\"M\",\"D\",\"H\",\"S\")\n",
    " - ts_dates.to_period(freq=\"D\")\n",
    "\n",
    "# 날짜타입에서 년도만 추출하고 Year 컬럼 생성하기\n",
    "df[\"Year\"] = df[\"dates\"].dt.year\n",
    "df"
   ]
  },
  {
   "cell_type": "code",
   "execution_count": null,
   "id": "2eb001a3",
   "metadata": {},
   "outputs": [],
   "source": [
    "# 날짜 인덱스 값 생성하기 (기간 설정)\n",
    "pd.date_range(start = \"2020-01-01\",\n",
    "             end = None,\n",
    "             # - end : 기간의 끝값 (None를 사용하면, \n",
    "                          #해당 년도의 마지막 월일)\n",
    "             periods = 6,\n",
    "              #생성할 기간의 갯수\n",
    "             freq =\"Y\",\n",
    "              # 시간 간격 설정(2Y하면 2년씩 증가)\n",
    "             tz = \"Asia/Seoul\")\n",
    "              # 아시아/서울 기준\n"
   ]
  },
  {
   "cell_type": "code",
   "execution_count": null,
   "id": "fd215698",
   "metadata": {},
   "outputs": [],
   "source": [
    "set_index(데이터로 지정할 컬럼)\n",
    "# index를 날짜타입의 컬럼으로 정의\n",
    "# inplace 지정해주거나, 변수에 담아줘야함"
   ]
  },
  {
   "cell_type": "code",
   "execution_count": null,
   "id": "4b5afad6",
   "metadata": {},
   "outputs": [],
   "source": [
    "# 컬럼 삭제\n",
    "drop()"
   ]
  },
  {
   "cell_type": "code",
   "execution_count": null,
   "id": "3c0727cf",
   "metadata": {},
   "outputs": [],
   "source": [
    ".groupby(\"컬럼명\") : 입력한 열을 기준으로 그룹화\n",
    ".groups : 그룹화한 컬럼을 기준으로 그룹정보를 보여줌\n",
    ".get_group(\"그룹핑한 컬럼의 값\")\n",
    "                         .head()"
   ]
  },
  {
   "cell_type": "code",
   "execution_count": null,
   "id": "321fa97e",
   "metadata": {},
   "outputs": [],
   "source": []
  },
  {
   "cell_type": "code",
   "execution_count": null,
   "id": "580cd681",
   "metadata": {},
   "outputs": [],
   "source": []
  },
  {
   "cell_type": "markdown",
   "id": "5705e2d8",
   "metadata": {},
   "source": [
    "# 객체 속성"
   ]
  },
  {
   "cell_type": "code",
   "execution_count": null,
   "id": "a470cdc2",
   "metadata": {},
   "outputs": [],
   "source": [
    "###데이터프레임에서,\n",
    ".loc (보이는번호, 컬럼명으로만 가능)\n",
    ".iloc (주소값, 무조건 숫자)"
   ]
  },
  {
   "cell_type": "code",
   "execution_count": null,
   "id": "04658d7d",
   "metadata": {},
   "outputs": [],
   "source": [
    "#데이터전치\n",
    ".T\n",
    "- 데이터의 행,열 값을 바꿔줌"
   ]
  },
  {
   "cell_type": "code",
   "execution_count": null,
   "id": "b5308f51",
   "metadata": {},
   "outputs": [],
   "source": [
    "원형타입 : 타입추출했을때 마지막 나오는 타입?"
   ]
  },
  {
   "cell_type": "code",
   "execution_count": null,
   "id": "5cf8f8a2",
   "metadata": {},
   "outputs": [],
   "source": [
    "(inplace=)를 적용한 상태는 값이 안나옴,\n",
    "none타입 상태"
   ]
  },
  {
   "cell_type": "code",
   "execution_count": null,
   "id": "12280297",
   "metadata": {},
   "outputs": [],
   "source": [
    "데이터프레임 컬럼에서 문자열 추출할때\n",
    ".str[:]"
   ]
  },
  {
   "cell_type": "code",
   "execution_count": null,
   "id": "3322d367",
   "metadata": {},
   "outputs": [],
   "source": []
  },
  {
   "cell_type": "markdown",
   "id": "53feafb5",
   "metadata": {},
   "source": [
    "# 시각화"
   ]
  },
  {
   "cell_type": "markdown",
   "id": "caeeedf5",
   "metadata": {},
   "source": [
    "### 기본 설정"
   ]
  },
  {
   "cell_type": "code",
   "execution_count": 9,
   "id": "2e7059ec",
   "metadata": {},
   "outputs": [],
   "source": [
    "import pandas as pd\n",
    "import numpy as np\n",
    "#시각화(고급)\n",
    "import seaborn as sns\n",
    "#시각화\n",
    "import matplotlib.pyplot as plt\n",
    "#한글 폰트\n",
    "from matplotlib import font_manager, rc\n",
    "plt.rc(\"font\",family= \"Malgun Gothic\")\n",
    "###마이너스 기호 사용 설정\n",
    "plt.rcParams[\"axes.unicode_minus\"]=False\n",
    "#지도\n",
    "import folium\n",
    "# 운영체제를 확인하기 위한 라이브러리\n",
    "import platform"
   ]
  },
  {
   "cell_type": "markdown",
   "id": "908abe62",
   "metadata": {},
   "source": [
    "### 작은 그래프"
   ]
  },
  {
   "cell_type": "code",
   "execution_count": null,
   "id": "c601d0c8",
   "metadata": {},
   "outputs": [],
   "source": [
    "### 4개의 그래프가 들어갈 수 있는 공간 만들기\n",
    "# - add_subplot(행,열,위치번호) : 작은 공간 만들기\n",
    "ax1 = fig.add_subplot(2,2,1)\n",
    "\n",
    "### 각 그래프에 제목 넣기\n",
    "ax1.set_title(\"data1\")\n",
    "\n",
    "### 각각의 공간에 데이터를 넣어서 그래프 그리기\n",
    "#ax1.plot(x축,y축,지점모양,c=색)\n",
    "ax1.plot(data1[\"x\"], data1[\"y\"], \"o\", c=\"b\")"
   ]
  },
  {
   "cell_type": "code",
   "execution_count": null,
   "id": "21875b55",
   "metadata": {},
   "outputs": [],
   "source": [
    "그래프 사이 겹치지않게 자동으로 조정해줌\n",
    "fig.tight_layout()"
   ]
  },
  {
   "cell_type": "code",
   "execution_count": null,
   "id": "d6c3409f",
   "metadata": {},
   "outputs": [],
   "source": [
    "### 그래프 상위 객체 변수에 담기\n",
    "fig = plt.figure()"
   ]
  },
  {
   "cell_type": "markdown",
   "id": "8f623c37",
   "metadata": {},
   "source": [
    "### plt그래프"
   ]
  },
  {
   "cell_type": "code",
   "execution_count": null,
   "id": "2467b943",
   "metadata": {},
   "outputs": [],
   "source": [
    "# c : 색상\n",
    "# lw : 선의 굵기\n",
    "# ls : 선의 스타일\n",
    "# marker : 지점의 모양\n",
    "# ms : marker의 사이즈\n",
    "# mec : marker의 테두리 색상\n",
    "# mew : marker의 테두리 두께\n",
    "# mfc : marker의 내부 채우기\n",
    "\n",
    "#x축의 값 조정\n",
    "plt.xlim(,)\n",
    "plt.ylim(,)\n",
    "\n",
    "### 데이터프레임에서 제공하는 시각화 plot()함수 사용\n",
    " - 숫자값들만 처리됨\n",
    "    \n",
    "### 선그래프\n",
    "### 리스트의 인덱스 번호 : x축, 리스트의 값 : y축\n",
    "plt.plot([x축],[y축])\n",
    "\n",
    "### 선그래프 \n",
    "데이터프레임.plot()\n",
    "\n",
    "# - kind=\"line\" : 디폴트  #선그래프\n",
    "데이터프레임.plot(kind=\"line\")\n",
    "\n",
    "###히스토그램 그래프\n",
    "데이터프레임.plot(kind=\"hist\")\n",
    "\n",
    "### 박스플룻\n",
    "데이터프레임.plot(kind=\"box\")"
   ]
  },
  {
   "cell_type": "markdown",
   "id": "e52e2768",
   "metadata": {},
   "source": [
    "### matplotlib에서 제공하는 시각화"
   ]
  },
  {
   "cell_type": "code",
   "execution_count": null,
   "id": "937014fd",
   "metadata": {},
   "outputs": [],
   "source": [
    "matplotlib에서 제공하는 시각화\n",
    "\n",
    "##선그래프\n",
    "#점(.)을 사용해서 시각화가능, 영문일때만. 한글은 깨짐\n",
    "plt.plot(DataFrame[\"컬럼명\"])\n",
    "plt.plot(DataFrame[\"컬럼명\"], DataFrame[\"컬럼명\"])\n",
    "여러 데이터를 한 그래프에 표현가능\n",
    "\n",
    "\n",
    "### 막대그래프 : 빈도그래프\n",
    "plt.bar(DataFrame[\"컬럼명\"],DataFrame[\"컬럼명\"])\n",
    "plt.xlim(x축의 범위 시작값, 끝값)\n",
    "plt.ylim(y축의 범위 시작값, 끝값)\n",
    "\n",
    "\n",
    "### 원그래프\n",
    "colors = [\"#ffadad\",\"#ffd6a5\",\"#fdffb6\",\"#caffbf\",\"#9bf6ff\",\"#a0c44ff\"]\n",
    "explode = [0.05] * 6   # 값의 수만큼 곱해주기\n",
    "#             width : 도넛모양, edgecolor : 테두리색, linewidth : 테두리 굵기\n",
    "wedgeprops = {\"width\":0.6, \"edgecolor\" : \"w\", \"linewidth\":5} \n",
    "#                            라벨 표시   비율나타내기,%붙이기\n",
    "plt.pie(DataFrame[\"컬럼명\"] , labels= , autopct=\"%.0f%%\",\n",
    "#        차트의 시작점, 차트방향            색 지정           각각 띄워주기       도넛모양\n",
    "        startangle=90,counterclock=False, colors = colors, explode = explode, wedgeprops= wedgeprops)\n",
    "\n",
    "\n",
    "### 산점도 그래프\n",
    "# 컬럼과 컬럼과의 관계에 따른 분포 확인하기\n",
    "sizes = DataFrame[\"컬럼명\"]*500 # 값이 숫자로 이루어져있을 경우 (ex;학년) 1학년 = 500 2학년 1000 ...\n",
    "#                                                S : 컬럼별 점 사이즈\n",
    "plt.scatter(DataFrame[\"컬럼명\"],DataFrame[\"컬럼명\"],s=sizes, \n",
    "            # 지정한 컬럼에 따라 색을 다르게 설정 / 투명도 설정\n",
    "            c=DataFrame[\"컬럼명\"],cmap='viridis',    alpha = 0.3)\n",
    "\n",
    "\n",
    "### 히스토그램\n",
    "# - total_bill 데이터별 빈도 시각화\n",
    "plt.hist(DataFrame[\"컬럼명\"])"
   ]
  },
  {
   "cell_type": "markdown",
   "id": "540674b5",
   "metadata": {},
   "source": [
    "### seaborn 시각화"
   ]
  },
  {
   "cell_type": "code",
   "execution_count": null,
   "id": "8456d29a",
   "metadata": {},
   "outputs": [],
   "source": [
    "### seaborn 시각화 (고급시각화에 속함)\n",
    "\n",
    "\n",
    "### 라벨 표시\n",
    ".set_xlabel(\"\")\n",
    ".set_ylabel(\"\")\n",
    "\n",
    "\n",
    "### 범례 표시\n",
    "            # 범례 이름\n",
    "fig.legend(['setosa', 'versicolor',\"virginica\"],\n",
    "           # 범례위치 \"left\",\"right\"등으로도 표현가능\n",
    "           loc=[0.588,0.28],\n",
    "           #범례 사이즈 \n",
    "           fontsize=8)\n",
    "\n",
    "\n",
    "### 색상 변경하기\n",
    "# 기본 팔레트 색상 : deep, muted, pastel, bright, dark, colorblind\n",
    "sns.set_palette(\"colorblind\")\n",
    "\n",
    "### 점그래프\n",
    "sns.stripplot(x=\"컬럼명\",y=\"컬럼명\",data=데이터프레임)\n",
    "\n",
    "### 막대그래프\n",
    "# - 오차막대 : 비교 데이터간의 차이를 표시함\n",
    "# - 오차막대를 안보이게 하려면 : estimator=len 추가\n",
    "sns.barplot(x=\"컬럼명\",y=\"컬럼명\", data=데이터프레임,estimator=len)\n",
    "\n",
    "### 3개 데이터\n",
    "sns.barplot(x=\"컬럼명\",y=\"컬럼명\",hue=\"컬럼명\",data=데이터프레임)\n",
    "\n",
    "### 박스그래프\n",
    "sns.boxplot(x=\"컬럼명\",y=\"컬럼명\",data=데이터프레임)\n",
    "##눕히기\n",
    "# - x,y 값을 넣으면 안됨\n",
    "sns.boxplot(data=데이터프레임,orient=\"h\")\n",
    "##orient=\"v\" 세우기\n",
    "\n",
    "### 커널 밀도\n",
    "sns.kdeplot(데이터프레임[\"컬럼명\"])\n",
    "\n",
    "### 히스토그램 + 커널밀도\n",
    "# - kde=True 으로 커널밀도를 추가할 수 있음\n",
    "sns.displot()\n",
    "sns.histplot()\n",
    "\n",
    "### 하나의 컬럼에 속한 범주 데이터를 count한 결과를 시각화함\n",
    "sns.countplot(x=\"컬럼명\",data=데이터프레임)\n",
    "\n",
    "### 두개 그래프 조합하여 그리기 : jointplot()\n",
    "sns.jointplot(x=\"컬럼명\",y=\"컬럼명\",data=데이터프레임,kind=\"scatter\")\n",
    "sns.jointplot(x=\"컬럼명\",y=\"컬럼명\",data=데이터프레임,kind=\"kde\")\n",
    "\n",
    "### 다변량 시각화\n",
    "sns.pairplot(데이터프레임,hue=\"비교할 값\")"
   ]
  },
  {
   "cell_type": "markdown",
   "id": "51f02c7b",
   "metadata": {},
   "source": [
    "### 지도 시각화"
   ]
  },
  {
   "cell_type": "code",
   "execution_count": null,
   "id": "a9ea0ecd",
   "metadata": {},
   "outputs": [],
   "source": [
    "###지도 시각화\n",
    "# - folium 모듈 사용\n",
    "\n",
    "변수명 = folium.Map(\n",
    "    ### 최초에 보여줄 지도의 중심위치(위/경도) 지정\n",
    "    # - 서울 중심점\n",
    "    location = [37.573050, 126.979189],\n",
    "    \n",
    "    ###지도 스타일 지정하기\n",
    "    # - 도시형 건물 스타일 지정(가장 일반적 스타일)\n",
    "    tiles = \"openstreetmap\",\n",
    "    \n",
    "    ### 최초에 보여줄 zoom 사이즈 지정하기\n",
    "    zoom_start = 50)\n",
    "\n",
    "\n",
    "\n",
    "### 시군구 경계 표시하기\n",
    "def style_function(feature):\n",
    "    return {\n",
    "        # 불투명도\n",
    "        \"opacity\" : 0.5,\n",
    "        # 두께\n",
    "        \"weight\" : 0.6,\n",
    "        # 색상\n",
    "        \"color\" : \"yellow\"}\n",
    "\n",
    "folium.GeoJson(\n",
    "    # geojson 변수 : 경계면 데이터(json파일)\n",
    "    json파일 변수명,\n",
    "    \n",
    "    # 스타일 함수 넣기 \n",
    "    style_function = style_function\n",
    ").add_to(지도맵 변수명)\n",
    "\n",
    "\n",
    "\n",
    "for idx in seoul_starbucks.index:\n",
    "#     print(ie)\n",
    "    lat_g = seoul_starbucks.loc[idx,\"위도\"]\n",
    "    lng_g = seoul_starbucks.loc[idx,\"경도\"]\n",
    "    s_type = seoul_starbucks.loc[idx,\"매장타입\"]\n",
    "    \n",
    "    f_color = \"\"\n",
    "    size = 1\n",
    "    \n",
    "    if s_type == \"general\"\n",
    "        f_color = \"green\"\n",
    "        size = 3\n",
    "        \n",
    "    elif s_type == \"reserve\"\n",
    "        f_color = \"blue\"\n",
    "        size = 3\n",
    "        \n",
    "    elif s_type == \"generalDT\"\n",
    "        f_color = \"red\"\n",
    "        size = 5\n",
    "        \n",
    "        \n",
    "        \n",
    "    ### 지도에 표시할 마킹 모양 등 스타일 지정\n",
    "    folium.CircleMarker(\n",
    "        # 마커의 위치 지정 : 위도, 경도\n",
    "        location=[lat_g,lng_g],\n",
    "        # 마커 채우기 색상\n",
    "        fill_color = \"green\",\n",
    "        # 마커 투명도 (0~1)\n",
    "        fill_opacity = 1,\n",
    "        # 마커 테두리 색상\n",
    "        color = \"yellow\",\n",
    "        # 마커 테두리 두께\n",
    "        weight = 1,\n",
    "        # 마커 크기\n",
    "        radius = 5\n",
    "    ).add_to(starbucks_map2)"
   ]
  },
  {
   "cell_type": "markdown",
   "id": "48cfadd3",
   "metadata": {},
   "source": [
    "# 에러"
   ]
  },
  {
   "cell_type": "code",
   "execution_count": null,
   "id": "c8a92997",
   "metadata": {},
   "outputs": [],
   "source": [
    "### No module named 'folium'\n",
    "- 모듈이 설치되어있지않음\n",
    "- install 해야 사용가능\n",
    "\n",
    "<라이브러리(패키지) 설치 방법>\n",
    "# 인터넷 연결되어있어야함\n",
    "- anaconda 에서 설치\n",
    "    1. conda 명령으로 설치\n",
    "     >conda install -c conda-forge 모듈명==버전\n",
    "     또는\n",
    "     >conda install 모듈명==버전\n",
    "\n",
    "    2. pip명령으로 설치\n",
    "     >pip install 모듈명==버전\n",
    "\n",
    "-jupyter notebook에서 설치\n",
    "    1. pip를 사용하여 패키지 설치:\n",
    "     - !pip install <package_name>\n",
    "    2. conda를 사용하여 패키지 설치:\n",
    "     - !conda install <package_name>\n",
    "    \n",
    "    \n",
    "### UnicodeDecodeError: 'cp949' codec can't decode byte 0xeb in position 202: illegal multibyte sequence\n",
    "- unicode 읽을 수 없음\n",
    "- encoding=\"utf-8\" 넣어줘야함"
   ]
  },
  {
   "cell_type": "markdown",
   "id": "284f3ceb",
   "metadata": {},
   "source": [
    "# json"
   ]
  },
  {
   "cell_type": "code",
   "execution_count": null,
   "id": "46cdf830",
   "metadata": {},
   "outputs": [],
   "source": [
    "### json 파일 읽어들이기\n",
    "json.load(open(file_path1,encoding=\"utf-8\"))\n",
    "# - encoding 에러 주의\n",
    "\n",
    "- 지도의 면적, 경계에 관한 데이터\n",
    "\n",
    "<전국 행정동별 GeoJson 파일>\n",
    "https://github.com/raqoon886/Local_HangJeonhDong"
   ]
  },
  {
   "cell_type": "code",
   "execution_count": null,
   "id": "0b61cc77",
   "metadata": {},
   "outputs": [],
   "source": [
    "def v(x,y,z):\n",
    "    ### 행렬데이터 처리 모듈\n",
    "    import pandas as pd\n",
    "    ### 지도 시각화 모듈\n",
    "    import folium\n",
    "    ### json 파일 처리 모듐\n",
    "    import json\n",
    "    import numpy as np\n",
    "    file_path = \"./files/4_5_seoul_sgg_stat.xlsx\"\n",
    "    seoul_sgg_stat = pd.read_excel(file_path)\n",
    "    file_path1 = \"./maps/seoul_sgg.geojson\"\n",
    "    seoul_sgg_get = json.load(open(file_path1,encoding=\"utf-8\"))"
   ]
  },
  {
   "cell_type": "code",
   "execution_count": null,
   "id": "1db830c3",
   "metadata": {},
   "outputs": [],
   "source": []
  },
  {
   "cell_type": "code",
   "execution_count": null,
   "id": "d9aafa29",
   "metadata": {},
   "outputs": [],
   "source": []
  },
  {
   "cell_type": "code",
   "execution_count": null,
   "id": "cb9b4fc7",
   "metadata": {},
   "outputs": [],
   "source": []
  },
  {
   "cell_type": "code",
   "execution_count": null,
   "id": "de4bdbad",
   "metadata": {},
   "outputs": [],
   "source": []
  },
  {
   "cell_type": "code",
   "execution_count": null,
   "id": "c4b28e02",
   "metadata": {},
   "outputs": [],
   "source": []
  },
  {
   "cell_type": "code",
   "execution_count": null,
   "id": "21637df9",
   "metadata": {},
   "outputs": [],
   "source": []
  },
  {
   "cell_type": "code",
   "execution_count": null,
   "id": "0689abac",
   "metadata": {},
   "outputs": [],
   "source": []
  }
 ],
 "metadata": {
  "kernelspec": {
   "display_name": "busan_env_kernel",
   "language": "python",
   "name": "busan_env"
  },
  "language_info": {
   "codemirror_mode": {
    "name": "ipython",
    "version": 3
   },
   "file_extension": ".py",
   "mimetype": "text/x-python",
   "name": "python",
   "nbconvert_exporter": "python",
   "pygments_lexer": "ipython3",
   "version": "3.9.16"
  }
 },
 "nbformat": 4,
 "nbformat_minor": 5
}
